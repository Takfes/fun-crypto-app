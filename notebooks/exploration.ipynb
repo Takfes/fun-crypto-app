{
 "cells": [
  {
   "cell_type": "code",
   "execution_count": 1,
   "id": "3cd5afb5",
   "metadata": {},
   "outputs": [],
   "source": [
    "import os\n",
    "import numpy as np\n",
    "import pandas as pd\n",
    "pd.set_option('display.max_rows', 50)\n",
    "pd.set_option('display.max_columns', 15)\n",
    "import matplotlib.pyplot as plt\n",
    "import seaborn as sns\n",
    "from pathlib import Path\n",
    "from datetime import datetime\n",
    "%matplotlib inline"
   ]
  },
  {
   "cell_type": "code",
   "execution_count": 2,
   "id": "c8ae0b59",
   "metadata": {},
   "outputs": [],
   "source": [
    "import talib\n",
    "from ta import add_all_ta_features"
   ]
  },
  {
   "cell_type": "markdown",
   "id": "4d57e33f",
   "metadata": {},
   "source": [
    "### Read full database"
   ]
  },
  {
   "cell_type": "code",
   "execution_count": 5,
   "id": "d573c93d",
   "metadata": {},
   "outputs": [],
   "source": [
    "DATA_PATH = r'../data/'\n",
    "FILE_NAME = '20220313_034756_111.pkl'\n",
    "FULL_PATH = Path(DATA_PATH,FILE_NAME)"
   ]
  },
  {
   "cell_type": "code",
   "execution_count": 35,
   "id": "dc5fb08c",
   "metadata": {},
   "outputs": [
    {
     "name": "stdout",
     "output_type": "stream",
     "text": [
      "CPU times: user 4 µs, sys: 1e+03 ns, total: 5 µs\n",
      "Wall time: 8.82 µs\n"
     ]
    },
    {
     "data": {
      "text/plain": [
       "(5675397, 14)"
      ]
     },
     "execution_count": 35,
     "metadata": {},
     "output_type": "execute_result"
    }
   ],
   "source": [
    "%time\n",
    "raw = pd.read_pickle(FULL_PATH)\n",
    "raw.shape"
   ]
  },
  {
   "cell_type": "code",
   "execution_count": 37,
   "id": "26dc566a",
   "metadata": {},
   "outputs": [
    {
     "data": {
      "text/plain": [
       "symbol                              object\n",
       "openTimets                           int64\n",
       "closeTimets                          int64\n",
       "openTime                    datetime64[ns]\n",
       "closeTime                   datetime64[ns]\n",
       "open                                object\n",
       "high                                object\n",
       "low                                 object\n",
       "close                               object\n",
       "volume                              object\n",
       "numTrades                            int64\n",
       "quoteAssetVolume                    object\n",
       "takerBuyBaseAssetVolume             object\n",
       "takerBuyQuoteAssetVolume            object\n",
       "dtype: object"
      ]
     },
     "execution_count": 37,
     "metadata": {},
     "output_type": "execute_result"
    }
   ],
   "source": [
    "raw.dtypes"
   ]
  },
  {
   "cell_type": "code",
   "execution_count": 38,
   "id": "7481b477",
   "metadata": {},
   "outputs": [
    {
     "data": {
      "text/plain": [
       "BTCUSDT     87964\n",
       "ETHUSDT     80325\n",
       "BCHUSDT     78208\n",
       "XRPUSDT     76486\n",
       "EOSUSDT     76292\n",
       "            ...  \n",
       "BAKEUSDT    28582\n",
       "BTTUSDT     28339\n",
       "GTCUSDT     26390\n",
       "TLMUSDT     23032\n",
       "KEEPUSDT    22843\n",
       "Name: symbol, Length: 111, dtype: int64"
      ]
     },
     "execution_count": 38,
     "metadata": {},
     "output_type": "execute_result"
    }
   ],
   "source": [
    "raw.symbol.value_counts()"
   ]
  },
  {
   "cell_type": "markdown",
   "id": "1d24e106",
   "metadata": {},
   "source": [
    "### Prepare and subset dataset"
   ]
  },
  {
   "cell_type": "code",
   "execution_count": 265,
   "id": "3be8899f",
   "metadata": {},
   "outputs": [
    {
     "data": {
      "text/plain": [
       "(80325, 14)"
      ]
     },
     "execution_count": 265,
     "metadata": {},
     "output_type": "execute_result"
    }
   ],
   "source": [
    "df = raw.query('symbol==\"ETHUSDT\"')\n",
    "assert df.isnull().sum().sum() == 0\n",
    "df.shape"
   ]
  },
  {
   "cell_type": "code",
   "execution_count": 266,
   "id": "0a924c77",
   "metadata": {},
   "outputs": [
    {
     "data": {
      "text/plain": [
       "symbol                              object\n",
       "openTimets                           int64\n",
       "closeTimets                          int64\n",
       "openTime                    datetime64[ns]\n",
       "closeTime                   datetime64[ns]\n",
       "open                               float32\n",
       "high                               float32\n",
       "low                                float32\n",
       "close                              float32\n",
       "volume                             float32\n",
       "numTrades                            int32\n",
       "quoteAssetVolume                   float32\n",
       "takerBuyBaseAssetVolume            float32\n",
       "takerBuyQuoteAssetVolume           float32\n",
       "dtype: object"
      ]
     },
     "execution_count": 266,
     "metadata": {},
     "output_type": "execute_result"
    }
   ],
   "source": [
    "# create datatypes dictionary\n",
    "datatypes = {k:'float32' if k!='numTrades' else 'int32' for k in df.loc[:,'open':].columns}\n",
    "# assign datatypes\n",
    "df = df.astype(datatypes)\n",
    "assert df.isnull().sum().sum() == 0\n",
    "df.dtypes"
   ]
  },
  {
   "cell_type": "code",
   "execution_count": 268,
   "id": "8d7744af",
   "metadata": {},
   "outputs": [],
   "source": [
    "df.to_pickle('../data/eth.pkl')"
   ]
  },
  {
   "cell_type": "markdown",
   "id": "ea9de246",
   "metadata": {},
   "source": [
    "### Read dataset from disk"
   ]
  },
  {
   "cell_type": "code",
   "execution_count": 3,
   "id": "d25a3937",
   "metadata": {},
   "outputs": [],
   "source": [
    "raw = pd.read_pickle('../data/eth.pkl')"
   ]
  },
  {
   "cell_type": "markdown",
   "id": "51c25797",
   "metadata": {},
   "source": [
    "### Group on desired frequency"
   ]
  },
  {
   "cell_type": "code",
   "execution_count": 4,
   "id": "fd81a01e",
   "metadata": {},
   "outputs": [
    {
     "data": {
      "text/html": [
       "<div>\n",
       "<style scoped>\n",
       "    .dataframe tbody tr th:only-of-type {\n",
       "        vertical-align: middle;\n",
       "    }\n",
       "\n",
       "    .dataframe tbody tr th {\n",
       "        vertical-align: top;\n",
       "    }\n",
       "\n",
       "    .dataframe thead th {\n",
       "        text-align: right;\n",
       "    }\n",
       "</style>\n",
       "<table border=\"1\" class=\"dataframe\">\n",
       "  <thead>\n",
       "    <tr style=\"text-align: right;\">\n",
       "      <th></th>\n",
       "      <th>opentime</th>\n",
       "      <th>closetime</th>\n",
       "      <th>open</th>\n",
       "      <th>high</th>\n",
       "      <th>low</th>\n",
       "      <th>close</th>\n",
       "      <th>volume</th>\n",
       "      <th>numtrade</th>\n",
       "    </tr>\n",
       "  </thead>\n",
       "  <tbody>\n",
       "    <tr>\n",
       "      <th>20076</th>\n",
       "      <td>2022-03-12 20:00:00</td>\n",
       "      <td>2022-03-12 20:59:00</td>\n",
       "      <td>2576.760010</td>\n",
       "      <td>2591.659912</td>\n",
       "      <td>2573.870117</td>\n",
       "      <td>2586.800049</td>\n",
       "      <td>25150.187500</td>\n",
       "      <td>35923</td>\n",
       "    </tr>\n",
       "    <tr>\n",
       "      <th>20077</th>\n",
       "      <td>2022-03-12 21:00:00</td>\n",
       "      <td>2022-03-12 21:59:00</td>\n",
       "      <td>2586.800049</td>\n",
       "      <td>2591.719971</td>\n",
       "      <td>2583.060059</td>\n",
       "      <td>2585.649902</td>\n",
       "      <td>13017.638672</td>\n",
       "      <td>24267</td>\n",
       "    </tr>\n",
       "    <tr>\n",
       "      <th>20078</th>\n",
       "      <td>2022-03-12 22:00:00</td>\n",
       "      <td>2022-03-12 22:59:00</td>\n",
       "      <td>2585.649902</td>\n",
       "      <td>2591.379883</td>\n",
       "      <td>2583.260010</td>\n",
       "      <td>2585.830078</td>\n",
       "      <td>10603.583008</td>\n",
       "      <td>26367</td>\n",
       "    </tr>\n",
       "    <tr>\n",
       "      <th>20079</th>\n",
       "      <td>2022-03-12 23:00:00</td>\n",
       "      <td>2022-03-12 23:59:00</td>\n",
       "      <td>2585.840088</td>\n",
       "      <td>2590.199951</td>\n",
       "      <td>2560.000000</td>\n",
       "      <td>2567.639893</td>\n",
       "      <td>35792.011719</td>\n",
       "      <td>49081</td>\n",
       "    </tr>\n",
       "    <tr>\n",
       "      <th>20080</th>\n",
       "      <td>2022-03-13 00:00:00</td>\n",
       "      <td>2022-03-13 00:59:00</td>\n",
       "      <td>2567.629883</td>\n",
       "      <td>2573.780029</td>\n",
       "      <td>2555.810059</td>\n",
       "      <td>2565.979980</td>\n",
       "      <td>41614.472656</td>\n",
       "      <td>50466</td>\n",
       "    </tr>\n",
       "  </tbody>\n",
       "</table>\n",
       "</div>"
      ],
      "text/plain": [
       "                 opentime           closetime         open         high  \\\n",
       "20076 2022-03-12 20:00:00 2022-03-12 20:59:00  2576.760010  2591.659912   \n",
       "20077 2022-03-12 21:00:00 2022-03-12 21:59:00  2586.800049  2591.719971   \n",
       "20078 2022-03-12 22:00:00 2022-03-12 22:59:00  2585.649902  2591.379883   \n",
       "20079 2022-03-12 23:00:00 2022-03-12 23:59:00  2585.840088  2590.199951   \n",
       "20080 2022-03-13 00:00:00 2022-03-13 00:59:00  2567.629883  2573.780029   \n",
       "\n",
       "               low        close        volume  numtrade  \n",
       "20076  2573.870117  2586.800049  25150.187500     35923  \n",
       "20077  2583.060059  2585.649902  13017.638672     24267  \n",
       "20078  2583.260010  2585.830078  10603.583008     26367  \n",
       "20079  2560.000000  2567.639893  35792.011719     49081  \n",
       "20080  2555.810059  2565.979980  41614.472656     50466  "
      ]
     },
     "execution_count": 4,
     "metadata": {},
     "output_type": "execute_result"
    }
   ],
   "source": [
    "df = \\\n",
    "    raw.groupby(pd.Grouper(key=\"openTime\", freq=\"1H\"))\\\n",
    "    .agg(\n",
    "        cnt=pd.NamedAgg(column=\"symbol\", aggfunc=\"size\"),\n",
    "        opentime=pd.NamedAgg(column=\"openTime\", aggfunc=\"min\"),\n",
    "        closetime=pd.NamedAgg(column=\"openTime\", aggfunc=\"min\"),\n",
    "        open=pd.NamedAgg(column=\"open\", aggfunc=\"first\"),\n",
    "        high=pd.NamedAgg(column=\"high\", aggfunc=\"max\"),\n",
    "        low=pd.NamedAgg(column=\"low\", aggfunc=\"min\"),\n",
    "        close=pd.NamedAgg(column=\"close\", aggfunc=\"last\"),\n",
    "        volume=pd.NamedAgg(column=\"volume\", aggfunc=\"sum\"),\n",
    "        numtrade=pd.NamedAgg(column=\"numTrades\", aggfunc=\"sum\"),\n",
    "    )\\\n",
    "    .query('cnt >= 4')\\\n",
    "    .drop('cnt',axis=1)\\\n",
    "    .assign(closetime = lambda x : x.closetime + pd.Timedelta(minutes=59))\\\n",
    "    .reset_index(drop=True)\n",
    "\n",
    "# alternative way to resample and regroup data\n",
    "# df = raw.resample('30min',on='opentime').agg({'close':'last','high':'max'}).tail(10)\n",
    "df.tail()"
   ]
  },
  {
   "cell_type": "markdown",
   "id": "3ac8014c",
   "metadata": {},
   "source": [
    "### Inspect Time Series"
   ]
  },
  {
   "cell_type": "code",
   "execution_count": 5,
   "id": "a8e4732e",
   "metadata": {},
   "outputs": [
    {
     "name": "stdout",
     "output_type": "stream",
     "text": [
      "count                  20081\n",
      "mean     2021-01-18 16:00:00\n",
      "min      2019-11-27 08:00:00\n",
      "25%      2020-06-23 12:00:00\n",
      "50%      2021-01-18 16:00:00\n",
      "75%      2021-08-15 20:00:00\n",
      "max      2022-03-13 00:00:00\n",
      "Name: opentime, dtype: object\n",
      "AxesSubplot(0.125,0.125;0.775x0.755)\n"
     ]
    },
    {
     "data": {
      "image/png": "[encoded data removed]",
      "text/plain": [
       "<Figure size 432x288 with 1 Axes>"
      ]
     },
     "metadata": {
      "needs_background": "light"
     },
     "output_type": "display_data"
    }
   ],
   "source": [
    "print(df.opentime.describe(datetime_is_numeric=True))\n",
    "# print(df.close.plot())\n",
    "print(df.query('opentime >= 2021').close.plot())"
   ]
  },
  {
   "cell_type": "code",
   "execution_count": 6,
   "id": "941bf31b",
   "metadata": {},
   "outputs": [
    {
     "data": {
      "text/plain": [
       "(10465, 8)"
      ]
     },
     "execution_count": 6,
     "metadata": {},
     "output_type": "execute_result"
    }
   ],
   "source": [
    "df = df.query('opentime >= 2021').copy()\n",
    "df.shape"
   ]
  },
  {
   "cell_type": "markdown",
   "id": "1733cfce",
   "metadata": {},
   "source": [
    "### Decompose Time Series"
   ]
  },
  {
   "cell_type": "code",
   "execution_count": 7,
   "id": "cd64eca5",
   "metadata": {},
   "outputs": [],
   "source": [
    "# from statsmodels.graphics.tsaplots import plot_acf, plot_pacf, acf, pacf\n",
    "# from statsmodels.tsa.seasonal import seasonal_decompose\n",
    "# # from statsmodels.tsa.seasonal import MSTL\n",
    "# print(plot_acf(df.close))\n",
    "# print(plot_pacf(df.close))\n",
    "# # stl_kwargs = {\"seasonal_deg\": 0} \n",
    "# # model = MSTL(df.close, periods=(24, 24 * 7), stl_kwargs=stl_kwargs)\n",
    "# # res = model.fit()\n",
    "# # res.plot()"
   ]
  },
  {
   "cell_type": "markdown",
   "id": "b0994fab",
   "metadata": {},
   "source": [
    "### Create Features to Avoid Leakage\n",
    "> __close -> fx_close = close.shift(1)__"
   ]
  },
  {
   "cell_type": "code",
   "execution_count": 9,
   "id": "5acc37ff",
   "metadata": {},
   "outputs": [],
   "source": [
    "options_antileakage_feats = ['open','high','low','close','volume']\n",
    "for ff in options_antileakage_feats:\n",
    "    df[f'fx_{ff}'] = df[ff].shift(1)"
   ]
  },
  {
   "cell_type": "code",
   "execution_count": 10,
   "id": "34ba0eef",
   "metadata": {},
   "outputs": [
    {
     "data": {
      "text/plain": [
       "Index(['opentime', 'closetime', 'open', 'high', 'low', 'close', 'volume',\n",
       "       'numtrade', 'fx_open', 'fx_high', 'fx_low', 'fx_close', 'fx_volume'],\n",
       "      dtype='object')"
      ]
     },
     "execution_count": 10,
     "metadata": {},
     "output_type": "execute_result"
    }
   ],
   "source": [
    "df.columns"
   ]
  },
  {
   "cell_type": "markdown",
   "id": "98f008f7",
   "metadata": {},
   "source": [
    "### Create Lag Features"
   ]
  },
  {
   "cell_type": "code",
   "execution_count": 11,
   "id": "8f8f0af3",
   "metadata": {},
   "outputs": [],
   "source": [
    "options_lags_feats = ['close','volume']\n",
    "options_lags = [1,2,3,24,48]\n",
    "for ff in options_lags_feats:\n",
    "    for ll in options_lags:\n",
    "        df[f'fx_{ff}_lag_{str(ll).zfill(3)}'] = df[ff].shift(ll)"
   ]
  },
  {
   "cell_type": "code",
   "execution_count": 12,
   "id": "a716ca8f",
   "metadata": {},
   "outputs": [
    {
     "data": {
      "text/plain": [
       "Index(['opentime', 'closetime', 'open', 'high', 'low', 'close', 'volume',\n",
       "       'numtrade', 'fx_open', 'fx_high', 'fx_low', 'fx_close', 'fx_volume',\n",
       "       'fx_close_lag_001', 'fx_close_lag_002', 'fx_close_lag_003',\n",
       "       'fx_close_lag_024', 'fx_close_lag_048', 'fx_volume_lag_001',\n",
       "       'fx_volume_lag_002', 'fx_volume_lag_003', 'fx_volume_lag_024',\n",
       "       'fx_volume_lag_048'],\n",
       "      dtype='object')"
      ]
     },
     "execution_count": 12,
     "metadata": {},
     "output_type": "execute_result"
    }
   ],
   "source": [
    "df.columns"
   ]
  },
  {
   "cell_type": "code",
   "execution_count": 13,
   "id": "d8c6d1e1",
   "metadata": {},
   "outputs": [
    {
     "data": {
      "text/plain": [
       "(10465, 23)"
      ]
     },
     "execution_count": 13,
     "metadata": {},
     "output_type": "execute_result"
    }
   ],
   "source": [
    "df.shape"
   ]
  },
  {
   "cell_type": "markdown",
   "id": "1c238ae5",
   "metadata": {},
   "source": [
    "### Create Diff Features"
   ]
  },
  {
   "cell_type": "code",
   "execution_count": 14,
   "id": "de0a7037",
   "metadata": {},
   "outputs": [],
   "source": [
    "options_diffs_feats = ['fx_close','fx_volume']\n",
    "options_diffs = [1,2,3,24,48]\n",
    "for ff in options_diffs_feats:\n",
    "    for ll in options_diffs:\n",
    "        df[f'{ff}_diff_{str(ll).zfill(3)}'] = df[ff].diff(ll)"
   ]
  },
  {
   "cell_type": "code",
   "execution_count": 15,
   "id": "e1dec434",
   "metadata": {},
   "outputs": [
    {
     "data": {
      "text/plain": [
       "Index(['opentime', 'closetime', 'open', 'high', 'low', 'close', 'volume',\n",
       "       'numtrade', 'fx_open', 'fx_high', 'fx_low', 'fx_close', 'fx_volume',\n",
       "       'fx_close_lag_001', 'fx_close_lag_002', 'fx_close_lag_003',\n",
       "       'fx_close_lag_024', 'fx_close_lag_048', 'fx_volume_lag_001',\n",
       "       'fx_volume_lag_002', 'fx_volume_lag_003', 'fx_volume_lag_024',\n",
       "       'fx_volume_lag_048', 'fx_close_diff_001', 'fx_close_diff_002',\n",
       "       'fx_close_diff_003', 'fx_close_diff_024', 'fx_close_diff_048',\n",
       "       'fx_volume_diff_001', 'fx_volume_diff_002', 'fx_volume_diff_003',\n",
       "       'fx_volume_diff_024', 'fx_volume_diff_048'],\n",
       "      dtype='object')"
      ]
     },
     "execution_count": 15,
     "metadata": {},
     "output_type": "execute_result"
    }
   ],
   "source": [
    "df.columns"
   ]
  },
  {
   "cell_type": "code",
   "execution_count": 16,
   "id": "129de7b6",
   "metadata": {},
   "outputs": [
    {
     "data": {
      "text/plain": [
       "(10465, 33)"
      ]
     },
     "execution_count": 16,
     "metadata": {},
     "output_type": "execute_result"
    }
   ],
   "source": [
    "df.shape"
   ]
  },
  {
   "cell_type": "markdown",
   "id": "b3805c05",
   "metadata": {},
   "source": [
    "### Create Rolling Features"
   ]
  },
  {
   "cell_type": "code",
   "execution_count": 17,
   "id": "4352bb03",
   "metadata": {},
   "outputs": [],
   "source": [
    "options_wndf_feats = ['fx_close','fx_volume']\n",
    "options_wndf = [24,24*7]\n",
    "for ff in options_wndf_feats:\n",
    "    for ll in options_wndf:\n",
    "        df[f'{ff}_min_{str(ll).zfill(3)}'] = df[ff].rolling(ll).min()\n",
    "        df[f'{ff}_max_{str(ll).zfill(3)}'] = df[ff].rolling(ll).max()\n",
    "        df[f'{ff}_std_{str(ll).zfill(3)}'] = df[ff].rolling(ll).std()"
   ]
  },
  {
   "cell_type": "code",
   "execution_count": 18,
   "id": "9bc2fac3",
   "metadata": {},
   "outputs": [
    {
     "data": {
      "text/plain": [
       "Index(['opentime', 'closetime', 'open', 'high', 'low', 'close', 'volume',\n",
       "       'numtrade', 'fx_open', 'fx_high', 'fx_low', 'fx_close', 'fx_volume',\n",
       "       'fx_close_lag_001', 'fx_close_lag_002', 'fx_close_lag_003',\n",
       "       'fx_close_lag_024', 'fx_close_lag_048', 'fx_volume_lag_001',\n",
       "       'fx_volume_lag_002', 'fx_volume_lag_003', 'fx_volume_lag_024',\n",
       "       'fx_volume_lag_048', 'fx_close_diff_001', 'fx_close_diff_002',\n",
       "       'fx_close_diff_003', 'fx_close_diff_024', 'fx_close_diff_048',\n",
       "       'fx_volume_diff_001', 'fx_volume_diff_002', 'fx_volume_diff_003',\n",
       "       'fx_volume_diff_024', 'fx_volume_diff_048', 'fx_close_min_024',\n",
       "       'fx_close_max_024', 'fx_close_std_024', 'fx_close_min_168',\n",
       "       'fx_close_max_168', 'fx_close_std_168', 'fx_volume_min_024',\n",
       "       'fx_volume_max_024', 'fx_volume_std_024', 'fx_volume_min_168',\n",
       "       'fx_volume_max_168', 'fx_volume_std_168'],\n",
       "      dtype='object')"
      ]
     },
     "execution_count": 18,
     "metadata": {},
     "output_type": "execute_result"
    }
   ],
   "source": [
    "df.columns"
   ]
  },
  {
   "cell_type": "code",
   "execution_count": 19,
   "id": "9ab2f5ef",
   "metadata": {},
   "outputs": [
    {
     "data": {
      "text/plain": [
       "(10465, 45)"
      ]
     },
     "execution_count": 19,
     "metadata": {},
     "output_type": "execute_result"
    }
   ],
   "source": [
    "df.shape"
   ]
  },
  {
   "cell_type": "markdown",
   "id": "2b3eb6e7",
   "metadata": {},
   "source": [
    "### Create TA Features - Manually"
   ]
  },
  {
   "cell_type": "code",
   "execution_count": 20,
   "id": "fd577034",
   "metadata": {},
   "outputs": [],
   "source": [
    "# df = \\\n",
    "#     df.assign(\n",
    "#         fx_sma_fast = lambda x : talib.SMA(x.close.shift(1),8),\n",
    "#         fx_sma_slow = lambda x : x.close.shift(1).rolling(24).mean(),\n",
    "#         fx_ema_fast = lambda x : talib.EMA(x.close.shift(1),8),\n",
    "#         fx_ema_slow = lambda x : talib.EMA(x.close.shift(1),24),\n",
    "#         fx_atr = lambda x : talib.ATR(x.high.shift(1),x.low.shift(1),x.close.shift(1),12),\n",
    "#         fx_adx = lambda x : talib.ADX(x.high.shift(1),x.low.shift(1),x.close.shift(1),20),\n",
    "#         fx_rsi = lambda x : talib.RSI(x.close.shift(1),12),\n",
    "#         fx_bb_upper = lambda x : talib.BBANDS(x.close.shift(1))[0],\n",
    "#         fx_bb_middle = lambda x : talib.BBANDS(x.close.shift(1))[1],\n",
    "#         fx_bb_lower = lambda x : talib.BBANDS(x.close.shift(1))[2],\n",
    "#     ).assign(\n",
    "#         fx_sma_fast_slow_frc = lambda x : (x.fx_sma_fast/x.fx_sma_slow)\n",
    "#     )\n",
    "#\n",
    "# df.tail(2)\n",
    "# df.columns\n",
    "# df.shape"
   ]
  },
  {
   "cell_type": "markdown",
   "id": "0b4223fb",
   "metadata": {},
   "source": [
    "### Create TA Features - Automatically"
   ]
  },
  {
   "cell_type": "code",
   "execution_count": 21,
   "id": "3b6f686d",
   "metadata": {},
   "outputs": [
    {
     "name": "stderr",
     "output_type": "stream",
     "text": [
      "/Users/takis/opt/anaconda3/lib/python3.8/site-packages/ta/trend.py:768: RuntimeWarning: invalid value encountered in double_scalars\n",
      "  dip[i] = 100 * (self._dip[i] / self._trs[i])\n",
      "/Users/takis/opt/anaconda3/lib/python3.8/site-packages/ta/trend.py:772: RuntimeWarning: invalid value encountered in double_scalars\n",
      "  din[i] = 100 * (self._din[i] / self._trs[i])\n"
     ]
    },
    {
     "data": {
      "text/plain": [
       "Index(['opentime', 'closetime', 'open', 'high', 'low', 'close', 'volume',\n",
       "       'numtrade', 'fx_open', 'fx_high',\n",
       "       ...\n",
       "       'momentum_wr', 'momentum_ao', 'momentum_kama', 'momentum_roc',\n",
       "       'momentum_ppo', 'momentum_ppo_signal', 'momentum_ppo_hist', 'others_dr',\n",
       "       'others_dlr', 'others_cr'],\n",
       "      dtype='object', length=128)"
      ]
     },
     "execution_count": 21,
     "metadata": {},
     "output_type": "execute_result"
    }
   ],
   "source": [
    "df = add_all_ta_features(\n",
    "    df, \n",
    "    open='fx_open', \n",
    "    high='fx_high', \n",
    "    low='fx_low', \n",
    "    close='fx_close', \n",
    "    volume='fx_volume', \n",
    "    fillna=True)\n",
    "df.columns"
   ]
  },
  {
   "cell_type": "code",
   "execution_count": 22,
   "id": "9d160a09",
   "metadata": {},
   "outputs": [],
   "source": [
    "df = \\\n",
    "    df.assign(\n",
    "        sma_fast_slow_frc = lambda x : (x.trend_sma_fast/x.trend_sma_slow),\n",
    "        ema_fast_slow_frc = lambda x : (x.trend_ema_fast/x.trend_ema_slow)\n",
    "    )"
   ]
  },
  {
   "cell_type": "markdown",
   "id": "6d71da9a",
   "metadata": {},
   "source": [
    "### Enable Pattern Recognition Features"
   ]
  },
  {
   "cell_type": "code",
   "execution_count": 24,
   "id": "2d66a9af",
   "metadata": {},
   "outputs": [],
   "source": [
    "talib.get_function_groups().keys()\n",
    "# pattern_recognition_functions = [x for x in dir(talib) if x.startswith('CDL')]\n",
    "pattern_recognition_functions = talib.get_function_groups().get('Pattern Recognition')\n",
    "# pattern_recognition_functions[1::10]\n",
    "# create pattern recognition features\n",
    "pattern_features = {\n",
    "    f'pt_{x.lower()}': getattr(talib,x)(df['fx_open'],df['fx_high'],df['fx_low'],df['fx_close'])\n",
    "                    for x in pattern_recognition_functions\n",
    "    }"
   ]
  },
  {
   "cell_type": "code",
   "execution_count": 25,
   "id": "f5c6772e",
   "metadata": {},
   "outputs": [
    {
     "data": {
      "text/html": [
       "<div>\n",
       "<style scoped>\n",
       "    .dataframe tbody tr th:only-of-type {\n",
       "        vertical-align: middle;\n",
       "    }\n",
       "\n",
       "    .dataframe tbody tr th {\n",
       "        vertical-align: top;\n",
       "    }\n",
       "\n",
       "    .dataframe thead th {\n",
       "        text-align: right;\n",
       "    }\n",
       "</style>\n",
       "<table border=\"1\" class=\"dataframe\">\n",
       "  <thead>\n",
       "    <tr style=\"text-align: right;\">\n",
       "      <th></th>\n",
       "      <th>opentime</th>\n",
       "      <th>closetime</th>\n",
       "      <th>open</th>\n",
       "      <th>high</th>\n",
       "      <th>low</th>\n",
       "      <th>close</th>\n",
       "      <th>volume</th>\n",
       "      <th>...</th>\n",
       "      <th>pt_cdltakuri</th>\n",
       "      <th>pt_cdltasukigap</th>\n",
       "      <th>pt_cdlthrusting</th>\n",
       "      <th>pt_cdltristar</th>\n",
       "      <th>pt_cdlunique3river</th>\n",
       "      <th>pt_cdlupsidegap2crows</th>\n",
       "      <th>pt_cdlxsidegap3methods</th>\n",
       "    </tr>\n",
       "  </thead>\n",
       "  <tbody>\n",
       "    <tr>\n",
       "      <th>9616</th>\n",
       "      <td>2021-01-01 00:00:00</td>\n",
       "      <td>2021-01-01 00:59:00</td>\n",
       "      <td>737.179993</td>\n",
       "      <td>740.000000</td>\n",
       "      <td>730.0</td>\n",
       "      <td>734.599976</td>\n",
       "      <td>98092.523438</td>\n",
       "      <td>...</td>\n",
       "      <td>0</td>\n",
       "      <td>0</td>\n",
       "      <td>0</td>\n",
       "      <td>0</td>\n",
       "      <td>0</td>\n",
       "      <td>0</td>\n",
       "      <td>0</td>\n",
       "    </tr>\n",
       "    <tr>\n",
       "      <th>9617</th>\n",
       "      <td>2021-01-01 01:00:00</td>\n",
       "      <td>2021-01-01 01:59:00</td>\n",
       "      <td>734.609985</td>\n",
       "      <td>750.400024</td>\n",
       "      <td>734.0</td>\n",
       "      <td>749.330017</td>\n",
       "      <td>164084.062500</td>\n",
       "      <td>...</td>\n",
       "      <td>0</td>\n",
       "      <td>0</td>\n",
       "      <td>0</td>\n",
       "      <td>0</td>\n",
       "      <td>0</td>\n",
       "      <td>0</td>\n",
       "      <td>0</td>\n",
       "    </tr>\n",
       "  </tbody>\n",
       "</table>\n",
       "<p>2 rows × 191 columns</p>\n",
       "</div>"
      ],
      "text/plain": [
       "                opentime           closetime        open        high    low  \\\n",
       "9616 2021-01-01 00:00:00 2021-01-01 00:59:00  737.179993  740.000000  730.0   \n",
       "9617 2021-01-01 01:00:00 2021-01-01 01:59:00  734.609985  750.400024  734.0   \n",
       "\n",
       "           close         volume  ...  pt_cdltakuri  pt_cdltasukigap  \\\n",
       "9616  734.599976   98092.523438  ...             0                0   \n",
       "9617  749.330017  164084.062500  ...             0                0   \n",
       "\n",
       "      pt_cdlthrusting  pt_cdltristar  pt_cdlunique3river  \\\n",
       "9616                0              0                   0   \n",
       "9617                0              0                   0   \n",
       "\n",
       "      pt_cdlupsidegap2crows  pt_cdlxsidegap3methods  \n",
       "9616                      0                       0  \n",
       "9617                      0                       0  \n",
       "\n",
       "[2 rows x 191 columns]"
      ]
     },
     "execution_count": 25,
     "metadata": {},
     "output_type": "execute_result"
    }
   ],
   "source": [
    "df = df.assign(**pattern_features)\n",
    "df.head(2)"
   ]
  },
  {
   "cell_type": "code",
   "execution_count": 26,
   "id": "497c56fc",
   "metadata": {},
   "outputs": [],
   "source": [
    "# df[[x for x in df.columns if x.startswith('pt_')]].describe().T['mean'].plot(kind='barh',figsize=(10,15))\n",
    "# df[[x for x in df.columns if x.startswith('pt_')]].describe().T"
   ]
  },
  {
   "cell_type": "code",
   "execution_count": 27,
   "id": "7a1e55d8",
   "metadata": {},
   "outputs": [
    {
     "data": {
      "text/plain": [
       "Index(['opentime', 'closetime', 'open', 'high', 'low', 'close', 'volume',\n",
       "       'numtrade', 'fx_open', 'fx_high',\n",
       "       ...\n",
       "       'pt_cdlspinningtop', 'pt_cdlstalledpattern', 'pt_cdlsticksandwich',\n",
       "       'pt_cdltakuri', 'pt_cdltasukigap', 'pt_cdlthrusting', 'pt_cdltristar',\n",
       "       'pt_cdlunique3river', 'pt_cdlupsidegap2crows',\n",
       "       'pt_cdlxsidegap3methods'],\n",
       "      dtype='object', length=191)"
      ]
     },
     "execution_count": 27,
     "metadata": {},
     "output_type": "execute_result"
    }
   ],
   "source": [
    "df.columns"
   ]
  },
  {
   "cell_type": "code",
   "execution_count": 28,
   "id": "450f2594",
   "metadata": {},
   "outputs": [
    {
     "data": {
      "text/plain": [
       "(10465, 191)"
      ]
     },
     "execution_count": 28,
     "metadata": {},
     "output_type": "execute_result"
    }
   ],
   "source": [
    "df.shape"
   ]
  },
  {
   "cell_type": "markdown",
   "id": "b539d034",
   "metadata": {},
   "source": [
    "### Enable Pivot Levels"
   ]
  },
  {
   "cell_type": "code",
   "execution_count": 29,
   "id": "90e72b02",
   "metadata": {},
   "outputs": [],
   "source": [
    "def PPS(high,low,close):\n",
    "    if all([isinstance(item,(list,pd.core.series.Series,np.ndarray)) for item in (high,low,close)]):\n",
    "        high = np.array(high,dtype='float32')\n",
    "        low = np.array(low,dtype='float32')\n",
    "        close = np.array(close,dtype='float32')\n",
    "    else:\n",
    "        raise Exception('Wrong type input data type')\n",
    "    pp = (high + low + close)/3\n",
    "    r1 = (2 * pp - low)\n",
    "    s1 = (2 * pp - high)\n",
    "    r2 = pp + high - low\n",
    "    s2 = pp - high + low\n",
    "    r3 = high + 2 * (pp - low)\n",
    "    s3 = low - 2 * (high - pp)\n",
    "    result = {'pp':pp,'r1':r1,'s1':s1,'r2':r2,'s2':s2,'r3':r3,'s3':s3}\n",
    "    result = {f'fx_{k}':v for k,v in result.items()} \n",
    "    return result"
   ]
  },
  {
   "cell_type": "code",
   "execution_count": 30,
   "id": "9e385b02",
   "metadata": {},
   "outputs": [
    {
     "data": {
      "text/html": [
       "<div>\n",
       "<style scoped>\n",
       "    .dataframe tbody tr th:only-of-type {\n",
       "        vertical-align: middle;\n",
       "    }\n",
       "\n",
       "    .dataframe tbody tr th {\n",
       "        vertical-align: top;\n",
       "    }\n",
       "\n",
       "    .dataframe thead th {\n",
       "        text-align: right;\n",
       "    }\n",
       "</style>\n",
       "<table border=\"1\" class=\"dataframe\">\n",
       "  <thead>\n",
       "    <tr style=\"text-align: right;\">\n",
       "      <th></th>\n",
       "      <th>opentime</th>\n",
       "      <th>closetime</th>\n",
       "      <th>open</th>\n",
       "      <th>high</th>\n",
       "      <th>low</th>\n",
       "      <th>close</th>\n",
       "      <th>volume</th>\n",
       "      <th>...</th>\n",
       "      <th>fx_pp</th>\n",
       "      <th>fx_r1</th>\n",
       "      <th>fx_s1</th>\n",
       "      <th>fx_r2</th>\n",
       "      <th>fx_s2</th>\n",
       "      <th>fx_r3</th>\n",
       "      <th>fx_s3</th>\n",
       "    </tr>\n",
       "  </thead>\n",
       "  <tbody>\n",
       "    <tr>\n",
       "      <th>20079</th>\n",
       "      <td>2022-03-12 23:00:00</td>\n",
       "      <td>2022-03-12 23:59:00</td>\n",
       "      <td>2585.840088</td>\n",
       "      <td>2590.199951</td>\n",
       "      <td>2560.000000</td>\n",
       "      <td>2567.639893</td>\n",
       "      <td>35792.011719</td>\n",
       "      <td>...</td>\n",
       "      <td>2586.823242</td>\n",
       "      <td>2590.386475</td>\n",
       "      <td>2582.266602</td>\n",
       "      <td>2594.943115</td>\n",
       "      <td>2578.703369</td>\n",
       "      <td>2598.506348</td>\n",
       "      <td>2574.146729</td>\n",
       "    </tr>\n",
       "    <tr>\n",
       "      <th>20080</th>\n",
       "      <td>2022-03-13 00:00:00</td>\n",
       "      <td>2022-03-13 00:59:00</td>\n",
       "      <td>2567.629883</td>\n",
       "      <td>2573.780029</td>\n",
       "      <td>2555.810059</td>\n",
       "      <td>2565.979980</td>\n",
       "      <td>41614.472656</td>\n",
       "      <td>...</td>\n",
       "      <td>2572.613281</td>\n",
       "      <td>2585.226562</td>\n",
       "      <td>2555.026611</td>\n",
       "      <td>2602.813477</td>\n",
       "      <td>2542.413330</td>\n",
       "      <td>2615.426514</td>\n",
       "      <td>2524.826660</td>\n",
       "    </tr>\n",
       "  </tbody>\n",
       "</table>\n",
       "<p>2 rows × 198 columns</p>\n",
       "</div>"
      ],
      "text/plain": [
       "                 opentime           closetime         open         high  \\\n",
       "20079 2022-03-12 23:00:00 2022-03-12 23:59:00  2585.840088  2590.199951   \n",
       "20080 2022-03-13 00:00:00 2022-03-13 00:59:00  2567.629883  2573.780029   \n",
       "\n",
       "               low        close        volume  ...        fx_pp        fx_r1  \\\n",
       "20079  2560.000000  2567.639893  35792.011719  ...  2586.823242  2590.386475   \n",
       "20080  2555.810059  2565.979980  41614.472656  ...  2572.613281  2585.226562   \n",
       "\n",
       "             fx_s1        fx_r2        fx_s2        fx_r3        fx_s3  \n",
       "20079  2582.266602  2594.943115  2578.703369  2598.506348  2574.146729  \n",
       "20080  2555.026611  2602.813477  2542.413330  2615.426514  2524.826660  \n",
       "\n",
       "[2 rows x 198 columns]"
      ]
     },
     "execution_count": 30,
     "metadata": {},
     "output_type": "execute_result"
    }
   ],
   "source": [
    "df = df.assign(**PPS(df.fx_high,df.fx_low,df.fx_close))\n",
    "df.tail(2)"
   ]
  },
  {
   "cell_type": "code",
   "execution_count": 31,
   "id": "0f14315e",
   "metadata": {},
   "outputs": [
    {
     "data": {
      "text/plain": [
       "Index(['opentime', 'close', 'fx_low', 'fx_close_lag_003', 'fx_volume_lag_003',\n",
       "       'fx_close_diff_003', 'fx_volume_diff_003', 'fx_close_std_024',\n",
       "       'fx_volume_max_024', 'volume_adi', 'volume_em', 'volatility_atr',\n",
       "       'volatility_bbp', 'volatility_kcl', 'volatility_dcl', 'volatility_ui',\n",
       "       'trend_sma_slow', 'trend_adx_neg', 'trend_mass_index', 'trend_kst_diff',\n",
       "       'trend_visual_ichimoku_a', 'trend_psar_up', 'momentum_rsi',\n",
       "       'momentum_uo', 'momentum_kama', 'others_dr', 'pt_cdl2crows',\n",
       "       'pt_cdl3starsinsouth', 'pt_cdlbreakaway', 'pt_cdldoji',\n",
       "       'pt_cdleveningstar', 'pt_cdlharami', 'pt_cdlhomingpigeon',\n",
       "       'pt_cdlkickingbylength', 'pt_cdlmatchinglow', 'pt_cdlpiercing',\n",
       "       'pt_cdlshortline', 'pt_cdltasukigap', 'pt_cdlxsidegap3methods',\n",
       "       'fx_s2'],\n",
       "      dtype='object')"
      ]
     },
     "execution_count": 31,
     "metadata": {},
     "output_type": "execute_result"
    }
   ],
   "source": [
    "df.columns[0::5]"
   ]
  },
  {
   "cell_type": "code",
   "execution_count": 32,
   "id": "fd62e72f",
   "metadata": {},
   "outputs": [],
   "source": [
    "# pd.Series(df.columns).to_clipboard()"
   ]
  },
  {
   "cell_type": "code",
   "execution_count": 33,
   "id": "06f13957",
   "metadata": {},
   "outputs": [
    {
     "data": {
      "text/plain": [
       "(10465, 198)"
      ]
     },
     "execution_count": 33,
     "metadata": {},
     "output_type": "execute_result"
    }
   ],
   "source": [
    "df.shape"
   ]
  },
  {
   "cell_type": "markdown",
   "id": "d76f2178",
   "metadata": {},
   "source": [
    "### Examine Alternative Target Options"
   ]
  },
  {
   "cell_type": "code",
   "execution_count": 34,
   "id": "4dc25cae",
   "metadata": {},
   "outputs": [],
   "source": [
    "chkp = df.copy()\n",
    "# df = chkp.copy()"
   ]
  },
  {
   "cell_type": "code",
   "execution_count": 35,
   "id": "b8e2ef8a",
   "metadata": {},
   "outputs": [
    {
     "data": {
      "text/html": [
       "<div>\n",
       "<style scoped>\n",
       "    .dataframe tbody tr th:only-of-type {\n",
       "        vertical-align: middle;\n",
       "    }\n",
       "\n",
       "    .dataframe tbody tr th {\n",
       "        vertical-align: top;\n",
       "    }\n",
       "\n",
       "    .dataframe thead th {\n",
       "        text-align: right;\n",
       "    }\n",
       "</style>\n",
       "<table border=\"1\" class=\"dataframe\">\n",
       "  <thead>\n",
       "    <tr style=\"text-align: right;\">\n",
       "      <th></th>\n",
       "      <th>opentime</th>\n",
       "      <th>closetime</th>\n",
       "      <th>open</th>\n",
       "      <th>high</th>\n",
       "      <th>low</th>\n",
       "      <th>close</th>\n",
       "      <th>volume</th>\n",
       "      <th>...</th>\n",
       "      <th>trg_delta_08hrs_ahead</th>\n",
       "      <th>trg_delta_12hrs_ahead</th>\n",
       "      <th>trg_delta_16hrs_ahead</th>\n",
       "      <th>trg_delta_20hrs_ahead</th>\n",
       "      <th>trg_delta_24hrs_ahead</th>\n",
       "      <th>trg_delta_48hrs_ahead</th>\n",
       "      <th>trg_delta_96hrs_ahead</th>\n",
       "    </tr>\n",
       "  </thead>\n",
       "  <tbody>\n",
       "    <tr>\n",
       "      <th>19981</th>\n",
       "      <td>2022-03-08 21:00:00</td>\n",
       "      <td>2022-03-08 21:59:00</td>\n",
       "      <td>2552.040039</td>\n",
       "      <td>2562.750000</td>\n",
       "      <td>2546.719971</td>\n",
       "      <td>2557.320068</td>\n",
       "      <td>38991.250000</td>\n",
       "      <td>...</td>\n",
       "      <td>0.061373</td>\n",
       "      <td>0.076518</td>\n",
       "      <td>0.066312</td>\n",
       "      <td>0.072627</td>\n",
       "      <td>0.058409</td>\n",
       "      <td>0.017542</td>\n",
       "      <td>0.011078</td>\n",
       "    </tr>\n",
       "    <tr>\n",
       "      <th>19982</th>\n",
       "      <td>2022-03-08 22:00:00</td>\n",
       "      <td>2022-03-08 22:59:00</td>\n",
       "      <td>2557.320068</td>\n",
       "      <td>2574.030029</td>\n",
       "      <td>2554.780029</td>\n",
       "      <td>2567.229980</td>\n",
       "      <td>29236.652344</td>\n",
       "      <td>...</td>\n",
       "      <td>0.059367</td>\n",
       "      <td>0.073601</td>\n",
       "      <td>0.066223</td>\n",
       "      <td>0.055651</td>\n",
       "      <td>0.058055</td>\n",
       "      <td>0.017034</td>\n",
       "      <td>0.007245</td>\n",
       "    </tr>\n",
       "  </tbody>\n",
       "</table>\n",
       "<p>2 rows × 214 columns</p>\n",
       "</div>"
      ],
      "text/plain": [
       "                 opentime           closetime         open         high  \\\n",
       "19981 2022-03-08 21:00:00 2022-03-08 21:59:00  2552.040039  2562.750000   \n",
       "19982 2022-03-08 22:00:00 2022-03-08 22:59:00  2557.320068  2574.030029   \n",
       "\n",
       "               low        close        volume  ...  trg_delta_08hrs_ahead  \\\n",
       "19981  2546.719971  2557.320068  38991.250000  ...               0.061373   \n",
       "19982  2554.780029  2567.229980  29236.652344  ...               0.059367   \n",
       "\n",
       "       trg_delta_12hrs_ahead  trg_delta_16hrs_ahead  trg_delta_20hrs_ahead  \\\n",
       "19981               0.076518               0.066312               0.072627   \n",
       "19982               0.073601               0.066223               0.055651   \n",
       "\n",
       "       trg_delta_24hrs_ahead  trg_delta_48hrs_ahead  trg_delta_96hrs_ahead  \n",
       "19981               0.058409               0.017542               0.011078  \n",
       "19982               0.058055               0.017034               0.007245  \n",
       "\n",
       "[2 rows x 214 columns]"
      ]
     },
     "execution_count": 35,
     "metadata": {},
     "output_type": "execute_result"
    }
   ],
   "source": [
    "df = \\\n",
    "    df.assign(\n",
    "        #change_pct = lambda x : x.close.pct_change(),\n",
    "        #change_chr = lambda x : x.close.pct_change().apply(np.sign),\n",
    "    \n",
    "        trg_close_04hrs_ahead = lambda x : x.close.shift(-4),\n",
    "        trg_close_08hrs_ahead = lambda x : x.close.shift(-8),\n",
    "        trg_close_12hrs_ahead = lambda x : x.close.shift(-12),\n",
    "        trg_close_16hrs_ahead = lambda x : x.close.shift(-16),\n",
    "        trg_close_20hrs_ahead = lambda x : x.close.shift(-20),\n",
    "        trg_close_24hrs_ahead = lambda x : x.close.shift(-24),\n",
    "        trg_close_48hrs_ahead = lambda x : x.close.shift(-48),\n",
    "        trg_close_96hrs_ahead = lambda x : x.close.shift(-96),\n",
    "    \n",
    "        trg_delta_04hrs_ahead = lambda x : (x.close.shift(-4)/x.close)-1,\n",
    "        trg_delta_08hrs_ahead = lambda x : (x.close.shift(-8)/x.close)-1,\n",
    "        trg_delta_12hrs_ahead = lambda x : (x.close.shift(-12)/x.close)-1,\n",
    "        trg_delta_16hrs_ahead = lambda x : (x.close.shift(-16)/x.close)-1,\n",
    "        trg_delta_20hrs_ahead = lambda x : (x.close.shift(-20)/x.close)-1,\n",
    "        trg_delta_24hrs_ahead = lambda x : (x.close.shift(-24)/x.close)-1,\n",
    "        trg_delta_48hrs_ahead = lambda x : (x.close.shift(-48)/x.close)-1,\n",
    "        trg_delta_96hrs_ahead = lambda x : (x.close.shift(-96)/x.close)-1,\n",
    "    )\n",
    "df.tail(100).head(2)"
   ]
  },
  {
   "cell_type": "code",
   "execution_count": 36,
   "id": "6b94b65c",
   "metadata": {},
   "outputs": [
    {
     "name": "stdout",
     "output_type": "stream",
     "text": [
      "trg_delta_04hrs_ahead\n",
      "====================================================================================================\n",
      "(0.0, 0.025]     80.351850\n",
      "(0.025, 0.05]    15.364758\n",
      "(0.05, 0.1]       3.986997\n",
      "(0.1, 0.25]       0.296395\n",
      "(0.25, 0.5]       0.000000\n",
      "(0.5, 1.0]        0.000000\n",
      "Name: trg_delta_04hrs_ahead, dtype: float64\n",
      "----------------------------------------------------------------------------------------------------\n",
      " 1.0    52.365931\n",
      "-1.0    47.614951\n",
      " 0.0     0.019119\n",
      "Name: trg_delta_04hrs_ahead, dtype: float64\n",
      "====================================================================================================\n",
      "\n",
      "trg_delta_08hrs_ahead\n",
      "====================================================================================================\n",
      "(0.0, 0.025]     67.132198\n",
      "(0.025, 0.05]    22.383777\n",
      "(0.05, 0.1]       9.517888\n",
      "(0.1, 0.25]       0.966137\n",
      "(0.25, 0.5]       0.000000\n",
      "(0.5, 1.0]        0.000000\n",
      "Name: trg_delta_08hrs_ahead, dtype: float64\n",
      "----------------------------------------------------------------------------------------------------\n",
      " 1.0    52.778043\n",
      "-1.0    47.193268\n",
      " 0.0     0.028689\n",
      "Name: trg_delta_08hrs_ahead, dtype: float64\n",
      "====================================================================================================\n",
      "\n",
      "trg_delta_12hrs_ahead\n",
      "====================================================================================================\n",
      "(0.0, 0.025]     57.481822\n",
      "(0.025, 0.05]    26.846537\n",
      "(0.05, 0.1]      13.624187\n",
      "(0.1, 0.25]       2.028320\n",
      "(0.25, 0.5]       0.019135\n",
      "(0.5, 1.0]        0.000000\n",
      "Name: trg_delta_12hrs_ahead, dtype: float64\n",
      "----------------------------------------------------------------------------------------------------\n",
      " 1.0    52.817373\n",
      "-1.0    47.173060\n",
      " 0.0     0.009567\n",
      "Name: trg_delta_12hrs_ahead, dtype: float64\n",
      "====================================================================================================\n",
      "\n",
      "trg_delta_16hrs_ahead\n",
      "====================================================================================================\n",
      "(0.0, 0.025]     50.516845\n",
      "(0.025, 0.05]    27.794793\n",
      "(0.05, 0.1]      18.328867\n",
      "(0.1, 0.25]       3.330781\n",
      "(0.25, 0.5]       0.028714\n",
      "(0.5, 1.0]        0.000000\n",
      "Name: trg_delta_16hrs_ahead, dtype: float64\n",
      "----------------------------------------------------------------------------------------------------\n",
      " 1.0    53.373529\n",
      "-1.0    46.616901\n",
      " 0.0     0.009570\n",
      "Name: trg_delta_16hrs_ahead, dtype: float64\n",
      "====================================================================================================\n",
      "\n",
      "trg_delta_20hrs_ahead\n",
      "====================================================================================================\n",
      "(0.0, 0.025]     45.753949\n",
      "(0.025, 0.05]    28.539971\n",
      "(0.05, 0.1]      20.928674\n",
      "(0.1, 0.25]       4.633796\n",
      "(0.25, 0.5]       0.143609\n",
      "(0.5, 1.0]        0.000000\n",
      "Name: trg_delta_20hrs_ahead, dtype: float64\n",
      "----------------------------------------------------------------------------------------------------\n",
      " 1.0    53.719483\n",
      "-1.0    46.280517\n",
      "Name: trg_delta_20hrs_ahead, dtype: float64\n",
      "====================================================================================================\n",
      "\n",
      "trg_delta_24hrs_ahead\n",
      "====================================================================================================\n",
      "(0.0, 0.025]     41.455939\n",
      "(0.025, 0.05]    28.304598\n",
      "(0.05, 0.1]      23.955939\n",
      "(0.1, 0.25]       6.005747\n",
      "(0.25, 0.5]       0.277778\n",
      "(0.5, 1.0]        0.000000\n",
      "Name: trg_delta_24hrs_ahead, dtype: float64\n",
      "----------------------------------------------------------------------------------------------------\n",
      " 1.0    53.740063\n",
      "-1.0    46.250359\n",
      " 0.0     0.009578\n",
      "Name: trg_delta_24hrs_ahead, dtype: float64\n",
      "====================================================================================================\n",
      "\n",
      "trg_delta_48hrs_ahead\n",
      "====================================================================================================\n",
      "(0.0, 0.025]     30.315830\n",
      "(0.05, 0.1]      29.826246\n",
      "(0.025, 0.05]    23.519247\n",
      "(0.1, 0.25]      15.532303\n",
      "(0.25, 0.5]       0.796775\n",
      "(0.5, 1.0]        0.009600\n",
      "Name: trg_delta_48hrs_ahead, dtype: float64\n",
      "----------------------------------------------------------------------------------------------------\n",
      " 1.0    54.420659\n",
      "-1.0    45.579341\n",
      "Name: trg_delta_48hrs_ahead, dtype: float64\n",
      "====================================================================================================\n",
      "\n",
      "trg_delta_96hrs_ahead\n",
      "====================================================================================================\n",
      "(0.05, 0.1]      29.414601\n",
      "(0.1, 0.25]      28.556274\n",
      "(0.0, 0.025]     20.792748\n",
      "(0.025, 0.05]    18.979651\n",
      "(0.25, 0.5]       2.005979\n",
      "(0.5, 1.0]        0.250747\n",
      "Name: trg_delta_96hrs_ahead, dtype: float64\n",
      "----------------------------------------------------------------------------------------------------\n",
      " 1.0    57.575465\n",
      "-1.0    42.424535\n",
      "Name: trg_delta_96hrs_ahead, dtype: float64\n",
      "====================================================================================================\n",
      "\n"
     ]
    }
   ],
   "source": [
    "# Review distributions of absolute returns for 4-8-16 etc. hours ahead\n",
    "# \n",
    "for wnd in ['trg_delta_04hrs_ahead','trg_delta_08hrs_ahead',\n",
    "            'trg_delta_12hrs_ahead','trg_delta_16hrs_ahead',\n",
    "            'trg_delta_20hrs_ahead','trg_delta_24hrs_ahead',\n",
    "            'trg_delta_48hrs_ahead','trg_delta_96hrs_ahead']:\n",
    "    print(wnd)\n",
    "    print(100*'=')\n",
    "    print((pd.cut(\n",
    "        x = df[wnd].abs(), \n",
    "        bins = [0, 0.025, 0.05, 0.1, 0.25, 0.5, 1.], \n",
    "        ).value_counts(normalize=True))*100)\n",
    "    print(100*'-')\n",
    "    print(df[wnd].apply(np.sign).value_counts(normalize=True)*100)\n",
    "    print(100*'=')\n",
    "    print()"
   ]
  },
  {
   "cell_type": "markdown",
   "id": "49c5e6ae",
   "metadata": {},
   "source": [
    "### Select Target"
   ]
  },
  {
   "cell_type": "code",
   "execution_count": 37,
   "id": "858473c2",
   "metadata": {},
   "outputs": [],
   "source": [
    "chkp2 = df.copy()\n",
    "# df = chkp2.copy()"
   ]
  },
  {
   "cell_type": "code",
   "execution_count": 38,
   "id": "45dde391",
   "metadata": {},
   "outputs": [],
   "source": [
    "my_target = 'trg_delta_20hrs_ahead'\n",
    "df['target_rgr'] = df[my_target]\n",
    "df = df[[x for x in df.columns if not x.startswith('trg_')]]"
   ]
  },
  {
   "cell_type": "code",
   "execution_count": 39,
   "id": "d61bfdbc",
   "metadata": {},
   "outputs": [],
   "source": [
    "my_bins = [0, 0.03, 1.]\n",
    "my_labels = [f'delta_{x:.0%}_{y:.0%}' for x,y in zip(my_bins[:-1],my_bins[1:])]"
   ]
  },
  {
   "cell_type": "code",
   "execution_count": 40,
   "id": "f1d618fd",
   "metadata": {},
   "outputs": [
    {
     "data": {
      "text/plain": [
       "delta_0%_3%      52.312111\n",
       "delta_3%_100%    47.687889\n",
       "Name: target_rgr, dtype: float64"
      ]
     },
     "execution_count": 40,
     "metadata": {},
     "output_type": "execute_result"
    }
   ],
   "source": [
    "(pd.cut(x = df.target_rgr.abs(), bins = my_bins, labels = my_labels).value_counts(normalize=True)*100)"
   ]
  },
  {
   "cell_type": "code",
   "execution_count": 41,
   "id": "a75a98be",
   "metadata": {},
   "outputs": [],
   "source": [
    "df['target_clf'] = pd.cut(x = df.target_rgr.abs(), bins = my_bins, labels = my_labels)\n",
    "df['target_sign'] = df.target_rgr.apply(np.sign)"
   ]
  },
  {
   "cell_type": "markdown",
   "id": "0fbf56e9",
   "metadata": {},
   "source": [
    "### Profile Targets"
   ]
  },
  {
   "cell_type": "code",
   "execution_count": 42,
   "id": "2d514366",
   "metadata": {},
   "outputs": [],
   "source": [
    "# df[[x for x in df.columns if x.startswith('target')]].describe(include='all')"
   ]
  },
  {
   "cell_type": "code",
   "execution_count": 43,
   "id": "3136b315",
   "metadata": {},
   "outputs": [
    {
     "data": {
      "text/plain": [
       "<AxesSubplot:>"
      ]
     },
     "execution_count": 43,
     "metadata": {},
     "output_type": "execute_result"
    },
    {
     "data": {
      "image/png": "[encoded data removed]",
      "text/plain": [
       "<Figure size 432x288 with 1 Axes>"
      ]
     },
     "metadata": {
      "needs_background": "light"
     },
     "output_type": "display_data"
    }
   ],
   "source": [
    "df.target_rgr.hist(bins=100)"
   ]
  },
  {
   "cell_type": "code",
   "execution_count": 44,
   "id": "2380f715",
   "metadata": {},
   "outputs": [
    {
     "name": "stdout",
     "output_type": "stream",
     "text": [
      "delta_0%_3%      52.312111\n",
      "delta_3%_100%    47.687889\n",
      "Name: target_clf, dtype: float64\n"
     ]
    },
    {
     "data": {
      "image/png": "[encoded data removed]",
      "text/plain": [
       "<Figure size 432x288 with 1 Axes>"
      ]
     },
     "metadata": {
      "needs_background": "light"
     },
     "output_type": "display_data"
    }
   ],
   "source": [
    "df.target_clf.value_counts(normalize=True).plot(kind='barh')\n",
    "print(df.target_clf.value_counts(normalize=True)*100)"
   ]
  },
  {
   "cell_type": "code",
   "execution_count": 45,
   "id": "2567caac",
   "metadata": {},
   "outputs": [
    {
     "data": {
      "text/plain": [
       " 1.0    0.537195\n",
       "-1.0    0.462805\n",
       "Name: target_sign, dtype: float64"
      ]
     },
     "execution_count": 45,
     "metadata": {},
     "output_type": "execute_result"
    }
   ],
   "source": [
    "df.target_sign.value_counts(normalize=True)"
   ]
  },
  {
   "cell_type": "code",
   "execution_count": 46,
   "id": "4a250b77",
   "metadata": {},
   "outputs": [
    {
     "data": {
      "text/html": [
       "<div>\n",
       "<style scoped>\n",
       "    .dataframe tbody tr th:only-of-type {\n",
       "        vertical-align: middle;\n",
       "    }\n",
       "\n",
       "    .dataframe tbody tr th {\n",
       "        vertical-align: top;\n",
       "    }\n",
       "\n",
       "    .dataframe thead th {\n",
       "        text-align: right;\n",
       "    }\n",
       "</style>\n",
       "<table border=\"1\" class=\"dataframe\">\n",
       "  <thead>\n",
       "    <tr style=\"text-align: right;\">\n",
       "      <th>target_sign</th>\n",
       "      <th>-1.0</th>\n",
       "      <th>1.0</th>\n",
       "      <th>All</th>\n",
       "    </tr>\n",
       "    <tr>\n",
       "      <th>target_clf</th>\n",
       "      <th></th>\n",
       "      <th></th>\n",
       "      <th></th>\n",
       "    </tr>\n",
       "  </thead>\n",
       "  <tbody>\n",
       "    <tr>\n",
       "      <th>delta_0%_3%</th>\n",
       "      <td>0.253040</td>\n",
       "      <td>0.270081</td>\n",
       "      <td>0.523121</td>\n",
       "    </tr>\n",
       "    <tr>\n",
       "      <th>delta_3%_100%</th>\n",
       "      <td>0.209765</td>\n",
       "      <td>0.267113</td>\n",
       "      <td>0.476879</td>\n",
       "    </tr>\n",
       "    <tr>\n",
       "      <th>All</th>\n",
       "      <td>0.462805</td>\n",
       "      <td>0.537195</td>\n",
       "      <td>1.000000</td>\n",
       "    </tr>\n",
       "  </tbody>\n",
       "</table>\n",
       "</div>"
      ],
      "text/plain": [
       "target_sign        -1.0       1.0       All\n",
       "target_clf                                 \n",
       "delta_0%_3%    0.253040  0.270081  0.523121\n",
       "delta_3%_100%  0.209765  0.267113  0.476879\n",
       "All            0.462805  0.537195  1.000000"
      ]
     },
     "execution_count": 46,
     "metadata": {},
     "output_type": "execute_result"
    }
   ],
   "source": [
    "pd.crosstab(df.target_clf,df.target_sign,margins=True,normalize=True)"
   ]
  },
  {
   "cell_type": "markdown",
   "id": "888956e1",
   "metadata": {},
   "source": [
    "### Clean dataset from NAs"
   ]
  },
  {
   "cell_type": "code",
   "execution_count": 47,
   "id": "a227d568",
   "metadata": {},
   "outputs": [],
   "source": [
    "# import missingno as msno\n",
    "# msno.matrix(df.set_index('opentime')[df.columns[(df.isnull().sum()!=0)]],freq='H')"
   ]
  },
  {
   "cell_type": "code",
   "execution_count": 48,
   "id": "302c5f5f",
   "metadata": {},
   "outputs": [
    {
     "name": "stdout",
     "output_type": "stream",
     "text": [
      "current rows 10465\n",
      "max missing rows 168\n",
      "opentime from 2021-01-01 00:00 to 2022-03-13 00:00\n"
     ]
    }
   ],
   "source": [
    "print(f'current rows {df.shape[0]}')\n",
    "print(f'max missing rows {df.isnull().sum().max()}')\n",
    "print(f'opentime from {df.opentime.min().strftime(\"%Y-%m-%d %H:%M\")} to {df.opentime.max().strftime(\"%Y-%m-%d %H:%M\")}')"
   ]
  },
  {
   "cell_type": "code",
   "execution_count": 91,
   "id": "f91ddccd",
   "metadata": {},
   "outputs": [
    {
     "data": {
      "text/plain": [
       "(10277, 201)"
      ]
     },
     "execution_count": 91,
     "metadata": {},
     "output_type": "execute_result"
    }
   ],
   "source": [
    "md = df.dropna().reset_index(drop=True).copy()\n",
    "md.shape"
   ]
  },
  {
   "cell_type": "code",
   "execution_count": 92,
   "id": "d6d0bb0e",
   "metadata": {},
   "outputs": [
    {
     "name": "stdout",
     "output_type": "stream",
     "text": [
      "remaining missing observations 0\n",
      "current rows 10277\n",
      "opentime from 2021-01-08 00:00 to 2022-03-12 04:00\n"
     ]
    }
   ],
   "source": [
    "print(f'remaining missing observations {md.isnull().sum().sum()}')\n",
    "print(f'current rows {md.shape[0]}')\n",
    "print(f'opentime from {md.opentime.min().strftime(\"%Y-%m-%d %H:%M\")} to {md.opentime.max().strftime(\"%Y-%m-%d %H:%M\")}')"
   ]
  },
  {
   "cell_type": "code",
   "execution_count": 93,
   "id": "b37b49fb",
   "metadata": {},
   "outputs": [
    {
     "data": {
      "text/plain": [
       "delta_0%_3%      5414\n",
       "delta_3%_100%    4863\n",
       "Name: target_clf, dtype: int64"
      ]
     },
     "execution_count": 93,
     "metadata": {},
     "output_type": "execute_result"
    }
   ],
   "source": [
    "md.target_clf.value_counts()"
   ]
  },
  {
   "cell_type": "code",
   "execution_count": 94,
   "id": "71ae9eeb",
   "metadata": {},
   "outputs": [
    {
     "data": {
      "text/plain": [
       "0    5414\n",
       "P    2682\n",
       "N    2181\n",
       "dtype: int64"
      ]
     },
     "execution_count": 94,
     "metadata": {},
     "output_type": "execute_result"
    }
   ],
   "source": [
    "y = pd.Series(\n",
    "    np.where( (md['target_clf']=='delta_3%_100%') & (md['target_sign']== 1) ,'P',\n",
    "         np.where( (md['target_clf']=='delta_3%_100%') & (md['target_sign']== -1) ,'N', '0'))).reset_index(drop=True)\n",
    "y.value_counts()"
   ]
  },
  {
   "cell_type": "code",
   "execution_count": 95,
   "id": "acaca369",
   "metadata": {},
   "outputs": [],
   "source": [
    "md['target_y'] = y\n",
    "X = md[[x for x in md.columns if not (x.startswith('target') | x.endswith('time'))]].reset_index(drop=True)\n",
    "X = X.drop(['open','high','low','close','volume','numtrade'],axis=1)"
   ]
  },
  {
   "cell_type": "code",
   "execution_count": 96,
   "id": "77101155",
   "metadata": {},
   "outputs": [],
   "source": [
    "# pd.Series(md.columns).to_clipboard()\n",
    "# pd.Series(X.columns).to_clipboard()"
   ]
  },
  {
   "cell_type": "markdown",
   "id": "b56d15fc",
   "metadata": {},
   "source": [
    "### Temporal Train Test Split - dataset to test at the end"
   ]
  },
  {
   "cell_type": "code",
   "execution_count": 97,
   "id": "2737b093",
   "metadata": {},
   "outputs": [],
   "source": [
    "from sktime.forecasting.model_selection import temporal_train_test_split"
   ]
  },
  {
   "cell_type": "code",
   "execution_count": 98,
   "id": "91d14c37",
   "metadata": {},
   "outputs": [],
   "source": [
    "y, y_keep, X, X_keep = temporal_train_test_split(y,X,test_size=24*7*4)"
   ]
  },
  {
   "cell_type": "code",
   "execution_count": 99,
   "id": "059768ec",
   "metadata": {},
   "outputs": [
    {
     "data": {
      "text/plain": [
       "[(9605,), (672,), (9605, 190), (672, 190)]"
      ]
     },
     "execution_count": 99,
     "metadata": {},
     "output_type": "execute_result"
    }
   ],
   "source": [
    "[x.shape for x in [y, y_keep, X, X_keep]]"
   ]
  },
  {
   "cell_type": "code",
   "execution_count": 100,
   "id": "ff58457e",
   "metadata": {},
   "outputs": [
    {
     "data": {
      "text/plain": [
       "0    349\n",
       "N    183\n",
       "P    140\n",
       "dtype: int64"
      ]
     },
     "execution_count": 100,
     "metadata": {},
     "output_type": "execute_result"
    }
   ],
   "source": [
    "y_keep.value_counts()"
   ]
  },
  {
   "cell_type": "markdown",
   "id": "55e45b67",
   "metadata": {},
   "source": [
    "### Setup Cross-Validation"
   ]
  },
  {
   "cell_type": "code",
   "execution_count": 101,
   "id": "3eed18cb",
   "metadata": {},
   "outputs": [],
   "source": [
    "from sklearn.model_selection import TimeSeriesSplit\n",
    "from sktime.forecasting.model_selection import SlidingWindowSplitter, ExpandingWindowSplitter"
   ]
  },
  {
   "cell_type": "markdown",
   "id": "14b4f48c",
   "metadata": {},
   "source": [
    "### sklearn TimeSeriesSplit"
   ]
  },
  {
   "cell_type": "code",
   "execution_count": 102,
   "id": "86eb7788",
   "metadata": {},
   "outputs": [],
   "source": [
    "# # tscv = TimeSeriesSplit(gap=0, max_train_size=None, n_splits=20, test_size=200)\n",
    "# tscv = TimeSeriesSplit(n_splits=10)\n",
    "# for i, (train_index, test_index) in enumerate(tscv.split(X),start=1):\n",
    "#     print(f'''({str(i).zfill(2)}) train : {train_index[0]}-{train_index[-1]} [{len(train_index)}] & test {test_index[0]}-{test_index[-1]} [{len(test_index)}]''')\n",
    "#     X_train, X_test = X.loc[train_index], X.loc[test_index]\n",
    "#     y_train, y_test = y[train_index], y.loc[test_index]"
   ]
  },
  {
   "cell_type": "code",
   "execution_count": 171,
   "id": "9d7bafe1",
   "metadata": {},
   "outputs": [],
   "source": [
    "def TimeSeriesCV(X,y,n_splits=20, gap=0, max_train_size=None, test_size=None, verbose=False):\n",
    "    tscv = TimeSeriesSplit(n_splits=n_splits, gap=gap, max_train_size=max_train_size, test_size=test_size)\n",
    "    for i, (train_index, test_index) in enumerate(tscv.split(X),start=1):\n",
    "        X_train, X_test = X.loc[train_index], X.loc[test_index]\n",
    "        y_train, y_test = y[train_index], y.loc[test_index]\n",
    "        \n",
    "        if verbose:\n",
    "            print(f'''({str(i).zfill(2)}) train : {train_index[0]}-{train_index[-1]} [{len(train_index)}] & test {test_index[0]}-{test_index[-1]} [{len(test_index)}]''')\n",
    "            print('\\nEVENT RATIO in TRAIN')\n",
    "            print(y_train.value_counts(normalize=True)*100)\n",
    "            print('\\nEVENT RATIO in TEST')\n",
    "            print(y_test.value_counts(normalize=True)*100)\n",
    "            print('-'*100)\n",
    "            print()\n",
    "            \n",
    "        yield (X_train,y_train,X_test,y_test)"
   ]
  },
  {
   "cell_type": "code",
   "execution_count": 172,
   "id": "76b39139",
   "metadata": {},
   "outputs": [
    {
     "name": "stdout",
     "output_type": "stream",
     "text": [
      "(01) train : 0-874 [875] & test 875-1747 [873]\n",
      "\n",
      "EVENT RATIO in TRAIN\n",
      "P    38.857143\n",
      "0    38.857143\n",
      "N    22.285714\n",
      "dtype: float64\n",
      "\n",
      "EVENT RATIO in TEST\n",
      "0    51.660939\n",
      "P    25.429553\n",
      "N    22.909507\n",
      "dtype: float64\n",
      "----------------------------------------------------------------------------------------------------\n",
      "\n",
      "(02) train : 0-1747 [1748] & test 1748-2620 [873]\n",
      "\n",
      "EVENT RATIO in TRAIN\n",
      "0    45.251716\n",
      "P    32.151030\n",
      "N    22.597254\n",
      "dtype: float64\n",
      "\n",
      "EVENT RATIO in TEST\n",
      "0    48.911798\n",
      "P    34.020619\n",
      "N    17.067583\n",
      "dtype: float64\n",
      "----------------------------------------------------------------------------------------------------\n",
      "\n",
      "(03) train : 0-2620 [2621] & test 2621-3493 [873]\n",
      "\n",
      "EVENT RATIO in TRAIN\n",
      "0    46.470813\n",
      "P    32.773750\n",
      "N    20.755437\n",
      "dtype: float64\n",
      "\n",
      "EVENT RATIO in TEST\n",
      "0    37.686140\n",
      "P    35.280641\n",
      "N    27.033219\n",
      "dtype: float64\n",
      "----------------------------------------------------------------------------------------------------\n",
      "\n",
      "(04) train : 0-3493 [3494] & test 3494-4366 [873]\n",
      "\n",
      "EVENT RATIO in TRAIN\n",
      "0    44.275902\n",
      "P    33.400114\n",
      "N    22.323984\n",
      "dtype: float64\n",
      "\n",
      "EVENT RATIO in TEST\n",
      "0    38.373425\n",
      "N    33.218786\n",
      "P    28.407789\n",
      "dtype: float64\n",
      "----------------------------------------------------------------------------------------------------\n",
      "\n",
      "(05) train : 0-4366 [4367] & test 4367-5239 [873]\n",
      "\n",
      "EVENT RATIO in TRAIN\n",
      "0    43.095947\n",
      "P    32.402107\n",
      "N    24.501946\n",
      "dtype: float64\n",
      "\n",
      "EVENT RATIO in TEST\n",
      "0    50.859107\n",
      "P    30.927835\n",
      "N    18.213058\n",
      "dtype: float64\n",
      "----------------------------------------------------------------------------------------------------\n",
      "\n",
      "(06) train : 0-5239 [5240] & test 5240-6112 [873]\n",
      "\n",
      "EVENT RATIO in TRAIN\n",
      "0    44.389313\n",
      "P    32.156489\n",
      "N    23.454198\n",
      "dtype: float64\n",
      "\n",
      "EVENT RATIO in TEST\n",
      "0    59.908362\n",
      "P    21.191294\n",
      "N    18.900344\n",
      "dtype: float64\n",
      "----------------------------------------------------------------------------------------------------\n",
      "\n",
      "(07) train : 0-6112 [6113] & test 6113-6985 [873]\n",
      "\n",
      "EVENT RATIO in TRAIN\n",
      "0    46.605595\n",
      "P    30.590545\n",
      "N    22.803861\n",
      "dtype: float64\n",
      "\n",
      "EVENT RATIO in TEST\n",
      "0    64.948454\n",
      "P    22.680412\n",
      "N    12.371134\n",
      "dtype: float64\n",
      "----------------------------------------------------------------------------------------------------\n",
      "\n",
      "(08) train : 0-6985 [6986] & test 6986-7858 [873]\n",
      "\n",
      "EVENT RATIO in TRAIN\n",
      "0    48.897796\n",
      "P    29.602061\n",
      "N    21.500143\n",
      "dtype: float64\n",
      "\n",
      "EVENT RATIO in TEST\n",
      "0    63.573883\n",
      "P    22.107675\n",
      "N    14.318442\n",
      "dtype: float64\n",
      "----------------------------------------------------------------------------------------------------\n",
      "\n",
      "(09) train : 0-7858 [7859] & test 7859-8731 [873]\n",
      "\n",
      "EVENT RATIO in TRAIN\n",
      "0    50.528057\n",
      "P    28.769564\n",
      "N    20.702379\n",
      "dtype: float64\n",
      "\n",
      "EVENT RATIO in TEST\n",
      "0    69.530355\n",
      "N    20.045819\n",
      "P    10.423826\n",
      "dtype: float64\n",
      "----------------------------------------------------------------------------------------------------\n",
      "\n",
      "(10) train : 0-8731 [8732] & test 8732-9604 [873]\n",
      "\n",
      "EVENT RATIO in TRAIN\n",
      "0    52.427852\n",
      "P    26.935410\n",
      "N    20.636738\n",
      "dtype: float64\n",
      "\n",
      "EVENT RATIO in TEST\n",
      "0    55.784651\n",
      "N    22.451317\n",
      "P    21.764032\n",
      "dtype: float64\n",
      "----------------------------------------------------------------------------------------------------\n",
      "\n"
     ]
    }
   ],
   "source": [
    "# tscv = TimeSeriesCV(X,y,n_splits=10,max_train_size=3000,test_size=24*7*4,verbose=True)\n",
    "tscv = TimeSeriesCV(X,y,n_splits=10,verbose=True)\n",
    "for xx in tscv:\n",
    "    X_train,y_train,X_test,y_test = xx"
   ]
  },
  {
   "cell_type": "code",
   "execution_count": 170,
   "id": "3ac0039b",
   "metadata": {},
   "outputs": [],
   "source": [
    "tscv = TimeSeriesCV(X,y,n_splits=10,verbose=True)"
   ]
  },
  {
   "cell_type": "code",
   "execution_count": 106,
   "id": "f68efeab",
   "metadata": {},
   "outputs": [
    {
     "name": "stdout",
     "output_type": "stream",
     "text": [
      "(01) train : 0-874 [875] & test 875-1747 [873]\n"
     ]
    },
    {
     "data": {
      "text/html": [
       "<div>\n",
       "<style scoped>\n",
       "    .dataframe tbody tr th:only-of-type {\n",
       "        vertical-align: middle;\n",
       "    }\n",
       "\n",
       "    .dataframe tbody tr th {\n",
       "        vertical-align: top;\n",
       "    }\n",
       "\n",
       "    .dataframe thead th {\n",
       "        text-align: right;\n",
       "    }\n",
       "</style>\n",
       "<table border=\"1\" class=\"dataframe\">\n",
       "  <thead>\n",
       "    <tr style=\"text-align: right;\">\n",
       "      <th></th>\n",
       "      <th>fx_open</th>\n",
       "      <th>fx_high</th>\n",
       "      <th>fx_low</th>\n",
       "      <th>fx_close</th>\n",
       "      <th>fx_volume</th>\n",
       "      <th>fx_close_lag_001</th>\n",
       "      <th>fx_close_lag_002</th>\n",
       "      <th>...</th>\n",
       "      <th>fx_pp</th>\n",
       "      <th>fx_r1</th>\n",
       "      <th>fx_s1</th>\n",
       "      <th>fx_r2</th>\n",
       "      <th>fx_s2</th>\n",
       "      <th>fx_r3</th>\n",
       "      <th>fx_s3</th>\n",
       "    </tr>\n",
       "  </thead>\n",
       "  <tbody>\n",
       "    <tr>\n",
       "      <th>870</th>\n",
       "      <td>1862.229980</td>\n",
       "      <td>1863.000000</td>\n",
       "      <td>1840.510010</td>\n",
       "      <td>1852.489990</td>\n",
       "      <td>80418.773438</td>\n",
       "      <td>1852.489990</td>\n",
       "      <td>1862.229980</td>\n",
       "      <td>...</td>\n",
       "      <td>1852.000000</td>\n",
       "      <td>1863.489990</td>\n",
       "      <td>1841.000000</td>\n",
       "      <td>1874.489990</td>\n",
       "      <td>1829.510010</td>\n",
       "      <td>1885.979980</td>\n",
       "      <td>1818.510010</td>\n",
       "    </tr>\n",
       "    <tr>\n",
       "      <th>871</th>\n",
       "      <td>1852.500000</td>\n",
       "      <td>1854.469971</td>\n",
       "      <td>1825.000000</td>\n",
       "      <td>1844.040039</td>\n",
       "      <td>78890.492188</td>\n",
       "      <td>1844.040039</td>\n",
       "      <td>1852.489990</td>\n",
       "      <td>...</td>\n",
       "      <td>1841.169922</td>\n",
       "      <td>1857.339844</td>\n",
       "      <td>1827.869873</td>\n",
       "      <td>1870.639893</td>\n",
       "      <td>1811.699951</td>\n",
       "      <td>1886.809814</td>\n",
       "      <td>1798.399902</td>\n",
       "    </tr>\n",
       "    <tr>\n",
       "      <th>872</th>\n",
       "      <td>1844.020020</td>\n",
       "      <td>1847.630005</td>\n",
       "      <td>1806.000000</td>\n",
       "      <td>1806.969971</td>\n",
       "      <td>134646.890625</td>\n",
       "      <td>1806.969971</td>\n",
       "      <td>1844.040039</td>\n",
       "      <td>...</td>\n",
       "      <td>1820.199829</td>\n",
       "      <td>1834.399658</td>\n",
       "      <td>1792.769653</td>\n",
       "      <td>1861.829834</td>\n",
       "      <td>1778.569824</td>\n",
       "      <td>1876.029663</td>\n",
       "      <td>1751.139648</td>\n",
       "    </tr>\n",
       "    <tr>\n",
       "      <th>873</th>\n",
       "      <td>1807.160034</td>\n",
       "      <td>1830.800049</td>\n",
       "      <td>1796.000000</td>\n",
       "      <td>1829.209961</td>\n",
       "      <td>165743.125000</td>\n",
       "      <td>1829.209961</td>\n",
       "      <td>1806.969971</td>\n",
       "      <td>...</td>\n",
       "      <td>1818.669922</td>\n",
       "      <td>1841.339844</td>\n",
       "      <td>1806.539795</td>\n",
       "      <td>1853.469971</td>\n",
       "      <td>1783.869873</td>\n",
       "      <td>1876.139893</td>\n",
       "      <td>1771.739746</td>\n",
       "    </tr>\n",
       "    <tr>\n",
       "      <th>874</th>\n",
       "      <td>1829.199951</td>\n",
       "      <td>1840.839966</td>\n",
       "      <td>1822.619995</td>\n",
       "      <td>1830.739990</td>\n",
       "      <td>70356.500000</td>\n",
       "      <td>1830.739990</td>\n",
       "      <td>1829.209961</td>\n",
       "      <td>...</td>\n",
       "      <td>1831.400024</td>\n",
       "      <td>1840.180054</td>\n",
       "      <td>1821.960083</td>\n",
       "      <td>1849.619995</td>\n",
       "      <td>1813.180054</td>\n",
       "      <td>1858.400024</td>\n",
       "      <td>1803.740112</td>\n",
       "    </tr>\n",
       "  </tbody>\n",
       "</table>\n",
       "<p>5 rows × 190 columns</p>\n",
       "</div>"
      ],
      "text/plain": [
       "         fx_open      fx_high       fx_low     fx_close      fx_volume  \\\n",
       "870  1862.229980  1863.000000  1840.510010  1852.489990   80418.773438   \n",
       "871  1852.500000  1854.469971  1825.000000  1844.040039   78890.492188   \n",
       "872  1844.020020  1847.630005  1806.000000  1806.969971  134646.890625   \n",
       "873  1807.160034  1830.800049  1796.000000  1829.209961  165743.125000   \n",
       "874  1829.199951  1840.839966  1822.619995  1830.739990   70356.500000   \n",
       "\n",
       "     fx_close_lag_001  fx_close_lag_002  ...        fx_pp        fx_r1  \\\n",
       "870       1852.489990       1862.229980  ...  1852.000000  1863.489990   \n",
       "871       1844.040039       1852.489990  ...  1841.169922  1857.339844   \n",
       "872       1806.969971       1844.040039  ...  1820.199829  1834.399658   \n",
       "873       1829.209961       1806.969971  ...  1818.669922  1841.339844   \n",
       "874       1830.739990       1829.209961  ...  1831.400024  1840.180054   \n",
       "\n",
       "           fx_s1        fx_r2        fx_s2        fx_r3        fx_s3  \n",
       "870  1841.000000  1874.489990  1829.510010  1885.979980  1818.510010  \n",
       "871  1827.869873  1870.639893  1811.699951  1886.809814  1798.399902  \n",
       "872  1792.769653  1861.829834  1778.569824  1876.029663  1751.139648  \n",
       "873  1806.539795  1853.469971  1783.869873  1876.139893  1771.739746  \n",
       "874  1821.960083  1849.619995  1813.180054  1858.400024  1803.740112  \n",
       "\n",
       "[5 rows x 190 columns]"
      ]
     },
     "execution_count": 106,
     "metadata": {},
     "output_type": "execute_result"
    }
   ],
   "source": [
    "# the tscv object yields n_splits dataset everytime 'next' is used\n",
    "# this will yield as many (n_splits) datasets there are and then it will prompt an error\n",
    "X_train,y_train,X_test,y_test = next(tscv)\n",
    "[len(x) for x in [X_train,y_train,X_test,y_test]]\n",
    "X_train.tail()"
   ]
  },
  {
   "cell_type": "markdown",
   "id": "01250bcc",
   "metadata": {},
   "source": [
    "### sktime SlidingWindowSplitter"
   ]
  },
  {
   "cell_type": "code",
   "execution_count": 107,
   "id": "89c65601",
   "metadata": {},
   "outputs": [
    {
     "name": "stdout",
     "output_type": "stream",
     "text": [
      "Number of Folds = 9\n",
      "(01) train : 0-999 [1000] & test 1000-1167 [168]\n",
      "(02) train : 1000-1999 [1000] & test 2000-2167 [168]\n",
      "(03) train : 2000-2999 [1000] & test 3000-3167 [168]\n",
      "(04) train : 3000-3999 [1000] & test 4000-4167 [168]\n",
      "(05) train : 4000-4999 [1000] & test 5000-5167 [168]\n",
      "(06) train : 5000-5999 [1000] & test 6000-6167 [168]\n",
      "(07) train : 6000-6999 [1000] & test 7000-7167 [168]\n",
      "(08) train : 7000-7999 [1000] & test 8000-8167 [168]\n",
      "(09) train : 8000-8999 [1000] & test 9000-9167 [168]\n"
     ]
    }
   ],
   "source": [
    "tscv = SlidingWindowSplitter(window_length=1000, fh=list(range(1,(24*7+1))), step_length=1000)\n",
    "n_splits = tscv.get_n_splits(y)\n",
    "print(f\"Number of Folds = {n_splits}\")\n",
    "\n",
    "for i, (train_index, test_index) in enumerate(tscv.split(X),start=1):\n",
    "    print(f'''({str(i).zfill(2)}) train : {train_index[0]}-{train_index[-1]} [{len(train_index)}] & test {test_index[0]}-{test_index[-1]} [{len(test_index)}]''')\n",
    "    X_train, X_test = X.loc[train_index], X.loc[test_index]\n",
    "    y_train, y_test = y[train_index], y.loc[test_index]"
   ]
  },
  {
   "cell_type": "markdown",
   "id": "8e7bbf7b",
   "metadata": {},
   "source": [
    "### sktime ExpandingWindowSplitter"
   ]
  },
  {
   "cell_type": "code",
   "execution_count": 108,
   "id": "fd68e590",
   "metadata": {},
   "outputs": [
    {
     "name": "stdout",
     "output_type": "stream",
     "text": [
      "Number of Folds = 10\n",
      "(01) train : 0-9 [10] & test 10-177 [168]\n",
      "(02) train : 0-1009 [1010] & test 1010-1177 [168]\n",
      "(03) train : 0-2009 [2010] & test 2010-2177 [168]\n",
      "(04) train : 0-3009 [3010] & test 3010-3177 [168]\n",
      "(05) train : 0-4009 [4010] & test 4010-4177 [168]\n",
      "(06) train : 0-5009 [5010] & test 5010-5177 [168]\n",
      "(07) train : 0-6009 [6010] & test 6010-6177 [168]\n",
      "(08) train : 0-7009 [7010] & test 7010-7177 [168]\n",
      "(09) train : 0-8009 [8010] & test 8010-8177 [168]\n",
      "(10) train : 0-9009 [9010] & test 9010-9177 [168]\n"
     ]
    }
   ],
   "source": [
    "tscv = ExpandingWindowSplitter(fh=list(range(1,(24*7+1))), step_length=1000)\n",
    "n_splits = tscv.get_n_splits(y)\n",
    "print(f\"Number of Folds = {n_splits}\")\n",
    "\n",
    "for i, (train_index, test_index) in enumerate(tscv.split(X),start=1):\n",
    "    print(f'''({str(i).zfill(2)}) train : {train_index[0]}-{train_index[-1]} [{len(train_index)}] & test {test_index[0]}-{test_index[-1]} [{len(test_index)}]''')\n",
    "    X_train, X_test = X.loc[train_index], X.loc[test_index]\n",
    "    y_train, y_test = y[train_index], y.loc[test_index]"
   ]
  },
  {
   "cell_type": "markdown",
   "id": "de65303a",
   "metadata": {},
   "source": [
    "### Model Training - Single loop"
   ]
  },
  {
   "cell_type": "code",
   "execution_count": 109,
   "id": "74144f46",
   "metadata": {},
   "outputs": [],
   "source": [
    "from sklearn.linear_model import LogisticRegression\n",
    "from sklearn.ensemble import RandomForestClassifier\n",
    "from lightgbm import LGBMClassifier\n",
    "from xgboost import XGBClassifier\n",
    "from sklearn.metrics import classification_report, confusion_matrix, ConfusionMatrixDisplay, accuracy_score, f1_score"
   ]
  },
  {
   "cell_type": "code",
   "execution_count": 148,
   "id": "cb3ad8ee",
   "metadata": {},
   "outputs": [],
   "source": [
    "# clf = RandomForestClassifier(class_weight='balanced')\n",
    "clf = LGBMClassifier(\n",
    "        #class_weight='balanced',\n",
    "        boosting_type='dart',\n",
    "        colsample_bytree=np.sqrt(X.shape[1])/(X.shape[1]),\n",
    "        n_estimators=1000,\n",
    "        objective='multiclass'\n",
    "        )"
   ]
  },
  {
   "cell_type": "code",
   "execution_count": 149,
   "id": "81b0dac2",
   "metadata": {},
   "outputs": [
    {
     "data": {
      "text/plain": [
       "[(8933, 190), (8933,)]"
      ]
     },
     "execution_count": 149,
     "metadata": {},
     "output_type": "execute_result"
    }
   ],
   "source": [
    "[x.shape for x in (X_train,y_train)]"
   ]
  },
  {
   "cell_type": "code",
   "execution_count": 150,
   "id": "c379779a",
   "metadata": {},
   "outputs": [
    {
     "data": {
      "text/plain": [
       "LGBMClassifier(boosting_type='dart', colsample_bytree=0.07254762501100116,\n",
       "               n_estimators=1000, objective='multiclass')"
      ]
     },
     "execution_count": 150,
     "metadata": {},
     "output_type": "execute_result"
    }
   ],
   "source": [
    "clf.fit(X_train,y_train)"
   ]
  },
  {
   "cell_type": "code",
   "execution_count": 151,
   "id": "a969b970",
   "metadata": {},
   "outputs": [],
   "source": [
    "y_preds = clf.predict(X_keep)"
   ]
  },
  {
   "cell_type": "code",
   "execution_count": 152,
   "id": "21b9ce2c",
   "metadata": {},
   "outputs": [
    {
     "data": {
      "text/plain": [
       "0.4895833333333333"
      ]
     },
     "execution_count": 152,
     "metadata": {},
     "output_type": "execute_result"
    }
   ],
   "source": [
    "accuracy_score(y_keep,y_preds)"
   ]
  },
  {
   "cell_type": "code",
   "execution_count": 153,
   "id": "295dace1",
   "metadata": {},
   "outputs": [
    {
     "data": {
      "text/plain": [
       "<AxesSubplot:ylabel='features'>"
      ]
     },
     "execution_count": 153,
     "metadata": {},
     "output_type": "execute_result"
    },
    {
     "data": {
      "image/png": "[encoded data removed]",
      "text/plain": [
       "<Figure size 720x360 with 1 Axes>"
      ]
     },
     "metadata": {
      "needs_background": "light"
     },
     "output_type": "display_data"
    }
   ],
   "source": [
    "pd.DataFrame({'features':X_train.columns,'importance':clf.feature_importances_})\\\n",
    "    .set_index('features').sort_values(by=['importance'])\\\n",
    "    .tail(20).plot(kind='barh',figsize = (10,5))"
   ]
  },
  {
   "cell_type": "code",
   "execution_count": 154,
   "id": "4d30ec48",
   "metadata": {},
   "outputs": [
    {
     "data": {
      "image/png": "[encoded data removed]",
      "text/plain": [
       "<Figure size 432x288 with 2 Axes>"
      ]
     },
     "metadata": {
      "needs_background": "light"
     },
     "output_type": "display_data"
    }
   ],
   "source": [
    "cm = confusion_matrix(y_keep,y_preds)\n",
    "disp = ConfusionMatrixDisplay(confusion_matrix=cm,display_labels=clf.classes_)\n",
    "disp.plot()\n",
    "plt.show()"
   ]
  },
  {
   "cell_type": "code",
   "execution_count": 155,
   "id": "aa42a3f1",
   "metadata": {},
   "outputs": [
    {
     "data": {
      "text/html": [
       "<div>\n",
       "<style scoped>\n",
       "    .dataframe tbody tr th:only-of-type {\n",
       "        vertical-align: middle;\n",
       "    }\n",
       "\n",
       "    .dataframe tbody tr th {\n",
       "        vertical-align: top;\n",
       "    }\n",
       "\n",
       "    .dataframe thead th {\n",
       "        text-align: right;\n",
       "    }\n",
       "</style>\n",
       "<table border=\"1\" class=\"dataframe\">\n",
       "  <thead>\n",
       "    <tr style=\"text-align: right;\">\n",
       "      <th>col_0</th>\n",
       "      <th>0</th>\n",
       "      <th>P</th>\n",
       "      <th>All</th>\n",
       "    </tr>\n",
       "    <tr>\n",
       "      <th>row_0</th>\n",
       "      <th></th>\n",
       "      <th></th>\n",
       "      <th></th>\n",
       "    </tr>\n",
       "  </thead>\n",
       "  <tbody>\n",
       "    <tr>\n",
       "      <th>0</th>\n",
       "      <td>307</td>\n",
       "      <td>42</td>\n",
       "      <td>349</td>\n",
       "    </tr>\n",
       "    <tr>\n",
       "      <th>N</th>\n",
       "      <td>156</td>\n",
       "      <td>27</td>\n",
       "      <td>183</td>\n",
       "    </tr>\n",
       "    <tr>\n",
       "      <th>P</th>\n",
       "      <td>118</td>\n",
       "      <td>22</td>\n",
       "      <td>140</td>\n",
       "    </tr>\n",
       "    <tr>\n",
       "      <th>All</th>\n",
       "      <td>581</td>\n",
       "      <td>91</td>\n",
       "      <td>672</td>\n",
       "    </tr>\n",
       "  </tbody>\n",
       "</table>\n",
       "</div>"
      ],
      "text/plain": [
       "col_0    0   P  All\n",
       "row_0              \n",
       "0      307  42  349\n",
       "N      156  27  183\n",
       "P      118  22  140\n",
       "All    581  91  672"
      ]
     },
     "execution_count": 155,
     "metadata": {},
     "output_type": "execute_result"
    }
   ],
   "source": [
    "pd.crosstab(y_keep,y_preds,margins=True)"
   ]
  },
  {
   "cell_type": "code",
   "execution_count": 156,
   "id": "2899fa52",
   "metadata": {},
   "outputs": [
    {
     "name": "stdout",
     "output_type": "stream",
     "text": [
      "              precision    recall  f1-score   support\n",
      "\n",
      "           0       0.53      0.88      0.66       349\n",
      "           N       0.00      0.00      0.00       183\n",
      "           P       0.24      0.16      0.19       140\n",
      "\n",
      "    accuracy                           0.49       672\n",
      "   macro avg       0.26      0.35      0.28       672\n",
      "weighted avg       0.32      0.49      0.38       672\n",
      "\n"
     ]
    },
    {
     "name": "stderr",
     "output_type": "stream",
     "text": [
      "/Users/takis/opt/anaconda3/lib/python3.8/site-packages/sklearn/metrics/_classification.py:1245: UndefinedMetricWarning: Precision and F-score are ill-defined and being set to 0.0 in labels with no predicted samples. Use `zero_division` parameter to control this behavior.\n",
      "  _warn_prf(average, modifier, msg_start, len(result))\n",
      "/Users/takis/opt/anaconda3/lib/python3.8/site-packages/sklearn/metrics/_classification.py:1245: UndefinedMetricWarning: Precision and F-score are ill-defined and being set to 0.0 in labels with no predicted samples. Use `zero_division` parameter to control this behavior.\n",
      "  _warn_prf(average, modifier, msg_start, len(result))\n",
      "/Users/takis/opt/anaconda3/lib/python3.8/site-packages/sklearn/metrics/_classification.py:1245: UndefinedMetricWarning: Precision and F-score are ill-defined and being set to 0.0 in labels with no predicted samples. Use `zero_division` parameter to control this behavior.\n",
      "  _warn_prf(average, modifier, msg_start, len(result))\n"
     ]
    }
   ],
   "source": [
    "print(classification_report(y_keep,y_preds))"
   ]
  },
  {
   "cell_type": "markdown",
   "id": "b0689e9a",
   "metadata": {},
   "source": [
    "### Model Training - Across all Folds"
   ]
  },
  {
   "cell_type": "code",
   "execution_count": 157,
   "id": "f64e34d5",
   "metadata": {},
   "outputs": [
    {
     "name": "stdout",
     "output_type": "stream",
     "text": [
      "CPU times: user 5 µs, sys: 1e+03 ns, total: 6 µs\n",
      "Wall time: 11.2 µs\n",
      "(01) train : 0-2884 [2885] & test 2885-3556 [672]\n",
      "Accuracy : 35.71%\n",
      "              precision    recall  f1-score   support\n",
      "\n",
      "           0       0.52      0.54      0.53       349\n",
      "           N       0.00      0.00      0.00       183\n",
      "           P       0.17      0.38      0.23       140\n",
      "\n",
      "    accuracy                           0.36       672\n",
      "   macro avg       0.23      0.30      0.25       672\n",
      "weighted avg       0.31      0.36      0.32       672\n",
      "\n"
     ]
    },
    {
     "name": "stderr",
     "output_type": "stream",
     "text": [
      "/Users/takis/opt/anaconda3/lib/python3.8/site-packages/sklearn/metrics/_classification.py:1245: UndefinedMetricWarning: Precision and F-score are ill-defined and being set to 0.0 in labels with no predicted samples. Use `zero_division` parameter to control this behavior.\n",
      "  _warn_prf(average, modifier, msg_start, len(result))\n",
      "/Users/takis/opt/anaconda3/lib/python3.8/site-packages/sklearn/metrics/_classification.py:1245: UndefinedMetricWarning: Precision and F-score are ill-defined and being set to 0.0 in labels with no predicted samples. Use `zero_division` parameter to control this behavior.\n",
      "  _warn_prf(average, modifier, msg_start, len(result))\n",
      "/Users/takis/opt/anaconda3/lib/python3.8/site-packages/sklearn/metrics/_classification.py:1245: UndefinedMetricWarning: Precision and F-score are ill-defined and being set to 0.0 in labels with no predicted samples. Use `zero_division` parameter to control this behavior.\n",
      "  _warn_prf(average, modifier, msg_start, len(result))\n"
     ]
    },
    {
     "data": {
      "image/png": "[encoded data removed]",
      "text/plain": [
       "<Figure size 432x288 with 2 Axes>"
      ]
     },
     "metadata": {
      "needs_background": "light"
     },
     "output_type": "display_data"
    },
    {
     "name": "stdout",
     "output_type": "stream",
     "text": [
      "====================================================================================================\n",
      "(02) train : 0-3556 [3557] & test 3557-4228 [672]\n",
      "Accuracy : 38.10%\n",
      "              precision    recall  f1-score   support\n",
      "\n",
      "           0       0.52      0.58      0.55       349\n",
      "           N       0.18      0.05      0.08       183\n",
      "           P       0.19      0.31      0.23       140\n",
      "\n",
      "    accuracy                           0.38       672\n",
      "   macro avg       0.30      0.31      0.29       672\n",
      "weighted avg       0.36      0.38      0.36       672\n",
      "\n"
     ]
    },
    {
     "data": {
      "image/png": "[encoded data removed]",
      "text/plain": [
       "<Figure size 720x360 with 1 Axes>"
      ]
     },
     "metadata": {
      "needs_background": "light"
     },
     "output_type": "display_data"
    },
    {
     "data": {
      "image/png": "[encoded data removed]",
      "text/plain": [
       "<Figure size 432x288 with 2 Axes>"
      ]
     },
     "metadata": {
      "needs_background": "light"
     },
     "output_type": "display_data"
    },
    {
     "name": "stdout",
     "output_type": "stream",
     "text": [
      "====================================================================================================\n",
      "(03) train : 0-4228 [4229] & test 4229-4900 [672]\n",
      "Accuracy : 40.92%\n",
      "              precision    recall  f1-score   support\n",
      "\n",
      "           0       0.53      0.57      0.55       349\n",
      "           N       0.32      0.24      0.28       183\n",
      "           P       0.20      0.24      0.22       140\n",
      "\n",
      "    accuracy                           0.41       672\n",
      "   macro avg       0.35      0.35      0.35       672\n",
      "weighted avg       0.41      0.41      0.41       672\n",
      "\n"
     ]
    },
    {
     "data": {
      "image/png": "[encoded data removed]",
      "text/plain": [
       "<Figure size 720x360 with 1 Axes>"
      ]
     },
     "metadata": {
      "needs_background": "light"
     },
     "output_type": "display_data"
    },
    {
     "data": {
      "image/png": "[encoded data removed]",
      "text/plain": [
       "<Figure size 432x288 with 2 Axes>"
      ]
     },
     "metadata": {
      "needs_background": "light"
     },
     "output_type": "display_data"
    },
    {
     "name": "stdout",
     "output_type": "stream",
     "text": [
      "====================================================================================================\n",
      "(04) train : 0-4900 [4901] & test 4901-5572 [672]\n",
      "Accuracy : 45.98%\n",
      "              precision    recall  f1-score   support\n",
      "\n",
      "           0       0.51      0.86      0.64       349\n",
      "           N       0.00      0.00      0.00       183\n",
      "           P       0.14      0.06      0.08       140\n",
      "\n",
      "    accuracy                           0.46       672\n",
      "   macro avg       0.21      0.31      0.24       672\n",
      "weighted avg       0.29      0.46      0.35       672\n",
      "\n"
     ]
    },
    {
     "data": {
      "image/png": "[encoded data removed]",
      "text/plain": [
       "<Figure size 720x360 with 1 Axes>"
      ]
     },
     "metadata": {
      "needs_background": "light"
     },
     "output_type": "display_data"
    },
    {
     "data": {
      "image/png": "[encoded data removed]",
      "text/plain": [
       "<Figure size 432x288 with 2 Axes>"
      ]
     },
     "metadata": {
      "needs_background": "light"
     },
     "output_type": "display_data"
    },
    {
     "name": "stdout",
     "output_type": "stream",
     "text": [
      "====================================================================================================\n",
      "(05) train : 0-5572 [5573] & test 5573-6244 [672]\n",
      "Accuracy : 44.49%\n",
      "              precision    recall  f1-score   support\n",
      "\n",
      "           0       0.54      0.79      0.64       349\n",
      "           N       0.10      0.01      0.01       183\n",
      "           P       0.15      0.16      0.16       140\n",
      "\n",
      "    accuracy                           0.44       672\n",
      "   macro avg       0.26      0.32      0.27       672\n",
      "weighted avg       0.34      0.44      0.37       672\n",
      "\n"
     ]
    },
    {
     "data": {
      "image/png": "[encoded data removed]",
      "text/plain": [
       "<Figure size 720x360 with 1 Axes>"
      ]
     },
     "metadata": {
      "needs_background": "light"
     },
     "output_type": "display_data"
    },
    {
     "data": {
      "image/png": "[encoded data removed]",
      "text/plain": [
       "<Figure size 432x288 with 2 Axes>"
      ]
     },
     "metadata": {
      "needs_background": "light"
     },
     "output_type": "display_data"
    },
    {
     "name": "stdout",
     "output_type": "stream",
     "text": [
      "====================================================================================================\n",
      "(06) train : 0-6244 [6245] & test 6245-6916 [672]\n",
      "Accuracy : 46.43%\n",
      "              precision    recall  f1-score   support\n",
      "\n",
      "           0       0.51      0.77      0.62       349\n",
      "           N       0.32      0.17      0.23       183\n",
      "           P       0.22      0.08      0.12       140\n",
      "\n",
      "    accuracy                           0.46       672\n",
      "   macro avg       0.35      0.34      0.32       672\n",
      "weighted avg       0.40      0.46      0.41       672\n",
      "\n"
     ]
    },
    {
     "data": {
      "image/png": "[encoded data removed]",
      "text/plain": [
       "<Figure size 720x360 with 1 Axes>"
      ]
     },
     "metadata": {
      "needs_background": "light"
     },
     "output_type": "display_data"
    },
    {
     "data": {
      "image/png": "[encoded data removed]",
      "text/plain": [
       "<Figure size 432x288 with 2 Axes>"
      ]
     },
     "metadata": {
      "needs_background": "light"
     },
     "output_type": "display_data"
    },
    {
     "name": "stdout",
     "output_type": "stream",
     "text": [
      "====================================================================================================\n",
      "(07) train : 0-6916 [6917] & test 6917-7588 [672]\n",
      "Accuracy : 40.03%\n",
      "              precision    recall  f1-score   support\n",
      "\n",
      "           0       0.51      0.68      0.58       349\n",
      "           N       0.00      0.00      0.00       183\n",
      "           P       0.15      0.22      0.18       140\n",
      "\n",
      "    accuracy                           0.40       672\n",
      "   macro avg       0.22      0.30      0.25       672\n",
      "weighted avg       0.30      0.40      0.34       672\n",
      "\n"
     ]
    },
    {
     "data": {
      "image/png": "[encoded data removed]",
      "text/plain": [
       "<Figure size 720x360 with 1 Axes>"
      ]
     },
     "metadata": {
      "needs_background": "light"
     },
     "output_type": "display_data"
    },
    {
     "data": {
      "image/png": "[encoded data removed]",
      "text/plain": [
       "<Figure size 432x288 with 2 Axes>"
      ]
     },
     "metadata": {
      "needs_background": "light"
     },
     "output_type": "display_data"
    },
    {
     "name": "stdout",
     "output_type": "stream",
     "text": [
      "====================================================================================================\n",
      "(08) train : 0-7588 [7589] & test 7589-8260 [672]\n",
      "Accuracy : 39.58%\n",
      "              precision    recall  f1-score   support\n",
      "\n",
      "           0       0.50      0.68      0.58       349\n",
      "           N       0.00      0.00      0.00       183\n",
      "           P       0.14      0.19      0.16       140\n",
      "\n",
      "    accuracy                           0.40       672\n",
      "   macro avg       0.21      0.29      0.25       672\n",
      "weighted avg       0.29      0.40      0.33       672\n",
      "\n"
     ]
    },
    {
     "data": {
      "image/png": "[encoded data removed]",
      "text/plain": [
       "<Figure size 720x360 with 1 Axes>"
      ]
     },
     "metadata": {
      "needs_background": "light"
     },
     "output_type": "display_data"
    },
    {
     "data": {
      "image/png": "[encoded data removed]",
      "text/plain": [
       "<Figure size 432x288 with 2 Axes>"
      ]
     },
     "metadata": {
      "needs_background": "light"
     },
     "output_type": "display_data"
    },
    {
     "name": "stdout",
     "output_type": "stream",
     "text": [
      "====================================================================================================\n",
      "(09) train : 0-8260 [8261] & test 8261-8932 [672]\n",
      "Accuracy : 37.05%\n",
      "              precision    recall  f1-score   support\n",
      "\n",
      "           0       0.48      0.62      0.54       349\n",
      "           N       1.00      0.01      0.01       183\n",
      "           P       0.14      0.21      0.17       140\n",
      "\n",
      "    accuracy                           0.37       672\n",
      "   macro avg       0.54      0.28      0.24       672\n",
      "weighted avg       0.55      0.37      0.32       672\n",
      "\n"
     ]
    },
    {
     "data": {
      "image/png": "[encoded data removed]",
      "text/plain": [
       "<Figure size 720x360 with 1 Axes>"
      ]
     },
     "metadata": {
      "needs_background": "light"
     },
     "output_type": "display_data"
    },
    {
     "data": {
      "image/png": "[encoded data removed]",
      "text/plain": [
       "<Figure size 432x288 with 2 Axes>"
      ]
     },
     "metadata": {
      "needs_background": "light"
     },
     "output_type": "display_data"
    },
    {
     "name": "stdout",
     "output_type": "stream",
     "text": [
      "====================================================================================================\n",
      "(10) train : 0-8932 [8933] & test 8933-9604 [672]\n",
      "Accuracy : 44.79%\n",
      "              precision    recall  f1-score   support\n",
      "\n",
      "           0       0.51      0.78      0.62       349\n",
      "           N       0.00      0.00      0.00       183\n",
      "           P       0.20      0.20      0.20       140\n",
      "\n",
      "    accuracy                           0.45       672\n",
      "   macro avg       0.24      0.33      0.27       672\n",
      "weighted avg       0.31      0.45      0.36       672\n",
      "\n"
     ]
    },
    {
     "name": "stderr",
     "output_type": "stream",
     "text": [
      "/Users/takis/opt/anaconda3/lib/python3.8/site-packages/sklearn/metrics/_classification.py:1245: UndefinedMetricWarning: Precision and F-score are ill-defined and being set to 0.0 in labels with no predicted samples. Use `zero_division` parameter to control this behavior.\n",
      "  _warn_prf(average, modifier, msg_start, len(result))\n",
      "/Users/takis/opt/anaconda3/lib/python3.8/site-packages/sklearn/metrics/_classification.py:1245: UndefinedMetricWarning: Precision and F-score are ill-defined and being set to 0.0 in labels with no predicted samples. Use `zero_division` parameter to control this behavior.\n",
      "  _warn_prf(average, modifier, msg_start, len(result))\n",
      "/Users/takis/opt/anaconda3/lib/python3.8/site-packages/sklearn/metrics/_classification.py:1245: UndefinedMetricWarning: Precision and F-score are ill-defined and being set to 0.0 in labels with no predicted samples. Use `zero_division` parameter to control this behavior.\n",
      "  _warn_prf(average, modifier, msg_start, len(result))\n"
     ]
    },
    {
     "data": {
      "image/png": "[encoded data removed]",
      "text/plain": [
       "<Figure size 720x360 with 1 Axes>"
      ]
     },
     "metadata": {
      "needs_background": "light"
     },
     "output_type": "display_data"
    },
    {
     "data": {
      "image/png": "[encoded data removed]",
      "text/plain": [
       "<Figure size 432x288 with 2 Axes>"
      ]
     },
     "metadata": {
      "needs_background": "light"
     },
     "output_type": "display_data"
    },
    {
     "name": "stdout",
     "output_type": "stream",
     "text": [
      "====================================================================================================\n"
     ]
    },
    {
     "data": {
      "image/png": "[encoded data removed]",
      "text/plain": [
       "<Figure size 720x360 with 1 Axes>"
      ]
     },
     "metadata": {
      "needs_background": "light"
     },
     "output_type": "display_data"
    }
   ],
   "source": [
    "%time\n",
    "tscv = TimeSeriesCV(X,y,n_splits=10,test_size=24*7*4,verbose=True)\n",
    "for foo in tscv:\n",
    "    \n",
    "    X_train,y_train,X_test,y_test = foo\n",
    "    \n",
    "    #clf = RandomForestClassifier(n_estimators=1000,class_weight='balanced',)\n",
    "    clf = LGBMClassifier(\n",
    "        #class_weight='balanced',\n",
    "        boosting_type='dart',\n",
    "        colsample_bytree=np.sqrt(X.shape[1])/(X.shape[1]),\n",
    "        n_estimators=500,\n",
    "        objective='multiclass'\n",
    "        )\n",
    "    \n",
    "    clf.fit(X_train,y_train)\n",
    "    y_preds = clf.predict(X_keep)\n",
    "    \n",
    "    print(f'Accuracy : {accuracy_score(y_keep,y_preds):.2%}')\n",
    "    print(classification_report(y_keep,y_preds))\n",
    "    \n",
    "    cm = confusion_matrix(y_keep,y_preds)\n",
    "    disp = ConfusionMatrixDisplay(confusion_matrix=cm,display_labels=clf.classes_)\n",
    "    disp.plot()\n",
    "    plt.show()\n",
    "    \n",
    "    pd.DataFrame({'features':X_train.columns,'importance':clf.feature_importances_})\\\n",
    "        .set_index('features').sort_values(by=['importance'])\\\n",
    "        .tail(20).plot(kind='barh',figsize = (10,5))\n",
    "\n",
    "    print(100*'=')"
   ]
  }
 ],
 "metadata": {
  "kernelspec": {
   "display_name": "Python 3",
   "language": "python",
   "name": "python3"
  },
  "language_info": {
   "codemirror_mode": {
    "name": "ipython",
    "version": 3
   },
   "file_extension": ".py",
   "mimetype": "text/x-python",
   "name": "python",
   "nbconvert_exporter": "python",
   "pygments_lexer": "ipython3",
   "version": "3.8.8"
  }
 },
 "nbformat": 4,
 "nbformat_minor": 5
}
