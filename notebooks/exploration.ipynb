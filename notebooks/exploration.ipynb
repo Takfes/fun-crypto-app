{
 "cells": [
  {
   "cell_type": "code",
   "execution_count": 1,
   "id": "3cd5afb5",
   "metadata": {},
   "outputs": [],
   "source": [
    "import os\n",
    "import numpy as np\n",
    "import pandas as pd\n",
    "pd.set_option('display.max_rows', 50)\n",
    "pd.set_option('display.max_columns', 15)\n",
    "import matplotlib.pyplot as plt\n",
    "import seaborn as sns\n",
    "from pathlib import Path\n",
    "from datetime import datetime\n",
    "from tqdm import tqdm\n",
    "%matplotlib inline"
   ]
  },
  {
   "cell_type": "code",
   "execution_count": 2,
   "id": "c8ae0b59",
   "metadata": {},
   "outputs": [],
   "source": [
    "import talib\n",
    "from ta import add_all_ta_features"
   ]
  },
  {
   "cell_type": "code",
   "execution_count": 82,
   "id": "24027eca",
   "metadata": {},
   "outputs": [],
   "source": [
    "from sklearn.model_selection import TimeSeriesSplit\n",
    "from sktime.forecasting.model_selection import SlidingWindowSplitter, ExpandingWindowSplitter\n",
    "from sktime.forecasting.model_selection import temporal_train_test_split\n",
    "from sklearn.metrics import (mean_squared_error, mean_absolute_error, mean_absolute_percentage_error,\n",
    "                             median_absolute_error, r2_score,accuracy_score,\n",
    "                             roc_auc_score,classification_report,confusion_matrix,ConfusionMatrixDisplay)\n",
    "from lightgbm import LGBMClassifier, LGBMRegressor\n",
    "from xgboost import XGBClassifier, XGBRegressor"
   ]
  },
  {
   "cell_type": "markdown",
   "id": "4d57e33f",
   "metadata": {},
   "source": [
    "### Read full database"
   ]
  },
  {
   "cell_type": "code",
   "execution_count": 5,
   "id": "d573c93d",
   "metadata": {},
   "outputs": [],
   "source": [
    "DATA_PATH = r'../data/'\n",
    "FILE_NAME = '20220313_034756_111.pkl'\n",
    "FULL_PATH = Path(DATA_PATH,FILE_NAME)"
   ]
  },
  {
   "cell_type": "code",
   "execution_count": 35,
   "id": "dc5fb08c",
   "metadata": {},
   "outputs": [
    {
     "name": "stdout",
     "output_type": "stream",
     "text": [
      "CPU times: user 4 µs, sys: 1e+03 ns, total: 5 µs\n",
      "Wall time: 8.82 µs\n"
     ]
    },
    {
     "data": {
      "text/plain": [
       "(5675397, 14)"
      ]
     },
     "execution_count": 35,
     "metadata": {},
     "output_type": "execute_result"
    }
   ],
   "source": [
    "%time\n",
    "raw = pd.read_pickle(FULL_PATH)\n",
    "raw.shape"
   ]
  },
  {
   "cell_type": "code",
   "execution_count": 37,
   "id": "26dc566a",
   "metadata": {},
   "outputs": [
    {
     "data": {
      "text/plain": [
       "symbol                              object\n",
       "openTimets                           int64\n",
       "closeTimets                          int64\n",
       "openTime                    datetime64[ns]\n",
       "closeTime                   datetime64[ns]\n",
       "open                                object\n",
       "high                                object\n",
       "low                                 object\n",
       "close                               object\n",
       "volume                              object\n",
       "numTrades                            int64\n",
       "quoteAssetVolume                    object\n",
       "takerBuyBaseAssetVolume             object\n",
       "takerBuyQuoteAssetVolume            object\n",
       "dtype: object"
      ]
     },
     "execution_count": 37,
     "metadata": {},
     "output_type": "execute_result"
    }
   ],
   "source": [
    "raw.dtypes"
   ]
  },
  {
   "cell_type": "code",
   "execution_count": 38,
   "id": "7481b477",
   "metadata": {},
   "outputs": [
    {
     "data": {
      "text/plain": [
       "BTCUSDT     87964\n",
       "ETHUSDT     80325\n",
       "BCHUSDT     78208\n",
       "XRPUSDT     76486\n",
       "EOSUSDT     76292\n",
       "            ...  \n",
       "BAKEUSDT    28582\n",
       "BTTUSDT     28339\n",
       "GTCUSDT     26390\n",
       "TLMUSDT     23032\n",
       "KEEPUSDT    22843\n",
       "Name: symbol, Length: 111, dtype: int64"
      ]
     },
     "execution_count": 38,
     "metadata": {},
     "output_type": "execute_result"
    }
   ],
   "source": [
    "raw.symbol.value_counts()"
   ]
  },
  {
   "cell_type": "markdown",
   "id": "1d24e106",
   "metadata": {},
   "source": [
    "### Prepare and subset dataset"
   ]
  },
  {
   "cell_type": "code",
   "execution_count": 265,
   "id": "3be8899f",
   "metadata": {},
   "outputs": [
    {
     "data": {
      "text/plain": [
       "(80325, 14)"
      ]
     },
     "execution_count": 265,
     "metadata": {},
     "output_type": "execute_result"
    }
   ],
   "source": [
    "df = raw.query('symbol==\"ETHUSDT\"')\n",
    "assert df.isnull().sum().sum() == 0\n",
    "df.shape"
   ]
  },
  {
   "cell_type": "code",
   "execution_count": 266,
   "id": "0a924c77",
   "metadata": {},
   "outputs": [
    {
     "data": {
      "text/plain": [
       "symbol                              object\n",
       "openTimets                           int64\n",
       "closeTimets                          int64\n",
       "openTime                    datetime64[ns]\n",
       "closeTime                   datetime64[ns]\n",
       "open                               float32\n",
       "high                               float32\n",
       "low                                float32\n",
       "close                              float32\n",
       "volume                             float32\n",
       "numTrades                            int32\n",
       "quoteAssetVolume                   float32\n",
       "takerBuyBaseAssetVolume            float32\n",
       "takerBuyQuoteAssetVolume           float32\n",
       "dtype: object"
      ]
     },
     "execution_count": 266,
     "metadata": {},
     "output_type": "execute_result"
    }
   ],
   "source": [
    "# create datatypes dictionary\n",
    "datatypes = {k:'float32' if k!='numTrades' else 'int32' for k in df.loc[:,'open':].columns}\n",
    "# assign datatypes\n",
    "df = df.astype(datatypes)\n",
    "assert df.isnull().sum().sum() == 0\n",
    "df.dtypes"
   ]
  },
  {
   "cell_type": "code",
   "execution_count": 268,
   "id": "8d7744af",
   "metadata": {},
   "outputs": [],
   "source": [
    "df.to_pickle('../data/eth.pkl')"
   ]
  },
  {
   "cell_type": "markdown",
   "id": "ea9de246",
   "metadata": {},
   "source": [
    "### Read dataset from disk"
   ]
  },
  {
   "cell_type": "code",
   "execution_count": 4,
   "id": "d25a3937",
   "metadata": {},
   "outputs": [],
   "source": [
    "raw = pd.read_pickle('../data/eth.pkl')"
   ]
  },
  {
   "cell_type": "markdown",
   "id": "51c25797",
   "metadata": {},
   "source": [
    "### Group on desired frequency"
   ]
  },
  {
   "cell_type": "code",
   "execution_count": 5,
   "id": "fd81a01e",
   "metadata": {},
   "outputs": [
    {
     "data": {
      "text/html": [
       "<div>\n",
       "<style scoped>\n",
       "    .dataframe tbody tr th:only-of-type {\n",
       "        vertical-align: middle;\n",
       "    }\n",
       "\n",
       "    .dataframe tbody tr th {\n",
       "        vertical-align: top;\n",
       "    }\n",
       "\n",
       "    .dataframe thead th {\n",
       "        text-align: right;\n",
       "    }\n",
       "</style>\n",
       "<table border=\"1\" class=\"dataframe\">\n",
       "  <thead>\n",
       "    <tr style=\"text-align: right;\">\n",
       "      <th></th>\n",
       "      <th>opentime</th>\n",
       "      <th>closetime</th>\n",
       "      <th>open</th>\n",
       "      <th>high</th>\n",
       "      <th>low</th>\n",
       "      <th>close</th>\n",
       "      <th>volume</th>\n",
       "      <th>numtrade</th>\n",
       "    </tr>\n",
       "  </thead>\n",
       "  <tbody>\n",
       "    <tr>\n",
       "      <th>20076</th>\n",
       "      <td>2022-03-12 20:00:00</td>\n",
       "      <td>2022-03-12 20:59:00</td>\n",
       "      <td>2576.760010</td>\n",
       "      <td>2591.659912</td>\n",
       "      <td>2573.870117</td>\n",
       "      <td>2586.800049</td>\n",
       "      <td>25150.187500</td>\n",
       "      <td>35923</td>\n",
       "    </tr>\n",
       "    <tr>\n",
       "      <th>20077</th>\n",
       "      <td>2022-03-12 21:00:00</td>\n",
       "      <td>2022-03-12 21:59:00</td>\n",
       "      <td>2586.800049</td>\n",
       "      <td>2591.719971</td>\n",
       "      <td>2583.060059</td>\n",
       "      <td>2585.649902</td>\n",
       "      <td>13017.638672</td>\n",
       "      <td>24267</td>\n",
       "    </tr>\n",
       "    <tr>\n",
       "      <th>20078</th>\n",
       "      <td>2022-03-12 22:00:00</td>\n",
       "      <td>2022-03-12 22:59:00</td>\n",
       "      <td>2585.649902</td>\n",
       "      <td>2591.379883</td>\n",
       "      <td>2583.260010</td>\n",
       "      <td>2585.830078</td>\n",
       "      <td>10603.583008</td>\n",
       "      <td>26367</td>\n",
       "    </tr>\n",
       "    <tr>\n",
       "      <th>20079</th>\n",
       "      <td>2022-03-12 23:00:00</td>\n",
       "      <td>2022-03-12 23:59:00</td>\n",
       "      <td>2585.840088</td>\n",
       "      <td>2590.199951</td>\n",
       "      <td>2560.000000</td>\n",
       "      <td>2567.639893</td>\n",
       "      <td>35792.011719</td>\n",
       "      <td>49081</td>\n",
       "    </tr>\n",
       "    <tr>\n",
       "      <th>20080</th>\n",
       "      <td>2022-03-13 00:00:00</td>\n",
       "      <td>2022-03-13 00:59:00</td>\n",
       "      <td>2567.629883</td>\n",
       "      <td>2573.780029</td>\n",
       "      <td>2555.810059</td>\n",
       "      <td>2565.979980</td>\n",
       "      <td>41614.472656</td>\n",
       "      <td>50466</td>\n",
       "    </tr>\n",
       "  </tbody>\n",
       "</table>\n",
       "</div>"
      ],
      "text/plain": [
       "                 opentime           closetime         open         high  \\\n",
       "20076 2022-03-12 20:00:00 2022-03-12 20:59:00  2576.760010  2591.659912   \n",
       "20077 2022-03-12 21:00:00 2022-03-12 21:59:00  2586.800049  2591.719971   \n",
       "20078 2022-03-12 22:00:00 2022-03-12 22:59:00  2585.649902  2591.379883   \n",
       "20079 2022-03-12 23:00:00 2022-03-12 23:59:00  2585.840088  2590.199951   \n",
       "20080 2022-03-13 00:00:00 2022-03-13 00:59:00  2567.629883  2573.780029   \n",
       "\n",
       "               low        close        volume  numtrade  \n",
       "20076  2573.870117  2586.800049  25150.187500     35923  \n",
       "20077  2583.060059  2585.649902  13017.638672     24267  \n",
       "20078  2583.260010  2585.830078  10603.583008     26367  \n",
       "20079  2560.000000  2567.639893  35792.011719     49081  \n",
       "20080  2555.810059  2565.979980  41614.472656     50466  "
      ]
     },
     "execution_count": 5,
     "metadata": {},
     "output_type": "execute_result"
    }
   ],
   "source": [
    "df = \\\n",
    "    raw.groupby(pd.Grouper(key=\"openTime\", freq=\"1H\"))\\\n",
    "    .agg(\n",
    "        cnt=pd.NamedAgg(column=\"symbol\", aggfunc=\"size\"),\n",
    "        opentime=pd.NamedAgg(column=\"openTime\", aggfunc=\"min\"),\n",
    "        closetime=pd.NamedAgg(column=\"openTime\", aggfunc=\"min\"),\n",
    "        open=pd.NamedAgg(column=\"open\", aggfunc=\"first\"),\n",
    "        high=pd.NamedAgg(column=\"high\", aggfunc=\"max\"),\n",
    "        low=pd.NamedAgg(column=\"low\", aggfunc=\"min\"),\n",
    "        close=pd.NamedAgg(column=\"close\", aggfunc=\"last\"),\n",
    "        volume=pd.NamedAgg(column=\"volume\", aggfunc=\"sum\"),\n",
    "        numtrade=pd.NamedAgg(column=\"numTrades\", aggfunc=\"sum\"),\n",
    "    )\\\n",
    "    .query('cnt >= 4')\\\n",
    "    .drop('cnt',axis=1)\\\n",
    "    .assign(closetime = lambda x : x.closetime + pd.Timedelta(minutes=59))\\\n",
    "    .reset_index(drop=True)\n",
    "\n",
    "# alternative way to resample and regroup data\n",
    "# df = raw.resample('30min',on='opentime').agg({'close':'last','high':'max'}).tail(10)\n",
    "df.tail()"
   ]
  },
  {
   "cell_type": "markdown",
   "id": "3ac8014c",
   "metadata": {},
   "source": [
    "### Inspect Time Series"
   ]
  },
  {
   "cell_type": "code",
   "execution_count": 6,
   "id": "a8e4732e",
   "metadata": {},
   "outputs": [
    {
     "name": "stdout",
     "output_type": "stream",
     "text": [
      "count                  20081\n",
      "mean     2021-01-18 16:00:00\n",
      "min      2019-11-27 08:00:00\n",
      "25%      2020-06-23 12:00:00\n",
      "50%      2021-01-18 16:00:00\n",
      "75%      2021-08-15 20:00:00\n",
      "max      2022-03-13 00:00:00\n",
      "Name: opentime, dtype: object\n",
      "AxesSubplot(0.125,0.125;0.775x0.755)\n"
     ]
    },
    {
     "data": {
      "image/png": "[encoded data removed]",
      "text/plain": [
       "<Figure size 432x288 with 1 Axes>"
      ]
     },
     "metadata": {
      "needs_background": "light"
     },
     "output_type": "display_data"
    }
   ],
   "source": [
    "print(df.opentime.describe(datetime_is_numeric=True))\n",
    "# print(df.close.plot())\n",
    "print(df.query('opentime >= 2021').close.plot())"
   ]
  },
  {
   "cell_type": "code",
   "execution_count": 7,
   "id": "941bf31b",
   "metadata": {},
   "outputs": [
    {
     "data": {
      "text/plain": [
       "(10465, 8)"
      ]
     },
     "execution_count": 7,
     "metadata": {},
     "output_type": "execute_result"
    }
   ],
   "source": [
    "df = df.query('opentime >= 2021').copy()\n",
    "df.shape"
   ]
  },
  {
   "cell_type": "markdown",
   "id": "1733cfce",
   "metadata": {},
   "source": [
    "### Decompose Time Series"
   ]
  },
  {
   "cell_type": "code",
   "execution_count": 8,
   "id": "cd64eca5",
   "metadata": {},
   "outputs": [],
   "source": [
    "# from statsmodels.graphics.tsaplots import plot_acf, plot_pacf, acf, pacf\n",
    "# from statsmodels.tsa.seasonal import seasonal_decompose\n",
    "# # from statsmodels.tsa.seasonal import MSTL\n",
    "# print(plot_acf(df.close))\n",
    "# print(plot_pacf(df.close))\n",
    "# # stl_kwargs = {\"seasonal_deg\": 0} \n",
    "# # model = MSTL(df.close, periods=(24, 24 * 7), stl_kwargs=stl_kwargs)\n",
    "# # res = model.fit()\n",
    "# # res.plot()"
   ]
  },
  {
   "cell_type": "markdown",
   "id": "b0994fab",
   "metadata": {},
   "source": [
    "### Create Features to Avoid Leakage\n",
    "> __close -> fx_close = close.shift(1)__"
   ]
  },
  {
   "cell_type": "code",
   "execution_count": 9,
   "id": "5acc37ff",
   "metadata": {},
   "outputs": [],
   "source": [
    "options_antileakage_feats = ['open','high','low','close','volume']\n",
    "for ff in options_antileakage_feats:\n",
    "    df[f'fx_{ff}'] = df[ff].shift(1)"
   ]
  },
  {
   "cell_type": "code",
   "execution_count": 10,
   "id": "34ba0eef",
   "metadata": {},
   "outputs": [
    {
     "data": {
      "text/plain": [
       "Index(['opentime', 'closetime', 'open', 'high', 'low', 'close', 'volume',\n",
       "       'numtrade', 'fx_open', 'fx_high', 'fx_low', 'fx_close', 'fx_volume'],\n",
       "      dtype='object')"
      ]
     },
     "execution_count": 10,
     "metadata": {},
     "output_type": "execute_result"
    }
   ],
   "source": [
    "df.columns"
   ]
  },
  {
   "cell_type": "markdown",
   "id": "98f008f7",
   "metadata": {},
   "source": [
    "### Create Lag Features"
   ]
  },
  {
   "cell_type": "code",
   "execution_count": 11,
   "id": "8f8f0af3",
   "metadata": {},
   "outputs": [],
   "source": [
    "options_lags_feats = ['close','volume']\n",
    "options_lags = [1,2,3,24,48]\n",
    "for ff in options_lags_feats:\n",
    "    for ll in options_lags:\n",
    "        df[f'fx_{ff}_lag_{str(ll).zfill(3)}'] = df[ff].shift(ll)"
   ]
  },
  {
   "cell_type": "code",
   "execution_count": 12,
   "id": "a716ca8f",
   "metadata": {},
   "outputs": [
    {
     "data": {
      "text/plain": [
       "Index(['opentime', 'closetime', 'open', 'high', 'low', 'close', 'volume',\n",
       "       'numtrade', 'fx_open', 'fx_high', 'fx_low', 'fx_close', 'fx_volume',\n",
       "       'fx_close_lag_001', 'fx_close_lag_002', 'fx_close_lag_003',\n",
       "       'fx_close_lag_024', 'fx_close_lag_048', 'fx_volume_lag_001',\n",
       "       'fx_volume_lag_002', 'fx_volume_lag_003', 'fx_volume_lag_024',\n",
       "       'fx_volume_lag_048'],\n",
       "      dtype='object')"
      ]
     },
     "execution_count": 12,
     "metadata": {},
     "output_type": "execute_result"
    }
   ],
   "source": [
    "df.columns"
   ]
  },
  {
   "cell_type": "code",
   "execution_count": 13,
   "id": "d8c6d1e1",
   "metadata": {},
   "outputs": [
    {
     "data": {
      "text/plain": [
       "(10465, 23)"
      ]
     },
     "execution_count": 13,
     "metadata": {},
     "output_type": "execute_result"
    }
   ],
   "source": [
    "df.shape"
   ]
  },
  {
   "cell_type": "markdown",
   "id": "1c238ae5",
   "metadata": {},
   "source": [
    "### Create Diff Features"
   ]
  },
  {
   "cell_type": "code",
   "execution_count": 14,
   "id": "de0a7037",
   "metadata": {},
   "outputs": [],
   "source": [
    "options_diffs_feats = ['fx_close','fx_volume']\n",
    "options_diffs = [1,2,3,24,48]\n",
    "for ff in options_diffs_feats:\n",
    "    for ll in options_diffs:\n",
    "        df[f'{ff}_diff_{str(ll).zfill(3)}'] = df[ff].diff(ll)"
   ]
  },
  {
   "cell_type": "code",
   "execution_count": 15,
   "id": "e1dec434",
   "metadata": {},
   "outputs": [
    {
     "data": {
      "text/plain": [
       "Index(['opentime', 'closetime', 'open', 'high', 'low', 'close', 'volume',\n",
       "       'numtrade', 'fx_open', 'fx_high', 'fx_low', 'fx_close', 'fx_volume',\n",
       "       'fx_close_lag_001', 'fx_close_lag_002', 'fx_close_lag_003',\n",
       "       'fx_close_lag_024', 'fx_close_lag_048', 'fx_volume_lag_001',\n",
       "       'fx_volume_lag_002', 'fx_volume_lag_003', 'fx_volume_lag_024',\n",
       "       'fx_volume_lag_048', 'fx_close_diff_001', 'fx_close_diff_002',\n",
       "       'fx_close_diff_003', 'fx_close_diff_024', 'fx_close_diff_048',\n",
       "       'fx_volume_diff_001', 'fx_volume_diff_002', 'fx_volume_diff_003',\n",
       "       'fx_volume_diff_024', 'fx_volume_diff_048'],\n",
       "      dtype='object')"
      ]
     },
     "execution_count": 15,
     "metadata": {},
     "output_type": "execute_result"
    }
   ],
   "source": [
    "df.columns"
   ]
  },
  {
   "cell_type": "code",
   "execution_count": 16,
   "id": "129de7b6",
   "metadata": {},
   "outputs": [
    {
     "data": {
      "text/plain": [
       "(10465, 33)"
      ]
     },
     "execution_count": 16,
     "metadata": {},
     "output_type": "execute_result"
    }
   ],
   "source": [
    "df.shape"
   ]
  },
  {
   "cell_type": "markdown",
   "id": "b3805c05",
   "metadata": {},
   "source": [
    "### Create Rolling Features"
   ]
  },
  {
   "cell_type": "code",
   "execution_count": 17,
   "id": "4352bb03",
   "metadata": {},
   "outputs": [],
   "source": [
    "options_wndf_feats = ['fx_close','fx_volume']\n",
    "options_wndf = [24,24*7]\n",
    "for ff in options_wndf_feats:\n",
    "    for ll in options_wndf:\n",
    "        df[f'{ff}_min_{str(ll).zfill(3)}'] = df[ff].rolling(ll).min()\n",
    "        df[f'{ff}_max_{str(ll).zfill(3)}'] = df[ff].rolling(ll).max()\n",
    "        df[f'{ff}_std_{str(ll).zfill(3)}'] = df[ff].rolling(ll).std()"
   ]
  },
  {
   "cell_type": "code",
   "execution_count": 18,
   "id": "9bc2fac3",
   "metadata": {},
   "outputs": [
    {
     "data": {
      "text/plain": [
       "Index(['opentime', 'closetime', 'open', 'high', 'low', 'close', 'volume',\n",
       "       'numtrade', 'fx_open', 'fx_high', 'fx_low', 'fx_close', 'fx_volume',\n",
       "       'fx_close_lag_001', 'fx_close_lag_002', 'fx_close_lag_003',\n",
       "       'fx_close_lag_024', 'fx_close_lag_048', 'fx_volume_lag_001',\n",
       "       'fx_volume_lag_002', 'fx_volume_lag_003', 'fx_volume_lag_024',\n",
       "       'fx_volume_lag_048', 'fx_close_diff_001', 'fx_close_diff_002',\n",
       "       'fx_close_diff_003', 'fx_close_diff_024', 'fx_close_diff_048',\n",
       "       'fx_volume_diff_001', 'fx_volume_diff_002', 'fx_volume_diff_003',\n",
       "       'fx_volume_diff_024', 'fx_volume_diff_048', 'fx_close_min_024',\n",
       "       'fx_close_max_024', 'fx_close_std_024', 'fx_close_min_168',\n",
       "       'fx_close_max_168', 'fx_close_std_168', 'fx_volume_min_024',\n",
       "       'fx_volume_max_024', 'fx_volume_std_024', 'fx_volume_min_168',\n",
       "       'fx_volume_max_168', 'fx_volume_std_168'],\n",
       "      dtype='object')"
      ]
     },
     "execution_count": 18,
     "metadata": {},
     "output_type": "execute_result"
    }
   ],
   "source": [
    "df.columns"
   ]
  },
  {
   "cell_type": "code",
   "execution_count": 19,
   "id": "9ab2f5ef",
   "metadata": {},
   "outputs": [
    {
     "data": {
      "text/plain": [
       "(10465, 45)"
      ]
     },
     "execution_count": 19,
     "metadata": {},
     "output_type": "execute_result"
    }
   ],
   "source": [
    "df.shape"
   ]
  },
  {
   "cell_type": "markdown",
   "id": "2b3eb6e7",
   "metadata": {},
   "source": [
    "### Create TA Features - Manually"
   ]
  },
  {
   "cell_type": "code",
   "execution_count": 20,
   "id": "fd577034",
   "metadata": {},
   "outputs": [],
   "source": [
    "# df = \\\n",
    "#     df.assign(\n",
    "#         fx_sma_fast = lambda x : talib.SMA(x.close.shift(1),8),\n",
    "#         fx_sma_slow = lambda x : x.close.shift(1).rolling(24).mean(),\n",
    "#         fx_ema_fast = lambda x : talib.EMA(x.close.shift(1),8),\n",
    "#         fx_ema_slow = lambda x : talib.EMA(x.close.shift(1),24),\n",
    "#         fx_atr = lambda x : talib.ATR(x.high.shift(1),x.low.shift(1),x.close.shift(1),12),\n",
    "#         fx_adx = lambda x : talib.ADX(x.high.shift(1),x.low.shift(1),x.close.shift(1),20),\n",
    "#         fx_rsi = lambda x : talib.RSI(x.close.shift(1),12),\n",
    "#         fx_bb_upper = lambda x : talib.BBANDS(x.close.shift(1))[0],\n",
    "#         fx_bb_middle = lambda x : talib.BBANDS(x.close.shift(1))[1],\n",
    "#         fx_bb_lower = lambda x : talib.BBANDS(x.close.shift(1))[2],\n",
    "#     ).assign(\n",
    "#         fx_sma_fast_slow_frc = lambda x : (x.fx_sma_fast/x.fx_sma_slow)\n",
    "#     )\n",
    "#\n",
    "# df.tail(2)\n",
    "# df.columns\n",
    "# df.shape"
   ]
  },
  {
   "cell_type": "markdown",
   "id": "0b4223fb",
   "metadata": {},
   "source": [
    "### Create TA Features - Automatically"
   ]
  },
  {
   "cell_type": "code",
   "execution_count": 21,
   "id": "3b6f686d",
   "metadata": {},
   "outputs": [
    {
     "name": "stderr",
     "output_type": "stream",
     "text": [
      "/Users/takis/opt/anaconda3/lib/python3.8/site-packages/ta/trend.py:768: RuntimeWarning: invalid value encountered in double_scalars\n",
      "  dip[i] = 100 * (self._dip[i] / self._trs[i])\n",
      "/Users/takis/opt/anaconda3/lib/python3.8/site-packages/ta/trend.py:772: RuntimeWarning: invalid value encountered in double_scalars\n",
      "  din[i] = 100 * (self._din[i] / self._trs[i])\n"
     ]
    },
    {
     "data": {
      "text/plain": [
       "Index(['opentime', 'closetime', 'open', 'high', 'low', 'close', 'volume',\n",
       "       'numtrade', 'fx_open', 'fx_high',\n",
       "       ...\n",
       "       'momentum_wr', 'momentum_ao', 'momentum_kama', 'momentum_roc',\n",
       "       'momentum_ppo', 'momentum_ppo_signal', 'momentum_ppo_hist', 'others_dr',\n",
       "       'others_dlr', 'others_cr'],\n",
       "      dtype='object', length=128)"
      ]
     },
     "execution_count": 21,
     "metadata": {},
     "output_type": "execute_result"
    }
   ],
   "source": [
    "df = add_all_ta_features(\n",
    "    df, \n",
    "    open='fx_open', \n",
    "    high='fx_high', \n",
    "    low='fx_low', \n",
    "    close='fx_close', \n",
    "    volume='fx_volume', \n",
    "    fillna=True)\n",
    "df.columns"
   ]
  },
  {
   "cell_type": "code",
   "execution_count": 22,
   "id": "9d160a09",
   "metadata": {},
   "outputs": [],
   "source": [
    "df = \\\n",
    "    df.assign(\n",
    "        sma_fast_slow_frc = lambda x : (x.trend_sma_fast/x.trend_sma_slow),\n",
    "        ema_fast_slow_frc = lambda x : (x.trend_ema_fast/x.trend_ema_slow)\n",
    "    )"
   ]
  },
  {
   "cell_type": "markdown",
   "id": "6d71da9a",
   "metadata": {},
   "source": [
    "### Enable Pattern Recognition Features"
   ]
  },
  {
   "cell_type": "code",
   "execution_count": 23,
   "id": "2d66a9af",
   "metadata": {},
   "outputs": [],
   "source": [
    "talib.get_function_groups().keys()\n",
    "# pattern_recognition_functions = [x for x in dir(talib) if x.startswith('CDL')]\n",
    "pattern_recognition_functions = talib.get_function_groups().get('Pattern Recognition')\n",
    "# pattern_recognition_functions[1::10]\n",
    "# create pattern recognition features\n",
    "pattern_features = {\n",
    "    f'pt_{x.lower()}': getattr(talib,x)(df['fx_open'],df['fx_high'],df['fx_low'],df['fx_close'])\n",
    "                    for x in pattern_recognition_functions\n",
    "    }"
   ]
  },
  {
   "cell_type": "code",
   "execution_count": 24,
   "id": "f5c6772e",
   "metadata": {},
   "outputs": [
    {
     "data": {
      "text/html": [
       "<div>\n",
       "<style scoped>\n",
       "    .dataframe tbody tr th:only-of-type {\n",
       "        vertical-align: middle;\n",
       "    }\n",
       "\n",
       "    .dataframe tbody tr th {\n",
       "        vertical-align: top;\n",
       "    }\n",
       "\n",
       "    .dataframe thead th {\n",
       "        text-align: right;\n",
       "    }\n",
       "</style>\n",
       "<table border=\"1\" class=\"dataframe\">\n",
       "  <thead>\n",
       "    <tr style=\"text-align: right;\">\n",
       "      <th></th>\n",
       "      <th>opentime</th>\n",
       "      <th>closetime</th>\n",
       "      <th>open</th>\n",
       "      <th>high</th>\n",
       "      <th>low</th>\n",
       "      <th>close</th>\n",
       "      <th>volume</th>\n",
       "      <th>...</th>\n",
       "      <th>pt_cdltakuri</th>\n",
       "      <th>pt_cdltasukigap</th>\n",
       "      <th>pt_cdlthrusting</th>\n",
       "      <th>pt_cdltristar</th>\n",
       "      <th>pt_cdlunique3river</th>\n",
       "      <th>pt_cdlupsidegap2crows</th>\n",
       "      <th>pt_cdlxsidegap3methods</th>\n",
       "    </tr>\n",
       "  </thead>\n",
       "  <tbody>\n",
       "    <tr>\n",
       "      <th>9616</th>\n",
       "      <td>2021-01-01 00:00:00</td>\n",
       "      <td>2021-01-01 00:59:00</td>\n",
       "      <td>737.179993</td>\n",
       "      <td>740.000000</td>\n",
       "      <td>730.0</td>\n",
       "      <td>734.599976</td>\n",
       "      <td>98092.523438</td>\n",
       "      <td>...</td>\n",
       "      <td>0</td>\n",
       "      <td>0</td>\n",
       "      <td>0</td>\n",
       "      <td>0</td>\n",
       "      <td>0</td>\n",
       "      <td>0</td>\n",
       "      <td>0</td>\n",
       "    </tr>\n",
       "    <tr>\n",
       "      <th>9617</th>\n",
       "      <td>2021-01-01 01:00:00</td>\n",
       "      <td>2021-01-01 01:59:00</td>\n",
       "      <td>734.609985</td>\n",
       "      <td>750.400024</td>\n",
       "      <td>734.0</td>\n",
       "      <td>749.330017</td>\n",
       "      <td>164084.062500</td>\n",
       "      <td>...</td>\n",
       "      <td>0</td>\n",
       "      <td>0</td>\n",
       "      <td>0</td>\n",
       "      <td>0</td>\n",
       "      <td>0</td>\n",
       "      <td>0</td>\n",
       "      <td>0</td>\n",
       "    </tr>\n",
       "  </tbody>\n",
       "</table>\n",
       "<p>2 rows × 191 columns</p>\n",
       "</div>"
      ],
      "text/plain": [
       "                opentime           closetime        open        high    low  \\\n",
       "9616 2021-01-01 00:00:00 2021-01-01 00:59:00  737.179993  740.000000  730.0   \n",
       "9617 2021-01-01 01:00:00 2021-01-01 01:59:00  734.609985  750.400024  734.0   \n",
       "\n",
       "           close         volume  ...  pt_cdltakuri  pt_cdltasukigap  \\\n",
       "9616  734.599976   98092.523438  ...             0                0   \n",
       "9617  749.330017  164084.062500  ...             0                0   \n",
       "\n",
       "      pt_cdlthrusting  pt_cdltristar  pt_cdlunique3river  \\\n",
       "9616                0              0                   0   \n",
       "9617                0              0                   0   \n",
       "\n",
       "      pt_cdlupsidegap2crows  pt_cdlxsidegap3methods  \n",
       "9616                      0                       0  \n",
       "9617                      0                       0  \n",
       "\n",
       "[2 rows x 191 columns]"
      ]
     },
     "execution_count": 24,
     "metadata": {},
     "output_type": "execute_result"
    }
   ],
   "source": [
    "df = df.assign(**pattern_features)\n",
    "df.head(2)"
   ]
  },
  {
   "cell_type": "code",
   "execution_count": 25,
   "id": "497c56fc",
   "metadata": {},
   "outputs": [],
   "source": [
    "# df[[x for x in df.columns if x.startswith('pt_')]].describe().T['mean'].plot(kind='barh',figsize=(10,15))\n",
    "# df[[x for x in df.columns if x.startswith('pt_')]].describe().T"
   ]
  },
  {
   "cell_type": "code",
   "execution_count": 26,
   "id": "7a1e55d8",
   "metadata": {},
   "outputs": [
    {
     "data": {
      "text/plain": [
       "Index(['opentime', 'closetime', 'open', 'high', 'low', 'close', 'volume',\n",
       "       'numtrade', 'fx_open', 'fx_high',\n",
       "       ...\n",
       "       'pt_cdlspinningtop', 'pt_cdlstalledpattern', 'pt_cdlsticksandwich',\n",
       "       'pt_cdltakuri', 'pt_cdltasukigap', 'pt_cdlthrusting', 'pt_cdltristar',\n",
       "       'pt_cdlunique3river', 'pt_cdlupsidegap2crows',\n",
       "       'pt_cdlxsidegap3methods'],\n",
       "      dtype='object', length=191)"
      ]
     },
     "execution_count": 26,
     "metadata": {},
     "output_type": "execute_result"
    }
   ],
   "source": [
    "df.columns"
   ]
  },
  {
   "cell_type": "code",
   "execution_count": 27,
   "id": "450f2594",
   "metadata": {},
   "outputs": [
    {
     "data": {
      "text/plain": [
       "(10465, 191)"
      ]
     },
     "execution_count": 27,
     "metadata": {},
     "output_type": "execute_result"
    }
   ],
   "source": [
    "df.shape"
   ]
  },
  {
   "cell_type": "markdown",
   "id": "b539d034",
   "metadata": {},
   "source": [
    "### Enable Pivot Levels"
   ]
  },
  {
   "cell_type": "code",
   "execution_count": 28,
   "id": "90e72b02",
   "metadata": {},
   "outputs": [],
   "source": [
    "def PPS(high,low,close):\n",
    "    if all([isinstance(item,(list,pd.core.series.Series,np.ndarray)) for item in (high,low,close)]):\n",
    "        high = np.array(high,dtype='float32')\n",
    "        low = np.array(low,dtype='float32')\n",
    "        close = np.array(close,dtype='float32')\n",
    "    else:\n",
    "        raise Exception('Wrong type input data type')\n",
    "    pp = (high + low + close)/3\n",
    "    r1 = (2 * pp - low)\n",
    "    s1 = (2 * pp - high)\n",
    "    r2 = pp + high - low\n",
    "    s2 = pp - high + low\n",
    "    r3 = high + 2 * (pp - low)\n",
    "    s3 = low - 2 * (high - pp)\n",
    "    result = {'pp':pp,'r1':r1,'s1':s1,'r2':r2,'s2':s2,'r3':r3,'s3':s3}\n",
    "    result = {f'fx_{k}':v for k,v in result.items()} \n",
    "    return result"
   ]
  },
  {
   "cell_type": "code",
   "execution_count": 29,
   "id": "9e385b02",
   "metadata": {},
   "outputs": [
    {
     "data": {
      "text/html": [
       "<div>\n",
       "<style scoped>\n",
       "    .dataframe tbody tr th:only-of-type {\n",
       "        vertical-align: middle;\n",
       "    }\n",
       "\n",
       "    .dataframe tbody tr th {\n",
       "        vertical-align: top;\n",
       "    }\n",
       "\n",
       "    .dataframe thead th {\n",
       "        text-align: right;\n",
       "    }\n",
       "</style>\n",
       "<table border=\"1\" class=\"dataframe\">\n",
       "  <thead>\n",
       "    <tr style=\"text-align: right;\">\n",
       "      <th></th>\n",
       "      <th>opentime</th>\n",
       "      <th>closetime</th>\n",
       "      <th>open</th>\n",
       "      <th>high</th>\n",
       "      <th>low</th>\n",
       "      <th>close</th>\n",
       "      <th>volume</th>\n",
       "      <th>...</th>\n",
       "      <th>fx_pp</th>\n",
       "      <th>fx_r1</th>\n",
       "      <th>fx_s1</th>\n",
       "      <th>fx_r2</th>\n",
       "      <th>fx_s2</th>\n",
       "      <th>fx_r3</th>\n",
       "      <th>fx_s3</th>\n",
       "    </tr>\n",
       "  </thead>\n",
       "  <tbody>\n",
       "    <tr>\n",
       "      <th>20079</th>\n",
       "      <td>2022-03-12 23:00:00</td>\n",
       "      <td>2022-03-12 23:59:00</td>\n",
       "      <td>2585.840088</td>\n",
       "      <td>2590.199951</td>\n",
       "      <td>2560.000000</td>\n",
       "      <td>2567.639893</td>\n",
       "      <td>35792.011719</td>\n",
       "      <td>...</td>\n",
       "      <td>2586.823242</td>\n",
       "      <td>2590.386475</td>\n",
       "      <td>2582.266602</td>\n",
       "      <td>2594.943115</td>\n",
       "      <td>2578.703369</td>\n",
       "      <td>2598.506348</td>\n",
       "      <td>2574.146729</td>\n",
       "    </tr>\n",
       "    <tr>\n",
       "      <th>20080</th>\n",
       "      <td>2022-03-13 00:00:00</td>\n",
       "      <td>2022-03-13 00:59:00</td>\n",
       "      <td>2567.629883</td>\n",
       "      <td>2573.780029</td>\n",
       "      <td>2555.810059</td>\n",
       "      <td>2565.979980</td>\n",
       "      <td>41614.472656</td>\n",
       "      <td>...</td>\n",
       "      <td>2572.613281</td>\n",
       "      <td>2585.226562</td>\n",
       "      <td>2555.026611</td>\n",
       "      <td>2602.813477</td>\n",
       "      <td>2542.413330</td>\n",
       "      <td>2615.426514</td>\n",
       "      <td>2524.826660</td>\n",
       "    </tr>\n",
       "  </tbody>\n",
       "</table>\n",
       "<p>2 rows × 198 columns</p>\n",
       "</div>"
      ],
      "text/plain": [
       "                 opentime           closetime         open         high  \\\n",
       "20079 2022-03-12 23:00:00 2022-03-12 23:59:00  2585.840088  2590.199951   \n",
       "20080 2022-03-13 00:00:00 2022-03-13 00:59:00  2567.629883  2573.780029   \n",
       "\n",
       "               low        close        volume  ...        fx_pp        fx_r1  \\\n",
       "20079  2560.000000  2567.639893  35792.011719  ...  2586.823242  2590.386475   \n",
       "20080  2555.810059  2565.979980  41614.472656  ...  2572.613281  2585.226562   \n",
       "\n",
       "             fx_s1        fx_r2        fx_s2        fx_r3        fx_s3  \n",
       "20079  2582.266602  2594.943115  2578.703369  2598.506348  2574.146729  \n",
       "20080  2555.026611  2602.813477  2542.413330  2615.426514  2524.826660  \n",
       "\n",
       "[2 rows x 198 columns]"
      ]
     },
     "execution_count": 29,
     "metadata": {},
     "output_type": "execute_result"
    }
   ],
   "source": [
    "df = df.assign(**PPS(df.fx_high,df.fx_low,df.fx_close))\n",
    "df.tail(2)"
   ]
  },
  {
   "cell_type": "code",
   "execution_count": 30,
   "id": "0f14315e",
   "metadata": {},
   "outputs": [
    {
     "data": {
      "text/plain": [
       "Index(['opentime', 'close', 'fx_low', 'fx_close_lag_003', 'fx_volume_lag_003',\n",
       "       'fx_close_diff_003', 'fx_volume_diff_003', 'fx_close_std_024',\n",
       "       'fx_volume_max_024', 'volume_adi', 'volume_em', 'volatility_atr',\n",
       "       'volatility_bbp', 'volatility_kcl', 'volatility_dcl', 'volatility_ui',\n",
       "       'trend_sma_slow', 'trend_adx_neg', 'trend_mass_index', 'trend_kst_diff',\n",
       "       'trend_visual_ichimoku_a', 'trend_psar_up', 'momentum_rsi',\n",
       "       'momentum_uo', 'momentum_kama', 'others_dr', 'pt_cdl2crows',\n",
       "       'pt_cdl3starsinsouth', 'pt_cdlbreakaway', 'pt_cdldoji',\n",
       "       'pt_cdleveningstar', 'pt_cdlharami', 'pt_cdlhomingpigeon',\n",
       "       'pt_cdlkickingbylength', 'pt_cdlmatchinglow', 'pt_cdlpiercing',\n",
       "       'pt_cdlshortline', 'pt_cdltasukigap', 'pt_cdlxsidegap3methods',\n",
       "       'fx_s2'],\n",
       "      dtype='object')"
      ]
     },
     "execution_count": 30,
     "metadata": {},
     "output_type": "execute_result"
    }
   ],
   "source": [
    "df.columns[0::5]"
   ]
  },
  {
   "cell_type": "code",
   "execution_count": 31,
   "id": "fd62e72f",
   "metadata": {},
   "outputs": [],
   "source": [
    "# pd.Series(df.columns).to_clipboard()"
   ]
  },
  {
   "cell_type": "code",
   "execution_count": 32,
   "id": "06f13957",
   "metadata": {},
   "outputs": [
    {
     "data": {
      "text/plain": [
       "(10465, 198)"
      ]
     },
     "execution_count": 32,
     "metadata": {},
     "output_type": "execute_result"
    }
   ],
   "source": [
    "df.shape"
   ]
  },
  {
   "cell_type": "markdown",
   "id": "d76f2178",
   "metadata": {},
   "source": [
    "### Examine Alternative Target Options"
   ]
  },
  {
   "cell_type": "code",
   "execution_count": 33,
   "id": "4dc25cae",
   "metadata": {},
   "outputs": [],
   "source": [
    "chkp = df.copy()\n",
    "# df = chkp.copy()"
   ]
  },
  {
   "cell_type": "code",
   "execution_count": 34,
   "id": "b8e2ef8a",
   "metadata": {},
   "outputs": [
    {
     "data": {
      "text/html": [
       "<div>\n",
       "<style scoped>\n",
       "    .dataframe tbody tr th:only-of-type {\n",
       "        vertical-align: middle;\n",
       "    }\n",
       "\n",
       "    .dataframe tbody tr th {\n",
       "        vertical-align: top;\n",
       "    }\n",
       "\n",
       "    .dataframe thead th {\n",
       "        text-align: right;\n",
       "    }\n",
       "</style>\n",
       "<table border=\"1\" class=\"dataframe\">\n",
       "  <thead>\n",
       "    <tr style=\"text-align: right;\">\n",
       "      <th></th>\n",
       "      <th>opentime</th>\n",
       "      <th>closetime</th>\n",
       "      <th>open</th>\n",
       "      <th>high</th>\n",
       "      <th>low</th>\n",
       "      <th>close</th>\n",
       "      <th>volume</th>\n",
       "      <th>...</th>\n",
       "      <th>trg_delta_08hrs_ahead</th>\n",
       "      <th>trg_delta_12hrs_ahead</th>\n",
       "      <th>trg_delta_16hrs_ahead</th>\n",
       "      <th>trg_delta_20hrs_ahead</th>\n",
       "      <th>trg_delta_24hrs_ahead</th>\n",
       "      <th>trg_delta_48hrs_ahead</th>\n",
       "      <th>trg_delta_96hrs_ahead</th>\n",
       "    </tr>\n",
       "  </thead>\n",
       "  <tbody>\n",
       "    <tr>\n",
       "      <th>19981</th>\n",
       "      <td>2022-03-08 21:00:00</td>\n",
       "      <td>2022-03-08 21:59:00</td>\n",
       "      <td>2552.040039</td>\n",
       "      <td>2562.750000</td>\n",
       "      <td>2546.719971</td>\n",
       "      <td>2557.320068</td>\n",
       "      <td>38991.250000</td>\n",
       "      <td>...</td>\n",
       "      <td>0.061373</td>\n",
       "      <td>0.076518</td>\n",
       "      <td>0.066312</td>\n",
       "      <td>0.072627</td>\n",
       "      <td>0.058409</td>\n",
       "      <td>0.017542</td>\n",
       "      <td>0.011078</td>\n",
       "    </tr>\n",
       "    <tr>\n",
       "      <th>19982</th>\n",
       "      <td>2022-03-08 22:00:00</td>\n",
       "      <td>2022-03-08 22:59:00</td>\n",
       "      <td>2557.320068</td>\n",
       "      <td>2574.030029</td>\n",
       "      <td>2554.780029</td>\n",
       "      <td>2567.229980</td>\n",
       "      <td>29236.652344</td>\n",
       "      <td>...</td>\n",
       "      <td>0.059367</td>\n",
       "      <td>0.073601</td>\n",
       "      <td>0.066223</td>\n",
       "      <td>0.055651</td>\n",
       "      <td>0.058055</td>\n",
       "      <td>0.017034</td>\n",
       "      <td>0.007245</td>\n",
       "    </tr>\n",
       "  </tbody>\n",
       "</table>\n",
       "<p>2 rows × 216 columns</p>\n",
       "</div>"
      ],
      "text/plain": [
       "                 opentime           closetime         open         high  \\\n",
       "19981 2022-03-08 21:00:00 2022-03-08 21:59:00  2552.040039  2562.750000   \n",
       "19982 2022-03-08 22:00:00 2022-03-08 22:59:00  2557.320068  2574.030029   \n",
       "\n",
       "               low        close        volume  ...  trg_delta_08hrs_ahead  \\\n",
       "19981  2546.719971  2557.320068  38991.250000  ...               0.061373   \n",
       "19982  2554.780029  2567.229980  29236.652344  ...               0.059367   \n",
       "\n",
       "       trg_delta_12hrs_ahead  trg_delta_16hrs_ahead  trg_delta_20hrs_ahead  \\\n",
       "19981               0.076518               0.066312               0.072627   \n",
       "19982               0.073601               0.066223               0.055651   \n",
       "\n",
       "       trg_delta_24hrs_ahead  trg_delta_48hrs_ahead  trg_delta_96hrs_ahead  \n",
       "19981               0.058409               0.017542               0.011078  \n",
       "19982               0.058055               0.017034               0.007245  \n",
       "\n",
       "[2 rows x 216 columns]"
      ]
     },
     "execution_count": 34,
     "metadata": {},
     "output_type": "execute_result"
    }
   ],
   "source": [
    "df = \\\n",
    "    df.assign(\n",
    "        #change_pct = lambda x : x.close.pct_change(),\n",
    "        #change_chr = lambda x : x.close.pct_change().apply(np.sign),\n",
    "\n",
    "        trg_close_01hrs_ahead = lambda x : x.close.shift(-1),\n",
    "        trg_close_04hrs_ahead = lambda x : x.close.shift(-4),\n",
    "        trg_close_08hrs_ahead = lambda x : x.close.shift(-8),\n",
    "        trg_close_12hrs_ahead = lambda x : x.close.shift(-12),\n",
    "        trg_close_16hrs_ahead = lambda x : x.close.shift(-16),\n",
    "        trg_close_20hrs_ahead = lambda x : x.close.shift(-20),\n",
    "        trg_close_24hrs_ahead = lambda x : x.close.shift(-24),\n",
    "        trg_close_48hrs_ahead = lambda x : x.close.shift(-48),\n",
    "        trg_close_96hrs_ahead = lambda x : x.close.shift(-96),\n",
    "    \n",
    "        trg_delta_01hrs_ahead = lambda x : (x.close.shift(-1)/x.close)-1,\n",
    "        trg_delta_04hrs_ahead = lambda x : (x.close.shift(-4)/x.close)-1,\n",
    "        trg_delta_08hrs_ahead = lambda x : (x.close.shift(-8)/x.close)-1,\n",
    "        trg_delta_12hrs_ahead = lambda x : (x.close.shift(-12)/x.close)-1,\n",
    "        trg_delta_16hrs_ahead = lambda x : (x.close.shift(-16)/x.close)-1,\n",
    "        trg_delta_20hrs_ahead = lambda x : (x.close.shift(-20)/x.close)-1,\n",
    "        trg_delta_24hrs_ahead = lambda x : (x.close.shift(-24)/x.close)-1,\n",
    "        trg_delta_48hrs_ahead = lambda x : (x.close.shift(-48)/x.close)-1,\n",
    "        trg_delta_96hrs_ahead = lambda x : (x.close.shift(-96)/x.close)-1,\n",
    "    )\n",
    "df.tail(100).head(2)"
   ]
  },
  {
   "cell_type": "code",
   "execution_count": 35,
   "id": "6b94b65c",
   "metadata": {},
   "outputs": [
    {
     "name": "stdout",
     "output_type": "stream",
     "text": [
      "trg_delta_01hrs_ahead\n",
      "====================================================================================================\n",
      "(0.0, 0.025]     95.698308\n",
      "(0.025, 0.05]     3.861963\n",
      "(0.05, 0.1]       0.430169\n",
      "(0.1, 0.25]       0.009559\n",
      "(0.25, 0.5]       0.000000\n",
      "(0.5, 1.0]        0.000000\n",
      "Name: trg_delta_01hrs_ahead, dtype: float64\n",
      "----------------------------------------------------------------------------------------------------\n",
      " 1.0    51.548165\n",
      "-1.0    48.423165\n",
      " 0.0     0.028670\n",
      "Name: trg_delta_01hrs_ahead, dtype: float64\n",
      "====================================================================================================\n",
      "\n",
      "trg_delta_04hrs_ahead\n",
      "====================================================================================================\n",
      "(0.0, 0.025]     80.351850\n",
      "(0.025, 0.05]    15.364758\n",
      "(0.05, 0.1]       3.986997\n",
      "(0.1, 0.25]       0.296395\n",
      "(0.25, 0.5]       0.000000\n",
      "(0.5, 1.0]        0.000000\n",
      "Name: trg_delta_04hrs_ahead, dtype: float64\n",
      "----------------------------------------------------------------------------------------------------\n",
      " 1.0    52.365931\n",
      "-1.0    47.614951\n",
      " 0.0     0.019119\n",
      "Name: trg_delta_04hrs_ahead, dtype: float64\n",
      "====================================================================================================\n",
      "\n",
      "trg_delta_08hrs_ahead\n",
      "====================================================================================================\n",
      "(0.0, 0.025]     67.132198\n",
      "(0.025, 0.05]    22.383777\n",
      "(0.05, 0.1]       9.517888\n",
      "(0.1, 0.25]       0.966137\n",
      "(0.25, 0.5]       0.000000\n",
      "(0.5, 1.0]        0.000000\n",
      "Name: trg_delta_08hrs_ahead, dtype: float64\n",
      "----------------------------------------------------------------------------------------------------\n",
      " 1.0    52.778043\n",
      "-1.0    47.193268\n",
      " 0.0     0.028689\n",
      "Name: trg_delta_08hrs_ahead, dtype: float64\n",
      "====================================================================================================\n",
      "\n",
      "trg_delta_12hrs_ahead\n",
      "====================================================================================================\n",
      "(0.0, 0.025]     57.481822\n",
      "(0.025, 0.05]    26.846537\n",
      "(0.05, 0.1]      13.624187\n",
      "(0.1, 0.25]       2.028320\n",
      "(0.25, 0.5]       0.019135\n",
      "(0.5, 1.0]        0.000000\n",
      "Name: trg_delta_12hrs_ahead, dtype: float64\n",
      "----------------------------------------------------------------------------------------------------\n",
      " 1.0    52.817373\n",
      "-1.0    47.173060\n",
      " 0.0     0.009567\n",
      "Name: trg_delta_12hrs_ahead, dtype: float64\n",
      "====================================================================================================\n",
      "\n",
      "trg_delta_16hrs_ahead\n",
      "====================================================================================================\n",
      "(0.0, 0.025]     50.516845\n",
      "(0.025, 0.05]    27.794793\n",
      "(0.05, 0.1]      18.328867\n",
      "(0.1, 0.25]       3.330781\n",
      "(0.25, 0.5]       0.028714\n",
      "(0.5, 1.0]        0.000000\n",
      "Name: trg_delta_16hrs_ahead, dtype: float64\n",
      "----------------------------------------------------------------------------------------------------\n",
      " 1.0    53.373529\n",
      "-1.0    46.616901\n",
      " 0.0     0.009570\n",
      "Name: trg_delta_16hrs_ahead, dtype: float64\n",
      "====================================================================================================\n",
      "\n",
      "trg_delta_20hrs_ahead\n",
      "====================================================================================================\n",
      "(0.0, 0.025]     45.753949\n",
      "(0.025, 0.05]    28.539971\n",
      "(0.05, 0.1]      20.928674\n",
      "(0.1, 0.25]       4.633796\n",
      "(0.25, 0.5]       0.143609\n",
      "(0.5, 1.0]        0.000000\n",
      "Name: trg_delta_20hrs_ahead, dtype: float64\n",
      "----------------------------------------------------------------------------------------------------\n",
      " 1.0    53.719483\n",
      "-1.0    46.280517\n",
      "Name: trg_delta_20hrs_ahead, dtype: float64\n",
      "====================================================================================================\n",
      "\n",
      "trg_delta_24hrs_ahead\n",
      "====================================================================================================\n",
      "(0.0, 0.025]     41.455939\n",
      "(0.025, 0.05]    28.304598\n",
      "(0.05, 0.1]      23.955939\n",
      "(0.1, 0.25]       6.005747\n",
      "(0.25, 0.5]       0.277778\n",
      "(0.5, 1.0]        0.000000\n",
      "Name: trg_delta_24hrs_ahead, dtype: float64\n",
      "----------------------------------------------------------------------------------------------------\n",
      " 1.0    53.740063\n",
      "-1.0    46.250359\n",
      " 0.0     0.009578\n",
      "Name: trg_delta_24hrs_ahead, dtype: float64\n",
      "====================================================================================================\n",
      "\n",
      "trg_delta_48hrs_ahead\n",
      "====================================================================================================\n",
      "(0.0, 0.025]     30.315830\n",
      "(0.05, 0.1]      29.826246\n",
      "(0.025, 0.05]    23.519247\n",
      "(0.1, 0.25]      15.532303\n",
      "(0.25, 0.5]       0.796775\n",
      "(0.5, 1.0]        0.009600\n",
      "Name: trg_delta_48hrs_ahead, dtype: float64\n",
      "----------------------------------------------------------------------------------------------------\n",
      " 1.0    54.420659\n",
      "-1.0    45.579341\n",
      "Name: trg_delta_48hrs_ahead, dtype: float64\n",
      "====================================================================================================\n",
      "\n",
      "trg_delta_96hrs_ahead\n",
      "====================================================================================================\n",
      "(0.05, 0.1]      29.414601\n",
      "(0.1, 0.25]      28.556274\n",
      "(0.0, 0.025]     20.792748\n",
      "(0.025, 0.05]    18.979651\n",
      "(0.25, 0.5]       2.005979\n",
      "(0.5, 1.0]        0.250747\n",
      "Name: trg_delta_96hrs_ahead, dtype: float64\n",
      "----------------------------------------------------------------------------------------------------\n",
      " 1.0    57.575465\n",
      "-1.0    42.424535\n",
      "Name: trg_delta_96hrs_ahead, dtype: float64\n",
      "====================================================================================================\n",
      "\n"
     ]
    }
   ],
   "source": [
    "# Review distributions of absolute returns for 4-8-16 etc. hours ahead\n",
    "trg_windows = [x for x in df.columns if x.startswith('trg_delta')]\n",
    "for wnd in trg_windows:\n",
    "    print(wnd)\n",
    "    print(100*'=')\n",
    "    print((pd.cut(\n",
    "        x = df[wnd].abs(), \n",
    "        bins = [0, 0.025, 0.05, 0.1, 0.25, 0.5, 1.], \n",
    "        ).value_counts(normalize=True))*100)\n",
    "    print(100*'-')\n",
    "    print(df[wnd].apply(np.sign).value_counts(normalize=True)*100)\n",
    "    print(100*'=')\n",
    "    print()"
   ]
  },
  {
   "cell_type": "markdown",
   "id": "49c5e6ae",
   "metadata": {},
   "source": [
    "### Select Timeframe for target"
   ]
  },
  {
   "cell_type": "code",
   "execution_count": 36,
   "id": "858473c2",
   "metadata": {},
   "outputs": [],
   "source": [
    "chkp2 = df.copy()\n",
    "# df = chkp2.copy()"
   ]
  },
  {
   "cell_type": "code",
   "execution_count": 37,
   "id": "45dde391",
   "metadata": {},
   "outputs": [],
   "source": [
    "my_target = 'trg_delta_24hrs_ahead'\n",
    "df['target_rtrns'] = df[my_target]"
   ]
  },
  {
   "cell_type": "code",
   "execution_count": 38,
   "id": "9fdd792d",
   "metadata": {},
   "outputs": [],
   "source": [
    "# drop all other trg columns - i.e. time frame related targets\n",
    "df = df[[x for x in df.columns if not x.startswith('trg_')]]"
   ]
  },
  {
   "cell_type": "code",
   "execution_count": 39,
   "id": "d61bfdbc",
   "metadata": {},
   "outputs": [
    {
     "data": {
      "text/plain": [
       "delta_3%_100%    51.781609\n",
       "delta_0%_3%      48.218391\n",
       "Name: target_rtrns, dtype: float64"
      ]
     },
     "execution_count": 39,
     "metadata": {},
     "output_type": "execute_result"
    }
   ],
   "source": [
    "# chance to revisit/readjust bins\n",
    "my_bins = [0, 0.03, 1.]\n",
    "my_labels = [f'delta_{x:.0%}_{y:.0%}' for x,y in zip(my_bins[:-1],my_bins[1:])]\n",
    "(pd.cut(x = df.target_rtrns.abs(), bins = my_bins, labels = my_labels).value_counts(normalize=True)*100)"
   ]
  },
  {
   "cell_type": "code",
   "execution_count": 40,
   "id": "3860f540",
   "metadata": {},
   "outputs": [],
   "source": [
    "df['target_sign'] = df.target_rtrns.apply(np.sign)\n",
    "df['target_sign_binary'] = df.target_sign.apply(lambda x : 'up' if x>=0 else 'down') #if na 'down' will be assigned\n",
    "df['target_bins'] = pd.cut(x = df.target_rtrns.abs(), bins = my_bins, labels = my_labels)"
   ]
  },
  {
   "cell_type": "code",
   "execution_count": 41,
   "id": "ae56d43a",
   "metadata": {},
   "outputs": [
    {
     "data": {
      "text/plain": [
       "delta_3%_100%    5406\n",
       "delta_0%_3%      5034\n",
       "NaN                25\n",
       "Name: target_bins, dtype: int64"
      ]
     },
     "execution_count": 41,
     "metadata": {},
     "output_type": "execute_result"
    }
   ],
   "source": [
    "df.target_bins.value_counts(dropna=False)"
   ]
  },
  {
   "cell_type": "code",
   "execution_count": 42,
   "id": "94f0da20",
   "metadata": {},
   "outputs": [
    {
     "data": {
      "text/plain": [
       "steady    5034\n",
       "up        3037\n",
       "down      2369\n",
       "NaN         25\n",
       "dtype: int64"
      ]
     },
     "execution_count": 42,
     "metadata": {},
     "output_type": "execute_result"
    }
   ],
   "source": [
    "pd.Series(\n",
    "    np.where(df['target_bins']=='delta_0%_3%','steady',\n",
    "        np.where(df['target_bins']=='delta_3%_100%',df['target_sign_binary'],None))\n",
    "    ).value_counts(dropna=False)"
   ]
  },
  {
   "cell_type": "code",
   "execution_count": 43,
   "id": "817dcd1b",
   "metadata": {},
   "outputs": [
    {
     "data": {
      "text/html": [
       "<div>\n",
       "<style scoped>\n",
       "    .dataframe tbody tr th:only-of-type {\n",
       "        vertical-align: middle;\n",
       "    }\n",
       "\n",
       "    .dataframe tbody tr th {\n",
       "        vertical-align: top;\n",
       "    }\n",
       "\n",
       "    .dataframe thead th {\n",
       "        text-align: right;\n",
       "    }\n",
       "</style>\n",
       "<table border=\"1\" class=\"dataframe\">\n",
       "  <thead>\n",
       "    <tr style=\"text-align: right;\">\n",
       "      <th></th>\n",
       "      <th>counts</th>\n",
       "      <th>normalized_counts(%)</th>\n",
       "    </tr>\n",
       "  </thead>\n",
       "  <tbody>\n",
       "    <tr>\n",
       "      <th>steady</th>\n",
       "      <td>5034</td>\n",
       "      <td>48.10</td>\n",
       "    </tr>\n",
       "    <tr>\n",
       "      <th>up</th>\n",
       "      <td>3037</td>\n",
       "      <td>29.02</td>\n",
       "    </tr>\n",
       "    <tr>\n",
       "      <th>down</th>\n",
       "      <td>2369</td>\n",
       "      <td>22.64</td>\n",
       "    </tr>\n",
       "    <tr>\n",
       "      <th>NaN</th>\n",
       "      <td>25</td>\n",
       "      <td>0.24</td>\n",
       "    </tr>\n",
       "  </tbody>\n",
       "</table>\n",
       "</div>"
      ],
      "text/plain": [
       "        counts  normalized_counts(%)\n",
       "steady    5034                 48.10\n",
       "up        3037                 29.02\n",
       "down      2369                 22.64\n",
       "NaN         25                  0.24"
      ]
     },
     "execution_count": 43,
     "metadata": {},
     "output_type": "execute_result"
    }
   ],
   "source": [
    "bins_sign = np.where(df['target_bins']=='delta_0%_3%','steady',\n",
    "                     np.where(df['target_bins']=='delta_3%_100%',df['target_sign_binary'],None))\n",
    "pd.DataFrame({'counts':pd.Series(bins_sign).value_counts(dropna=False),\n",
    "              'normalized_counts(%)':round(pd.Series(bins_sign).value_counts(normalize=True,dropna=False)*100,2)})"
   ]
  },
  {
   "cell_type": "code",
   "execution_count": 44,
   "id": "9b9498bd",
   "metadata": {},
   "outputs": [],
   "source": [
    "df['target_bins_sign'] = bins_sign"
   ]
  },
  {
   "cell_type": "markdown",
   "id": "0fbf56e9",
   "metadata": {},
   "source": [
    "### Profile Targets"
   ]
  },
  {
   "cell_type": "code",
   "execution_count": 45,
   "id": "66c29728",
   "metadata": {},
   "outputs": [],
   "source": [
    "# df[[x for x in df.columns if x.startswith('target')]].isnull().sum()\n",
    "# df.groupby(['target_sign_binary','target_bins','target_bins_sign']).size()\n",
    "# [x for x in df.columns if x.startswith('target')]\n",
    "# df.target_rtrns.hist(bins=100)\n",
    "# df.target_bins.value_counts(normalize=True).plot(kind='barh')\n",
    "# print(df.target_bins.value_counts(normalize=True)*100)\n",
    "# df.target_sign_binary.value_counts(normalize=True)\n",
    "# df.target_bins_sign.value_counts(normalize=True)"
   ]
  },
  {
   "cell_type": "markdown",
   "id": "888956e1",
   "metadata": {},
   "source": [
    "### Clean dataset from NAs"
   ]
  },
  {
   "cell_type": "code",
   "execution_count": 46,
   "id": "a227d568",
   "metadata": {},
   "outputs": [],
   "source": [
    "# import missingno as msno\n",
    "# msno.matrix(df.set_index('opentime')[df.columns[(df.isnull().sum()!=0)]],freq='H')"
   ]
  },
  {
   "cell_type": "code",
   "execution_count": 47,
   "id": "302c5f5f",
   "metadata": {},
   "outputs": [
    {
     "name": "stdout",
     "output_type": "stream",
     "text": [
      "current rows 10465\n",
      "max missing rows 168\n",
      "opentime from 2021-01-01 00:00 to 2022-03-13 00:00\n"
     ]
    }
   ],
   "source": [
    "print(f'current rows {df.shape[0]}')\n",
    "print(f'max missing rows {df.isnull().sum().max()}')\n",
    "print(f'opentime from {df.opentime.min().strftime(\"%Y-%m-%d %H:%M\")} to {df.opentime.max().strftime(\"%Y-%m-%d %H:%M\")}')"
   ]
  },
  {
   "cell_type": "code",
   "execution_count": 48,
   "id": "f91ddccd",
   "metadata": {},
   "outputs": [
    {
     "data": {
      "text/plain": [
       "(10272, 203)"
      ]
     },
     "execution_count": 48,
     "metadata": {},
     "output_type": "execute_result"
    }
   ],
   "source": [
    "md = df.dropna().reset_index(drop=True).copy()\n",
    "md.shape"
   ]
  },
  {
   "cell_type": "code",
   "execution_count": 49,
   "id": "d6d0bb0e",
   "metadata": {},
   "outputs": [
    {
     "name": "stdout",
     "output_type": "stream",
     "text": [
      "remaining missing observations 0\n",
      "current rows 10272\n",
      "opentime from 2021-01-08 00:00 to 2022-03-12 00:00\n"
     ]
    }
   ],
   "source": [
    "print(f'remaining missing observations {md.isnull().sum().sum()}')\n",
    "print(f'current rows {md.shape[0]}')\n",
    "print(f'opentime from {md.opentime.min().strftime(\"%Y-%m-%d %H:%M\")} to {md.opentime.max().strftime(\"%Y-%m-%d %H:%M\")}')"
   ]
  },
  {
   "cell_type": "code",
   "execution_count": 50,
   "id": "b37b49fb",
   "metadata": {},
   "outputs": [
    {
     "data": {
      "text/plain": [
       "steady    4997\n",
       "up        2920\n",
       "down      2355\n",
       "Name: target_bins_sign, dtype: int64"
      ]
     },
     "execution_count": 50,
     "metadata": {},
     "output_type": "execute_result"
    }
   ],
   "source": [
    "md.target_bins_sign.value_counts(dropna=False)"
   ]
  },
  {
   "cell_type": "code",
   "execution_count": 51,
   "id": "acaca369",
   "metadata": {},
   "outputs": [],
   "source": [
    "X = md[[x for x in md.columns if not (x.startswith('target') | x.endswith('time'))]].reset_index(drop=True)\n",
    "X = X.drop(['open','high','low','close','volume','numtrade'],axis=1)"
   ]
  },
  {
   "cell_type": "code",
   "execution_count": 52,
   "id": "17bdd6f5",
   "metadata": {},
   "outputs": [
    {
     "data": {
      "text/plain": [
       "['target_rtrns',\n",
       " 'target_sign',\n",
       " 'target_sign_binary',\n",
       " 'target_bins',\n",
       " 'target_bins_sign']"
      ]
     },
     "execution_count": 52,
     "metadata": {},
     "output_type": "execute_result"
    }
   ],
   "source": [
    "[x for x in md.columns if x.startswith('target')]"
   ]
  },
  {
   "cell_type": "code",
   "execution_count": 53,
   "id": "b10e74c7",
   "metadata": {},
   "outputs": [],
   "source": [
    "y = md['target_bins_sign']"
   ]
  },
  {
   "cell_type": "code",
   "execution_count": 54,
   "id": "77101155",
   "metadata": {},
   "outputs": [],
   "source": [
    "# pd.Series(md.columns).to_clipboard()\n",
    "# pd.Series(X.columns).to_clipboard()"
   ]
  },
  {
   "cell_type": "markdown",
   "id": "b56d15fc",
   "metadata": {},
   "source": [
    "### Temporal Train Test Split - dataset to test at the end"
   ]
  },
  {
   "cell_type": "code",
   "execution_count": 55,
   "id": "91d14c37",
   "metadata": {},
   "outputs": [],
   "source": [
    "y, y_keep, X, X_keep = temporal_train_test_split(y,X,test_size=24*7*4)"
   ]
  },
  {
   "cell_type": "code",
   "execution_count": 56,
   "id": "059768ec",
   "metadata": {},
   "outputs": [
    {
     "data": {
      "text/plain": [
       "[(9600,), (672,), (9600, 190), (672, 190)]"
      ]
     },
     "execution_count": 56,
     "metadata": {},
     "output_type": "execute_result"
    }
   ],
   "source": [
    "[x.shape for x in [y, y_keep, X, X_keep]]"
   ]
  },
  {
   "cell_type": "code",
   "execution_count": 57,
   "id": "ff58457e",
   "metadata": {},
   "outputs": [
    {
     "data": {
      "text/plain": [
       "steady    317\n",
       "down      210\n",
       "up        145\n",
       "Name: target_bins_sign, dtype: int64"
      ]
     },
     "execution_count": 57,
     "metadata": {},
     "output_type": "execute_result"
    }
   ],
   "source": [
    "y_keep.value_counts()"
   ]
  },
  {
   "cell_type": "markdown",
   "id": "55e45b67",
   "metadata": {},
   "source": [
    "### Setup Cross-Validation"
   ]
  },
  {
   "cell_type": "markdown",
   "id": "14b4f48c",
   "metadata": {},
   "source": [
    "### sklearn TimeSeriesSplit"
   ]
  },
  {
   "cell_type": "code",
   "execution_count": 58,
   "id": "9d7bafe1",
   "metadata": {},
   "outputs": [],
   "source": [
    "def TimeSeriesCV(X,y,n_splits=20, gap=0, max_train_size=None, test_size=None, verbose=False):\n",
    "    tscv = TimeSeriesSplit(n_splits=n_splits, gap=gap, max_train_size=max_train_size, test_size=test_size)\n",
    "    for i, (train_index, test_index) in enumerate(tscv.split(X),start=1):\n",
    "        X_train, X_test = X.loc[train_index], X.loc[test_index]\n",
    "        y_train, y_test = y[train_index], y.loc[test_index]\n",
    "        if verbose:\n",
    "            print(f'''({str(i).zfill(2)}) train : {train_index[0]}-{train_index[-1]} [{len(train_index)}] & test {test_index[0]}-{test_index[-1]} [{len(test_index)}]''')\n",
    "        yield (X_train,y_train,X_test,y_test)"
   ]
  },
  {
   "cell_type": "code",
   "execution_count": 59,
   "id": "e2cce073",
   "metadata": {},
   "outputs": [
    {
     "name": "stdout",
     "output_type": "stream",
     "text": [
      "(01) train : 3928-8927 [5000] & test 8928-8928 [1]\n",
      "(02) train : 3929-8928 [5000] & test 8929-8929 [1]\n",
      "(03) train : 3930-8929 [5000] & test 8930-8930 [1]\n",
      "(04) train : 3931-8930 [5000] & test 8931-8931 [1]\n",
      "(05) train : 3932-8931 [5000] & test 8932-8932 [1]\n",
      "(06) train : 3933-8932 [5000] & test 8933-8933 [1]\n",
      "(07) train : 3934-8933 [5000] & test 8934-8934 [1]\n",
      "(08) train : 3935-8934 [5000] & test 8935-8935 [1]\n",
      "(09) train : 3936-8935 [5000] & test 8936-8936 [1]\n",
      "(10) train : 3937-8936 [5000] & test 8937-8937 [1]\n",
      "(11) train : 3938-8937 [5000] & test 8938-8938 [1]\n",
      "(12) train : 3939-8938 [5000] & test 8939-8939 [1]\n",
      "(13) train : 3940-8939 [5000] & test 8940-8940 [1]\n",
      "(14) train : 3941-8940 [5000] & test 8941-8941 [1]\n",
      "(15) train : 3942-8941 [5000] & test 8942-8942 [1]\n",
      "(16) train : 3943-8942 [5000] & test 8943-8943 [1]\n",
      "(17) train : 3944-8943 [5000] & test 8944-8944 [1]\n",
      "(18) train : 3945-8944 [5000] & test 8945-8945 [1]\n",
      "(19) train : 3946-8945 [5000] & test 8946-8946 [1]\n",
      "(20) train : 3947-8946 [5000] & test 8947-8947 [1]\n",
      "(21) train : 3948-8947 [5000] & test 8948-8948 [1]\n",
      "(22) train : 3949-8948 [5000] & test 8949-8949 [1]\n",
      "(23) train : 3950-8949 [5000] & test 8950-8950 [1]\n",
      "(24) train : 3951-8950 [5000] & test 8951-8951 [1]\n",
      "(25) train : 3952-8951 [5000] & test 8952-8952 [1]\n",
      "(26) train : 3953-8952 [5000] & test 8953-8953 [1]\n",
      "(27) train : 3954-8953 [5000] & test 8954-8954 [1]\n",
      "(28) train : 3955-8954 [5000] & test 8955-8955 [1]\n",
      "(29) train : 3956-8955 [5000] & test 8956-8956 [1]\n",
      "(30) train : 3957-8956 [5000] & test 8957-8957 [1]\n",
      "(31) train : 3958-8957 [5000] & test 8958-8958 [1]\n",
      "(32) train : 3959-8958 [5000] & test 8959-8959 [1]\n",
      "(33) train : 3960-8959 [5000] & test 8960-8960 [1]\n",
      "(34) train : 3961-8960 [5000] & test 8961-8961 [1]\n",
      "(35) train : 3962-8961 [5000] & test 8962-8962 [1]\n",
      "(36) train : 3963-8962 [5000] & test 8963-8963 [1]\n",
      "(37) train : 3964-8963 [5000] & test 8964-8964 [1]\n",
      "(38) train : 3965-8964 [5000] & test 8965-8965 [1]\n",
      "(39) train : 3966-8965 [5000] & test 8966-8966 [1]\n",
      "(40) train : 3967-8966 [5000] & test 8967-8967 [1]\n",
      "(41) train : 3968-8967 [5000] & test 8968-8968 [1]\n",
      "(42) train : 3969-8968 [5000] & test 8969-8969 [1]\n",
      "(43) train : 3970-8969 [5000] & test 8970-8970 [1]\n",
      "(44) train : 3971-8970 [5000] & test 8971-8971 [1]\n",
      "(45) train : 3972-8971 [5000] & test 8972-8972 [1]\n",
      "(46) train : 3973-8972 [5000] & test 8973-8973 [1]\n",
      "(47) train : 3974-8973 [5000] & test 8974-8974 [1]\n",
      "(48) train : 3975-8974 [5000] & test 8975-8975 [1]\n",
      "(49) train : 3976-8975 [5000] & test 8976-8976 [1]\n",
      "(50) train : 3977-8976 [5000] & test 8977-8977 [1]\n",
      "(51) train : 3978-8977 [5000] & test 8978-8978 [1]\n",
      "(52) train : 3979-8978 [5000] & test 8979-8979 [1]\n",
      "(53) train : 3980-8979 [5000] & test 8980-8980 [1]\n",
      "(54) train : 3981-8980 [5000] & test 8981-8981 [1]\n",
      "(55) train : 3982-8981 [5000] & test 8982-8982 [1]\n",
      "(56) train : 3983-8982 [5000] & test 8983-8983 [1]\n",
      "(57) train : 3984-8983 [5000] & test 8984-8984 [1]\n",
      "(58) train : 3985-8984 [5000] & test 8985-8985 [1]\n",
      "(59) train : 3986-8985 [5000] & test 8986-8986 [1]\n",
      "(60) train : 3987-8986 [5000] & test 8987-8987 [1]\n",
      "(61) train : 3988-8987 [5000] & test 8988-8988 [1]\n",
      "(62) train : 3989-8988 [5000] & test 8989-8989 [1]\n",
      "(63) train : 3990-8989 [5000] & test 8990-8990 [1]\n",
      "(64) train : 3991-8990 [5000] & test 8991-8991 [1]\n",
      "(65) train : 3992-8991 [5000] & test 8992-8992 [1]\n",
      "(66) train : 3993-8992 [5000] & test 8993-8993 [1]\n",
      "(67) train : 3994-8993 [5000] & test 8994-8994 [1]\n",
      "(68) train : 3995-8994 [5000] & test 8995-8995 [1]\n",
      "(69) train : 3996-8995 [5000] & test 8996-8996 [1]\n",
      "(70) train : 3997-8996 [5000] & test 8997-8997 [1]\n",
      "(71) train : 3998-8997 [5000] & test 8998-8998 [1]\n",
      "(72) train : 3999-8998 [5000] & test 8999-8999 [1]\n",
      "(73) train : 4000-8999 [5000] & test 9000-9000 [1]\n",
      "(74) train : 4001-9000 [5000] & test 9001-9001 [1]\n",
      "(75) train : 4002-9001 [5000] & test 9002-9002 [1]\n",
      "(76) train : 4003-9002 [5000] & test 9003-9003 [1]\n",
      "(77) train : 4004-9003 [5000] & test 9004-9004 [1]\n",
      "(78) train : 4005-9004 [5000] & test 9005-9005 [1]\n",
      "(79) train : 4006-9005 [5000] & test 9006-9006 [1]\n",
      "(80) train : 4007-9006 [5000] & test 9007-9007 [1]\n",
      "(81) train : 4008-9007 [5000] & test 9008-9008 [1]\n",
      "(82) train : 4009-9008 [5000] & test 9009-9009 [1]\n",
      "(83) train : 4010-9009 [5000] & test 9010-9010 [1]\n",
      "(84) train : 4011-9010 [5000] & test 9011-9011 [1]\n",
      "(85) train : 4012-9011 [5000] & test 9012-9012 [1]\n",
      "(86) train : 4013-9012 [5000] & test 9013-9013 [1]\n",
      "(87) train : 4014-9013 [5000] & test 9014-9014 [1]\n",
      "(88) train : 4015-9014 [5000] & test 9015-9015 [1]\n",
      "(89) train : 4016-9015 [5000] & test 9016-9016 [1]\n",
      "(90) train : 4017-9016 [5000] & test 9017-9017 [1]\n",
      "(91) train : 4018-9017 [5000] & test 9018-9018 [1]\n",
      "(92) train : 4019-9018 [5000] & test 9019-9019 [1]\n",
      "(93) train : 4020-9019 [5000] & test 9020-9020 [1]\n",
      "(94) train : 4021-9020 [5000] & test 9021-9021 [1]\n",
      "(95) train : 4022-9021 [5000] & test 9022-9022 [1]\n",
      "(96) train : 4023-9022 [5000] & test 9023-9023 [1]\n",
      "(97) train : 4024-9023 [5000] & test 9024-9024 [1]\n",
      "(98) train : 4025-9024 [5000] & test 9025-9025 [1]\n",
      "(99) train : 4026-9025 [5000] & test 9026-9026 [1]\n",
      "(100) train : 4027-9026 [5000] & test 9027-9027 [1]\n",
      "(101) train : 4028-9027 [5000] & test 9028-9028 [1]\n",
      "(102) train : 4029-9028 [5000] & test 9029-9029 [1]\n",
      "(103) train : 4030-9029 [5000] & test 9030-9030 [1]\n",
      "(104) train : 4031-9030 [5000] & test 9031-9031 [1]\n",
      "(105) train : 4032-9031 [5000] & test 9032-9032 [1]\n",
      "(106) train : 4033-9032 [5000] & test 9033-9033 [1]\n",
      "(107) train : 4034-9033 [5000] & test 9034-9034 [1]\n",
      "(108) train : 4035-9034 [5000] & test 9035-9035 [1]\n",
      "(109) train : 4036-9035 [5000] & test 9036-9036 [1]\n",
      "(110) train : 4037-9036 [5000] & test 9037-9037 [1]\n",
      "(111) train : 4038-9037 [5000] & test 9038-9038 [1]\n",
      "(112) train : 4039-9038 [5000] & test 9039-9039 [1]\n",
      "(113) train : 4040-9039 [5000] & test 9040-9040 [1]\n",
      "(114) train : 4041-9040 [5000] & test 9041-9041 [1]\n",
      "(115) train : 4042-9041 [5000] & test 9042-9042 [1]\n",
      "(116) train : 4043-9042 [5000] & test 9043-9043 [1]\n",
      "(117) train : 4044-9043 [5000] & test 9044-9044 [1]\n",
      "(118) train : 4045-9044 [5000] & test 9045-9045 [1]\n",
      "(119) train : 4046-9045 [5000] & test 9046-9046 [1]\n",
      "(120) train : 4047-9046 [5000] & test 9047-9047 [1]\n",
      "(121) train : 4048-9047 [5000] & test 9048-9048 [1]\n",
      "(122) train : 4049-9048 [5000] & test 9049-9049 [1]\n",
      "(123) train : 4050-9049 [5000] & test 9050-9050 [1]\n",
      "(124) train : 4051-9050 [5000] & test 9051-9051 [1]\n",
      "(125) train : 4052-9051 [5000] & test 9052-9052 [1]\n",
      "(126) train : 4053-9052 [5000] & test 9053-9053 [1]\n",
      "(127) train : 4054-9053 [5000] & test 9054-9054 [1]\n",
      "(128) train : 4055-9054 [5000] & test 9055-9055 [1]\n",
      "(129) train : 4056-9055 [5000] & test 9056-9056 [1]\n",
      "(130) train : 4057-9056 [5000] & test 9057-9057 [1]\n",
      "(131) train : 4058-9057 [5000] & test 9058-9058 [1]\n",
      "(132) train : 4059-9058 [5000] & test 9059-9059 [1]\n",
      "(133) train : 4060-9059 [5000] & test 9060-9060 [1]\n",
      "(134) train : 4061-9060 [5000] & test 9061-9061 [1]\n",
      "(135) train : 4062-9061 [5000] & test 9062-9062 [1]\n",
      "(136) train : 4063-9062 [5000] & test 9063-9063 [1]\n",
      "(137) train : 4064-9063 [5000] & test 9064-9064 [1]\n",
      "(138) train : 4065-9064 [5000] & test 9065-9065 [1]\n",
      "(139) train : 4066-9065 [5000] & test 9066-9066 [1]\n",
      "(140) train : 4067-9066 [5000] & test 9067-9067 [1]\n",
      "(141) train : 4068-9067 [5000] & test 9068-9068 [1]\n",
      "(142) train : 4069-9068 [5000] & test 9069-9069 [1]\n",
      "(143) train : 4070-9069 [5000] & test 9070-9070 [1]\n",
      "(144) train : 4071-9070 [5000] & test 9071-9071 [1]\n",
      "(145) train : 4072-9071 [5000] & test 9072-9072 [1]\n",
      "(146) train : 4073-9072 [5000] & test 9073-9073 [1]\n",
      "(147) train : 4074-9073 [5000] & test 9074-9074 [1]\n",
      "(148) train : 4075-9074 [5000] & test 9075-9075 [1]\n",
      "(149) train : 4076-9075 [5000] & test 9076-9076 [1]\n",
      "(150) train : 4077-9076 [5000] & test 9077-9077 [1]\n",
      "(151) train : 4078-9077 [5000] & test 9078-9078 [1]\n",
      "(152) train : 4079-9078 [5000] & test 9079-9079 [1]\n",
      "(153) train : 4080-9079 [5000] & test 9080-9080 [1]\n",
      "(154) train : 4081-9080 [5000] & test 9081-9081 [1]\n",
      "(155) train : 4082-9081 [5000] & test 9082-9082 [1]\n",
      "(156) train : 4083-9082 [5000] & test 9083-9083 [1]\n",
      "(157) train : 4084-9083 [5000] & test 9084-9084 [1]\n",
      "(158) train : 4085-9084 [5000] & test 9085-9085 [1]\n",
      "(159) train : 4086-9085 [5000] & test 9086-9086 [1]\n",
      "(160) train : 4087-9086 [5000] & test 9087-9087 [1]\n",
      "(161) train : 4088-9087 [5000] & test 9088-9088 [1]\n",
      "(162) train : 4089-9088 [5000] & test 9089-9089 [1]\n",
      "(163) train : 4090-9089 [5000] & test 9090-9090 [1]\n",
      "(164) train : 4091-9090 [5000] & test 9091-9091 [1]\n",
      "(165) train : 4092-9091 [5000] & test 9092-9092 [1]\n",
      "(166) train : 4093-9092 [5000] & test 9093-9093 [1]\n",
      "(167) train : 4094-9093 [5000] & test 9094-9094 [1]\n",
      "(168) train : 4095-9094 [5000] & test 9095-9095 [1]\n",
      "(169) train : 4096-9095 [5000] & test 9096-9096 [1]\n",
      "(170) train : 4097-9096 [5000] & test 9097-9097 [1]\n",
      "(171) train : 4098-9097 [5000] & test 9098-9098 [1]\n",
      "(172) train : 4099-9098 [5000] & test 9099-9099 [1]\n",
      "(173) train : 4100-9099 [5000] & test 9100-9100 [1]\n",
      "(174) train : 4101-9100 [5000] & test 9101-9101 [1]\n",
      "(175) train : 4102-9101 [5000] & test 9102-9102 [1]\n",
      "(176) train : 4103-9102 [5000] & test 9103-9103 [1]\n",
      "(177) train : 4104-9103 [5000] & test 9104-9104 [1]\n",
      "(178) train : 4105-9104 [5000] & test 9105-9105 [1]\n",
      "(179) train : 4106-9105 [5000] & test 9106-9106 [1]\n",
      "(180) train : 4107-9106 [5000] & test 9107-9107 [1]\n",
      "(181) train : 4108-9107 [5000] & test 9108-9108 [1]\n",
      "(182) train : 4109-9108 [5000] & test 9109-9109 [1]\n",
      "(183) train : 4110-9109 [5000] & test 9110-9110 [1]\n",
      "(184) train : 4111-9110 [5000] & test 9111-9111 [1]\n",
      "(185) train : 4112-9111 [5000] & test 9112-9112 [1]\n",
      "(186) train : 4113-9112 [5000] & test 9113-9113 [1]\n",
      "(187) train : 4114-9113 [5000] & test 9114-9114 [1]\n",
      "(188) train : 4115-9114 [5000] & test 9115-9115 [1]\n",
      "(189) train : 4116-9115 [5000] & test 9116-9116 [1]\n",
      "(190) train : 4117-9116 [5000] & test 9117-9117 [1]\n",
      "(191) train : 4118-9117 [5000] & test 9118-9118 [1]\n",
      "(192) train : 4119-9118 [5000] & test 9119-9119 [1]\n",
      "(193) train : 4120-9119 [5000] & test 9120-9120 [1]\n",
      "(194) train : 4121-9120 [5000] & test 9121-9121 [1]\n",
      "(195) train : 4122-9121 [5000] & test 9122-9122 [1]\n",
      "(196) train : 4123-9122 [5000] & test 9123-9123 [1]\n",
      "(197) train : 4124-9123 [5000] & test 9124-9124 [1]\n",
      "(198) train : 4125-9124 [5000] & test 9125-9125 [1]\n",
      "(199) train : 4126-9125 [5000] & test 9126-9126 [1]\n",
      "(200) train : 4127-9126 [5000] & test 9127-9127 [1]\n",
      "(201) train : 4128-9127 [5000] & test 9128-9128 [1]\n",
      "(202) train : 4129-9128 [5000] & test 9129-9129 [1]\n",
      "(203) train : 4130-9129 [5000] & test 9130-9130 [1]\n",
      "(204) train : 4131-9130 [5000] & test 9131-9131 [1]\n",
      "(205) train : 4132-9131 [5000] & test 9132-9132 [1]\n",
      "(206) train : 4133-9132 [5000] & test 9133-9133 [1]\n",
      "(207) train : 4134-9133 [5000] & test 9134-9134 [1]\n",
      "(208) train : 4135-9134 [5000] & test 9135-9135 [1]\n",
      "(209) train : 4136-9135 [5000] & test 9136-9136 [1]\n",
      "(210) train : 4137-9136 [5000] & test 9137-9137 [1]\n",
      "(211) train : 4138-9137 [5000] & test 9138-9138 [1]\n",
      "(212) train : 4139-9138 [5000] & test 9139-9139 [1]\n",
      "(213) train : 4140-9139 [5000] & test 9140-9140 [1]\n",
      "(214) train : 4141-9140 [5000] & test 9141-9141 [1]\n",
      "(215) train : 4142-9141 [5000] & test 9142-9142 [1]\n",
      "(216) train : 4143-9142 [5000] & test 9143-9143 [1]\n",
      "(217) train : 4144-9143 [5000] & test 9144-9144 [1]\n",
      "(218) train : 4145-9144 [5000] & test 9145-9145 [1]\n",
      "(219) train : 4146-9145 [5000] & test 9146-9146 [1]\n",
      "(220) train : 4147-9146 [5000] & test 9147-9147 [1]\n",
      "(221) train : 4148-9147 [5000] & test 9148-9148 [1]\n",
      "(222) train : 4149-9148 [5000] & test 9149-9149 [1]\n",
      "(223) train : 4150-9149 [5000] & test 9150-9150 [1]\n",
      "(224) train : 4151-9150 [5000] & test 9151-9151 [1]\n",
      "(225) train : 4152-9151 [5000] & test 9152-9152 [1]\n",
      "(226) train : 4153-9152 [5000] & test 9153-9153 [1]\n",
      "(227) train : 4154-9153 [5000] & test 9154-9154 [1]\n",
      "(228) train : 4155-9154 [5000] & test 9155-9155 [1]\n",
      "(229) train : 4156-9155 [5000] & test 9156-9156 [1]\n",
      "(230) train : 4157-9156 [5000] & test 9157-9157 [1]\n",
      "(231) train : 4158-9157 [5000] & test 9158-9158 [1]\n",
      "(232) train : 4159-9158 [5000] & test 9159-9159 [1]\n",
      "(233) train : 4160-9159 [5000] & test 9160-9160 [1]\n",
      "(234) train : 4161-9160 [5000] & test 9161-9161 [1]\n",
      "(235) train : 4162-9161 [5000] & test 9162-9162 [1]\n"
     ]
    },
    {
     "name": "stdout",
     "output_type": "stream",
     "text": [
      "(236) train : 4163-9162 [5000] & test 9163-9163 [1]\n",
      "(237) train : 4164-9163 [5000] & test 9164-9164 [1]\n",
      "(238) train : 4165-9164 [5000] & test 9165-9165 [1]\n",
      "(239) train : 4166-9165 [5000] & test 9166-9166 [1]\n",
      "(240) train : 4167-9166 [5000] & test 9167-9167 [1]\n",
      "(241) train : 4168-9167 [5000] & test 9168-9168 [1]\n",
      "(242) train : 4169-9168 [5000] & test 9169-9169 [1]\n",
      "(243) train : 4170-9169 [5000] & test 9170-9170 [1]\n",
      "(244) train : 4171-9170 [5000] & test 9171-9171 [1]\n",
      "(245) train : 4172-9171 [5000] & test 9172-9172 [1]\n",
      "(246) train : 4173-9172 [5000] & test 9173-9173 [1]\n",
      "(247) train : 4174-9173 [5000] & test 9174-9174 [1]\n",
      "(248) train : 4175-9174 [5000] & test 9175-9175 [1]\n",
      "(249) train : 4176-9175 [5000] & test 9176-9176 [1]\n",
      "(250) train : 4177-9176 [5000] & test 9177-9177 [1]\n",
      "(251) train : 4178-9177 [5000] & test 9178-9178 [1]\n",
      "(252) train : 4179-9178 [5000] & test 9179-9179 [1]\n",
      "(253) train : 4180-9179 [5000] & test 9180-9180 [1]\n",
      "(254) train : 4181-9180 [5000] & test 9181-9181 [1]\n",
      "(255) train : 4182-9181 [5000] & test 9182-9182 [1]\n",
      "(256) train : 4183-9182 [5000] & test 9183-9183 [1]\n",
      "(257) train : 4184-9183 [5000] & test 9184-9184 [1]\n",
      "(258) train : 4185-9184 [5000] & test 9185-9185 [1]\n",
      "(259) train : 4186-9185 [5000] & test 9186-9186 [1]\n",
      "(260) train : 4187-9186 [5000] & test 9187-9187 [1]\n",
      "(261) train : 4188-9187 [5000] & test 9188-9188 [1]\n",
      "(262) train : 4189-9188 [5000] & test 9189-9189 [1]\n",
      "(263) train : 4190-9189 [5000] & test 9190-9190 [1]\n",
      "(264) train : 4191-9190 [5000] & test 9191-9191 [1]\n",
      "(265) train : 4192-9191 [5000] & test 9192-9192 [1]\n",
      "(266) train : 4193-9192 [5000] & test 9193-9193 [1]\n",
      "(267) train : 4194-9193 [5000] & test 9194-9194 [1]\n",
      "(268) train : 4195-9194 [5000] & test 9195-9195 [1]\n",
      "(269) train : 4196-9195 [5000] & test 9196-9196 [1]\n",
      "(270) train : 4197-9196 [5000] & test 9197-9197 [1]\n",
      "(271) train : 4198-9197 [5000] & test 9198-9198 [1]\n",
      "(272) train : 4199-9198 [5000] & test 9199-9199 [1]\n",
      "(273) train : 4200-9199 [5000] & test 9200-9200 [1]\n",
      "(274) train : 4201-9200 [5000] & test 9201-9201 [1]\n",
      "(275) train : 4202-9201 [5000] & test 9202-9202 [1]\n",
      "(276) train : 4203-9202 [5000] & test 9203-9203 [1]\n",
      "(277) train : 4204-9203 [5000] & test 9204-9204 [1]\n",
      "(278) train : 4205-9204 [5000] & test 9205-9205 [1]\n",
      "(279) train : 4206-9205 [5000] & test 9206-9206 [1]\n",
      "(280) train : 4207-9206 [5000] & test 9207-9207 [1]\n",
      "(281) train : 4208-9207 [5000] & test 9208-9208 [1]\n",
      "(282) train : 4209-9208 [5000] & test 9209-9209 [1]\n",
      "(283) train : 4210-9209 [5000] & test 9210-9210 [1]\n",
      "(284) train : 4211-9210 [5000] & test 9211-9211 [1]\n",
      "(285) train : 4212-9211 [5000] & test 9212-9212 [1]\n",
      "(286) train : 4213-9212 [5000] & test 9213-9213 [1]\n",
      "(287) train : 4214-9213 [5000] & test 9214-9214 [1]\n",
      "(288) train : 4215-9214 [5000] & test 9215-9215 [1]\n",
      "(289) train : 4216-9215 [5000] & test 9216-9216 [1]\n",
      "(290) train : 4217-9216 [5000] & test 9217-9217 [1]\n",
      "(291) train : 4218-9217 [5000] & test 9218-9218 [1]\n",
      "(292) train : 4219-9218 [5000] & test 9219-9219 [1]\n",
      "(293) train : 4220-9219 [5000] & test 9220-9220 [1]\n",
      "(294) train : 4221-9220 [5000] & test 9221-9221 [1]\n",
      "(295) train : 4222-9221 [5000] & test 9222-9222 [1]\n",
      "(296) train : 4223-9222 [5000] & test 9223-9223 [1]\n",
      "(297) train : 4224-9223 [5000] & test 9224-9224 [1]\n",
      "(298) train : 4225-9224 [5000] & test 9225-9225 [1]\n",
      "(299) train : 4226-9225 [5000] & test 9226-9226 [1]\n",
      "(300) train : 4227-9226 [5000] & test 9227-9227 [1]\n",
      "(301) train : 4228-9227 [5000] & test 9228-9228 [1]\n",
      "(302) train : 4229-9228 [5000] & test 9229-9229 [1]\n",
      "(303) train : 4230-9229 [5000] & test 9230-9230 [1]\n",
      "(304) train : 4231-9230 [5000] & test 9231-9231 [1]\n",
      "(305) train : 4232-9231 [5000] & test 9232-9232 [1]\n",
      "(306) train : 4233-9232 [5000] & test 9233-9233 [1]\n",
      "(307) train : 4234-9233 [5000] & test 9234-9234 [1]\n",
      "(308) train : 4235-9234 [5000] & test 9235-9235 [1]\n",
      "(309) train : 4236-9235 [5000] & test 9236-9236 [1]\n",
      "(310) train : 4237-9236 [5000] & test 9237-9237 [1]\n",
      "(311) train : 4238-9237 [5000] & test 9238-9238 [1]\n",
      "(312) train : 4239-9238 [5000] & test 9239-9239 [1]\n",
      "(313) train : 4240-9239 [5000] & test 9240-9240 [1]\n",
      "(314) train : 4241-9240 [5000] & test 9241-9241 [1]\n",
      "(315) train : 4242-9241 [5000] & test 9242-9242 [1]\n",
      "(316) train : 4243-9242 [5000] & test 9243-9243 [1]\n",
      "(317) train : 4244-9243 [5000] & test 9244-9244 [1]\n",
      "(318) train : 4245-9244 [5000] & test 9245-9245 [1]\n",
      "(319) train : 4246-9245 [5000] & test 9246-9246 [1]\n",
      "(320) train : 4247-9246 [5000] & test 9247-9247 [1]\n",
      "(321) train : 4248-9247 [5000] & test 9248-9248 [1]\n",
      "(322) train : 4249-9248 [5000] & test 9249-9249 [1]\n",
      "(323) train : 4250-9249 [5000] & test 9250-9250 [1]\n",
      "(324) train : 4251-9250 [5000] & test 9251-9251 [1]\n",
      "(325) train : 4252-9251 [5000] & test 9252-9252 [1]\n",
      "(326) train : 4253-9252 [5000] & test 9253-9253 [1]\n",
      "(327) train : 4254-9253 [5000] & test 9254-9254 [1]\n",
      "(328) train : 4255-9254 [5000] & test 9255-9255 [1]\n",
      "(329) train : 4256-9255 [5000] & test 9256-9256 [1]\n",
      "(330) train : 4257-9256 [5000] & test 9257-9257 [1]\n",
      "(331) train : 4258-9257 [5000] & test 9258-9258 [1]\n",
      "(332) train : 4259-9258 [5000] & test 9259-9259 [1]\n",
      "(333) train : 4260-9259 [5000] & test 9260-9260 [1]\n",
      "(334) train : 4261-9260 [5000] & test 9261-9261 [1]\n",
      "(335) train : 4262-9261 [5000] & test 9262-9262 [1]\n",
      "(336) train : 4263-9262 [5000] & test 9263-9263 [1]\n",
      "(337) train : 4264-9263 [5000] & test 9264-9264 [1]\n",
      "(338) train : 4265-9264 [5000] & test 9265-9265 [1]\n",
      "(339) train : 4266-9265 [5000] & test 9266-9266 [1]\n",
      "(340) train : 4267-9266 [5000] & test 9267-9267 [1]\n",
      "(341) train : 4268-9267 [5000] & test 9268-9268 [1]\n",
      "(342) train : 4269-9268 [5000] & test 9269-9269 [1]\n",
      "(343) train : 4270-9269 [5000] & test 9270-9270 [1]\n",
      "(344) train : 4271-9270 [5000] & test 9271-9271 [1]\n",
      "(345) train : 4272-9271 [5000] & test 9272-9272 [1]\n",
      "(346) train : 4273-9272 [5000] & test 9273-9273 [1]\n",
      "(347) train : 4274-9273 [5000] & test 9274-9274 [1]\n",
      "(348) train : 4275-9274 [5000] & test 9275-9275 [1]\n",
      "(349) train : 4276-9275 [5000] & test 9276-9276 [1]\n",
      "(350) train : 4277-9276 [5000] & test 9277-9277 [1]\n",
      "(351) train : 4278-9277 [5000] & test 9278-9278 [1]\n",
      "(352) train : 4279-9278 [5000] & test 9279-9279 [1]\n",
      "(353) train : 4280-9279 [5000] & test 9280-9280 [1]\n",
      "(354) train : 4281-9280 [5000] & test 9281-9281 [1]\n",
      "(355) train : 4282-9281 [5000] & test 9282-9282 [1]\n",
      "(356) train : 4283-9282 [5000] & test 9283-9283 [1]\n",
      "(357) train : 4284-9283 [5000] & test 9284-9284 [1]\n",
      "(358) train : 4285-9284 [5000] & test 9285-9285 [1]\n",
      "(359) train : 4286-9285 [5000] & test 9286-9286 [1]\n",
      "(360) train : 4287-9286 [5000] & test 9287-9287 [1]\n",
      "(361) train : 4288-9287 [5000] & test 9288-9288 [1]\n",
      "(362) train : 4289-9288 [5000] & test 9289-9289 [1]\n",
      "(363) train : 4290-9289 [5000] & test 9290-9290 [1]\n",
      "(364) train : 4291-9290 [5000] & test 9291-9291 [1]\n",
      "(365) train : 4292-9291 [5000] & test 9292-9292 [1]\n",
      "(366) train : 4293-9292 [5000] & test 9293-9293 [1]\n",
      "(367) train : 4294-9293 [5000] & test 9294-9294 [1]\n",
      "(368) train : 4295-9294 [5000] & test 9295-9295 [1]\n",
      "(369) train : 4296-9295 [5000] & test 9296-9296 [1]\n",
      "(370) train : 4297-9296 [5000] & test 9297-9297 [1]\n",
      "(371) train : 4298-9297 [5000] & test 9298-9298 [1]\n",
      "(372) train : 4299-9298 [5000] & test 9299-9299 [1]\n",
      "(373) train : 4300-9299 [5000] & test 9300-9300 [1]\n",
      "(374) train : 4301-9300 [5000] & test 9301-9301 [1]\n",
      "(375) train : 4302-9301 [5000] & test 9302-9302 [1]\n",
      "(376) train : 4303-9302 [5000] & test 9303-9303 [1]\n",
      "(377) train : 4304-9303 [5000] & test 9304-9304 [1]\n",
      "(378) train : 4305-9304 [5000] & test 9305-9305 [1]\n",
      "(379) train : 4306-9305 [5000] & test 9306-9306 [1]\n",
      "(380) train : 4307-9306 [5000] & test 9307-9307 [1]\n",
      "(381) train : 4308-9307 [5000] & test 9308-9308 [1]\n",
      "(382) train : 4309-9308 [5000] & test 9309-9309 [1]\n",
      "(383) train : 4310-9309 [5000] & test 9310-9310 [1]\n",
      "(384) train : 4311-9310 [5000] & test 9311-9311 [1]\n",
      "(385) train : 4312-9311 [5000] & test 9312-9312 [1]\n",
      "(386) train : 4313-9312 [5000] & test 9313-9313 [1]\n",
      "(387) train : 4314-9313 [5000] & test 9314-9314 [1]\n",
      "(388) train : 4315-9314 [5000] & test 9315-9315 [1]\n",
      "(389) train : 4316-9315 [5000] & test 9316-9316 [1]\n",
      "(390) train : 4317-9316 [5000] & test 9317-9317 [1]\n",
      "(391) train : 4318-9317 [5000] & test 9318-9318 [1]\n",
      "(392) train : 4319-9318 [5000] & test 9319-9319 [1]\n",
      "(393) train : 4320-9319 [5000] & test 9320-9320 [1]\n",
      "(394) train : 4321-9320 [5000] & test 9321-9321 [1]\n",
      "(395) train : 4322-9321 [5000] & test 9322-9322 [1]\n",
      "(396) train : 4323-9322 [5000] & test 9323-9323 [1]\n",
      "(397) train : 4324-9323 [5000] & test 9324-9324 [1]\n",
      "(398) train : 4325-9324 [5000] & test 9325-9325 [1]\n",
      "(399) train : 4326-9325 [5000] & test 9326-9326 [1]\n",
      "(400) train : 4327-9326 [5000] & test 9327-9327 [1]\n",
      "(401) train : 4328-9327 [5000] & test 9328-9328 [1]\n",
      "(402) train : 4329-9328 [5000] & test 9329-9329 [1]\n",
      "(403) train : 4330-9329 [5000] & test 9330-9330 [1]\n",
      "(404) train : 4331-9330 [5000] & test 9331-9331 [1]\n",
      "(405) train : 4332-9331 [5000] & test 9332-9332 [1]\n",
      "(406) train : 4333-9332 [5000] & test 9333-9333 [1]\n",
      "(407) train : 4334-9333 [5000] & test 9334-9334 [1]\n",
      "(408) train : 4335-9334 [5000] & test 9335-9335 [1]\n",
      "(409) train : 4336-9335 [5000] & test 9336-9336 [1]\n",
      "(410) train : 4337-9336 [5000] & test 9337-9337 [1]\n",
      "(411) train : 4338-9337 [5000] & test 9338-9338 [1]\n",
      "(412) train : 4339-9338 [5000] & test 9339-9339 [1]\n",
      "(413) train : 4340-9339 [5000] & test 9340-9340 [1]\n",
      "(414) train : 4341-9340 [5000] & test 9341-9341 [1]\n",
      "(415) train : 4342-9341 [5000] & test 9342-9342 [1]\n",
      "(416) train : 4343-9342 [5000] & test 9343-9343 [1]\n",
      "(417) train : 4344-9343 [5000] & test 9344-9344 [1]\n",
      "(418) train : 4345-9344 [5000] & test 9345-9345 [1]\n",
      "(419) train : 4346-9345 [5000] & test 9346-9346 [1]\n",
      "(420) train : 4347-9346 [5000] & test 9347-9347 [1]\n",
      "(421) train : 4348-9347 [5000] & test 9348-9348 [1]\n",
      "(422) train : 4349-9348 [5000] & test 9349-9349 [1]\n",
      "(423) train : 4350-9349 [5000] & test 9350-9350 [1]\n",
      "(424) train : 4351-9350 [5000] & test 9351-9351 [1]\n",
      "(425) train : 4352-9351 [5000] & test 9352-9352 [1]\n",
      "(426) train : 4353-9352 [5000] & test 9353-9353 [1]\n",
      "(427) train : 4354-9353 [5000] & test 9354-9354 [1]\n",
      "(428) train : 4355-9354 [5000] & test 9355-9355 [1]\n",
      "(429) train : 4356-9355 [5000] & test 9356-9356 [1]\n",
      "(430) train : 4357-9356 [5000] & test 9357-9357 [1]\n",
      "(431) train : 4358-9357 [5000] & test 9358-9358 [1]\n",
      "(432) train : 4359-9358 [5000] & test 9359-9359 [1]\n",
      "(433) train : 4360-9359 [5000] & test 9360-9360 [1]\n",
      "(434) train : 4361-9360 [5000] & test 9361-9361 [1]\n",
      "(435) train : 4362-9361 [5000] & test 9362-9362 [1]\n",
      "(436) train : 4363-9362 [5000] & test 9363-9363 [1]\n",
      "(437) train : 4364-9363 [5000] & test 9364-9364 [1]\n",
      "(438) train : 4365-9364 [5000] & test 9365-9365 [1]\n",
      "(439) train : 4366-9365 [5000] & test 9366-9366 [1]\n",
      "(440) train : 4367-9366 [5000] & test 9367-9367 [1]\n",
      "(441) train : 4368-9367 [5000] & test 9368-9368 [1]\n",
      "(442) train : 4369-9368 [5000] & test 9369-9369 [1]\n",
      "(443) train : 4370-9369 [5000] & test 9370-9370 [1]\n",
      "(444) train : 4371-9370 [5000] & test 9371-9371 [1]\n",
      "(445) train : 4372-9371 [5000] & test 9372-9372 [1]\n",
      "(446) train : 4373-9372 [5000] & test 9373-9373 [1]\n",
      "(447) train : 4374-9373 [5000] & test 9374-9374 [1]\n",
      "(448) train : 4375-9374 [5000] & test 9375-9375 [1]\n",
      "(449) train : 4376-9375 [5000] & test 9376-9376 [1]\n",
      "(450) train : 4377-9376 [5000] & test 9377-9377 [1]\n",
      "(451) train : 4378-9377 [5000] & test 9378-9378 [1]\n",
      "(452) train : 4379-9378 [5000] & test 9379-9379 [1]\n",
      "(453) train : 4380-9379 [5000] & test 9380-9380 [1]\n",
      "(454) train : 4381-9380 [5000] & test 9381-9381 [1]\n",
      "(455) train : 4382-9381 [5000] & test 9382-9382 [1]\n",
      "(456) train : 4383-9382 [5000] & test 9383-9383 [1]\n",
      "(457) train : 4384-9383 [5000] & test 9384-9384 [1]\n",
      "(458) train : 4385-9384 [5000] & test 9385-9385 [1]\n",
      "(459) train : 4386-9385 [5000] & test 9386-9386 [1]\n",
      "(460) train : 4387-9386 [5000] & test 9387-9387 [1]\n",
      "(461) train : 4388-9387 [5000] & test 9388-9388 [1]\n",
      "(462) train : 4389-9388 [5000] & test 9389-9389 [1]\n",
      "(463) train : 4390-9389 [5000] & test 9390-9390 [1]\n",
      "(464) train : 4391-9390 [5000] & test 9391-9391 [1]\n",
      "(465) train : 4392-9391 [5000] & test 9392-9392 [1]\n",
      "(466) train : 4393-9392 [5000] & test 9393-9393 [1]\n",
      "(467) train : 4394-9393 [5000] & test 9394-9394 [1]\n",
      "(468) train : 4395-9394 [5000] & test 9395-9395 [1]\n",
      "(469) train : 4396-9395 [5000] & test 9396-9396 [1]\n",
      "(470) train : 4397-9396 [5000] & test 9397-9397 [1]\n",
      "(471) train : 4398-9397 [5000] & test 9398-9398 [1]\n",
      "(472) train : 4399-9398 [5000] & test 9399-9399 [1]\n",
      "(473) train : 4400-9399 [5000] & test 9400-9400 [1]\n",
      "(474) train : 4401-9400 [5000] & test 9401-9401 [1]\n",
      "(475) train : 4402-9401 [5000] & test 9402-9402 [1]\n",
      "(476) train : 4403-9402 [5000] & test 9403-9403 [1]\n",
      "(477) train : 4404-9403 [5000] & test 9404-9404 [1]\n",
      "(478) train : 4405-9404 [5000] & test 9405-9405 [1]\n",
      "(479) train : 4406-9405 [5000] & test 9406-9406 [1]\n",
      "(480) train : 4407-9406 [5000] & test 9407-9407 [1]\n",
      "(481) train : 4408-9407 [5000] & test 9408-9408 [1]\n",
      "(482) train : 4409-9408 [5000] & test 9409-9409 [1]\n",
      "(483) train : 4410-9409 [5000] & test 9410-9410 [1]\n",
      "(484) train : 4411-9410 [5000] & test 9411-9411 [1]\n",
      "(485) train : 4412-9411 [5000] & test 9412-9412 [1]\n",
      "(486) train : 4413-9412 [5000] & test 9413-9413 [1]\n",
      "(487) train : 4414-9413 [5000] & test 9414-9414 [1]\n",
      "(488) train : 4415-9414 [5000] & test 9415-9415 [1]\n",
      "(489) train : 4416-9415 [5000] & test 9416-9416 [1]\n",
      "(490) train : 4417-9416 [5000] & test 9417-9417 [1]\n",
      "(491) train : 4418-9417 [5000] & test 9418-9418 [1]\n",
      "(492) train : 4419-9418 [5000] & test 9419-9419 [1]\n",
      "(493) train : 4420-9419 [5000] & test 9420-9420 [1]\n",
      "(494) train : 4421-9420 [5000] & test 9421-9421 [1]\n",
      "(495) train : 4422-9421 [5000] & test 9422-9422 [1]\n",
      "(496) train : 4423-9422 [5000] & test 9423-9423 [1]\n",
      "(497) train : 4424-9423 [5000] & test 9424-9424 [1]\n",
      "(498) train : 4425-9424 [5000] & test 9425-9425 [1]\n",
      "(499) train : 4426-9425 [5000] & test 9426-9426 [1]\n",
      "(500) train : 4427-9426 [5000] & test 9427-9427 [1]\n",
      "(501) train : 4428-9427 [5000] & test 9428-9428 [1]\n",
      "(502) train : 4429-9428 [5000] & test 9429-9429 [1]\n"
     ]
    },
    {
     "name": "stdout",
     "output_type": "stream",
     "text": [
      "(503) train : 4430-9429 [5000] & test 9430-9430 [1]\n",
      "(504) train : 4431-9430 [5000] & test 9431-9431 [1]\n",
      "(505) train : 4432-9431 [5000] & test 9432-9432 [1]\n",
      "(506) train : 4433-9432 [5000] & test 9433-9433 [1]\n",
      "(507) train : 4434-9433 [5000] & test 9434-9434 [1]\n",
      "(508) train : 4435-9434 [5000] & test 9435-9435 [1]\n",
      "(509) train : 4436-9435 [5000] & test 9436-9436 [1]\n",
      "(510) train : 4437-9436 [5000] & test 9437-9437 [1]\n",
      "(511) train : 4438-9437 [5000] & test 9438-9438 [1]\n",
      "(512) train : 4439-9438 [5000] & test 9439-9439 [1]\n",
      "(513) train : 4440-9439 [5000] & test 9440-9440 [1]\n",
      "(514) train : 4441-9440 [5000] & test 9441-9441 [1]\n",
      "(515) train : 4442-9441 [5000] & test 9442-9442 [1]\n",
      "(516) train : 4443-9442 [5000] & test 9443-9443 [1]\n",
      "(517) train : 4444-9443 [5000] & test 9444-9444 [1]\n",
      "(518) train : 4445-9444 [5000] & test 9445-9445 [1]\n",
      "(519) train : 4446-9445 [5000] & test 9446-9446 [1]\n",
      "(520) train : 4447-9446 [5000] & test 9447-9447 [1]\n",
      "(521) train : 4448-9447 [5000] & test 9448-9448 [1]\n",
      "(522) train : 4449-9448 [5000] & test 9449-9449 [1]\n",
      "(523) train : 4450-9449 [5000] & test 9450-9450 [1]\n",
      "(524) train : 4451-9450 [5000] & test 9451-9451 [1]\n",
      "(525) train : 4452-9451 [5000] & test 9452-9452 [1]\n",
      "(526) train : 4453-9452 [5000] & test 9453-9453 [1]\n",
      "(527) train : 4454-9453 [5000] & test 9454-9454 [1]\n",
      "(528) train : 4455-9454 [5000] & test 9455-9455 [1]\n",
      "(529) train : 4456-9455 [5000] & test 9456-9456 [1]\n",
      "(530) train : 4457-9456 [5000] & test 9457-9457 [1]\n",
      "(531) train : 4458-9457 [5000] & test 9458-9458 [1]\n",
      "(532) train : 4459-9458 [5000] & test 9459-9459 [1]\n",
      "(533) train : 4460-9459 [5000] & test 9460-9460 [1]\n",
      "(534) train : 4461-9460 [5000] & test 9461-9461 [1]\n",
      "(535) train : 4462-9461 [5000] & test 9462-9462 [1]\n",
      "(536) train : 4463-9462 [5000] & test 9463-9463 [1]\n",
      "(537) train : 4464-9463 [5000] & test 9464-9464 [1]\n",
      "(538) train : 4465-9464 [5000] & test 9465-9465 [1]\n",
      "(539) train : 4466-9465 [5000] & test 9466-9466 [1]\n",
      "(540) train : 4467-9466 [5000] & test 9467-9467 [1]\n",
      "(541) train : 4468-9467 [5000] & test 9468-9468 [1]\n",
      "(542) train : 4469-9468 [5000] & test 9469-9469 [1]\n",
      "(543) train : 4470-9469 [5000] & test 9470-9470 [1]\n",
      "(544) train : 4471-9470 [5000] & test 9471-9471 [1]\n",
      "(545) train : 4472-9471 [5000] & test 9472-9472 [1]\n",
      "(546) train : 4473-9472 [5000] & test 9473-9473 [1]\n",
      "(547) train : 4474-9473 [5000] & test 9474-9474 [1]\n",
      "(548) train : 4475-9474 [5000] & test 9475-9475 [1]\n",
      "(549) train : 4476-9475 [5000] & test 9476-9476 [1]\n",
      "(550) train : 4477-9476 [5000] & test 9477-9477 [1]\n",
      "(551) train : 4478-9477 [5000] & test 9478-9478 [1]\n",
      "(552) train : 4479-9478 [5000] & test 9479-9479 [1]\n",
      "(553) train : 4480-9479 [5000] & test 9480-9480 [1]\n",
      "(554) train : 4481-9480 [5000] & test 9481-9481 [1]\n",
      "(555) train : 4482-9481 [5000] & test 9482-9482 [1]\n",
      "(556) train : 4483-9482 [5000] & test 9483-9483 [1]\n",
      "(557) train : 4484-9483 [5000] & test 9484-9484 [1]\n",
      "(558) train : 4485-9484 [5000] & test 9485-9485 [1]\n",
      "(559) train : 4486-9485 [5000] & test 9486-9486 [1]\n",
      "(560) train : 4487-9486 [5000] & test 9487-9487 [1]\n",
      "(561) train : 4488-9487 [5000] & test 9488-9488 [1]\n",
      "(562) train : 4489-9488 [5000] & test 9489-9489 [1]\n",
      "(563) train : 4490-9489 [5000] & test 9490-9490 [1]\n",
      "(564) train : 4491-9490 [5000] & test 9491-9491 [1]\n",
      "(565) train : 4492-9491 [5000] & test 9492-9492 [1]\n",
      "(566) train : 4493-9492 [5000] & test 9493-9493 [1]\n",
      "(567) train : 4494-9493 [5000] & test 9494-9494 [1]\n",
      "(568) train : 4495-9494 [5000] & test 9495-9495 [1]\n",
      "(569) train : 4496-9495 [5000] & test 9496-9496 [1]\n",
      "(570) train : 4497-9496 [5000] & test 9497-9497 [1]\n",
      "(571) train : 4498-9497 [5000] & test 9498-9498 [1]\n",
      "(572) train : 4499-9498 [5000] & test 9499-9499 [1]\n",
      "(573) train : 4500-9499 [5000] & test 9500-9500 [1]\n",
      "(574) train : 4501-9500 [5000] & test 9501-9501 [1]\n",
      "(575) train : 4502-9501 [5000] & test 9502-9502 [1]\n",
      "(576) train : 4503-9502 [5000] & test 9503-9503 [1]\n",
      "(577) train : 4504-9503 [5000] & test 9504-9504 [1]\n",
      "(578) train : 4505-9504 [5000] & test 9505-9505 [1]\n",
      "(579) train : 4506-9505 [5000] & test 9506-9506 [1]\n",
      "(580) train : 4507-9506 [5000] & test 9507-9507 [1]\n",
      "(581) train : 4508-9507 [5000] & test 9508-9508 [1]\n",
      "(582) train : 4509-9508 [5000] & test 9509-9509 [1]\n",
      "(583) train : 4510-9509 [5000] & test 9510-9510 [1]\n",
      "(584) train : 4511-9510 [5000] & test 9511-9511 [1]\n",
      "(585) train : 4512-9511 [5000] & test 9512-9512 [1]\n",
      "(586) train : 4513-9512 [5000] & test 9513-9513 [1]\n",
      "(587) train : 4514-9513 [5000] & test 9514-9514 [1]\n",
      "(588) train : 4515-9514 [5000] & test 9515-9515 [1]\n",
      "(589) train : 4516-9515 [5000] & test 9516-9516 [1]\n",
      "(590) train : 4517-9516 [5000] & test 9517-9517 [1]\n",
      "(591) train : 4518-9517 [5000] & test 9518-9518 [1]\n",
      "(592) train : 4519-9518 [5000] & test 9519-9519 [1]\n",
      "(593) train : 4520-9519 [5000] & test 9520-9520 [1]\n",
      "(594) train : 4521-9520 [5000] & test 9521-9521 [1]\n",
      "(595) train : 4522-9521 [5000] & test 9522-9522 [1]\n",
      "(596) train : 4523-9522 [5000] & test 9523-9523 [1]\n",
      "(597) train : 4524-9523 [5000] & test 9524-9524 [1]\n",
      "(598) train : 4525-9524 [5000] & test 9525-9525 [1]\n",
      "(599) train : 4526-9525 [5000] & test 9526-9526 [1]\n",
      "(600) train : 4527-9526 [5000] & test 9527-9527 [1]\n",
      "(601) train : 4528-9527 [5000] & test 9528-9528 [1]\n",
      "(602) train : 4529-9528 [5000] & test 9529-9529 [1]\n",
      "(603) train : 4530-9529 [5000] & test 9530-9530 [1]\n",
      "(604) train : 4531-9530 [5000] & test 9531-9531 [1]\n",
      "(605) train : 4532-9531 [5000] & test 9532-9532 [1]\n",
      "(606) train : 4533-9532 [5000] & test 9533-9533 [1]\n",
      "(607) train : 4534-9533 [5000] & test 9534-9534 [1]\n",
      "(608) train : 4535-9534 [5000] & test 9535-9535 [1]\n",
      "(609) train : 4536-9535 [5000] & test 9536-9536 [1]\n",
      "(610) train : 4537-9536 [5000] & test 9537-9537 [1]\n",
      "(611) train : 4538-9537 [5000] & test 9538-9538 [1]\n",
      "(612) train : 4539-9538 [5000] & test 9539-9539 [1]\n",
      "(613) train : 4540-9539 [5000] & test 9540-9540 [1]\n",
      "(614) train : 4541-9540 [5000] & test 9541-9541 [1]\n",
      "(615) train : 4542-9541 [5000] & test 9542-9542 [1]\n",
      "(616) train : 4543-9542 [5000] & test 9543-9543 [1]\n",
      "(617) train : 4544-9543 [5000] & test 9544-9544 [1]\n",
      "(618) train : 4545-9544 [5000] & test 9545-9545 [1]\n",
      "(619) train : 4546-9545 [5000] & test 9546-9546 [1]\n",
      "(620) train : 4547-9546 [5000] & test 9547-9547 [1]\n",
      "(621) train : 4548-9547 [5000] & test 9548-9548 [1]\n",
      "(622) train : 4549-9548 [5000] & test 9549-9549 [1]\n",
      "(623) train : 4550-9549 [5000] & test 9550-9550 [1]\n",
      "(624) train : 4551-9550 [5000] & test 9551-9551 [1]\n",
      "(625) train : 4552-9551 [5000] & test 9552-9552 [1]\n",
      "(626) train : 4553-9552 [5000] & test 9553-9553 [1]\n",
      "(627) train : 4554-9553 [5000] & test 9554-9554 [1]\n",
      "(628) train : 4555-9554 [5000] & test 9555-9555 [1]\n",
      "(629) train : 4556-9555 [5000] & test 9556-9556 [1]\n",
      "(630) train : 4557-9556 [5000] & test 9557-9557 [1]\n",
      "(631) train : 4558-9557 [5000] & test 9558-9558 [1]\n",
      "(632) train : 4559-9558 [5000] & test 9559-9559 [1]\n",
      "(633) train : 4560-9559 [5000] & test 9560-9560 [1]\n",
      "(634) train : 4561-9560 [5000] & test 9561-9561 [1]\n",
      "(635) train : 4562-9561 [5000] & test 9562-9562 [1]\n",
      "(636) train : 4563-9562 [5000] & test 9563-9563 [1]\n",
      "(637) train : 4564-9563 [5000] & test 9564-9564 [1]\n",
      "(638) train : 4565-9564 [5000] & test 9565-9565 [1]\n",
      "(639) train : 4566-9565 [5000] & test 9566-9566 [1]\n",
      "(640) train : 4567-9566 [5000] & test 9567-9567 [1]\n",
      "(641) train : 4568-9567 [5000] & test 9568-9568 [1]\n",
      "(642) train : 4569-9568 [5000] & test 9569-9569 [1]\n",
      "(643) train : 4570-9569 [5000] & test 9570-9570 [1]\n",
      "(644) train : 4571-9570 [5000] & test 9571-9571 [1]\n",
      "(645) train : 4572-9571 [5000] & test 9572-9572 [1]\n",
      "(646) train : 4573-9572 [5000] & test 9573-9573 [1]\n",
      "(647) train : 4574-9573 [5000] & test 9574-9574 [1]\n",
      "(648) train : 4575-9574 [5000] & test 9575-9575 [1]\n",
      "(649) train : 4576-9575 [5000] & test 9576-9576 [1]\n",
      "(650) train : 4577-9576 [5000] & test 9577-9577 [1]\n",
      "(651) train : 4578-9577 [5000] & test 9578-9578 [1]\n",
      "(652) train : 4579-9578 [5000] & test 9579-9579 [1]\n",
      "(653) train : 4580-9579 [5000] & test 9580-9580 [1]\n",
      "(654) train : 4581-9580 [5000] & test 9581-9581 [1]\n",
      "(655) train : 4582-9581 [5000] & test 9582-9582 [1]\n",
      "(656) train : 4583-9582 [5000] & test 9583-9583 [1]\n",
      "(657) train : 4584-9583 [5000] & test 9584-9584 [1]\n",
      "(658) train : 4585-9584 [5000] & test 9585-9585 [1]\n",
      "(659) train : 4586-9585 [5000] & test 9586-9586 [1]\n",
      "(660) train : 4587-9586 [5000] & test 9587-9587 [1]\n",
      "(661) train : 4588-9587 [5000] & test 9588-9588 [1]\n",
      "(662) train : 4589-9588 [5000] & test 9589-9589 [1]\n",
      "(663) train : 4590-9589 [5000] & test 9590-9590 [1]\n",
      "(664) train : 4591-9590 [5000] & test 9591-9591 [1]\n",
      "(665) train : 4592-9591 [5000] & test 9592-9592 [1]\n",
      "(666) train : 4593-9592 [5000] & test 9593-9593 [1]\n",
      "(667) train : 4594-9593 [5000] & test 9594-9594 [1]\n",
      "(668) train : 4595-9594 [5000] & test 9595-9595 [1]\n",
      "(669) train : 4596-9595 [5000] & test 9596-9596 [1]\n",
      "(670) train : 4597-9596 [5000] & test 9597-9597 [1]\n",
      "(671) train : 4598-9597 [5000] & test 9598-9598 [1]\n",
      "(672) train : 4599-9598 [5000] & test 9599-9599 [1]\n"
     ]
    }
   ],
   "source": [
    "tscv = TimeSeriesCV(X,y,n_splits=24*7*4,test_size=1,max_train_size=5000,verbose=True)\n",
    "for xx in tscv:\n",
    "    X_train,y_train,X_test,y_test = xx"
   ]
  },
  {
   "cell_type": "code",
   "execution_count": 60,
   "id": "87206dfa",
   "metadata": {},
   "outputs": [],
   "source": [
    "def TSCV(X,n_splits=20, gap=0, max_train_size=None, test_size=None, verbose=False):\n",
    "    tscv = TimeSeriesSplit(n_splits=n_splits, gap=gap, max_train_size=max_train_size, test_size=test_size)\n",
    "    for i, (train_index, test_index) in enumerate(tscv.split(X),start=1):\n",
    "        if verbose:\n",
    "            print(f'''({str(i).zfill(2)}) train : {train_index[0]}-{train_index[-1]} [{len(train_index)}] & test {test_index[0]}-{test_index[-1]} [{len(test_index)}]''')\n",
    "        yield (train_index,test_index)"
   ]
  },
  {
   "cell_type": "markdown",
   "id": "01250bcc",
   "metadata": {},
   "source": [
    "### sktime SlidingWindowSplitter"
   ]
  },
  {
   "cell_type": "code",
   "execution_count": 61,
   "id": "e71e0d56",
   "metadata": {},
   "outputs": [],
   "source": [
    "def SlidingCV(X,y,window_length=1000, fh=list(range(1,(200+1))), step_length=1000, verbose=False):\n",
    "    tscv = SlidingWindowSplitter(window_length=window_length, fh=fh, step_length=step_length)\n",
    "    for i, (train_index, test_index) in enumerate(tscv.split(X),start=1):\n",
    "        X_train, X_test = X.loc[train_index], X.loc[test_index]\n",
    "        y_train, y_test = y[train_index], y.loc[test_index]\n",
    "        if verbose:\n",
    "            print(f'''({str(i).zfill(2)}) train : {train_index[0]}-{train_index[-1]} [{len(train_index)}] & test {test_index[0]}-{test_index[-1]} [{len(test_index)}]''')\n",
    "        yield (X_train,y_train,X_test,y_test)"
   ]
  },
  {
   "cell_type": "code",
   "execution_count": 62,
   "id": "5979fd38",
   "metadata": {},
   "outputs": [
    {
     "name": "stdout",
     "output_type": "stream",
     "text": [
      "(01) train : 0-3499 [3500] & test 3500-3699 [200]\n",
      "(02) train : 1000-4499 [3500] & test 4500-4699 [200]\n",
      "(03) train : 2000-5499 [3500] & test 5500-5699 [200]\n",
      "(04) train : 3000-6499 [3500] & test 6500-6699 [200]\n",
      "(05) train : 4000-7499 [3500] & test 7500-7699 [200]\n",
      "(06) train : 5000-8499 [3500] & test 8500-8699 [200]\n"
     ]
    }
   ],
   "source": [
    "tscv = SlidingCV(X,y,window_length=3500, fh=list(range(1,(200+1))), step_length=1000, verbose=True)\n",
    "for xx in tscv:\n",
    "    X_train,y_train,X_test,y_test = xx"
   ]
  },
  {
   "cell_type": "markdown",
   "id": "8e7bbf7b",
   "metadata": {},
   "source": [
    "### sktime ExpandingWindowSplitter"
   ]
  },
  {
   "cell_type": "code",
   "execution_count": 63,
   "id": "009879f3",
   "metadata": {},
   "outputs": [],
   "source": [
    "def ExpandingCV(X,y,fh=list(range(1,(200+1))), step_length=1000, verbose=False):\n",
    "    tscv = ExpandingWindowSplitter(fh=fh, step_length=step_length)\n",
    "    for i, (train_index, test_index) in enumerate(tscv.split(X),start=1):\n",
    "        X_train, X_test = X.loc[train_index], X.loc[test_index]\n",
    "        y_train, y_test = y[train_index], y.loc[test_index]\n",
    "        if verbose:\n",
    "            print(f'''({str(i).zfill(2)}) train : {train_index[0]}-{train_index[-1]} [{len(train_index)}] & test {test_index[0]}-{test_index[-1]} [{len(test_index)}]''')\n",
    "        yield (X_train,y_train,X_test,y_test)"
   ]
  },
  {
   "cell_type": "code",
   "execution_count": 64,
   "id": "0a67362a",
   "metadata": {},
   "outputs": [
    {
     "name": "stdout",
     "output_type": "stream",
     "text": [
      "(01) train : 0-9 [10] & test 10-209 [200]\n",
      "(02) train : 0-1009 [1010] & test 1010-1209 [200]\n",
      "(03) train : 0-2009 [2010] & test 2010-2209 [200]\n",
      "(04) train : 0-3009 [3010] & test 3010-3209 [200]\n",
      "(05) train : 0-4009 [4010] & test 4010-4209 [200]\n",
      "(06) train : 0-5009 [5010] & test 5010-5209 [200]\n",
      "(07) train : 0-6009 [6010] & test 6010-6209 [200]\n",
      "(08) train : 0-7009 [7010] & test 7010-7209 [200]\n",
      "(09) train : 0-8009 [8010] & test 8010-8209 [200]\n",
      "(10) train : 0-9009 [9010] & test 9010-9209 [200]\n"
     ]
    }
   ],
   "source": [
    "tscv = ExpandingCV(X,y,verbose=True)\n",
    "for xx in tscv:\n",
    "    X_train,y_train,X_test,y_test = xx"
   ]
  },
  {
   "cell_type": "markdown",
   "id": "b0689e9a",
   "metadata": {},
   "source": [
    "### Model Training - Across all Folds"
   ]
  },
  {
   "cell_type": "code",
   "execution_count": 503,
   "id": "f64e34d5",
   "metadata": {},
   "outputs": [
    {
     "name": "stderr",
     "output_type": "stream",
     "text": [
      "\r",
      "0it [00:00, ?it/s]"
     ]
    },
    {
     "name": "stdout",
     "output_type": "stream",
     "text": [
      "CPU times: user 3 µs, sys: 1 µs, total: 4 µs\n",
      "Wall time: 12.2 µs\n",
      "(01) train : 4500-9499 [5000] & test 9500-9500 [1]\n"
     ]
    },
    {
     "name": "stderr",
     "output_type": "stream",
     "text": [
      "\r",
      "1it [00:12, 12.36s/it]"
     ]
    },
    {
     "name": "stdout",
     "output_type": "stream",
     "text": [
      "====================================================================================================\n",
      "(02) train : 4501-9500 [5000] & test 9501-9501 [1]\n"
     ]
    },
    {
     "name": "stderr",
     "output_type": "stream",
     "text": [
      "\r",
      "2it [00:24, 12.42s/it]"
     ]
    },
    {
     "name": "stdout",
     "output_type": "stream",
     "text": [
      "====================================================================================================\n",
      "(03) train : 4502-9501 [5000] & test 9502-9502 [1]\n"
     ]
    },
    {
     "name": "stderr",
     "output_type": "stream",
     "text": [
      "\r",
      "3it [00:36, 12.21s/it]"
     ]
    },
    {
     "name": "stdout",
     "output_type": "stream",
     "text": [
      "====================================================================================================\n",
      "(04) train : 4503-9502 [5000] & test 9503-9503 [1]\n"
     ]
    },
    {
     "name": "stderr",
     "output_type": "stream",
     "text": [
      "\r",
      "4it [00:48, 11.83s/it]"
     ]
    },
    {
     "name": "stdout",
     "output_type": "stream",
     "text": [
      "====================================================================================================\n",
      "(05) train : 4504-9503 [5000] & test 9504-9504 [1]\n"
     ]
    },
    {
     "name": "stderr",
     "output_type": "stream",
     "text": [
      "\r",
      "5it [00:59, 11.58s/it]"
     ]
    },
    {
     "name": "stdout",
     "output_type": "stream",
     "text": [
      "====================================================================================================\n",
      "(06) train : 4505-9504 [5000] & test 9505-9505 [1]\n"
     ]
    },
    {
     "name": "stderr",
     "output_type": "stream",
     "text": [
      "\r",
      "6it [01:10, 11.41s/it]"
     ]
    },
    {
     "name": "stdout",
     "output_type": "stream",
     "text": [
      "====================================================================================================\n",
      "(07) train : 4506-9505 [5000] & test 9506-9506 [1]\n"
     ]
    },
    {
     "name": "stderr",
     "output_type": "stream",
     "text": [
      "\r",
      "7it [01:21, 11.31s/it]"
     ]
    },
    {
     "name": "stdout",
     "output_type": "stream",
     "text": [
      "====================================================================================================\n",
      "(08) train : 4507-9506 [5000] & test 9507-9507 [1]\n"
     ]
    },
    {
     "name": "stderr",
     "output_type": "stream",
     "text": [
      "\r",
      "8it [01:32, 11.21s/it]"
     ]
    },
    {
     "name": "stdout",
     "output_type": "stream",
     "text": [
      "====================================================================================================\n",
      "(09) train : 4508-9507 [5000] & test 9508-9508 [1]\n"
     ]
    },
    {
     "name": "stderr",
     "output_type": "stream",
     "text": [
      "\r",
      "9it [01:43, 11.19s/it]"
     ]
    },
    {
     "name": "stdout",
     "output_type": "stream",
     "text": [
      "====================================================================================================\n",
      "(10) train : 4509-9508 [5000] & test 9509-9509 [1]\n"
     ]
    },
    {
     "name": "stderr",
     "output_type": "stream",
     "text": [
      "\r",
      "10it [01:54, 11.15s/it]"
     ]
    },
    {
     "name": "stdout",
     "output_type": "stream",
     "text": [
      "====================================================================================================\n",
      "(11) train : 4510-9509 [5000] & test 9510-9510 [1]\n"
     ]
    },
    {
     "name": "stderr",
     "output_type": "stream",
     "text": [
      "\r",
      "11it [02:05, 11.13s/it]"
     ]
    },
    {
     "name": "stdout",
     "output_type": "stream",
     "text": [
      "====================================================================================================\n",
      "(12) train : 4511-9510 [5000] & test 9511-9511 [1]\n"
     ]
    },
    {
     "name": "stderr",
     "output_type": "stream",
     "text": [
      "\r",
      "12it [02:16, 11.14s/it]"
     ]
    },
    {
     "name": "stdout",
     "output_type": "stream",
     "text": [
      "====================================================================================================\n",
      "(13) train : 4512-9511 [5000] & test 9512-9512 [1]\n"
     ]
    },
    {
     "name": "stderr",
     "output_type": "stream",
     "text": [
      "\r",
      "13it [02:28, 11.22s/it]"
     ]
    },
    {
     "name": "stdout",
     "output_type": "stream",
     "text": [
      "====================================================================================================\n",
      "(14) train : 4513-9512 [5000] & test 9513-9513 [1]\n"
     ]
    },
    {
     "name": "stderr",
     "output_type": "stream",
     "text": [
      "\r",
      "14it [02:40, 11.64s/it]"
     ]
    },
    {
     "name": "stdout",
     "output_type": "stream",
     "text": [
      "====================================================================================================\n",
      "(15) train : 4514-9513 [5000] & test 9514-9514 [1]\n"
     ]
    },
    {
     "name": "stderr",
     "output_type": "stream",
     "text": [
      "\r",
      "15it [02:52, 11.54s/it]"
     ]
    },
    {
     "name": "stdout",
     "output_type": "stream",
     "text": [
      "====================================================================================================\n",
      "(16) train : 4515-9514 [5000] & test 9515-9515 [1]\n"
     ]
    },
    {
     "name": "stderr",
     "output_type": "stream",
     "text": [
      "\r",
      "16it [03:03, 11.45s/it]"
     ]
    },
    {
     "name": "stdout",
     "output_type": "stream",
     "text": [
      "====================================================================================================\n",
      "(17) train : 4516-9515 [5000] & test 9516-9516 [1]\n"
     ]
    },
    {
     "name": "stderr",
     "output_type": "stream",
     "text": [
      "\r",
      "17it [03:14, 11.40s/it]"
     ]
    },
    {
     "name": "stdout",
     "output_type": "stream",
     "text": [
      "====================================================================================================\n",
      "(18) train : 4517-9516 [5000] & test 9517-9517 [1]\n"
     ]
    },
    {
     "name": "stderr",
     "output_type": "stream",
     "text": [
      "\r",
      "18it [03:25, 11.38s/it]"
     ]
    },
    {
     "name": "stdout",
     "output_type": "stream",
     "text": [
      "====================================================================================================\n",
      "(19) train : 4518-9517 [5000] & test 9518-9518 [1]\n"
     ]
    },
    {
     "name": "stderr",
     "output_type": "stream",
     "text": [
      "\r",
      "19it [03:37, 11.35s/it]"
     ]
    },
    {
     "name": "stdout",
     "output_type": "stream",
     "text": [
      "====================================================================================================\n",
      "(20) train : 4519-9518 [5000] & test 9519-9519 [1]\n"
     ]
    },
    {
     "name": "stderr",
     "output_type": "stream",
     "text": [
      "\r",
      "20it [03:48, 11.33s/it]"
     ]
    },
    {
     "name": "stdout",
     "output_type": "stream",
     "text": [
      "====================================================================================================\n",
      "(21) train : 4520-9519 [5000] & test 9520-9520 [1]\n"
     ]
    },
    {
     "name": "stderr",
     "output_type": "stream",
     "text": [
      "\r",
      "21it [03:59, 11.28s/it]"
     ]
    },
    {
     "name": "stdout",
     "output_type": "stream",
     "text": [
      "====================================================================================================\n",
      "(22) train : 4521-9520 [5000] & test 9521-9521 [1]\n"
     ]
    },
    {
     "name": "stderr",
     "output_type": "stream",
     "text": [
      "\r",
      "22it [04:10, 11.26s/it]"
     ]
    },
    {
     "name": "stdout",
     "output_type": "stream",
     "text": [
      "====================================================================================================\n",
      "(23) train : 4522-9521 [5000] & test 9522-9522 [1]\n"
     ]
    },
    {
     "name": "stderr",
     "output_type": "stream",
     "text": [
      "\r",
      "23it [04:22, 11.25s/it]"
     ]
    },
    {
     "name": "stdout",
     "output_type": "stream",
     "text": [
      "====================================================================================================\n",
      "(24) train : 4523-9522 [5000] & test 9523-9523 [1]\n"
     ]
    },
    {
     "name": "stderr",
     "output_type": "stream",
     "text": [
      "\r",
      "24it [04:33, 11.31s/it]"
     ]
    },
    {
     "name": "stdout",
     "output_type": "stream",
     "text": [
      "====================================================================================================\n",
      "(25) train : 4524-9523 [5000] & test 9524-9524 [1]\n"
     ]
    },
    {
     "name": "stderr",
     "output_type": "stream",
     "text": [
      "\r",
      "25it [04:44, 11.28s/it]"
     ]
    },
    {
     "name": "stdout",
     "output_type": "stream",
     "text": [
      "====================================================================================================\n",
      "(26) train : 4525-9524 [5000] & test 9525-9525 [1]\n"
     ]
    },
    {
     "name": "stderr",
     "output_type": "stream",
     "text": [
      "\r",
      "26it [04:56, 11.26s/it]"
     ]
    },
    {
     "name": "stdout",
     "output_type": "stream",
     "text": [
      "====================================================================================================\n",
      "(27) train : 4526-9525 [5000] & test 9526-9526 [1]\n"
     ]
    },
    {
     "name": "stderr",
     "output_type": "stream",
     "text": [
      "\r",
      "27it [05:07, 11.23s/it]"
     ]
    },
    {
     "name": "stdout",
     "output_type": "stream",
     "text": [
      "====================================================================================================\n",
      "(28) train : 4527-9526 [5000] & test 9527-9527 [1]\n"
     ]
    },
    {
     "name": "stderr",
     "output_type": "stream",
     "text": [
      "\r",
      "28it [05:18, 11.20s/it]"
     ]
    },
    {
     "name": "stdout",
     "output_type": "stream",
     "text": [
      "====================================================================================================\n",
      "(29) train : 4528-9527 [5000] & test 9528-9528 [1]\n"
     ]
    },
    {
     "name": "stderr",
     "output_type": "stream",
     "text": [
      "\r",
      "29it [05:30, 11.64s/it]"
     ]
    },
    {
     "name": "stdout",
     "output_type": "stream",
     "text": [
      "====================================================================================================\n",
      "(30) train : 4529-9528 [5000] & test 9529-9529 [1]\n"
     ]
    },
    {
     "name": "stderr",
     "output_type": "stream",
     "text": [
      "\r",
      "30it [05:48, 13.33s/it]"
     ]
    },
    {
     "name": "stdout",
     "output_type": "stream",
     "text": [
      "====================================================================================================\n",
      "(31) train : 4530-9529 [5000] & test 9530-9530 [1]\n"
     ]
    },
    {
     "name": "stderr",
     "output_type": "stream",
     "text": [
      "\r",
      "31it [06:01, 13.27s/it]"
     ]
    },
    {
     "name": "stdout",
     "output_type": "stream",
     "text": [
      "====================================================================================================\n",
      "(32) train : 4531-9530 [5000] & test 9531-9531 [1]\n"
     ]
    },
    {
     "name": "stderr",
     "output_type": "stream",
     "text": [
      "\r",
      "32it [06:14, 13.28s/it]"
     ]
    },
    {
     "name": "stdout",
     "output_type": "stream",
     "text": [
      "====================================================================================================\n",
      "(33) train : 4532-9531 [5000] & test 9532-9532 [1]\n"
     ]
    },
    {
     "name": "stderr",
     "output_type": "stream",
     "text": [
      "\r",
      "33it [06:26, 12.85s/it]"
     ]
    },
    {
     "name": "stdout",
     "output_type": "stream",
     "text": [
      "====================================================================================================\n",
      "(34) train : 4533-9532 [5000] & test 9533-9533 [1]\n"
     ]
    },
    {
     "name": "stderr",
     "output_type": "stream",
     "text": [
      "\r",
      "34it [06:38, 12.57s/it]"
     ]
    },
    {
     "name": "stdout",
     "output_type": "stream",
     "text": [
      "====================================================================================================\n",
      "(35) train : 4534-9533 [5000] & test 9534-9534 [1]\n"
     ]
    },
    {
     "name": "stderr",
     "output_type": "stream",
     "text": [
      "\r",
      "35it [06:50, 12.50s/it]"
     ]
    },
    {
     "name": "stdout",
     "output_type": "stream",
     "text": [
      "====================================================================================================\n",
      "(36) train : 4535-9534 [5000] & test 9535-9535 [1]\n"
     ]
    },
    {
     "name": "stderr",
     "output_type": "stream",
     "text": [
      "\r",
      "36it [07:02, 12.37s/it]"
     ]
    },
    {
     "name": "stdout",
     "output_type": "stream",
     "text": [
      "====================================================================================================\n",
      "(37) train : 4536-9535 [5000] & test 9536-9536 [1]\n"
     ]
    },
    {
     "name": "stderr",
     "output_type": "stream",
     "text": [
      "\r",
      "37it [07:14, 12.18s/it]"
     ]
    },
    {
     "name": "stdout",
     "output_type": "stream",
     "text": [
      "====================================================================================================\n",
      "(38) train : 4537-9536 [5000] & test 9537-9537 [1]\n"
     ]
    },
    {
     "name": "stderr",
     "output_type": "stream",
     "text": [
      "\r",
      "38it [07:26, 12.22s/it]"
     ]
    },
    {
     "name": "stdout",
     "output_type": "stream",
     "text": [
      "====================================================================================================\n",
      "(39) train : 4538-9537 [5000] & test 9538-9538 [1]\n"
     ]
    },
    {
     "name": "stderr",
     "output_type": "stream",
     "text": [
      "\r",
      "39it [07:39, 12.42s/it]"
     ]
    },
    {
     "name": "stdout",
     "output_type": "stream",
     "text": [
      "====================================================================================================\n",
      "(40) train : 4539-9538 [5000] & test 9539-9539 [1]\n"
     ]
    },
    {
     "name": "stderr",
     "output_type": "stream",
     "text": [
      "\r",
      "40it [07:52, 12.36s/it]"
     ]
    },
    {
     "name": "stdout",
     "output_type": "stream",
     "text": [
      "====================================================================================================\n",
      "(41) train : 4540-9539 [5000] & test 9540-9540 [1]\n"
     ]
    },
    {
     "name": "stderr",
     "output_type": "stream",
     "text": [
      "\r",
      "41it [08:03, 12.24s/it]"
     ]
    },
    {
     "name": "stdout",
     "output_type": "stream",
     "text": [
      "====================================================================================================\n",
      "(42) train : 4541-9540 [5000] & test 9541-9541 [1]\n"
     ]
    },
    {
     "name": "stderr",
     "output_type": "stream",
     "text": [
      "\r",
      "42it [08:15, 12.15s/it]"
     ]
    },
    {
     "name": "stdout",
     "output_type": "stream",
     "text": [
      "====================================================================================================\n",
      "(43) train : 4542-9541 [5000] & test 9542-9542 [1]\n"
     ]
    },
    {
     "name": "stderr",
     "output_type": "stream",
     "text": [
      "\r",
      "43it [08:27, 12.10s/it]"
     ]
    },
    {
     "name": "stdout",
     "output_type": "stream",
     "text": [
      "====================================================================================================\n",
      "(44) train : 4543-9542 [5000] & test 9543-9543 [1]\n"
     ]
    },
    {
     "name": "stderr",
     "output_type": "stream",
     "text": [
      "\r",
      "44it [08:39, 11.94s/it]"
     ]
    },
    {
     "name": "stdout",
     "output_type": "stream",
     "text": [
      "====================================================================================================\n",
      "(45) train : 4544-9543 [5000] & test 9544-9544 [1]\n"
     ]
    },
    {
     "name": "stderr",
     "output_type": "stream",
     "text": [
      "\r",
      "45it [08:50, 11.78s/it]"
     ]
    },
    {
     "name": "stdout",
     "output_type": "stream",
     "text": [
      "====================================================================================================\n",
      "(46) train : 4545-9544 [5000] & test 9545-9545 [1]\n"
     ]
    },
    {
     "name": "stderr",
     "output_type": "stream",
     "text": [
      "\r",
      "46it [09:02, 11.84s/it]"
     ]
    },
    {
     "name": "stdout",
     "output_type": "stream",
     "text": [
      "====================================================================================================\n",
      "(47) train : 4546-9545 [5000] & test 9546-9546 [1]\n"
     ]
    },
    {
     "name": "stderr",
     "output_type": "stream",
     "text": [
      "\r",
      "47it [09:14, 11.76s/it]"
     ]
    },
    {
     "name": "stdout",
     "output_type": "stream",
     "text": [
      "====================================================================================================\n",
      "(48) train : 4547-9546 [5000] & test 9547-9547 [1]\n"
     ]
    },
    {
     "name": "stderr",
     "output_type": "stream",
     "text": [
      "\r",
      "48it [09:25, 11.62s/it]"
     ]
    },
    {
     "name": "stdout",
     "output_type": "stream",
     "text": [
      "====================================================================================================\n",
      "(49) train : 4548-9547 [5000] & test 9548-9548 [1]\n"
     ]
    },
    {
     "name": "stderr",
     "output_type": "stream",
     "text": [
      "\r",
      "49it [09:37, 11.65s/it]"
     ]
    },
    {
     "name": "stdout",
     "output_type": "stream",
     "text": [
      "====================================================================================================\n",
      "(50) train : 4549-9548 [5000] & test 9549-9549 [1]\n"
     ]
    },
    {
     "name": "stderr",
     "output_type": "stream",
     "text": [
      "\r",
      "50it [09:49, 11.84s/it]"
     ]
    },
    {
     "name": "stdout",
     "output_type": "stream",
     "text": [
      "====================================================================================================\n",
      "(51) train : 4550-9549 [5000] & test 9550-9550 [1]\n"
     ]
    },
    {
     "name": "stderr",
     "output_type": "stream",
     "text": [
      "\r",
      "51it [10:01, 11.79s/it]"
     ]
    },
    {
     "name": "stdout",
     "output_type": "stream",
     "text": [
      "====================================================================================================\n",
      "(52) train : 4551-9550 [5000] & test 9551-9551 [1]\n"
     ]
    },
    {
     "name": "stderr",
     "output_type": "stream",
     "text": [
      "\r",
      "52it [10:13, 12.02s/it]"
     ]
    },
    {
     "name": "stdout",
     "output_type": "stream",
     "text": [
      "====================================================================================================\n",
      "(53) train : 4552-9551 [5000] & test 9552-9552 [1]\n"
     ]
    },
    {
     "name": "stderr",
     "output_type": "stream",
     "text": [
      "\r",
      "53it [10:25, 11.95s/it]"
     ]
    },
    {
     "name": "stdout",
     "output_type": "stream",
     "text": [
      "====================================================================================================\n",
      "(54) train : 4553-9552 [5000] & test 9553-9553 [1]\n"
     ]
    },
    {
     "name": "stderr",
     "output_type": "stream",
     "text": [
      "\r",
      "54it [10:39, 12.41s/it]"
     ]
    },
    {
     "name": "stdout",
     "output_type": "stream",
     "text": [
      "====================================================================================================\n",
      "(55) train : 4554-9553 [5000] & test 9554-9554 [1]\n"
     ]
    },
    {
     "name": "stderr",
     "output_type": "stream",
     "text": [
      "\r",
      "55it [10:50, 12.12s/it]"
     ]
    },
    {
     "name": "stdout",
     "output_type": "stream",
     "text": [
      "====================================================================================================\n",
      "(56) train : 4555-9554 [5000] & test 9555-9555 [1]\n"
     ]
    },
    {
     "name": "stderr",
     "output_type": "stream",
     "text": [
      "\r",
      "56it [11:02, 12.10s/it]"
     ]
    },
    {
     "name": "stdout",
     "output_type": "stream",
     "text": [
      "====================================================================================================\n",
      "(57) train : 4556-9555 [5000] & test 9556-9556 [1]\n"
     ]
    },
    {
     "name": "stderr",
     "output_type": "stream",
     "text": [
      "\r",
      "57it [11:14, 12.00s/it]"
     ]
    },
    {
     "name": "stdout",
     "output_type": "stream",
     "text": [
      "====================================================================================================\n",
      "(58) train : 4557-9556 [5000] & test 9557-9557 [1]\n"
     ]
    },
    {
     "name": "stderr",
     "output_type": "stream",
     "text": [
      "\r",
      "58it [11:28, 12.52s/it]"
     ]
    },
    {
     "name": "stdout",
     "output_type": "stream",
     "text": [
      "====================================================================================================\n",
      "(59) train : 4558-9557 [5000] & test 9558-9558 [1]\n"
     ]
    },
    {
     "name": "stderr",
     "output_type": "stream",
     "text": [
      "\r",
      "59it [11:39, 12.30s/it]"
     ]
    },
    {
     "name": "stdout",
     "output_type": "stream",
     "text": [
      "====================================================================================================\n",
      "(60) train : 4559-9558 [5000] & test 9559-9559 [1]\n"
     ]
    },
    {
     "name": "stderr",
     "output_type": "stream",
     "text": [
      "\r",
      "60it [11:51, 12.06s/it]"
     ]
    },
    {
     "name": "stdout",
     "output_type": "stream",
     "text": [
      "====================================================================================================\n",
      "(61) train : 4560-9559 [5000] & test 9560-9560 [1]\n"
     ]
    },
    {
     "name": "stderr",
     "output_type": "stream",
     "text": [
      "\r",
      "61it [12:05, 12.61s/it]"
     ]
    },
    {
     "name": "stdout",
     "output_type": "stream",
     "text": [
      "====================================================================================================\n",
      "(62) train : 4561-9560 [5000] & test 9561-9561 [1]\n"
     ]
    },
    {
     "name": "stderr",
     "output_type": "stream",
     "text": [
      "\r",
      "62it [12:16, 12.28s/it]"
     ]
    },
    {
     "name": "stdout",
     "output_type": "stream",
     "text": [
      "====================================================================================================\n",
      "(63) train : 4562-9561 [5000] & test 9562-9562 [1]\n"
     ]
    },
    {
     "name": "stderr",
     "output_type": "stream",
     "text": [
      "\r",
      "63it [12:28, 11.99s/it]"
     ]
    },
    {
     "name": "stdout",
     "output_type": "stream",
     "text": [
      "====================================================================================================\n",
      "(64) train : 4563-9562 [5000] & test 9563-9563 [1]\n"
     ]
    },
    {
     "name": "stderr",
     "output_type": "stream",
     "text": [
      "\r",
      "64it [12:40, 12.23s/it]"
     ]
    },
    {
     "name": "stdout",
     "output_type": "stream",
     "text": [
      "====================================================================================================\n",
      "(65) train : 4564-9563 [5000] & test 9564-9564 [1]\n"
     ]
    },
    {
     "name": "stderr",
     "output_type": "stream",
     "text": [
      "\r",
      "65it [12:52, 12.05s/it]"
     ]
    },
    {
     "name": "stdout",
     "output_type": "stream",
     "text": [
      "====================================================================================================\n",
      "(66) train : 4565-9564 [5000] & test 9565-9565 [1]\n"
     ]
    },
    {
     "name": "stderr",
     "output_type": "stream",
     "text": [
      "\r",
      "66it [13:03, 11.80s/it]"
     ]
    },
    {
     "name": "stdout",
     "output_type": "stream",
     "text": [
      "====================================================================================================\n",
      "(67) train : 4566-9565 [5000] & test 9566-9566 [1]\n"
     ]
    },
    {
     "name": "stderr",
     "output_type": "stream",
     "text": [
      "\r",
      "67it [13:15, 11.66s/it]"
     ]
    },
    {
     "name": "stdout",
     "output_type": "stream",
     "text": [
      "====================================================================================================\n",
      "(68) train : 4567-9566 [5000] & test 9567-9567 [1]\n"
     ]
    },
    {
     "name": "stderr",
     "output_type": "stream",
     "text": [
      "\r",
      "68it [13:26, 11.54s/it]"
     ]
    },
    {
     "name": "stdout",
     "output_type": "stream",
     "text": [
      "====================================================================================================\n",
      "(69) train : 4568-9567 [5000] & test 9568-9568 [1]\n"
     ]
    },
    {
     "name": "stderr",
     "output_type": "stream",
     "text": [
      "\r",
      "69it [13:37, 11.47s/it]"
     ]
    },
    {
     "name": "stdout",
     "output_type": "stream",
     "text": [
      "====================================================================================================\n",
      "(70) train : 4569-9568 [5000] & test 9569-9569 [1]\n"
     ]
    },
    {
     "name": "stderr",
     "output_type": "stream",
     "text": [
      "\r",
      "70it [13:48, 11.40s/it]"
     ]
    },
    {
     "name": "stdout",
     "output_type": "stream",
     "text": [
      "====================================================================================================\n",
      "(71) train : 4570-9569 [5000] & test 9570-9570 [1]\n"
     ]
    },
    {
     "name": "stderr",
     "output_type": "stream",
     "text": [
      "\r",
      "71it [14:00, 11.33s/it]"
     ]
    },
    {
     "name": "stdout",
     "output_type": "stream",
     "text": [
      "====================================================================================================\n",
      "(72) train : 4571-9570 [5000] & test 9571-9571 [1]\n"
     ]
    },
    {
     "name": "stderr",
     "output_type": "stream",
     "text": [
      "\r",
      "72it [14:11, 11.37s/it]"
     ]
    },
    {
     "name": "stdout",
     "output_type": "stream",
     "text": [
      "====================================================================================================\n",
      "(73) train : 4572-9571 [5000] & test 9572-9572 [1]\n"
     ]
    },
    {
     "name": "stderr",
     "output_type": "stream",
     "text": [
      "\r",
      "73it [14:23, 11.42s/it]"
     ]
    },
    {
     "name": "stdout",
     "output_type": "stream",
     "text": [
      "====================================================================================================\n",
      "(74) train : 4573-9572 [5000] & test 9573-9573 [1]\n"
     ]
    },
    {
     "name": "stderr",
     "output_type": "stream",
     "text": [
      "\r",
      "74it [14:34, 11.36s/it]"
     ]
    },
    {
     "name": "stdout",
     "output_type": "stream",
     "text": [
      "====================================================================================================\n",
      "(75) train : 4574-9573 [5000] & test 9574-9574 [1]\n"
     ]
    },
    {
     "name": "stderr",
     "output_type": "stream",
     "text": [
      "\r",
      "75it [14:45, 11.32s/it]"
     ]
    },
    {
     "name": "stdout",
     "output_type": "stream",
     "text": [
      "====================================================================================================\n",
      "(76) train : 4575-9574 [5000] & test 9575-9575 [1]\n"
     ]
    },
    {
     "name": "stderr",
     "output_type": "stream",
     "text": [
      "\r",
      "76it [14:56, 11.29s/it]"
     ]
    },
    {
     "name": "stdout",
     "output_type": "stream",
     "text": [
      "====================================================================================================\n",
      "(77) train : 4576-9575 [5000] & test 9576-9576 [1]\n"
     ]
    },
    {
     "name": "stderr",
     "output_type": "stream",
     "text": [
      "\r",
      "77it [15:08, 11.28s/it]"
     ]
    },
    {
     "name": "stdout",
     "output_type": "stream",
     "text": [
      "====================================================================================================\n",
      "(78) train : 4577-9576 [5000] & test 9577-9577 [1]\n"
     ]
    },
    {
     "name": "stderr",
     "output_type": "stream",
     "text": [
      "\r",
      "78it [15:19, 11.24s/it]"
     ]
    },
    {
     "name": "stdout",
     "output_type": "stream",
     "text": [
      "====================================================================================================\n",
      "(79) train : 4578-9577 [5000] & test 9578-9578 [1]\n"
     ]
    },
    {
     "name": "stderr",
     "output_type": "stream",
     "text": [
      "\r",
      "79it [15:30, 11.21s/it]"
     ]
    },
    {
     "name": "stdout",
     "output_type": "stream",
     "text": [
      "====================================================================================================\n",
      "(80) train : 4579-9578 [5000] & test 9579-9579 [1]\n"
     ]
    },
    {
     "name": "stderr",
     "output_type": "stream",
     "text": [
      "\r",
      "80it [15:41, 11.20s/it]"
     ]
    },
    {
     "name": "stdout",
     "output_type": "stream",
     "text": [
      "====================================================================================================\n",
      "(81) train : 4580-9579 [5000] & test 9580-9580 [1]\n"
     ]
    },
    {
     "name": "stderr",
     "output_type": "stream",
     "text": [
      "\r",
      "81it [15:53, 11.35s/it]"
     ]
    },
    {
     "name": "stdout",
     "output_type": "stream",
     "text": [
      "====================================================================================================\n",
      "(82) train : 4581-9580 [5000] & test 9581-9581 [1]\n"
     ]
    },
    {
     "name": "stderr",
     "output_type": "stream",
     "text": [
      "\r",
      "82it [16:05, 11.58s/it]"
     ]
    },
    {
     "name": "stdout",
     "output_type": "stream",
     "text": [
      "====================================================================================================\n",
      "(83) train : 4582-9581 [5000] & test 9582-9582 [1]\n"
     ]
    },
    {
     "name": "stderr",
     "output_type": "stream",
     "text": [
      "\r",
      "83it [16:18, 12.15s/it]"
     ]
    },
    {
     "name": "stdout",
     "output_type": "stream",
     "text": [
      "====================================================================================================\n",
      "(84) train : 4583-9582 [5000] & test 9583-9583 [1]\n"
     ]
    },
    {
     "name": "stderr",
     "output_type": "stream",
     "text": [
      "\r",
      "84it [16:30, 12.02s/it]"
     ]
    },
    {
     "name": "stdout",
     "output_type": "stream",
     "text": [
      "====================================================================================================\n",
      "(85) train : 4584-9583 [5000] & test 9584-9584 [1]\n"
     ]
    },
    {
     "name": "stderr",
     "output_type": "stream",
     "text": [
      "\r",
      "85it [16:42, 12.14s/it]"
     ]
    },
    {
     "name": "stdout",
     "output_type": "stream",
     "text": [
      "====================================================================================================\n",
      "(86) train : 4585-9584 [5000] & test 9585-9585 [1]\n"
     ]
    },
    {
     "name": "stderr",
     "output_type": "stream",
     "text": [
      "\r",
      "86it [16:56, 12.47s/it]"
     ]
    },
    {
     "name": "stdout",
     "output_type": "stream",
     "text": [
      "====================================================================================================\n",
      "(87) train : 4586-9585 [5000] & test 9586-9586 [1]\n"
     ]
    },
    {
     "name": "stderr",
     "output_type": "stream",
     "text": [
      "\r",
      "87it [17:07, 12.25s/it]"
     ]
    },
    {
     "name": "stdout",
     "output_type": "stream",
     "text": [
      "====================================================================================================\n",
      "(88) train : 4587-9586 [5000] & test 9587-9587 [1]\n"
     ]
    },
    {
     "name": "stderr",
     "output_type": "stream",
     "text": [
      "\r",
      "88it [17:20, 12.22s/it]"
     ]
    },
    {
     "name": "stdout",
     "output_type": "stream",
     "text": [
      "====================================================================================================\n",
      "(89) train : 4588-9587 [5000] & test 9588-9588 [1]\n"
     ]
    },
    {
     "name": "stderr",
     "output_type": "stream",
     "text": [
      "\r",
      "89it [17:31, 12.04s/it]"
     ]
    },
    {
     "name": "stdout",
     "output_type": "stream",
     "text": [
      "====================================================================================================\n",
      "(90) train : 4589-9588 [5000] & test 9589-9589 [1]\n"
     ]
    },
    {
     "name": "stderr",
     "output_type": "stream",
     "text": [
      "\r",
      "90it [17:43, 11.92s/it]"
     ]
    },
    {
     "name": "stdout",
     "output_type": "stream",
     "text": [
      "====================================================================================================\n",
      "(91) train : 4590-9589 [5000] & test 9590-9590 [1]\n"
     ]
    },
    {
     "name": "stderr",
     "output_type": "stream",
     "text": [
      "\r",
      "91it [17:54, 11.83s/it]"
     ]
    },
    {
     "name": "stdout",
     "output_type": "stream",
     "text": [
      "====================================================================================================\n",
      "(92) train : 4591-9590 [5000] & test 9591-9591 [1]\n"
     ]
    },
    {
     "name": "stderr",
     "output_type": "stream",
     "text": [
      "\r",
      "92it [18:06, 11.83s/it]"
     ]
    },
    {
     "name": "stdout",
     "output_type": "stream",
     "text": [
      "====================================================================================================\n",
      "(93) train : 4592-9591 [5000] & test 9592-9592 [1]\n"
     ]
    },
    {
     "name": "stderr",
     "output_type": "stream",
     "text": [
      "\r",
      "93it [18:18, 11.80s/it]"
     ]
    },
    {
     "name": "stdout",
     "output_type": "stream",
     "text": [
      "====================================================================================================\n",
      "(94) train : 4593-9592 [5000] & test 9593-9593 [1]\n"
     ]
    },
    {
     "name": "stderr",
     "output_type": "stream",
     "text": [
      "\r",
      "94it [18:32, 12.48s/it]"
     ]
    },
    {
     "name": "stdout",
     "output_type": "stream",
     "text": [
      "====================================================================================================\n",
      "(95) train : 4594-9593 [5000] & test 9594-9594 [1]\n"
     ]
    },
    {
     "name": "stderr",
     "output_type": "stream",
     "text": [
      "\r",
      "95it [18:44, 12.41s/it]"
     ]
    },
    {
     "name": "stdout",
     "output_type": "stream",
     "text": [
      "====================================================================================================\n",
      "(96) train : 4595-9594 [5000] & test 9595-9595 [1]\n"
     ]
    },
    {
     "name": "stderr",
     "output_type": "stream",
     "text": [
      "\r",
      "96it [18:58, 12.87s/it]"
     ]
    },
    {
     "name": "stdout",
     "output_type": "stream",
     "text": [
      "====================================================================================================\n",
      "(97) train : 4596-9595 [5000] & test 9596-9596 [1]\n"
     ]
    },
    {
     "name": "stderr",
     "output_type": "stream",
     "text": [
      "\r",
      "97it [19:10, 12.53s/it]"
     ]
    },
    {
     "name": "stdout",
     "output_type": "stream",
     "text": [
      "====================================================================================================\n",
      "(98) train : 4597-9596 [5000] & test 9597-9597 [1]\n"
     ]
    },
    {
     "name": "stderr",
     "output_type": "stream",
     "text": [
      "\r",
      "98it [19:21, 12.16s/it]"
     ]
    },
    {
     "name": "stdout",
     "output_type": "stream",
     "text": [
      "====================================================================================================\n",
      "(99) train : 4598-9597 [5000] & test 9598-9598 [1]\n"
     ]
    },
    {
     "name": "stderr",
     "output_type": "stream",
     "text": [
      "\r",
      "99it [19:33, 11.96s/it]"
     ]
    },
    {
     "name": "stdout",
     "output_type": "stream",
     "text": [
      "====================================================================================================\n",
      "(100) train : 4599-9598 [5000] & test 9599-9599 [1]\n"
     ]
    },
    {
     "name": "stderr",
     "output_type": "stream",
     "text": [
      "100it [19:44, 11.85s/it]"
     ]
    },
    {
     "name": "stdout",
     "output_type": "stream",
     "text": [
      "====================================================================================================\n"
     ]
    },
    {
     "name": "stderr",
     "output_type": "stream",
     "text": [
      "\n"
     ]
    }
   ],
   "source": [
    "%time\n",
    "SPLITS = 100\n",
    "tscv = TimeSeriesCV(X,y,n_splits=SPLITS,test_size=1,max_train_size=5000,verbose=True)\n",
    "\n",
    "y_true = []\n",
    "y_preds_list = []\n",
    "y_probs_list = []\n",
    "featimp_list = []\n",
    "\n",
    "for foo in tqdm(tscv):\n",
    "    \n",
    "    X_train,y_train,X_test,y_test = foo\n",
    "    \n",
    "    clf = LGBMClassifier(\n",
    "        #class_weight='balanced',\n",
    "        boosting_type='dart',\n",
    "        #colsample_bytree=np.sqrt(X.shape[1])/(X.shape[1]),\n",
    "        n_estimators=500,\n",
    "        objective='multiclass',\n",
    "        n_jobs=-1\n",
    "        )\n",
    "    \n",
    "    clf.fit(X_train,y_train)\n",
    "    y_preds_list.append(clf.predict(X_test))\n",
    "    y_probs_list.append(clf.predict_proba(X_test))\n",
    "    y_true.append(y_test)\n",
    "    \n",
    "    featimp_list.append(pd.DataFrame({'features':X_train.columns,'importance':clf.feature_importances_}))\n",
    "    \n",
    "    print(100*'=')"
   ]
  },
  {
   "cell_type": "code",
   "execution_count": 504,
   "id": "af14bd2a",
   "metadata": {},
   "outputs": [
    {
     "data": {
      "text/html": [
       "<div>\n",
       "<style scoped>\n",
       "    .dataframe tbody tr th:only-of-type {\n",
       "        vertical-align: middle;\n",
       "    }\n",
       "\n",
       "    .dataframe tbody tr th {\n",
       "        vertical-align: top;\n",
       "    }\n",
       "\n",
       "    .dataframe thead th {\n",
       "        text-align: right;\n",
       "    }\n",
       "</style>\n",
       "<table border=\"1\" class=\"dataframe\">\n",
       "  <thead>\n",
       "    <tr style=\"text-align: right;\">\n",
       "      <th></th>\n",
       "      <th>actual</th>\n",
       "      <th>preds</th>\n",
       "      <th>probs</th>\n",
       "    </tr>\n",
       "  </thead>\n",
       "  <tbody>\n",
       "    <tr>\n",
       "      <th>0</th>\n",
       "      <td>steady</td>\n",
       "      <td>steady</td>\n",
       "      <td>0.743151</td>\n",
       "    </tr>\n",
       "    <tr>\n",
       "      <th>1</th>\n",
       "      <td>steady</td>\n",
       "      <td>steady</td>\n",
       "      <td>0.950288</td>\n",
       "    </tr>\n",
       "    <tr>\n",
       "      <th>2</th>\n",
       "      <td>steady</td>\n",
       "      <td>steady</td>\n",
       "      <td>0.956308</td>\n",
       "    </tr>\n",
       "    <tr>\n",
       "      <th>3</th>\n",
       "      <td>steady</td>\n",
       "      <td>steady</td>\n",
       "      <td>0.978296</td>\n",
       "    </tr>\n",
       "    <tr>\n",
       "      <th>4</th>\n",
       "      <td>steady</td>\n",
       "      <td>steady</td>\n",
       "      <td>0.976911</td>\n",
       "    </tr>\n",
       "    <tr>\n",
       "      <th>...</th>\n",
       "      <td>...</td>\n",
       "      <td>...</td>\n",
       "      <td>...</td>\n",
       "    </tr>\n",
       "    <tr>\n",
       "      <th>95</th>\n",
       "      <td>steady</td>\n",
       "      <td>steady</td>\n",
       "      <td>0.722009</td>\n",
       "    </tr>\n",
       "    <tr>\n",
       "      <th>96</th>\n",
       "      <td>steady</td>\n",
       "      <td>steady</td>\n",
       "      <td>0.492989</td>\n",
       "    </tr>\n",
       "    <tr>\n",
       "      <th>97</th>\n",
       "      <td>steady</td>\n",
       "      <td>steady</td>\n",
       "      <td>0.839966</td>\n",
       "    </tr>\n",
       "    <tr>\n",
       "      <th>98</th>\n",
       "      <td>steady</td>\n",
       "      <td>steady</td>\n",
       "      <td>0.868201</td>\n",
       "    </tr>\n",
       "    <tr>\n",
       "      <th>99</th>\n",
       "      <td>steady</td>\n",
       "      <td>steady</td>\n",
       "      <td>0.929710</td>\n",
       "    </tr>\n",
       "  </tbody>\n",
       "</table>\n",
       "<p>100 rows × 3 columns</p>\n",
       "</div>"
      ],
      "text/plain": [
       "    actual   preds     probs\n",
       "0   steady  steady  0.743151\n",
       "1   steady  steady  0.950288\n",
       "2   steady  steady  0.956308\n",
       "3   steady  steady  0.978296\n",
       "4   steady  steady  0.976911\n",
       "..     ...     ...       ...\n",
       "95  steady  steady  0.722009\n",
       "96  steady  steady  0.492989\n",
       "97  steady  steady  0.839966\n",
       "98  steady  steady  0.868201\n",
       "99  steady  steady  0.929710\n",
       "\n",
       "[100 rows x 3 columns]"
      ]
     },
     "execution_count": 504,
     "metadata": {},
     "output_type": "execute_result"
    }
   ],
   "source": [
    "res = pd.DataFrame({'actual':[x.values[0] for x in y_true],\n",
    "                    'preds':[x[0] for x in y_preds_list],\n",
    "                    'probs':[x[0][1] for x in y_probs_list]})\n",
    "res"
   ]
  },
  {
   "cell_type": "code",
   "execution_count": 505,
   "id": "edb33b2f",
   "metadata": {},
   "outputs": [
    {
     "data": {
      "text/html": [
       "<div>\n",
       "<style scoped>\n",
       "    .dataframe tbody tr th:only-of-type {\n",
       "        vertical-align: middle;\n",
       "    }\n",
       "\n",
       "    .dataframe tbody tr th {\n",
       "        vertical-align: top;\n",
       "    }\n",
       "\n",
       "    .dataframe thead th {\n",
       "        text-align: right;\n",
       "    }\n",
       "</style>\n",
       "<table border=\"1\" class=\"dataframe\">\n",
       "  <thead>\n",
       "    <tr style=\"text-align: right;\">\n",
       "      <th></th>\n",
       "      <th>count</th>\n",
       "      <th>mean</th>\n",
       "      <th>std</th>\n",
       "      <th>min</th>\n",
       "      <th>25%</th>\n",
       "      <th>50%</th>\n",
       "      <th>75%</th>\n",
       "      <th>max</th>\n",
       "    </tr>\n",
       "    <tr>\n",
       "      <th>actual</th>\n",
       "      <th></th>\n",
       "      <th></th>\n",
       "      <th></th>\n",
       "      <th></th>\n",
       "      <th></th>\n",
       "      <th></th>\n",
       "      <th></th>\n",
       "      <th></th>\n",
       "    </tr>\n",
       "  </thead>\n",
       "  <tbody>\n",
       "    <tr>\n",
       "      <th>down</th>\n",
       "      <td>44.0</td>\n",
       "      <td>0.229237</td>\n",
       "      <td>0.236588</td>\n",
       "      <td>0.012613</td>\n",
       "      <td>0.042908</td>\n",
       "      <td>0.157484</td>\n",
       "      <td>0.328469</td>\n",
       "      <td>0.973466</td>\n",
       "    </tr>\n",
       "    <tr>\n",
       "      <th>steady</th>\n",
       "      <td>38.0</td>\n",
       "      <td>0.731764</td>\n",
       "      <td>0.305390</td>\n",
       "      <td>0.067161</td>\n",
       "      <td>0.548221</td>\n",
       "      <td>0.874930</td>\n",
       "      <td>0.956704</td>\n",
       "      <td>0.984487</td>\n",
       "    </tr>\n",
       "    <tr>\n",
       "      <th>up</th>\n",
       "      <td>18.0</td>\n",
       "      <td>0.348283</td>\n",
       "      <td>0.280977</td>\n",
       "      <td>0.078102</td>\n",
       "      <td>0.143817</td>\n",
       "      <td>0.219753</td>\n",
       "      <td>0.463937</td>\n",
       "      <td>0.978718</td>\n",
       "    </tr>\n",
       "  </tbody>\n",
       "</table>\n",
       "</div>"
      ],
      "text/plain": [
       "        count      mean       std       min       25%       50%       75%  \\\n",
       "actual                                                                      \n",
       "down     44.0  0.229237  0.236588  0.012613  0.042908  0.157484  0.328469   \n",
       "steady   38.0  0.731764  0.305390  0.067161  0.548221  0.874930  0.956704   \n",
       "up       18.0  0.348283  0.280977  0.078102  0.143817  0.219753  0.463937   \n",
       "\n",
       "             max  \n",
       "actual            \n",
       "down    0.973466  \n",
       "steady  0.984487  \n",
       "up      0.978718  "
      ]
     },
     "execution_count": 505,
     "metadata": {},
     "output_type": "execute_result"
    }
   ],
   "source": [
    "res.groupby(['actual'])['probs'].describe()"
   ]
  },
  {
   "cell_type": "code",
   "execution_count": 506,
   "id": "56fb45e9",
   "metadata": {},
   "outputs": [
    {
     "data": {
      "text/plain": [
       "0.81"
      ]
     },
     "execution_count": 506,
     "metadata": {},
     "output_type": "execute_result"
    }
   ],
   "source": [
    "accuracy_score(res.actual,res.preds)"
   ]
  },
  {
   "cell_type": "code",
   "execution_count": null,
   "id": "b6ceb1e7",
   "metadata": {},
   "outputs": [],
   "source": [
    "roc_auc_score(res.actual,res.preds)"
   ]
  },
  {
   "cell_type": "code",
   "execution_count": 508,
   "id": "dde6bca7",
   "metadata": {},
   "outputs": [
    {
     "name": "stdout",
     "output_type": "stream",
     "text": [
      "              precision    recall  f1-score   support\n",
      "\n",
      "        down       0.93      0.86      0.89        44\n",
      "      steady       0.73      0.79      0.76        38\n",
      "          up       0.72      0.72      0.72        18\n",
      "\n",
      "    accuracy                           0.81       100\n",
      "   macro avg       0.79      0.79      0.79       100\n",
      "weighted avg       0.82      0.81      0.81       100\n",
      "\n"
     ]
    }
   ],
   "source": [
    "print(classification_report(res.actual,res.preds))"
   ]
  },
  {
   "cell_type": "code",
   "execution_count": 509,
   "id": "5508ce97",
   "metadata": {},
   "outputs": [
    {
     "data": {
      "image/png": "[encoded data removed]",
      "text/plain": [
       "<Figure size 432x288 with 2 Axes>"
      ]
     },
     "metadata": {
      "needs_background": "light"
     },
     "output_type": "display_data"
    }
   ],
   "source": [
    "cm = confusion_matrix(res.actual,res.preds)\n",
    "disp = ConfusionMatrixDisplay(confusion_matrix=cm,display_labels=clf.classes_)\n",
    "disp.plot()\n",
    "plt.show()"
   ]
  },
  {
   "cell_type": "code",
   "execution_count": 510,
   "id": "2640eb59",
   "metadata": {},
   "outputs": [
    {
     "data": {
      "text/plain": [
       "<AxesSubplot:ylabel='features'>"
      ]
     },
     "execution_count": 510,
     "metadata": {},
     "output_type": "execute_result"
    },
    {
     "data": {
      "image/png": "[encoded data removed]",
      "text/plain": [
       "<Figure size 360x720 with 1 Axes>"
      ]
     },
     "metadata": {
      "needs_background": "light"
     },
     "output_type": "display_data"
    }
   ],
   "source": [
    "pd.concat(featimp_list)\\\n",
    "    .groupby(['features'])['importance'].sum()\\\n",
    "    .sort_values(ascending=False)\\\n",
    "    .head(50)\\\n",
    "    .plot(kind='barh',figsize=(5,10))"
   ]
  },
  {
   "cell_type": "markdown",
   "id": "0fdef0aa",
   "metadata": {},
   "source": [
    "### Evaluation scikit-plot"
   ]
  },
  {
   "cell_type": "code",
   "execution_count": 513,
   "id": "78fcdfcd",
   "metadata": {},
   "outputs": [
    {
     "name": "stdout",
     "output_type": "stream",
     "text": [
      "AxesSubplot(0.125,0.125;0.775x0.755)\n",
      "AxesSubplot(0.125,0.125;0.775x0.755)\n"
     ]
    },
    {
     "name": "stderr",
     "output_type": "stream",
     "text": [
      "/Users/takis/opt/anaconda3/lib/python3.8/site-packages/sklearn/utils/deprecation.py:86: FutureWarning: Function plot_precision_recall_curve is deprecated; This will be removed in v0.5.0. Please use scikitplot.metrics.plot_precision_recall instead.\n",
      "  warnings.warn(msg, category=FutureWarning)\n"
     ]
    },
    {
     "data": {
      "image/png": "[encoded data removed]",
      "text/plain": [
       "<Figure size 432x288 with 1 Axes>"
      ]
     },
     "metadata": {
      "needs_background": "light"
     },
     "output_type": "display_data"
    },
    {
     "data": {
      "image/png": "[encoded data removed]",
      "text/plain": [
       "<Figure size 432x288 with 1 Axes>"
      ]
     },
     "metadata": {
      "needs_background": "light"
     },
     "output_type": "display_data"
    }
   ],
   "source": [
    "import scikitplot as skplt\n",
    "print(skplt.metrics.plot_precision_recall_curve(res.actual, [x[0] for x in y_probs_list]))\n",
    "print(skplt.metrics.plot_roc(res.actual, [x[0] for x in y_probs_list]))\n",
    "# print(skplt.metrics.plot_calibration_curve(res.actual, [[x[0] for x in y_probs_list]]))"
   ]
  },
  {
   "cell_type": "markdown",
   "id": "b8df6bfa",
   "metadata": {},
   "source": [
    "### Multiobjective Training Loop"
   ]
  },
  {
   "cell_type": "code",
   "execution_count": 65,
   "id": "41737a15",
   "metadata": {},
   "outputs": [
    {
     "name": "stderr",
     "output_type": "stream",
     "text": [
      "\r",
      "0it [00:00, ?it/s]"
     ]
    },
    {
     "name": "stdout",
     "output_type": "stream",
     "text": [
      "CPU times: user 3 µs, sys: 1 µs, total: 4 µs\n",
      "Wall time: 5.96 µs\n",
      "(01) train : 4500-9499 [5000] & test 9500-9500 [1]\n"
     ]
    },
    {
     "name": "stderr",
     "output_type": "stream",
     "text": [
      "\r",
      "1it [00:14, 14.24s/it]"
     ]
    },
    {
     "name": "stdout",
     "output_type": "stream",
     "text": [
      "====================================================================================================\n",
      "(02) train : 4501-9500 [5000] & test 9501-9501 [1]\n"
     ]
    },
    {
     "name": "stderr",
     "output_type": "stream",
     "text": [
      "\r",
      "2it [00:28, 14.24s/it]"
     ]
    },
    {
     "name": "stdout",
     "output_type": "stream",
     "text": [
      "====================================================================================================\n",
      "(03) train : 4502-9501 [5000] & test 9502-9502 [1]\n"
     ]
    },
    {
     "name": "stderr",
     "output_type": "stream",
     "text": [
      "\r",
      "3it [00:43, 14.65s/it]"
     ]
    },
    {
     "name": "stdout",
     "output_type": "stream",
     "text": [
      "====================================================================================================\n",
      "(04) train : 4503-9502 [5000] & test 9503-9503 [1]\n"
     ]
    },
    {
     "name": "stderr",
     "output_type": "stream",
     "text": [
      "\r",
      "4it [00:57, 14.22s/it]"
     ]
    },
    {
     "name": "stdout",
     "output_type": "stream",
     "text": [
      "====================================================================================================\n",
      "(05) train : 4504-9503 [5000] & test 9504-9504 [1]\n"
     ]
    },
    {
     "name": "stderr",
     "output_type": "stream",
     "text": [
      "\r",
      "5it [01:10, 14.07s/it]"
     ]
    },
    {
     "name": "stdout",
     "output_type": "stream",
     "text": [
      "====================================================================================================\n",
      "(06) train : 4505-9504 [5000] & test 9505-9505 [1]\n"
     ]
    },
    {
     "name": "stderr",
     "output_type": "stream",
     "text": [
      "\r",
      "6it [01:24, 13.96s/it]"
     ]
    },
    {
     "name": "stdout",
     "output_type": "stream",
     "text": [
      "====================================================================================================\n",
      "(07) train : 4506-9505 [5000] & test 9506-9506 [1]\n"
     ]
    },
    {
     "name": "stderr",
     "output_type": "stream",
     "text": [
      "\r",
      "7it [01:38, 13.85s/it]"
     ]
    },
    {
     "name": "stdout",
     "output_type": "stream",
     "text": [
      "====================================================================================================\n",
      "(08) train : 4507-9506 [5000] & test 9507-9507 [1]\n"
     ]
    },
    {
     "name": "stderr",
     "output_type": "stream",
     "text": [
      "\r",
      "8it [01:51, 13.77s/it]"
     ]
    },
    {
     "name": "stdout",
     "output_type": "stream",
     "text": [
      "====================================================================================================\n",
      "(09) train : 4508-9507 [5000] & test 9508-9508 [1]\n"
     ]
    },
    {
     "name": "stderr",
     "output_type": "stream",
     "text": [
      "\r",
      "9it [02:06, 13.97s/it]"
     ]
    },
    {
     "name": "stdout",
     "output_type": "stream",
     "text": [
      "====================================================================================================\n",
      "(10) train : 4509-9508 [5000] & test 9509-9509 [1]\n"
     ]
    },
    {
     "name": "stderr",
     "output_type": "stream",
     "text": [
      "\r",
      "10it [02:20, 13.92s/it]"
     ]
    },
    {
     "name": "stdout",
     "output_type": "stream",
     "text": [
      "====================================================================================================\n",
      "(11) train : 4510-9509 [5000] & test 9510-9510 [1]\n"
     ]
    },
    {
     "name": "stderr",
     "output_type": "stream",
     "text": [
      "\r",
      "11it [02:33, 13.86s/it]"
     ]
    },
    {
     "name": "stdout",
     "output_type": "stream",
     "text": [
      "====================================================================================================\n",
      "(12) train : 4511-9510 [5000] & test 9511-9511 [1]\n"
     ]
    },
    {
     "name": "stderr",
     "output_type": "stream",
     "text": [
      "\r",
      "12it [02:47, 13.78s/it]"
     ]
    },
    {
     "name": "stdout",
     "output_type": "stream",
     "text": [
      "====================================================================================================\n",
      "(13) train : 4512-9511 [5000] & test 9512-9512 [1]\n"
     ]
    },
    {
     "name": "stderr",
     "output_type": "stream",
     "text": [
      "\r",
      "13it [03:01, 13.74s/it]"
     ]
    },
    {
     "name": "stdout",
     "output_type": "stream",
     "text": [
      "====================================================================================================\n",
      "(14) train : 4513-9512 [5000] & test 9513-9513 [1]\n"
     ]
    },
    {
     "name": "stderr",
     "output_type": "stream",
     "text": [
      "\r",
      "14it [03:16, 14.26s/it]"
     ]
    },
    {
     "name": "stdout",
     "output_type": "stream",
     "text": [
      "====================================================================================================\n",
      "(15) train : 4514-9513 [5000] & test 9514-9514 [1]\n"
     ]
    },
    {
     "name": "stderr",
     "output_type": "stream",
     "text": [
      "\r",
      "15it [03:30, 14.07s/it]"
     ]
    },
    {
     "name": "stdout",
     "output_type": "stream",
     "text": [
      "====================================================================================================\n",
      "(16) train : 4515-9514 [5000] & test 9515-9515 [1]\n"
     ]
    },
    {
     "name": "stderr",
     "output_type": "stream",
     "text": [
      "\r",
      "16it [03:43, 13.93s/it]"
     ]
    },
    {
     "name": "stdout",
     "output_type": "stream",
     "text": [
      "====================================================================================================\n",
      "(17) train : 4516-9515 [5000] & test 9516-9516 [1]\n"
     ]
    },
    {
     "name": "stderr",
     "output_type": "stream",
     "text": [
      "\r",
      "17it [03:57, 13.85s/it]"
     ]
    },
    {
     "name": "stdout",
     "output_type": "stream",
     "text": [
      "====================================================================================================\n",
      "(18) train : 4517-9516 [5000] & test 9517-9517 [1]\n"
     ]
    },
    {
     "name": "stderr",
     "output_type": "stream",
     "text": [
      "\r",
      "18it [04:11, 13.78s/it]"
     ]
    },
    {
     "name": "stdout",
     "output_type": "stream",
     "text": [
      "====================================================================================================\n",
      "(19) train : 4518-9517 [5000] & test 9518-9518 [1]\n"
     ]
    },
    {
     "name": "stderr",
     "output_type": "stream",
     "text": [
      "\r",
      "19it [04:24, 13.78s/it]"
     ]
    },
    {
     "name": "stdout",
     "output_type": "stream",
     "text": [
      "====================================================================================================\n",
      "(20) train : 4519-9518 [5000] & test 9519-9519 [1]\n"
     ]
    },
    {
     "name": "stderr",
     "output_type": "stream",
     "text": [
      "\r",
      "20it [04:38, 13.71s/it]"
     ]
    },
    {
     "name": "stdout",
     "output_type": "stream",
     "text": [
      "====================================================================================================\n",
      "(21) train : 4520-9519 [5000] & test 9520-9520 [1]\n"
     ]
    },
    {
     "name": "stderr",
     "output_type": "stream",
     "text": [
      "\r",
      "21it [04:52, 13.68s/it]"
     ]
    },
    {
     "name": "stdout",
     "output_type": "stream",
     "text": [
      "====================================================================================================\n",
      "(22) train : 4521-9520 [5000] & test 9521-9521 [1]\n"
     ]
    },
    {
     "name": "stderr",
     "output_type": "stream",
     "text": [
      "\r",
      "22it [05:06, 14.01s/it]"
     ]
    },
    {
     "name": "stdout",
     "output_type": "stream",
     "text": [
      "====================================================================================================\n",
      "(23) train : 4522-9521 [5000] & test 9522-9522 [1]\n"
     ]
    },
    {
     "name": "stderr",
     "output_type": "stream",
     "text": [
      "\r",
      "23it [05:20, 13.91s/it]"
     ]
    },
    {
     "name": "stdout",
     "output_type": "stream",
     "text": [
      "====================================================================================================\n",
      "(24) train : 4523-9522 [5000] & test 9523-9523 [1]\n"
     ]
    },
    {
     "name": "stderr",
     "output_type": "stream",
     "text": [
      "\r",
      "24it [05:34, 13.85s/it]"
     ]
    },
    {
     "name": "stdout",
     "output_type": "stream",
     "text": [
      "====================================================================================================\n",
      "(25) train : 4524-9523 [5000] & test 9524-9524 [1]\n"
     ]
    },
    {
     "name": "stderr",
     "output_type": "stream",
     "text": [
      "\r",
      "25it [05:47, 13.78s/it]"
     ]
    },
    {
     "name": "stdout",
     "output_type": "stream",
     "text": [
      "====================================================================================================\n",
      "(26) train : 4525-9524 [5000] & test 9525-9525 [1]\n"
     ]
    },
    {
     "name": "stderr",
     "output_type": "stream",
     "text": [
      "\r",
      "26it [06:01, 13.73s/it]"
     ]
    },
    {
     "name": "stdout",
     "output_type": "stream",
     "text": [
      "====================================================================================================\n",
      "(27) train : 4526-9525 [5000] & test 9526-9526 [1]\n"
     ]
    },
    {
     "name": "stderr",
     "output_type": "stream",
     "text": [
      "\r",
      "27it [06:15, 13.81s/it]"
     ]
    },
    {
     "name": "stdout",
     "output_type": "stream",
     "text": [
      "====================================================================================================\n",
      "(28) train : 4527-9526 [5000] & test 9527-9527 [1]\n"
     ]
    },
    {
     "name": "stderr",
     "output_type": "stream",
     "text": [
      "\r",
      "28it [06:29, 13.78s/it]"
     ]
    },
    {
     "name": "stdout",
     "output_type": "stream",
     "text": [
      "====================================================================================================\n",
      "(29) train : 4528-9527 [5000] & test 9528-9528 [1]\n"
     ]
    },
    {
     "name": "stderr",
     "output_type": "stream",
     "text": [
      "\r",
      "29it [06:42, 13.80s/it]"
     ]
    },
    {
     "name": "stdout",
     "output_type": "stream",
     "text": [
      "====================================================================================================\n",
      "(30) train : 4529-9528 [5000] & test 9529-9529 [1]\n"
     ]
    },
    {
     "name": "stderr",
     "output_type": "stream",
     "text": [
      "\r",
      "30it [06:56, 13.76s/it]"
     ]
    },
    {
     "name": "stdout",
     "output_type": "stream",
     "text": [
      "====================================================================================================\n",
      "(31) train : 4530-9529 [5000] & test 9530-9530 [1]\n"
     ]
    },
    {
     "name": "stderr",
     "output_type": "stream",
     "text": [
      "\r",
      "31it [07:10, 13.70s/it]"
     ]
    },
    {
     "name": "stdout",
     "output_type": "stream",
     "text": [
      "====================================================================================================\n",
      "(32) train : 4531-9530 [5000] & test 9531-9531 [1]\n"
     ]
    },
    {
     "name": "stderr",
     "output_type": "stream",
     "text": [
      "\r",
      "32it [07:23, 13.68s/it]"
     ]
    },
    {
     "name": "stdout",
     "output_type": "stream",
     "text": [
      "====================================================================================================\n",
      "(33) train : 4532-9531 [5000] & test 9532-9532 [1]\n"
     ]
    },
    {
     "name": "stderr",
     "output_type": "stream",
     "text": [
      "\r",
      "33it [07:37, 13.63s/it]"
     ]
    },
    {
     "name": "stdout",
     "output_type": "stream",
     "text": [
      "====================================================================================================\n",
      "(34) train : 4533-9532 [5000] & test 9533-9533 [1]\n"
     ]
    },
    {
     "name": "stderr",
     "output_type": "stream",
     "text": [
      "\r",
      "34it [07:50, 13.62s/it]"
     ]
    },
    {
     "name": "stdout",
     "output_type": "stream",
     "text": [
      "====================================================================================================\n",
      "(35) train : 4534-9533 [5000] & test 9534-9534 [1]\n"
     ]
    },
    {
     "name": "stderr",
     "output_type": "stream",
     "text": [
      "\r",
      "35it [08:04, 13.61s/it]"
     ]
    },
    {
     "name": "stdout",
     "output_type": "stream",
     "text": [
      "====================================================================================================\n",
      "(36) train : 4535-9534 [5000] & test 9535-9535 [1]\n"
     ]
    },
    {
     "name": "stderr",
     "output_type": "stream",
     "text": [
      "\r",
      "36it [08:18, 13.62s/it]"
     ]
    },
    {
     "name": "stdout",
     "output_type": "stream",
     "text": [
      "====================================================================================================\n",
      "(37) train : 4536-9535 [5000] & test 9536-9536 [1]\n"
     ]
    },
    {
     "name": "stderr",
     "output_type": "stream",
     "text": [
      "\r",
      "37it [08:31, 13.61s/it]"
     ]
    },
    {
     "name": "stdout",
     "output_type": "stream",
     "text": [
      "====================================================================================================\n",
      "(38) train : 4537-9536 [5000] & test 9537-9537 [1]\n"
     ]
    },
    {
     "name": "stderr",
     "output_type": "stream",
     "text": [
      "\r",
      "38it [08:45, 13.62s/it]"
     ]
    },
    {
     "name": "stdout",
     "output_type": "stream",
     "text": [
      "====================================================================================================\n",
      "(39) train : 4538-9537 [5000] & test 9538-9538 [1]\n"
     ]
    },
    {
     "name": "stderr",
     "output_type": "stream",
     "text": [
      "\r",
      "39it [08:58, 13.60s/it]"
     ]
    },
    {
     "name": "stdout",
     "output_type": "stream",
     "text": [
      "====================================================================================================\n",
      "(40) train : 4539-9538 [5000] & test 9539-9539 [1]\n"
     ]
    },
    {
     "name": "stderr",
     "output_type": "stream",
     "text": [
      "\r",
      "40it [09:12, 13.57s/it]"
     ]
    },
    {
     "name": "stdout",
     "output_type": "stream",
     "text": [
      "====================================================================================================\n",
      "(41) train : 4540-9539 [5000] & test 9540-9540 [1]\n"
     ]
    },
    {
     "name": "stderr",
     "output_type": "stream",
     "text": [
      "\r",
      "41it [09:25, 13.55s/it]"
     ]
    },
    {
     "name": "stdout",
     "output_type": "stream",
     "text": [
      "====================================================================================================\n",
      "(42) train : 4541-9540 [5000] & test 9541-9541 [1]\n"
     ]
    },
    {
     "name": "stderr",
     "output_type": "stream",
     "text": [
      "\r",
      "42it [09:39, 13.55s/it]"
     ]
    },
    {
     "name": "stdout",
     "output_type": "stream",
     "text": [
      "====================================================================================================\n",
      "(43) train : 4542-9541 [5000] & test 9542-9542 [1]\n"
     ]
    },
    {
     "name": "stderr",
     "output_type": "stream",
     "text": [
      "\r",
      "43it [09:53, 13.54s/it]"
     ]
    },
    {
     "name": "stdout",
     "output_type": "stream",
     "text": [
      "====================================================================================================\n",
      "(44) train : 4543-9542 [5000] & test 9543-9543 [1]\n"
     ]
    },
    {
     "name": "stderr",
     "output_type": "stream",
     "text": [
      "\r",
      "44it [10:06, 13.57s/it]"
     ]
    },
    {
     "name": "stdout",
     "output_type": "stream",
     "text": [
      "====================================================================================================\n",
      "(45) train : 4544-9543 [5000] & test 9544-9544 [1]\n"
     ]
    },
    {
     "name": "stderr",
     "output_type": "stream",
     "text": [
      "\r",
      "45it [10:20, 13.64s/it]"
     ]
    },
    {
     "name": "stdout",
     "output_type": "stream",
     "text": [
      "====================================================================================================\n",
      "(46) train : 4545-9544 [5000] & test 9545-9545 [1]\n"
     ]
    },
    {
     "name": "stderr",
     "output_type": "stream",
     "text": [
      "\r",
      "46it [10:35, 14.16s/it]"
     ]
    },
    {
     "name": "stdout",
     "output_type": "stream",
     "text": [
      "====================================================================================================\n",
      "(47) train : 4546-9545 [5000] & test 9546-9546 [1]\n"
     ]
    },
    {
     "name": "stderr",
     "output_type": "stream",
     "text": [
      "\r",
      "47it [10:49, 14.00s/it]"
     ]
    },
    {
     "name": "stdout",
     "output_type": "stream",
     "text": [
      "====================================================================================================\n",
      "(48) train : 4547-9546 [5000] & test 9547-9547 [1]\n"
     ]
    },
    {
     "name": "stderr",
     "output_type": "stream",
     "text": [
      "\r",
      "48it [11:02, 13.84s/it]"
     ]
    },
    {
     "name": "stdout",
     "output_type": "stream",
     "text": [
      "====================================================================================================\n",
      "(49) train : 4548-9547 [5000] & test 9548-9548 [1]\n"
     ]
    },
    {
     "name": "stderr",
     "output_type": "stream",
     "text": [
      "\r",
      "49it [11:16, 13.80s/it]"
     ]
    },
    {
     "name": "stdout",
     "output_type": "stream",
     "text": [
      "====================================================================================================\n",
      "(50) train : 4549-9548 [5000] & test 9549-9549 [1]\n"
     ]
    },
    {
     "name": "stderr",
     "output_type": "stream",
     "text": [
      "\r",
      "50it [11:30, 13.90s/it]"
     ]
    },
    {
     "name": "stdout",
     "output_type": "stream",
     "text": [
      "====================================================================================================\n",
      "(51) train : 4550-9549 [5000] & test 9550-9550 [1]\n"
     ]
    },
    {
     "name": "stderr",
     "output_type": "stream",
     "text": [
      "\r",
      "51it [11:44, 13.82s/it]"
     ]
    },
    {
     "name": "stdout",
     "output_type": "stream",
     "text": [
      "====================================================================================================\n",
      "(52) train : 4551-9550 [5000] & test 9551-9551 [1]\n"
     ]
    },
    {
     "name": "stderr",
     "output_type": "stream",
     "text": [
      "\r",
      "52it [11:58, 13.76s/it]"
     ]
    },
    {
     "name": "stdout",
     "output_type": "stream",
     "text": [
      "====================================================================================================\n",
      "(53) train : 4552-9551 [5000] & test 9552-9552 [1]\n"
     ]
    },
    {
     "name": "stderr",
     "output_type": "stream",
     "text": [
      "\r",
      "53it [12:11, 13.69s/it]"
     ]
    },
    {
     "name": "stdout",
     "output_type": "stream",
     "text": [
      "====================================================================================================\n",
      "(54) train : 4553-9552 [5000] & test 9553-9553 [1]\n"
     ]
    },
    {
     "name": "stderr",
     "output_type": "stream",
     "text": [
      "\r",
      "54it [12:25, 13.70s/it]"
     ]
    },
    {
     "name": "stdout",
     "output_type": "stream",
     "text": [
      "====================================================================================================\n",
      "(55) train : 4554-9553 [5000] & test 9554-9554 [1]\n"
     ]
    },
    {
     "name": "stderr",
     "output_type": "stream",
     "text": [
      "\r",
      "55it [12:38, 13.67s/it]"
     ]
    },
    {
     "name": "stdout",
     "output_type": "stream",
     "text": [
      "====================================================================================================\n",
      "(56) train : 4555-9554 [5000] & test 9555-9555 [1]\n"
     ]
    },
    {
     "name": "stderr",
     "output_type": "stream",
     "text": [
      "\r",
      "56it [12:52, 13.64s/it]"
     ]
    },
    {
     "name": "stdout",
     "output_type": "stream",
     "text": [
      "====================================================================================================\n",
      "(57) train : 4556-9555 [5000] & test 9556-9556 [1]\n"
     ]
    },
    {
     "name": "stderr",
     "output_type": "stream",
     "text": [
      "\r",
      "57it [13:06, 13.61s/it]"
     ]
    },
    {
     "name": "stdout",
     "output_type": "stream",
     "text": [
      "====================================================================================================\n",
      "(58) train : 4557-9556 [5000] & test 9557-9557 [1]\n"
     ]
    },
    {
     "name": "stderr",
     "output_type": "stream",
     "text": [
      "\r",
      "58it [13:19, 13.59s/it]"
     ]
    },
    {
     "name": "stdout",
     "output_type": "stream",
     "text": [
      "====================================================================================================\n",
      "(59) train : 4558-9557 [5000] & test 9558-9558 [1]\n"
     ]
    },
    {
     "name": "stderr",
     "output_type": "stream",
     "text": [
      "\r",
      "59it [13:33, 13.56s/it]"
     ]
    },
    {
     "name": "stdout",
     "output_type": "stream",
     "text": [
      "====================================================================================================\n",
      "(60) train : 4559-9558 [5000] & test 9559-9559 [1]\n"
     ]
    },
    {
     "name": "stderr",
     "output_type": "stream",
     "text": [
      "\r",
      "60it [13:46, 13.55s/it]"
     ]
    },
    {
     "name": "stdout",
     "output_type": "stream",
     "text": [
      "====================================================================================================\n",
      "(61) train : 4560-9559 [5000] & test 9560-9560 [1]\n"
     ]
    },
    {
     "name": "stderr",
     "output_type": "stream",
     "text": [
      "\r",
      "61it [14:00, 13.56s/it]"
     ]
    },
    {
     "name": "stdout",
     "output_type": "stream",
     "text": [
      "====================================================================================================\n",
      "(62) train : 4561-9560 [5000] & test 9561-9561 [1]\n"
     ]
    },
    {
     "name": "stderr",
     "output_type": "stream",
     "text": [
      "\r",
      "62it [14:13, 13.58s/it]"
     ]
    },
    {
     "name": "stdout",
     "output_type": "stream",
     "text": [
      "====================================================================================================\n",
      "(63) train : 4562-9561 [5000] & test 9562-9562 [1]\n"
     ]
    },
    {
     "name": "stderr",
     "output_type": "stream",
     "text": [
      "\r",
      "63it [14:27, 13.59s/it]"
     ]
    },
    {
     "name": "stdout",
     "output_type": "stream",
     "text": [
      "====================================================================================================\n",
      "(64) train : 4563-9562 [5000] & test 9563-9563 [1]\n"
     ]
    },
    {
     "name": "stderr",
     "output_type": "stream",
     "text": [
      "\r",
      "64it [14:41, 13.62s/it]"
     ]
    },
    {
     "name": "stdout",
     "output_type": "stream",
     "text": [
      "====================================================================================================\n",
      "(65) train : 4564-9563 [5000] & test 9564-9564 [1]\n"
     ]
    },
    {
     "name": "stderr",
     "output_type": "stream",
     "text": [
      "\r",
      "65it [14:54, 13.61s/it]"
     ]
    },
    {
     "name": "stdout",
     "output_type": "stream",
     "text": [
      "====================================================================================================\n",
      "(66) train : 4565-9564 [5000] & test 9565-9565 [1]\n"
     ]
    },
    {
     "name": "stderr",
     "output_type": "stream",
     "text": [
      "\r",
      "66it [15:08, 13.66s/it]"
     ]
    },
    {
     "name": "stdout",
     "output_type": "stream",
     "text": [
      "====================================================================================================\n",
      "(67) train : 4566-9565 [5000] & test 9566-9566 [1]\n"
     ]
    },
    {
     "name": "stderr",
     "output_type": "stream",
     "text": [
      "\r",
      "67it [38:53, 437.03s/it]"
     ]
    },
    {
     "name": "stdout",
     "output_type": "stream",
     "text": [
      "====================================================================================================\n",
      "(68) train : 4567-9566 [5000] & test 9567-9567 [1]\n"
     ]
    },
    {
     "name": "stderr",
     "output_type": "stream",
     "text": [
      "\r",
      "68it [39:09, 310.68s/it]"
     ]
    },
    {
     "name": "stdout",
     "output_type": "stream",
     "text": [
      "====================================================================================================\n",
      "(69) train : 4568-9567 [5000] & test 9568-9568 [1]\n"
     ]
    },
    {
     "name": "stderr",
     "output_type": "stream",
     "text": [
      "\r",
      "69it [39:25, 222.44s/it]"
     ]
    },
    {
     "name": "stdout",
     "output_type": "stream",
     "text": [
      "====================================================================================================\n",
      "(70) train : 4569-9568 [5000] & test 9569-9569 [1]\n"
     ]
    },
    {
     "name": "stderr",
     "output_type": "stream",
     "text": [
      "\r",
      "70it [39:42, 160.69s/it]"
     ]
    },
    {
     "name": "stdout",
     "output_type": "stream",
     "text": [
      "====================================================================================================\n",
      "(71) train : 4570-9569 [5000] & test 9570-9570 [1]\n"
     ]
    },
    {
     "name": "stderr",
     "output_type": "stream",
     "text": [
      "\r",
      "71it [39:58, 117.37s/it]"
     ]
    },
    {
     "name": "stdout",
     "output_type": "stream",
     "text": [
      "====================================================================================================\n",
      "(72) train : 4571-9570 [5000] & test 9571-9571 [1]\n"
     ]
    },
    {
     "name": "stderr",
     "output_type": "stream",
     "text": [
      "\r",
      "72it [40:12, 86.22s/it] "
     ]
    },
    {
     "name": "stdout",
     "output_type": "stream",
     "text": [
      "====================================================================================================\n",
      "(73) train : 4572-9571 [5000] & test 9572-9572 [1]\n"
     ]
    },
    {
     "name": "stderr",
     "output_type": "stream",
     "text": [
      "\r",
      "73it [40:25, 64.39s/it]"
     ]
    },
    {
     "name": "stdout",
     "output_type": "stream",
     "text": [
      "====================================================================================================\n",
      "(74) train : 4573-9572 [5000] & test 9573-9573 [1]\n"
     ]
    },
    {
     "name": "stderr",
     "output_type": "stream",
     "text": [
      "\r",
      "74it [40:42, 50.24s/it]"
     ]
    },
    {
     "name": "stdout",
     "output_type": "stream",
     "text": [
      "====================================================================================================\n",
      "(75) train : 4574-9573 [5000] & test 9574-9574 [1]\n"
     ]
    },
    {
     "name": "stderr",
     "output_type": "stream",
     "text": [
      "\r",
      "75it [40:58, 39.90s/it]"
     ]
    },
    {
     "name": "stdout",
     "output_type": "stream",
     "text": [
      "====================================================================================================\n",
      "(76) train : 4575-9574 [5000] & test 9575-9575 [1]\n"
     ]
    },
    {
     "name": "stderr",
     "output_type": "stream",
     "text": [
      "\r",
      "76it [41:12, 32.23s/it]"
     ]
    },
    {
     "name": "stdout",
     "output_type": "stream",
     "text": [
      "====================================================================================================\n",
      "(77) train : 4576-9575 [5000] & test 9576-9576 [1]\n"
     ]
    },
    {
     "name": "stderr",
     "output_type": "stream",
     "text": [
      "\r",
      "77it [41:28, 27.14s/it]"
     ]
    },
    {
     "name": "stdout",
     "output_type": "stream",
     "text": [
      "====================================================================================================\n",
      "(78) train : 4577-9576 [5000] & test 9577-9577 [1]\n"
     ]
    },
    {
     "name": "stderr",
     "output_type": "stream",
     "text": [
      "\r",
      "78it [41:44, 23.75s/it]"
     ]
    },
    {
     "name": "stdout",
     "output_type": "stream",
     "text": [
      "====================================================================================================\n",
      "(79) train : 4578-9577 [5000] & test 9578-9578 [1]\n"
     ]
    },
    {
     "name": "stderr",
     "output_type": "stream",
     "text": [
      "\r",
      "79it [41:58, 21.07s/it]"
     ]
    },
    {
     "name": "stdout",
     "output_type": "stream",
     "text": [
      "====================================================================================================\n",
      "(80) train : 4579-9578 [5000] & test 9579-9579 [1]\n"
     ]
    },
    {
     "name": "stderr",
     "output_type": "stream",
     "text": [
      "\r",
      "80it [42:13, 19.22s/it]"
     ]
    },
    {
     "name": "stdout",
     "output_type": "stream",
     "text": [
      "====================================================================================================\n",
      "(81) train : 4580-9579 [5000] & test 9580-9580 [1]\n"
     ]
    },
    {
     "name": "stderr",
     "output_type": "stream",
     "text": [
      "\r",
      "81it [42:28, 17.71s/it]"
     ]
    },
    {
     "name": "stdout",
     "output_type": "stream",
     "text": [
      "====================================================================================================\n",
      "(82) train : 4581-9580 [5000] & test 9581-9581 [1]\n"
     ]
    },
    {
     "name": "stderr",
     "output_type": "stream",
     "text": [
      "\r",
      "82it [42:43, 17.12s/it]"
     ]
    },
    {
     "name": "stdout",
     "output_type": "stream",
     "text": [
      "====================================================================================================\n",
      "(83) train : 4582-9581 [5000] & test 9582-9582 [1]\n"
     ]
    },
    {
     "name": "stderr",
     "output_type": "stream",
     "text": [
      "\r",
      "83it [42:57, 16.25s/it]"
     ]
    },
    {
     "name": "stdout",
     "output_type": "stream",
     "text": [
      "====================================================================================================\n",
      "(84) train : 4583-9582 [5000] & test 9583-9583 [1]\n"
     ]
    },
    {
     "name": "stderr",
     "output_type": "stream",
     "text": [
      "\r",
      "84it [43:13, 16.17s/it]"
     ]
    },
    {
     "name": "stdout",
     "output_type": "stream",
     "text": [
      "====================================================================================================\n",
      "(85) train : 4584-9583 [5000] & test 9584-9584 [1]\n"
     ]
    },
    {
     "name": "stderr",
     "output_type": "stream",
     "text": [
      "\r",
      "85it [43:29, 16.09s/it]"
     ]
    },
    {
     "name": "stdout",
     "output_type": "stream",
     "text": [
      "====================================================================================================\n",
      "(86) train : 4585-9584 [5000] & test 9585-9585 [1]\n"
     ]
    },
    {
     "name": "stderr",
     "output_type": "stream",
     "text": [
      "\r",
      "86it [43:46, 16.18s/it]"
     ]
    },
    {
     "name": "stdout",
     "output_type": "stream",
     "text": [
      "====================================================================================================\n",
      "(87) train : 4586-9585 [5000] & test 9586-9586 [1]\n"
     ]
    },
    {
     "name": "stderr",
     "output_type": "stream",
     "text": [
      "\r",
      "87it [44:03, 16.44s/it]"
     ]
    },
    {
     "name": "stdout",
     "output_type": "stream",
     "text": [
      "====================================================================================================\n",
      "(88) train : 4587-9586 [5000] & test 9587-9587 [1]\n"
     ]
    },
    {
     "name": "stderr",
     "output_type": "stream",
     "text": [
      "\r",
      "88it [44:19, 16.23s/it]"
     ]
    },
    {
     "name": "stdout",
     "output_type": "stream",
     "text": [
      "====================================================================================================\n",
      "(89) train : 4588-9587 [5000] & test 9588-9588 [1]\n"
     ]
    },
    {
     "name": "stderr",
     "output_type": "stream",
     "text": [
      "\r",
      "89it [44:34, 15.86s/it]"
     ]
    },
    {
     "name": "stdout",
     "output_type": "stream",
     "text": [
      "====================================================================================================\n",
      "(90) train : 4589-9588 [5000] & test 9589-9589 [1]\n"
     ]
    },
    {
     "name": "stderr",
     "output_type": "stream",
     "text": [
      "\r",
      "90it [44:47, 15.23s/it]"
     ]
    },
    {
     "name": "stdout",
     "output_type": "stream",
     "text": [
      "====================================================================================================\n",
      "(91) train : 4590-9589 [5000] & test 9590-9590 [1]\n"
     ]
    },
    {
     "name": "stderr",
     "output_type": "stream",
     "text": [
      "\r",
      "91it [45:01, 14.74s/it]"
     ]
    },
    {
     "name": "stdout",
     "output_type": "stream",
     "text": [
      "====================================================================================================\n",
      "(92) train : 4591-9590 [5000] & test 9591-9591 [1]\n"
     ]
    },
    {
     "name": "stderr",
     "output_type": "stream",
     "text": [
      "\r",
      "92it [45:16, 14.84s/it]"
     ]
    },
    {
     "name": "stdout",
     "output_type": "stream",
     "text": [
      "====================================================================================================\n",
      "(93) train : 4592-9591 [5000] & test 9592-9592 [1]\n"
     ]
    },
    {
     "name": "stderr",
     "output_type": "stream",
     "text": [
      "\r",
      "93it [45:30, 14.54s/it]"
     ]
    },
    {
     "name": "stdout",
     "output_type": "stream",
     "text": [
      "====================================================================================================\n",
      "(94) train : 4593-9592 [5000] & test 9593-9593 [1]\n"
     ]
    },
    {
     "name": "stderr",
     "output_type": "stream",
     "text": [
      "\r",
      "94it [45:44, 14.33s/it]"
     ]
    },
    {
     "name": "stdout",
     "output_type": "stream",
     "text": [
      "====================================================================================================\n",
      "(95) train : 4594-9593 [5000] & test 9594-9594 [1]\n"
     ]
    },
    {
     "name": "stderr",
     "output_type": "stream",
     "text": [
      "\r",
      "95it [45:57, 14.11s/it]"
     ]
    },
    {
     "name": "stdout",
     "output_type": "stream",
     "text": [
      "====================================================================================================\n",
      "(96) train : 4595-9594 [5000] & test 9595-9595 [1]\n"
     ]
    },
    {
     "name": "stderr",
     "output_type": "stream",
     "text": [
      "\r",
      "96it [46:11, 13.96s/it]"
     ]
    },
    {
     "name": "stdout",
     "output_type": "stream",
     "text": [
      "====================================================================================================\n",
      "(97) train : 4596-9595 [5000] & test 9596-9596 [1]\n"
     ]
    },
    {
     "name": "stderr",
     "output_type": "stream",
     "text": [
      "\r",
      "97it [46:25, 13.88s/it]"
     ]
    },
    {
     "name": "stdout",
     "output_type": "stream",
     "text": [
      "====================================================================================================\n",
      "(98) train : 4597-9596 [5000] & test 9597-9597 [1]\n"
     ]
    },
    {
     "name": "stderr",
     "output_type": "stream",
     "text": [
      "\r",
      "98it [46:38, 13.78s/it]"
     ]
    },
    {
     "name": "stdout",
     "output_type": "stream",
     "text": [
      "====================================================================================================\n",
      "(99) train : 4598-9597 [5000] & test 9598-9598 [1]\n"
     ]
    },
    {
     "name": "stderr",
     "output_type": "stream",
     "text": [
      "\r",
      "99it [46:52, 13.70s/it]"
     ]
    },
    {
     "name": "stdout",
     "output_type": "stream",
     "text": [
      "====================================================================================================\n",
      "(100) train : 4599-9598 [5000] & test 9599-9599 [1]\n"
     ]
    },
    {
     "name": "stderr",
     "output_type": "stream",
     "text": [
      "100it [47:05, 28.26s/it]"
     ]
    },
    {
     "name": "stdout",
     "output_type": "stream",
     "text": [
      "====================================================================================================\n"
     ]
    },
    {
     "name": "stderr",
     "output_type": "stream",
     "text": [
      "\n"
     ]
    }
   ],
   "source": [
    "%time\n",
    "SPLITS = 100\n",
    "tscv = TSCV(X,n_splits=SPLITS,test_size=1,max_train_size=5000,verbose=True)\n",
    "\n",
    "clf_true = []\n",
    "clf_preds_list = []\n",
    "clf_probs_list = []\n",
    "clf_featimp_list = []\n",
    "\n",
    "rgr_true = []\n",
    "rgr_preds_list = []\n",
    "rgr_featimp_list = []\n",
    "\n",
    "for foo in tqdm(tscv):\n",
    "    \n",
    "    # Train & Test Sets --------------------------------------\n",
    "    train_idx,test_idx = foo\n",
    "    X_train, X_test = X.loc[train_idx], X.loc[test_idx]\n",
    "    y1_train, y1_test = md['target_bins_sign'].loc[train_idx], md['target_bins_sign'].loc[test_idx]\n",
    "    y2_train, y2_test = md['target_rtrns'].loc[train_idx], md['target_rtrns'].loc[test_idx]\n",
    "    \n",
    "    # Classification Task ------------------------------------\n",
    "    clf = LGBMClassifier(boosting_type='dart',n_estimators=500,objective='multiclass',n_jobs=-1)\n",
    "    clf.fit(X_train,y1_train)\n",
    "    clf_true.append(y1_test.iloc[0])\n",
    "    clf_preds_list.append(clf.predict(X_test)[0])\n",
    "    clf_probs_list.append(clf.predict_proba(X_test))\n",
    "    clf_featimp_list.append(pd.DataFrame({'features':X_train.columns,'importance':clf.feature_importances_}))\n",
    "    \n",
    "    # Regression Task ----------------------------------------\n",
    "    rgr = LGBMRegressor(boosting_type='dart',n_estimators=500,n_jobs=-1)\n",
    "    rgr.fit(X_train,y2_train)\n",
    "    rgr_true.append(y2_test.iloc[0])\n",
    "    rgr_preds_list.append(rgr.predict(X_test)[0])\n",
    "    rgr_featimp_list.append(pd.DataFrame({'features':X_train.columns,'importance':rgr.feature_importances_}))\n",
    "    \n",
    "    print(100*'=')"
   ]
  },
  {
   "cell_type": "code",
   "execution_count": 566,
   "id": "f2faba7b",
   "metadata": {},
   "outputs": [],
   "source": [
    "# [x.shape for x in [X_train,y1_train,y2_train]]\n",
    "# [x.shape for x in [X_test,y1_test,y2_test]]"
   ]
  },
  {
   "cell_type": "code",
   "execution_count": 66,
   "id": "f2028ddc",
   "metadata": {},
   "outputs": [
    {
     "data": {
      "text/html": [
       "<div>\n",
       "<style scoped>\n",
       "    .dataframe tbody tr th:only-of-type {\n",
       "        vertical-align: middle;\n",
       "    }\n",
       "\n",
       "    .dataframe tbody tr th {\n",
       "        vertical-align: top;\n",
       "    }\n",
       "\n",
       "    .dataframe thead th {\n",
       "        text-align: right;\n",
       "    }\n",
       "</style>\n",
       "<table border=\"1\" class=\"dataframe\">\n",
       "  <thead>\n",
       "    <tr style=\"text-align: right;\">\n",
       "      <th></th>\n",
       "      <th>clf_actual</th>\n",
       "      <th>clf_preds</th>\n",
       "      <th>clf_probs_0</th>\n",
       "      <th>clf_probs_1</th>\n",
       "      <th>clf_probs_2</th>\n",
       "      <th>rgr_actual</th>\n",
       "      <th>rgr_preds</th>\n",
       "    </tr>\n",
       "  </thead>\n",
       "  <tbody>\n",
       "    <tr>\n",
       "      <th>0</th>\n",
       "      <td>steady</td>\n",
       "      <td>steady</td>\n",
       "      <td>0.206035</td>\n",
       "      <td>0.743151</td>\n",
       "      <td>0.050814</td>\n",
       "      <td>-0.011798</td>\n",
       "      <td>-0.018816</td>\n",
       "    </tr>\n",
       "    <tr>\n",
       "      <th>1</th>\n",
       "      <td>steady</td>\n",
       "      <td>steady</td>\n",
       "      <td>0.035965</td>\n",
       "      <td>0.950288</td>\n",
       "      <td>0.013747</td>\n",
       "      <td>-0.011798</td>\n",
       "      <td>-0.012732</td>\n",
       "    </tr>\n",
       "    <tr>\n",
       "      <th>2</th>\n",
       "      <td>steady</td>\n",
       "      <td>steady</td>\n",
       "      <td>0.032366</td>\n",
       "      <td>0.956308</td>\n",
       "      <td>0.011326</td>\n",
       "      <td>-0.007430</td>\n",
       "      <td>-0.013620</td>\n",
       "    </tr>\n",
       "    <tr>\n",
       "      <th>3</th>\n",
       "      <td>steady</td>\n",
       "      <td>steady</td>\n",
       "      <td>0.009363</td>\n",
       "      <td>0.978296</td>\n",
       "      <td>0.012341</td>\n",
       "      <td>-0.000313</td>\n",
       "      <td>-0.005095</td>\n",
       "    </tr>\n",
       "    <tr>\n",
       "      <th>4</th>\n",
       "      <td>steady</td>\n",
       "      <td>steady</td>\n",
       "      <td>0.013371</td>\n",
       "      <td>0.976911</td>\n",
       "      <td>0.009718</td>\n",
       "      <td>-0.015344</td>\n",
       "      <td>-0.000768</td>\n",
       "    </tr>\n",
       "    <tr>\n",
       "      <th>...</th>\n",
       "      <td>...</td>\n",
       "      <td>...</td>\n",
       "      <td>...</td>\n",
       "      <td>...</td>\n",
       "      <td>...</td>\n",
       "      <td>...</td>\n",
       "      <td>...</td>\n",
       "    </tr>\n",
       "    <tr>\n",
       "      <th>95</th>\n",
       "      <td>steady</td>\n",
       "      <td>steady</td>\n",
       "      <td>0.023151</td>\n",
       "      <td>0.722009</td>\n",
       "      <td>0.254840</td>\n",
       "      <td>0.017047</td>\n",
       "      <td>0.013029</td>\n",
       "    </tr>\n",
       "    <tr>\n",
       "      <th>96</th>\n",
       "      <td>steady</td>\n",
       "      <td>steady</td>\n",
       "      <td>0.073103</td>\n",
       "      <td>0.492989</td>\n",
       "      <td>0.433908</td>\n",
       "      <td>-0.017816</td>\n",
       "      <td>0.014540</td>\n",
       "    </tr>\n",
       "    <tr>\n",
       "      <th>97</th>\n",
       "      <td>steady</td>\n",
       "      <td>steady</td>\n",
       "      <td>0.020105</td>\n",
       "      <td>0.839966</td>\n",
       "      <td>0.139930</td>\n",
       "      <td>0.007060</td>\n",
       "      <td>-0.002276</td>\n",
       "    </tr>\n",
       "    <tr>\n",
       "      <th>98</th>\n",
       "      <td>steady</td>\n",
       "      <td>steady</td>\n",
       "      <td>0.036030</td>\n",
       "      <td>0.868201</td>\n",
       "      <td>0.095770</td>\n",
       "      <td>-0.003113</td>\n",
       "      <td>-0.000722</td>\n",
       "    </tr>\n",
       "    <tr>\n",
       "      <th>99</th>\n",
       "      <td>steady</td>\n",
       "      <td>steady</td>\n",
       "      <td>0.025106</td>\n",
       "      <td>0.929710</td>\n",
       "      <td>0.045184</td>\n",
       "      <td>0.001126</td>\n",
       "      <td>-0.006893</td>\n",
       "    </tr>\n",
       "  </tbody>\n",
       "</table>\n",
       "<p>100 rows × 7 columns</p>\n",
       "</div>"
      ],
      "text/plain": [
       "   clf_actual clf_preds  clf_probs_0  clf_probs_1  clf_probs_2  rgr_actual  \\\n",
       "0      steady    steady     0.206035     0.743151     0.050814   -0.011798   \n",
       "1      steady    steady     0.035965     0.950288     0.013747   -0.011798   \n",
       "2      steady    steady     0.032366     0.956308     0.011326   -0.007430   \n",
       "3      steady    steady     0.009363     0.978296     0.012341   -0.000313   \n",
       "4      steady    steady     0.013371     0.976911     0.009718   -0.015344   \n",
       "..        ...       ...          ...          ...          ...         ...   \n",
       "95     steady    steady     0.023151     0.722009     0.254840    0.017047   \n",
       "96     steady    steady     0.073103     0.492989     0.433908   -0.017816   \n",
       "97     steady    steady     0.020105     0.839966     0.139930    0.007060   \n",
       "98     steady    steady     0.036030     0.868201     0.095770   -0.003113   \n",
       "99     steady    steady     0.025106     0.929710     0.045184    0.001126   \n",
       "\n",
       "    rgr_preds  \n",
       "0   -0.018816  \n",
       "1   -0.012732  \n",
       "2   -0.013620  \n",
       "3   -0.005095  \n",
       "4   -0.000768  \n",
       "..        ...  \n",
       "95   0.013029  \n",
       "96   0.014540  \n",
       "97  -0.002276  \n",
       "98  -0.000722  \n",
       "99  -0.006893  \n",
       "\n",
       "[100 rows x 7 columns]"
      ]
     },
     "execution_count": 66,
     "metadata": {},
     "output_type": "execute_result"
    }
   ],
   "source": [
    "res = pd.DataFrame({'clf_actual':clf_true,\n",
    "                    'clf_preds':clf_preds_list,\n",
    "                    'clf_probs_0':[x[0][0] for x in clf_probs_list],\n",
    "                    'clf_probs_1':[x[0][1] for x in clf_probs_list],\n",
    "                    'clf_probs_2':[x[0][2] for x in clf_probs_list],\n",
    "                    'rgr_actual':rgr_true,\n",
    "                    'rgr_preds':rgr_preds_list})\n",
    "res"
   ]
  },
  {
   "cell_type": "code",
   "execution_count": 67,
   "id": "e9de3bd4",
   "metadata": {},
   "outputs": [
    {
     "data": {
      "text/html": [
       "<div>\n",
       "<style scoped>\n",
       "    .dataframe tbody tr th:only-of-type {\n",
       "        vertical-align: middle;\n",
       "    }\n",
       "\n",
       "    .dataframe tbody tr th {\n",
       "        vertical-align: top;\n",
       "    }\n",
       "\n",
       "    .dataframe thead th {\n",
       "        text-align: right;\n",
       "    }\n",
       "</style>\n",
       "<table border=\"1\" class=\"dataframe\">\n",
       "  <thead>\n",
       "    <tr style=\"text-align: right;\">\n",
       "      <th>clf_preds</th>\n",
       "      <th>down</th>\n",
       "      <th>steady</th>\n",
       "      <th>up</th>\n",
       "    </tr>\n",
       "    <tr>\n",
       "      <th>clf_actual</th>\n",
       "      <th></th>\n",
       "      <th></th>\n",
       "      <th></th>\n",
       "    </tr>\n",
       "  </thead>\n",
       "  <tbody>\n",
       "    <tr>\n",
       "      <th>down</th>\n",
       "      <td>38</td>\n",
       "      <td>6</td>\n",
       "      <td>0</td>\n",
       "    </tr>\n",
       "    <tr>\n",
       "      <th>steady</th>\n",
       "      <td>3</td>\n",
       "      <td>30</td>\n",
       "      <td>5</td>\n",
       "    </tr>\n",
       "    <tr>\n",
       "      <th>up</th>\n",
       "      <td>0</td>\n",
       "      <td>5</td>\n",
       "      <td>13</td>\n",
       "    </tr>\n",
       "  </tbody>\n",
       "</table>\n",
       "</div>"
      ],
      "text/plain": [
       "clf_preds   down  steady  up\n",
       "clf_actual                  \n",
       "down          38       6   0\n",
       "steady         3      30   5\n",
       "up             0       5  13"
      ]
     },
     "execution_count": 67,
     "metadata": {},
     "output_type": "execute_result"
    }
   ],
   "source": [
    "pd.crosstab(res.clf_actual,res.clf_preds)"
   ]
  },
  {
   "cell_type": "code",
   "execution_count": 93,
   "id": "8c09657f",
   "metadata": {},
   "outputs": [
    {
     "data": {
      "text/html": [
       "<div>\n",
       "<style scoped>\n",
       "    .dataframe tbody tr th:only-of-type {\n",
       "        vertical-align: middle;\n",
       "    }\n",
       "\n",
       "    .dataframe tbody tr th {\n",
       "        vertical-align: top;\n",
       "    }\n",
       "\n",
       "    .dataframe thead th {\n",
       "        text-align: right;\n",
       "    }\n",
       "</style>\n",
       "<table border=\"1\" class=\"dataframe\">\n",
       "  <thead>\n",
       "    <tr style=\"text-align: right;\">\n",
       "      <th></th>\n",
       "      <th>clf_actual</th>\n",
       "      <th>clf_preds</th>\n",
       "      <th>rgr_actual</th>\n",
       "      <th>rgr_preds</th>\n",
       "    </tr>\n",
       "  </thead>\n",
       "  <tbody>\n",
       "    <tr>\n",
       "      <th>47</th>\n",
       "      <td>down</td>\n",
       "      <td>steady</td>\n",
       "      <td>-0.045357</td>\n",
       "      <td>-0.011122</td>\n",
       "    </tr>\n",
       "    <tr>\n",
       "      <th>67</th>\n",
       "      <td>down</td>\n",
       "      <td>steady</td>\n",
       "      <td>-0.041074</td>\n",
       "      <td>-0.018220</td>\n",
       "    </tr>\n",
       "    <tr>\n",
       "      <th>59</th>\n",
       "      <td>down</td>\n",
       "      <td>steady</td>\n",
       "      <td>-0.039986</td>\n",
       "      <td>-0.023311</td>\n",
       "    </tr>\n",
       "    <tr>\n",
       "      <th>46</th>\n",
       "      <td>down</td>\n",
       "      <td>steady</td>\n",
       "      <td>-0.038928</td>\n",
       "      <td>-0.002981</td>\n",
       "    </tr>\n",
       "    <tr>\n",
       "      <th>75</th>\n",
       "      <td>down</td>\n",
       "      <td>steady</td>\n",
       "      <td>-0.035049</td>\n",
       "      <td>-0.022140</td>\n",
       "    </tr>\n",
       "    <tr>\n",
       "      <th>66</th>\n",
       "      <td>down</td>\n",
       "      <td>steady</td>\n",
       "      <td>-0.033333</td>\n",
       "      <td>-0.019588</td>\n",
       "    </tr>\n",
       "    <tr>\n",
       "      <th>58</th>\n",
       "      <td>steady</td>\n",
       "      <td>down</td>\n",
       "      <td>-0.028627</td>\n",
       "      <td>-0.022900</td>\n",
       "    </tr>\n",
       "    <tr>\n",
       "      <th>94</th>\n",
       "      <td>steady</td>\n",
       "      <td>up</td>\n",
       "      <td>-0.013579</td>\n",
       "      <td>0.033933</td>\n",
       "    </tr>\n",
       "    <tr>\n",
       "      <th>93</th>\n",
       "      <td>steady</td>\n",
       "      <td>down</td>\n",
       "      <td>-0.011780</td>\n",
       "      <td>-0.018906</td>\n",
       "    </tr>\n",
       "    <tr>\n",
       "      <th>64</th>\n",
       "      <td>steady</td>\n",
       "      <td>down</td>\n",
       "      <td>-0.001933</td>\n",
       "      <td>-0.030460</td>\n",
       "    </tr>\n",
       "    <tr>\n",
       "      <th>39</th>\n",
       "      <td>steady</td>\n",
       "      <td>up</td>\n",
       "      <td>0.019897</td>\n",
       "      <td>0.014240</td>\n",
       "    </tr>\n",
       "    <tr>\n",
       "      <th>32</th>\n",
       "      <td>steady</td>\n",
       "      <td>up</td>\n",
       "      <td>0.027330</td>\n",
       "      <td>0.034195</td>\n",
       "    </tr>\n",
       "    <tr>\n",
       "      <th>31</th>\n",
       "      <td>steady</td>\n",
       "      <td>up</td>\n",
       "      <td>0.028605</td>\n",
       "      <td>0.035500</td>\n",
       "    </tr>\n",
       "    <tr>\n",
       "      <th>27</th>\n",
       "      <td>steady</td>\n",
       "      <td>up</td>\n",
       "      <td>0.029089</td>\n",
       "      <td>0.029518</td>\n",
       "    </tr>\n",
       "    <tr>\n",
       "      <th>35</th>\n",
       "      <td>up</td>\n",
       "      <td>steady</td>\n",
       "      <td>0.033591</td>\n",
       "      <td>0.025284</td>\n",
       "    </tr>\n",
       "    <tr>\n",
       "      <th>15</th>\n",
       "      <td>up</td>\n",
       "      <td>steady</td>\n",
       "      <td>0.037742</td>\n",
       "      <td>0.000307</td>\n",
       "    </tr>\n",
       "    <tr>\n",
       "      <th>17</th>\n",
       "      <td>up</td>\n",
       "      <td>steady</td>\n",
       "      <td>0.038822</td>\n",
       "      <td>0.010789</td>\n",
       "    </tr>\n",
       "    <tr>\n",
       "      <th>28</th>\n",
       "      <td>up</td>\n",
       "      <td>steady</td>\n",
       "      <td>0.039058</td>\n",
       "      <td>0.025103</td>\n",
       "    </tr>\n",
       "    <tr>\n",
       "      <th>24</th>\n",
       "      <td>up</td>\n",
       "      <td>steady</td>\n",
       "      <td>0.039215</td>\n",
       "      <td>0.009197</td>\n",
       "    </tr>\n",
       "  </tbody>\n",
       "</table>\n",
       "</div>"
      ],
      "text/plain": [
       "   clf_actual clf_preds  rgr_actual  rgr_preds\n",
       "47       down    steady   -0.045357  -0.011122\n",
       "67       down    steady   -0.041074  -0.018220\n",
       "59       down    steady   -0.039986  -0.023311\n",
       "46       down    steady   -0.038928  -0.002981\n",
       "75       down    steady   -0.035049  -0.022140\n",
       "66       down    steady   -0.033333  -0.019588\n",
       "58     steady      down   -0.028627  -0.022900\n",
       "94     steady        up   -0.013579   0.033933\n",
       "93     steady      down   -0.011780  -0.018906\n",
       "64     steady      down   -0.001933  -0.030460\n",
       "39     steady        up    0.019897   0.014240\n",
       "32     steady        up    0.027330   0.034195\n",
       "31     steady        up    0.028605   0.035500\n",
       "27     steady        up    0.029089   0.029518\n",
       "35         up    steady    0.033591   0.025284\n",
       "15         up    steady    0.037742   0.000307\n",
       "17         up    steady    0.038822   0.010789\n",
       "28         up    steady    0.039058   0.025103\n",
       "24         up    steady    0.039215   0.009197"
      ]
     },
     "execution_count": 93,
     "metadata": {},
     "output_type": "execute_result"
    }
   ],
   "source": [
    "res.query(\"clf_actual!=clf_preds\")[[x for x in res.columns if 'probs' not in x]].sort_values(by=['rgr_actual'])"
   ]
  },
  {
   "cell_type": "code",
   "execution_count": 74,
   "id": "24d84d8f",
   "metadata": {},
   "outputs": [
    {
     "data": {
      "text/plain": [
       "0.81"
      ]
     },
     "execution_count": 74,
     "metadata": {},
     "output_type": "execute_result"
    }
   ],
   "source": [
    "accuracy_score(res.clf_actual,res.clf_preds)"
   ]
  },
  {
   "cell_type": "code",
   "execution_count": 78,
   "id": "e09defc4",
   "metadata": {},
   "outputs": [
    {
     "name": "stdout",
     "output_type": "stream",
     "text": [
      "              precision    recall  f1-score   support\n",
      "\n",
      "        down       0.93      0.86      0.89        44\n",
      "      steady       0.73      0.79      0.76        38\n",
      "          up       0.72      0.72      0.72        18\n",
      "\n",
      "    accuracy                           0.81       100\n",
      "   macro avg       0.79      0.79      0.79       100\n",
      "weighted avg       0.82      0.81      0.81       100\n",
      "\n"
     ]
    }
   ],
   "source": [
    "print(classification_report(res.clf_actual,res.clf_preds))"
   ]
  },
  {
   "cell_type": "code",
   "execution_count": 83,
   "id": "7232e87e",
   "metadata": {},
   "outputs": [
    {
     "data": {
      "image/png": "[encoded data removed]",
      "text/plain": [
       "<Figure size 432x288 with 2 Axes>"
      ]
     },
     "metadata": {
      "needs_background": "light"
     },
     "output_type": "display_data"
    }
   ],
   "source": [
    "cm = confusion_matrix(res.clf_actual,res.clf_preds)\n",
    "disp = ConfusionMatrixDisplay(confusion_matrix=cm,display_labels=clf.classes_)\n",
    "disp.plot()\n",
    "plt.show()"
   ]
  },
  {
   "cell_type": "code",
   "execution_count": 84,
   "id": "b4072740",
   "metadata": {},
   "outputs": [
    {
     "data": {
      "text/plain": [
       "<AxesSubplot:ylabel='features'>"
      ]
     },
     "execution_count": 84,
     "metadata": {},
     "output_type": "execute_result"
    },
    {
     "data": {
      "image/png": "[encoded data removed]",
      "text/plain": [
       "<Figure size 360x720 with 1 Axes>"
      ]
     },
     "metadata": {
      "needs_background": "light"
     },
     "output_type": "display_data"
    }
   ],
   "source": [
    "pd.concat(clf_featimp_list)\\\n",
    "    .groupby(['features'])['importance'].sum()\\\n",
    "    .sort_values(ascending=False)\\\n",
    "    .head(50)\\\n",
    "    .plot(kind='barh',figsize=(5,10))"
   ]
  },
  {
   "cell_type": "code",
   "execution_count": 102,
   "id": "a853fc49",
   "metadata": {},
   "outputs": [
    {
     "data": {
      "text/plain": [
       "<AxesSubplot:xlabel='rgr_actual', ylabel='rgr_preds'>"
      ]
     },
     "execution_count": 102,
     "metadata": {},
     "output_type": "execute_result"
    },
    {
     "data": {
      "image/png": "[encoded data removed]",
      "text/plain": [
       "<Figure size 432x288 with 1 Axes>"
      ]
     },
     "metadata": {
      "needs_background": "light"
     },
     "output_type": "display_data"
    }
   ],
   "source": [
    "# res.assign(color = lambda x : x.clf_actual.map({\n",
    "#     'steady':'black','down':'red','up':'blue'\n",
    "# })).plot.scatter(x='rgr_actual',y='rgr_preds',c='color')\n",
    "\n",
    "res.assign(color = lambda x : np.where(x.clf_actual==x.clf_preds,'green','red')).\\\n",
    "    plot.scatter(x='rgr_actual',y='rgr_preds',c='color')"
   ]
  },
  {
   "cell_type": "code",
   "execution_count": 88,
   "id": "3957564f",
   "metadata": {},
   "outputs": [
    {
     "name": "stdout",
     "output_type": "stream",
     "text": [
      "mean_absolute_error : 0.01683804334827456\n",
      "mean_absolute_percentage_error : 1.006678943829433\n",
      "mean_squared_error : 0.000426908930026047\n",
      "median_absolute_error : 0.013849865371937246\n",
      "r2_score : 0.6658851459064999\n"
     ]
    }
   ],
   "source": [
    "print(f'mean_absolute_error : {mean_absolute_error(res.rgr_actual,res.rgr_preds)}')\n",
    "print(f'mean_absolute_percentage_error : {mean_absolute_percentage_error(res.rgr_actual,res.rgr_preds):}')\n",
    "print(f'mean_squared_error : {mean_squared_error(res.rgr_actual,res.rgr_preds)}')\n",
    "print(f'median_absolute_error : {median_absolute_error(res.rgr_actual,res.rgr_preds)}')\n",
    "print(f'r2_score : {r2_score(res.rgr_actual,res.rgr_preds)}')"
   ]
  },
  {
   "cell_type": "code",
   "execution_count": 89,
   "id": "0f2ac728",
   "metadata": {},
   "outputs": [
    {
     "data": {
      "text/plain": [
       "<AxesSubplot:ylabel='features'>"
      ]
     },
     "execution_count": 89,
     "metadata": {},
     "output_type": "execute_result"
    },
    {
     "data": {
      "image/png": "[encoded data removed]",
      "text/plain": [
       "<Figure size 360x720 with 1 Axes>"
      ]
     },
     "metadata": {
      "needs_background": "light"
     },
     "output_type": "display_data"
    }
   ],
   "source": [
    "pd.concat(rgr_featimp_list)\\\n",
    "    .groupby(['features'])['importance'].sum()\\\n",
    "    .sort_values(ascending=False)\\\n",
    "    .head(50)\\\n",
    "    .plot(kind='barh',figsize=(5,10))"
   ]
  }
 ],
 "metadata": {
  "kernelspec": {
   "display_name": "Python 3",
   "language": "python",
   "name": "python3"
  },
  "language_info": {
   "codemirror_mode": {
    "name": "ipython",
    "version": 3
   },
   "file_extension": ".py",
   "mimetype": "text/x-python",
   "name": "python",
   "nbconvert_exporter": "python",
   "pygments_lexer": "ipython3",
   "version": "3.8.8"
  }
 },
 "nbformat": 4,
 "nbformat_minor": 5
}
