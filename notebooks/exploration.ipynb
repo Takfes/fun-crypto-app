{
 "cells": [
  {
   "cell_type": "code",
   "execution_count": 3,
   "id": "44aa053e",
   "metadata": {},
   "outputs": [],
   "source": [
    "import os\n",
    "import numpy as np\n",
    "import pandas as pd\n",
    "pd.set_option('display.max_rows', 50)\n",
    "pd.set_option('display.max_columns', 15)\n",
    "import matplotlib.pyplot as plt\n",
    "import seaborn as sns\n",
    "from pathlib import Path\n",
    "from datetime import datetime\n",
    "%matplotlib inline"
   ]
  },
  {
   "cell_type": "code",
   "execution_count": 4,
   "id": "a668e387",
   "metadata": {},
   "outputs": [],
   "source": [
    "import talib\n",
    "from ta import add_all_ta_features"
   ]
  },
  {
   "cell_type": "markdown",
   "id": "2f363a46",
   "metadata": {},
   "source": [
    "### Read full database"
   ]
  },
  {
   "cell_type": "code",
   "execution_count": 5,
   "id": "6fdfdd9b",
   "metadata": {},
   "outputs": [],
   "source": [
    "DATA_PATH = r'../data/'\n",
    "FILE_NAME = '20220313_034756_111.pkl'\n",
    "FULL_PATH = Path(DATA_PATH,FILE_NAME)"
   ]
  },
  {
   "cell_type": "code",
   "execution_count": 35,
   "id": "e15a3927",
   "metadata": {},
   "outputs": [
    {
     "name": "stdout",
     "output_type": "stream",
     "text": [
      "CPU times: user 4 µs, sys: 1e+03 ns, total: 5 µs\n",
      "Wall time: 8.82 µs\n"
     ]
    },
    {
     "data": {
      "text/plain": [
       "(5675397, 14)"
      ]
     },
     "execution_count": 35,
     "metadata": {},
     "output_type": "execute_result"
    }
   ],
   "source": [
    "%time\n",
    "raw = pd.read_pickle(FULL_PATH)\n",
    "raw.shape"
   ]
  },
  {
   "cell_type": "code",
   "execution_count": 37,
   "id": "05fc2ba1",
   "metadata": {},
   "outputs": [
    {
     "data": {
      "text/plain": [
       "symbol                              object\n",
       "openTimets                           int64\n",
       "closeTimets                          int64\n",
       "openTime                    datetime64[ns]\n",
       "closeTime                   datetime64[ns]\n",
       "open                                object\n",
       "high                                object\n",
       "low                                 object\n",
       "close                               object\n",
       "volume                              object\n",
       "numTrades                            int64\n",
       "quoteAssetVolume                    object\n",
       "takerBuyBaseAssetVolume             object\n",
       "takerBuyQuoteAssetVolume            object\n",
       "dtype: object"
      ]
     },
     "execution_count": 37,
     "metadata": {},
     "output_type": "execute_result"
    }
   ],
   "source": [
    "raw.dtypes"
   ]
  },
  {
   "cell_type": "code",
   "execution_count": 38,
   "id": "4773f507",
   "metadata": {},
   "outputs": [
    {
     "data": {
      "text/plain": [
       "BTCUSDT     87964\n",
       "ETHUSDT     80325\n",
       "BCHUSDT     78208\n",
       "XRPUSDT     76486\n",
       "EOSUSDT     76292\n",
       "            ...  \n",
       "BAKEUSDT    28582\n",
       "BTTUSDT     28339\n",
       "GTCUSDT     26390\n",
       "TLMUSDT     23032\n",
       "KEEPUSDT    22843\n",
       "Name: symbol, Length: 111, dtype: int64"
      ]
     },
     "execution_count": 38,
     "metadata": {},
     "output_type": "execute_result"
    }
   ],
   "source": [
    "raw.symbol.value_counts()"
   ]
  },
  {
   "cell_type": "markdown",
   "id": "357f58ef",
   "metadata": {},
   "source": [
    "### Prepare and subset dataset"
   ]
  },
  {
   "cell_type": "code",
   "execution_count": 265,
   "id": "b65d2e45",
   "metadata": {},
   "outputs": [
    {
     "data": {
      "text/plain": [
       "(80325, 14)"
      ]
     },
     "execution_count": 265,
     "metadata": {},
     "output_type": "execute_result"
    }
   ],
   "source": [
    "df = raw.query('symbol==\"ETHUSDT\"')\n",
    "assert df.isnull().sum().sum() == 0\n",
    "df.shape"
   ]
  },
  {
   "cell_type": "code",
   "execution_count": 266,
   "id": "213e6099",
   "metadata": {},
   "outputs": [
    {
     "data": {
      "text/plain": [
       "symbol                              object\n",
       "openTimets                           int64\n",
       "closeTimets                          int64\n",
       "openTime                    datetime64[ns]\n",
       "closeTime                   datetime64[ns]\n",
       "open                               float32\n",
       "high                               float32\n",
       "low                                float32\n",
       "close                              float32\n",
       "volume                             float32\n",
       "numTrades                            int32\n",
       "quoteAssetVolume                   float32\n",
       "takerBuyBaseAssetVolume            float32\n",
       "takerBuyQuoteAssetVolume           float32\n",
       "dtype: object"
      ]
     },
     "execution_count": 266,
     "metadata": {},
     "output_type": "execute_result"
    }
   ],
   "source": [
    "# create datatypes dictionary\n",
    "datatypes = {k:'float32' if k!='numTrades' else 'int32' for k in df.loc[:,'open':].columns}\n",
    "# assign datatypes\n",
    "df = df.astype(datatypes)\n",
    "assert df.isnull().sum().sum() == 0\n",
    "df.dtypes"
   ]
  },
  {
   "cell_type": "code",
   "execution_count": 268,
   "id": "25de6cca",
   "metadata": {},
   "outputs": [],
   "source": [
    "df.to_pickle('../data/eth.pkl')"
   ]
  },
  {
   "cell_type": "markdown",
   "id": "06a3f7f3",
   "metadata": {},
   "source": [
    "### Read dataset from disk"
   ]
  },
  {
   "cell_type": "code",
   "execution_count": 5,
   "id": "009a1cc8",
   "metadata": {},
   "outputs": [],
   "source": [
    "raw = pd.read_pickle('../data/eth.pkl')"
   ]
  },
  {
   "cell_type": "markdown",
   "id": "032f3995",
   "metadata": {},
   "source": [
    "### Group on desired frequency"
   ]
  },
  {
   "cell_type": "code",
   "execution_count": 209,
   "id": "d4a32eb0",
   "metadata": {},
   "outputs": [
    {
     "data": {
      "text/html": [
       "<div>\n",
       "<style scoped>\n",
       "    .dataframe tbody tr th:only-of-type {\n",
       "        vertical-align: middle;\n",
       "    }\n",
       "\n",
       "    .dataframe tbody tr th {\n",
       "        vertical-align: top;\n",
       "    }\n",
       "\n",
       "    .dataframe thead th {\n",
       "        text-align: right;\n",
       "    }\n",
       "</style>\n",
       "<table border=\"1\" class=\"dataframe\">\n",
       "  <thead>\n",
       "    <tr style=\"text-align: right;\">\n",
       "      <th></th>\n",
       "      <th>opentime</th>\n",
       "      <th>closetime</th>\n",
       "      <th>open</th>\n",
       "      <th>high</th>\n",
       "      <th>low</th>\n",
       "      <th>close</th>\n",
       "      <th>volume</th>\n",
       "      <th>numtrade</th>\n",
       "    </tr>\n",
       "  </thead>\n",
       "  <tbody>\n",
       "    <tr>\n",
       "      <th>20076</th>\n",
       "      <td>2022-03-12 20:00:00</td>\n",
       "      <td>2022-03-12 20:59:00</td>\n",
       "      <td>2576.760010</td>\n",
       "      <td>2591.659912</td>\n",
       "      <td>2573.870117</td>\n",
       "      <td>2586.800049</td>\n",
       "      <td>25150.187500</td>\n",
       "      <td>35923</td>\n",
       "    </tr>\n",
       "    <tr>\n",
       "      <th>20077</th>\n",
       "      <td>2022-03-12 21:00:00</td>\n",
       "      <td>2022-03-12 21:59:00</td>\n",
       "      <td>2586.800049</td>\n",
       "      <td>2591.719971</td>\n",
       "      <td>2583.060059</td>\n",
       "      <td>2585.649902</td>\n",
       "      <td>13017.638672</td>\n",
       "      <td>24267</td>\n",
       "    </tr>\n",
       "    <tr>\n",
       "      <th>20078</th>\n",
       "      <td>2022-03-12 22:00:00</td>\n",
       "      <td>2022-03-12 22:59:00</td>\n",
       "      <td>2585.649902</td>\n",
       "      <td>2591.379883</td>\n",
       "      <td>2583.260010</td>\n",
       "      <td>2585.830078</td>\n",
       "      <td>10603.583008</td>\n",
       "      <td>26367</td>\n",
       "    </tr>\n",
       "    <tr>\n",
       "      <th>20079</th>\n",
       "      <td>2022-03-12 23:00:00</td>\n",
       "      <td>2022-03-12 23:59:00</td>\n",
       "      <td>2585.840088</td>\n",
       "      <td>2590.199951</td>\n",
       "      <td>2560.000000</td>\n",
       "      <td>2567.639893</td>\n",
       "      <td>35792.011719</td>\n",
       "      <td>49081</td>\n",
       "    </tr>\n",
       "    <tr>\n",
       "      <th>20080</th>\n",
       "      <td>2022-03-13 00:00:00</td>\n",
       "      <td>2022-03-13 00:59:00</td>\n",
       "      <td>2567.629883</td>\n",
       "      <td>2573.780029</td>\n",
       "      <td>2555.810059</td>\n",
       "      <td>2565.979980</td>\n",
       "      <td>41614.472656</td>\n",
       "      <td>50466</td>\n",
       "    </tr>\n",
       "  </tbody>\n",
       "</table>\n",
       "</div>"
      ],
      "text/plain": [
       "                 opentime           closetime         open         high  \\\n",
       "20076 2022-03-12 20:00:00 2022-03-12 20:59:00  2576.760010  2591.659912   \n",
       "20077 2022-03-12 21:00:00 2022-03-12 21:59:00  2586.800049  2591.719971   \n",
       "20078 2022-03-12 22:00:00 2022-03-12 22:59:00  2585.649902  2591.379883   \n",
       "20079 2022-03-12 23:00:00 2022-03-12 23:59:00  2585.840088  2590.199951   \n",
       "20080 2022-03-13 00:00:00 2022-03-13 00:59:00  2567.629883  2573.780029   \n",
       "\n",
       "               low        close        volume  numtrade  \n",
       "20076  2573.870117  2586.800049  25150.187500     35923  \n",
       "20077  2583.060059  2585.649902  13017.638672     24267  \n",
       "20078  2583.260010  2585.830078  10603.583008     26367  \n",
       "20079  2560.000000  2567.639893  35792.011719     49081  \n",
       "20080  2555.810059  2565.979980  41614.472656     50466  "
      ]
     },
     "execution_count": 209,
     "metadata": {},
     "output_type": "execute_result"
    }
   ],
   "source": [
    "df = \\\n",
    "    raw.groupby(pd.Grouper(key=\"openTime\", freq=\"1H\"))\\\n",
    "    .agg(\n",
    "        cnt=pd.NamedAgg(column=\"symbol\", aggfunc=\"size\"),\n",
    "        opentime=pd.NamedAgg(column=\"openTime\", aggfunc=\"min\"),\n",
    "        closetime=pd.NamedAgg(column=\"openTime\", aggfunc=\"min\"),\n",
    "        open=pd.NamedAgg(column=\"open\", aggfunc=\"first\"),\n",
    "        high=pd.NamedAgg(column=\"high\", aggfunc=\"max\"),\n",
    "        low=pd.NamedAgg(column=\"low\", aggfunc=\"min\"),\n",
    "        close=pd.NamedAgg(column=\"close\", aggfunc=\"last\"),\n",
    "        volume=pd.NamedAgg(column=\"volume\", aggfunc=\"sum\"),\n",
    "        numtrade=pd.NamedAgg(column=\"numTrades\", aggfunc=\"sum\"),\n",
    "    )\\\n",
    "    .query('cnt >= 4')\\\n",
    "    .drop('cnt',axis=1)\\\n",
    "    .assign(closetime = lambda x : x.closetime + pd.Timedelta(minutes=59))\\\n",
    "    .reset_index(drop=True)\n",
    "\n",
    "# alternative way to resample and regroup data\n",
    "# df = raw.resample('30min',on='opentime').agg({'close':'last','high':'max'}).tail(10)\n",
    "df.tail()"
   ]
  },
  {
   "cell_type": "markdown",
   "id": "9187e844",
   "metadata": {},
   "source": [
    "### Inspect Time Series"
   ]
  },
  {
   "cell_type": "code",
   "execution_count": 210,
   "id": "c5657a50",
   "metadata": {},
   "outputs": [
    {
     "data": {
      "text/plain": [
       "count                  20081\n",
       "mean     2021-01-18 16:00:00\n",
       "min      2019-11-27 08:00:00\n",
       "25%      2020-06-23 12:00:00\n",
       "50%      2021-01-18 16:00:00\n",
       "75%      2021-08-15 20:00:00\n",
       "max      2022-03-13 00:00:00\n",
       "Name: opentime, dtype: object"
      ]
     },
     "execution_count": 210,
     "metadata": {},
     "output_type": "execute_result"
    }
   ],
   "source": [
    "df.opentime.describe(datetime_is_numeric=True)"
   ]
  },
  {
   "cell_type": "code",
   "execution_count": 211,
   "id": "f80342dd",
   "metadata": {},
   "outputs": [
    {
     "data": {
      "text/plain": [
       "<matplotlib.axes._subplots.AxesSubplot at 0x7fa5fb7db9a0>"
      ]
     },
     "execution_count": 211,
     "metadata": {},
     "output_type": "execute_result"
    },
    {
     "data": {
      "image/png": "[encoded data removed]",
      "text/plain": [
       "<Figure size 432x288 with 1 Axes>"
      ]
     },
     "metadata": {
      "needs_background": "light"
     },
     "output_type": "display_data"
    }
   ],
   "source": [
    "df.close.plot()"
   ]
  },
  {
   "cell_type": "code",
   "execution_count": 212,
   "id": "aeba65d6",
   "metadata": {},
   "outputs": [
    {
     "data": {
      "text/plain": [
       "<matplotlib.axes._subplots.AxesSubplot at 0x7fa5f0ee70d0>"
      ]
     },
     "execution_count": 212,
     "metadata": {},
     "output_type": "execute_result"
    },
    {
     "data": {
      "image/png": "[encoded data removed]",
      "text/plain": [
       "<Figure size 432x288 with 1 Axes>"
      ]
     },
     "metadata": {
      "needs_background": "light"
     },
     "output_type": "display_data"
    }
   ],
   "source": [
    "df.query('opentime >= 2021').close.plot()"
   ]
  },
  {
   "cell_type": "code",
   "execution_count": 213,
   "id": "23b770bd",
   "metadata": {},
   "outputs": [
    {
     "data": {
      "text/plain": [
       "(10465, 8)"
      ]
     },
     "execution_count": 213,
     "metadata": {},
     "output_type": "execute_result"
    }
   ],
   "source": [
    "df = df.query('opentime >= 2021').copy()\n",
    "df.shape"
   ]
  },
  {
   "cell_type": "markdown",
   "id": "30de5a5d",
   "metadata": {},
   "source": [
    "### Decompose Time Series"
   ]
  },
  {
   "cell_type": "code",
   "execution_count": 214,
   "id": "1092761a",
   "metadata": {},
   "outputs": [
    {
     "name": "stdout",
     "output_type": "stream",
     "text": [
      "Figure(432x288)\n",
      "Figure(432x288)\n"
     ]
    },
    {
     "data": {
      "image/png": "[encoded data removed]",
      "text/plain": [
       "<Figure size 432x288 with 1 Axes>"
      ]
     },
     "metadata": {
      "needs_background": "light"
     },
     "output_type": "display_data"
    },
    {
     "data": {
      "image/png": "[encoded data removed]",
      "text/plain": [
       "<Figure size 432x288 with 1 Axes>"
      ]
     },
     "metadata": {
      "needs_background": "light"
     },
     "output_type": "display_data"
    }
   ],
   "source": [
    "from statsmodels.graphics.tsaplots import plot_acf, plot_pacf, acf, pacf\n",
    "from statsmodels.tsa.seasonal import seasonal_decompose\n",
    "# from statsmodels.tsa.seasonal import MSTL\n",
    "print(plot_acf(df.close))\n",
    "print(plot_pacf(df.close))\n",
    "# stl_kwargs = {\"seasonal_deg\": 0} \n",
    "# model = MSTL(df.close, periods=(24, 24 * 7), stl_kwargs=stl_kwargs)\n",
    "# res = model.fit()\n",
    "# res.plot()"
   ]
  },
  {
   "cell_type": "markdown",
   "id": "e3a8d08b",
   "metadata": {},
   "source": [
    "### Create Lag/Diff Features"
   ]
  },
  {
   "cell_type": "code",
   "execution_count": 215,
   "id": "3f70b789",
   "metadata": {},
   "outputs": [],
   "source": [
    "options_lags_feats = ['close','volume']\n",
    "options_lags = [1,2,3,24,48]\n",
    "for ff in options_lags_feats:\n",
    "    for ll in options_lags:\n",
    "        df[f'fx_{ff}_lag_{str(ll).zfill(3)}'] = df[ff].shift(ll)\n",
    "        df[f'fx_{ff}_diff_{str(ll).zfill(3)}'] = df[ff].diff(ll)"
   ]
  },
  {
   "cell_type": "code",
   "execution_count": 216,
   "id": "fc743c75",
   "metadata": {},
   "outputs": [
    {
     "data": {
      "text/plain": [
       "Index(['closetime', 'volume', 'fx_close_diff_002', 'fx_close_lag_048',\n",
       "       'fx_volume_diff_002', 'fx_volume_lag_048'],\n",
       "      dtype='object')"
      ]
     },
     "execution_count": 216,
     "metadata": {},
     "output_type": "execute_result"
    }
   ],
   "source": [
    "df.columns[1::5]"
   ]
  },
  {
   "cell_type": "code",
   "execution_count": 217,
   "id": "884bf5ef",
   "metadata": {},
   "outputs": [
    {
     "data": {
      "text/plain": [
       "(10465, 28)"
      ]
     },
     "execution_count": 217,
     "metadata": {},
     "output_type": "execute_result"
    }
   ],
   "source": [
    "df.shape"
   ]
  },
  {
   "cell_type": "markdown",
   "id": "33ae1714",
   "metadata": {},
   "source": [
    "### Create Rolling Features"
   ]
  },
  {
   "cell_type": "code",
   "execution_count": 218,
   "id": "8c3a30db",
   "metadata": {},
   "outputs": [],
   "source": [
    "options_wndf_feats = ['close','volume']\n",
    "options_wndf = [24,24*7]\n",
    "for ff in options_wndf_feats:\n",
    "    for ll in options_wndf:\n",
    "        df[f'fx_{ff}_min_{str(ll).zfill(3)}'] = df[ff].rolling(ll).min()\n",
    "        df[f'fx_{ff}_max_{str(ll).zfill(3)}'] = df[ff].rolling(ll).max()\n",
    "        df[f'fx_{ff}_std_{str(ll).zfill(3)}'] = df[ff].rolling(ll).std()"
   ]
  },
  {
   "cell_type": "code",
   "execution_count": 219,
   "id": "15c887b6",
   "metadata": {},
   "outputs": [
    {
     "data": {
      "text/plain": [
       "Index(['closetime', 'volume', 'fx_close_diff_002', 'fx_close_lag_048',\n",
       "       'fx_volume_diff_002', 'fx_volume_lag_048', 'fx_close_min_168',\n",
       "       'fx_volume_std_024'],\n",
       "      dtype='object')"
      ]
     },
     "execution_count": 219,
     "metadata": {},
     "output_type": "execute_result"
    }
   ],
   "source": [
    "df.columns[1::5]"
   ]
  },
  {
   "cell_type": "code",
   "execution_count": 220,
   "id": "833fe24b",
   "metadata": {},
   "outputs": [
    {
     "data": {
      "text/plain": [
       "(10465, 40)"
      ]
     },
     "execution_count": 220,
     "metadata": {},
     "output_type": "execute_result"
    }
   ],
   "source": [
    "df.shape"
   ]
  },
  {
   "cell_type": "markdown",
   "id": "0725a1ca",
   "metadata": {},
   "source": [
    "### Create TA Features"
   ]
  },
  {
   "cell_type": "code",
   "execution_count": 221,
   "id": "dff50bc1",
   "metadata": {},
   "outputs": [
    {
     "data": {
      "text/html": [
       "<div>\n",
       "<style scoped>\n",
       "    .dataframe tbody tr th:only-of-type {\n",
       "        vertical-align: middle;\n",
       "    }\n",
       "\n",
       "    .dataframe tbody tr th {\n",
       "        vertical-align: top;\n",
       "    }\n",
       "\n",
       "    .dataframe thead th {\n",
       "        text-align: right;\n",
       "    }\n",
       "</style>\n",
       "<table border=\"1\" class=\"dataframe\">\n",
       "  <thead>\n",
       "    <tr style=\"text-align: right;\">\n",
       "      <th></th>\n",
       "      <th>opentime</th>\n",
       "      <th>closetime</th>\n",
       "      <th>open</th>\n",
       "      <th>high</th>\n",
       "      <th>low</th>\n",
       "      <th>close</th>\n",
       "      <th>volume</th>\n",
       "      <th>...</th>\n",
       "      <th>fx_ema_slow</th>\n",
       "      <th>fx_atr</th>\n",
       "      <th>fx_adx</th>\n",
       "      <th>fx_rsi</th>\n",
       "      <th>fx_bb_upper</th>\n",
       "      <th>fx_bb_middle</th>\n",
       "      <th>fx_bb_lower</th>\n",
       "    </tr>\n",
       "  </thead>\n",
       "  <tbody>\n",
       "    <tr>\n",
       "      <th>20079</th>\n",
       "      <td>2022-03-12 23:00:00</td>\n",
       "      <td>2022-03-12 23:59:00</td>\n",
       "      <td>2585.840088</td>\n",
       "      <td>2590.199951</td>\n",
       "      <td>2560.000000</td>\n",
       "      <td>2567.639893</td>\n",
       "      <td>35792.011719</td>\n",
       "      <td>...</td>\n",
       "      <td>2582.337709</td>\n",
       "      <td>19.186999</td>\n",
       "      <td>6.528699</td>\n",
       "      <td>42.159494</td>\n",
       "      <td>2595.340954</td>\n",
       "      <td>2580.537988</td>\n",
       "      <td>2565.735023</td>\n",
       "    </tr>\n",
       "    <tr>\n",
       "      <th>20080</th>\n",
       "      <td>2022-03-13 00:00:00</td>\n",
       "      <td>2022-03-13 00:59:00</td>\n",
       "      <td>2567.629883</td>\n",
       "      <td>2573.780029</td>\n",
       "      <td>2555.810059</td>\n",
       "      <td>2565.979980</td>\n",
       "      <td>41614.472656</td>\n",
       "      <td>...</td>\n",
       "      <td>2581.029091</td>\n",
       "      <td>19.085580</td>\n",
       "      <td>6.748433</td>\n",
       "      <td>41.420362</td>\n",
       "      <td>2597.319099</td>\n",
       "      <td>2578.379980</td>\n",
       "      <td>2559.440862</td>\n",
       "    </tr>\n",
       "  </tbody>\n",
       "</table>\n",
       "<p>2 rows × 50 columns</p>\n",
       "</div>"
      ],
      "text/plain": [
       "                 opentime           closetime         open         high  \\\n",
       "20079 2022-03-12 23:00:00 2022-03-12 23:59:00  2585.840088  2590.199951   \n",
       "20080 2022-03-13 00:00:00 2022-03-13 00:59:00  2567.629883  2573.780029   \n",
       "\n",
       "               low        close        volume  ...  fx_ema_slow     fx_atr  \\\n",
       "20079  2560.000000  2567.639893  35792.011719  ...  2582.337709  19.186999   \n",
       "20080  2555.810059  2565.979980  41614.472656  ...  2581.029091  19.085580   \n",
       "\n",
       "         fx_adx     fx_rsi  fx_bb_upper  fx_bb_middle  fx_bb_lower  \n",
       "20079  6.528699  42.159494  2595.340954   2580.537988  2565.735023  \n",
       "20080  6.748433  41.420362  2597.319099   2578.379980  2559.440862  \n",
       "\n",
       "[2 rows x 50 columns]"
      ]
     },
     "execution_count": 221,
     "metadata": {},
     "output_type": "execute_result"
    }
   ],
   "source": [
    "df = \\\n",
    "    df.assign(\n",
    "        fx_sma_fast = lambda x : talib.SMA(x.close,8),\n",
    "        fx_sma_slow = lambda x : x.close.rolling(24).mean(),\n",
    "        fx_ema_fast = lambda x : talib.EMA(x.close,8),\n",
    "        fx_ema_slow = lambda x : talib.EMA(x.close,24),\n",
    "        fx_atr = lambda x : talib.ATR(x.high,x.low,x.close,12),\n",
    "        fx_adx = lambda x : talib.ADX(x.high,x.low,x.close,20),\n",
    "        fx_rsi = lambda x : talib.RSI(x.close,12),\n",
    "        fx_bb_upper = lambda x : talib.BBANDS(x.close)[0],\n",
    "        fx_bb_middle = lambda x : talib.BBANDS(x.close)[1],\n",
    "        fx_bb_lower = lambda x : talib.BBANDS(x.close)[2],\n",
    "    )\n",
    "\n",
    "df.tail(2)"
   ]
  },
  {
   "cell_type": "code",
   "execution_count": 222,
   "id": "1ee37727",
   "metadata": {},
   "outputs": [
    {
     "data": {
      "text/plain": [
       "Index(['closetime', 'volume', 'fx_close_diff_002', 'fx_close_lag_048',\n",
       "       'fx_volume_diff_002', 'fx_volume_lag_048', 'fx_close_min_168',\n",
       "       'fx_volume_std_024', 'fx_sma_slow', 'fx_rsi'],\n",
       "      dtype='object')"
      ]
     },
     "execution_count": 222,
     "metadata": {},
     "output_type": "execute_result"
    }
   ],
   "source": [
    "df.columns[1::5]"
   ]
  },
  {
   "cell_type": "code",
   "execution_count": 223,
   "id": "deb4bcaf",
   "metadata": {},
   "outputs": [
    {
     "data": {
      "text/plain": [
       "(10465, 50)"
      ]
     },
     "execution_count": 223,
     "metadata": {},
     "output_type": "execute_result"
    }
   ],
   "source": [
    "df.shape"
   ]
  },
  {
   "cell_type": "markdown",
   "id": "1c359e0b",
   "metadata": {},
   "source": [
    "### Add all features at once"
   ]
  },
  {
   "cell_type": "code",
   "execution_count": 147,
   "id": "84af403a",
   "metadata": {},
   "outputs": [],
   "source": [
    "# qq = add_all_ta_features(\n",
    "#     df, open=\"open\", high=\"high\", low=\"low\", close=\"close\", volume=\"volume\", fillna=True)\n",
    "# qq.columns"
   ]
  },
  {
   "cell_type": "markdown",
   "id": "3767d7ec",
   "metadata": {},
   "source": [
    "### Enable Pattern Recognition Features"
   ]
  },
  {
   "cell_type": "code",
   "execution_count": 224,
   "id": "4dc83485",
   "metadata": {},
   "outputs": [
    {
     "data": {
      "text/plain": [
       "dict_keys(['Cycle Indicators', 'Math Operators', 'Math Transform', 'Momentum Indicators', 'Overlap Studies', 'Pattern Recognition', 'Price Transform', 'Statistic Functions', 'Volatility Indicators', 'Volume Indicators'])"
      ]
     },
     "execution_count": 224,
     "metadata": {},
     "output_type": "execute_result"
    }
   ],
   "source": [
    "talib.get_function_groups().keys()"
   ]
  },
  {
   "cell_type": "code",
   "execution_count": 225,
   "id": "4b28e414",
   "metadata": {},
   "outputs": [
    {
     "data": {
      "text/plain": [
       "['CDL3BLACKCROWS',\n",
       " 'CDLCLOSINGMARUBOZU',\n",
       " 'CDLGAPSIDESIDEWHITE',\n",
       " 'CDLIDENTICAL3CROWS',\n",
       " 'CDLMATHOLD',\n",
       " 'CDLSPINNINGTOP']"
      ]
     },
     "execution_count": 225,
     "metadata": {},
     "output_type": "execute_result"
    }
   ],
   "source": [
    "# pattern_recognition_functions = [x for x in dir(talib) if x.startswith('CDL')]\n",
    "pattern_recognition_functions = talib.get_function_groups().get('Pattern Recognition')\n",
    "pattern_recognition_functions[1::10]"
   ]
  },
  {
   "cell_type": "code",
   "execution_count": 226,
   "id": "bbf01e97",
   "metadata": {},
   "outputs": [],
   "source": [
    "# create pattern recognition features\n",
    "pattern_features = {\n",
    "    f'pt_{x.lower()}': getattr(talib,x)(df['open'],df['high'],df['low'],df['close'])\n",
    "                    for x in pattern_recognition_functions\n",
    "    }"
   ]
  },
  {
   "cell_type": "code",
   "execution_count": 227,
   "id": "0b1e4035",
   "metadata": {},
   "outputs": [
    {
     "data": {
      "text/html": [
       "<div>\n",
       "<style scoped>\n",
       "    .dataframe tbody tr th:only-of-type {\n",
       "        vertical-align: middle;\n",
       "    }\n",
       "\n",
       "    .dataframe tbody tr th {\n",
       "        vertical-align: top;\n",
       "    }\n",
       "\n",
       "    .dataframe thead th {\n",
       "        text-align: right;\n",
       "    }\n",
       "</style>\n",
       "<table border=\"1\" class=\"dataframe\">\n",
       "  <thead>\n",
       "    <tr style=\"text-align: right;\">\n",
       "      <th></th>\n",
       "      <th>opentime</th>\n",
       "      <th>closetime</th>\n",
       "      <th>open</th>\n",
       "      <th>high</th>\n",
       "      <th>low</th>\n",
       "      <th>close</th>\n",
       "      <th>volume</th>\n",
       "      <th>...</th>\n",
       "      <th>pt_cdltakuri</th>\n",
       "      <th>pt_cdltasukigap</th>\n",
       "      <th>pt_cdlthrusting</th>\n",
       "      <th>pt_cdltristar</th>\n",
       "      <th>pt_cdlunique3river</th>\n",
       "      <th>pt_cdlupsidegap2crows</th>\n",
       "      <th>pt_cdlxsidegap3methods</th>\n",
       "    </tr>\n",
       "  </thead>\n",
       "  <tbody>\n",
       "    <tr>\n",
       "      <th>9616</th>\n",
       "      <td>2021-01-01 00:00:00</td>\n",
       "      <td>2021-01-01 00:59:00</td>\n",
       "      <td>737.179993</td>\n",
       "      <td>740.000000</td>\n",
       "      <td>730.0</td>\n",
       "      <td>734.599976</td>\n",
       "      <td>98092.523438</td>\n",
       "      <td>...</td>\n",
       "      <td>0</td>\n",
       "      <td>0</td>\n",
       "      <td>0</td>\n",
       "      <td>0</td>\n",
       "      <td>0</td>\n",
       "      <td>0</td>\n",
       "      <td>0</td>\n",
       "    </tr>\n",
       "    <tr>\n",
       "      <th>9617</th>\n",
       "      <td>2021-01-01 01:00:00</td>\n",
       "      <td>2021-01-01 01:59:00</td>\n",
       "      <td>734.609985</td>\n",
       "      <td>750.400024</td>\n",
       "      <td>734.0</td>\n",
       "      <td>749.330017</td>\n",
       "      <td>164084.062500</td>\n",
       "      <td>...</td>\n",
       "      <td>0</td>\n",
       "      <td>0</td>\n",
       "      <td>0</td>\n",
       "      <td>0</td>\n",
       "      <td>0</td>\n",
       "      <td>0</td>\n",
       "      <td>0</td>\n",
       "    </tr>\n",
       "  </tbody>\n",
       "</table>\n",
       "<p>2 rows × 111 columns</p>\n",
       "</div>"
      ],
      "text/plain": [
       "                opentime           closetime        open        high    low  \\\n",
       "9616 2021-01-01 00:00:00 2021-01-01 00:59:00  737.179993  740.000000  730.0   \n",
       "9617 2021-01-01 01:00:00 2021-01-01 01:59:00  734.609985  750.400024  734.0   \n",
       "\n",
       "           close         volume  ...  pt_cdltakuri  pt_cdltasukigap  \\\n",
       "9616  734.599976   98092.523438  ...             0                0   \n",
       "9617  749.330017  164084.062500  ...             0                0   \n",
       "\n",
       "      pt_cdlthrusting  pt_cdltristar  pt_cdlunique3river  \\\n",
       "9616                0              0                   0   \n",
       "9617                0              0                   0   \n",
       "\n",
       "      pt_cdlupsidegap2crows  pt_cdlxsidegap3methods  \n",
       "9616                      0                       0  \n",
       "9617                      0                       0  \n",
       "\n",
       "[2 rows x 111 columns]"
      ]
     },
     "execution_count": 227,
     "metadata": {},
     "output_type": "execute_result"
    }
   ],
   "source": [
    "df = df.assign(**pattern_features)\n",
    "df.head(2)"
   ]
  },
  {
   "cell_type": "code",
   "execution_count": 228,
   "id": "df157e6f",
   "metadata": {},
   "outputs": [
    {
     "data": {
      "text/html": [
       "<div>\n",
       "<style scoped>\n",
       "    .dataframe tbody tr th:only-of-type {\n",
       "        vertical-align: middle;\n",
       "    }\n",
       "\n",
       "    .dataframe tbody tr th {\n",
       "        vertical-align: top;\n",
       "    }\n",
       "\n",
       "    .dataframe thead th {\n",
       "        text-align: right;\n",
       "    }\n",
       "</style>\n",
       "<table border=\"1\" class=\"dataframe\">\n",
       "  <thead>\n",
       "    <tr style=\"text-align: right;\">\n",
       "      <th></th>\n",
       "      <th>count</th>\n",
       "      <th>mean</th>\n",
       "      <th>std</th>\n",
       "      <th>min</th>\n",
       "      <th>25%</th>\n",
       "      <th>50%</th>\n",
       "      <th>75%</th>\n",
       "      <th>max</th>\n",
       "    </tr>\n",
       "  </thead>\n",
       "  <tbody>\n",
       "    <tr>\n",
       "      <th>pt_cdl2crows</th>\n",
       "      <td>10465.0</td>\n",
       "      <td>0.000000</td>\n",
       "      <td>0.000000</td>\n",
       "      <td>0.0</td>\n",
       "      <td>0.0</td>\n",
       "      <td>0.0</td>\n",
       "      <td>0.0</td>\n",
       "      <td>0.0</td>\n",
       "    </tr>\n",
       "    <tr>\n",
       "      <th>pt_cdl3blackcrows</th>\n",
       "      <td>10465.0</td>\n",
       "      <td>-0.009556</td>\n",
       "      <td>0.977531</td>\n",
       "      <td>-100.0</td>\n",
       "      <td>0.0</td>\n",
       "      <td>0.0</td>\n",
       "      <td>0.0</td>\n",
       "      <td>0.0</td>\n",
       "    </tr>\n",
       "    <tr>\n",
       "      <th>pt_cdl3inside</th>\n",
       "      <td>10465.0</td>\n",
       "      <td>0.086001</td>\n",
       "      <td>8.236764</td>\n",
       "      <td>-100.0</td>\n",
       "      <td>0.0</td>\n",
       "      <td>0.0</td>\n",
       "      <td>0.0</td>\n",
       "      <td>100.0</td>\n",
       "    </tr>\n",
       "    <tr>\n",
       "      <th>pt_cdl3linestrike</th>\n",
       "      <td>10465.0</td>\n",
       "      <td>0.038223</td>\n",
       "      <td>6.182624</td>\n",
       "      <td>-100.0</td>\n",
       "      <td>0.0</td>\n",
       "      <td>0.0</td>\n",
       "      <td>0.0</td>\n",
       "      <td>100.0</td>\n",
       "    </tr>\n",
       "    <tr>\n",
       "      <th>pt_cdl3outside</th>\n",
       "      <td>10465.0</td>\n",
       "      <td>0.028667</td>\n",
       "      <td>18.676567</td>\n",
       "      <td>-100.0</td>\n",
       "      <td>0.0</td>\n",
       "      <td>0.0</td>\n",
       "      <td>0.0</td>\n",
       "      <td>100.0</td>\n",
       "    </tr>\n",
       "    <tr>\n",
       "      <th>...</th>\n",
       "      <td>...</td>\n",
       "      <td>...</td>\n",
       "      <td>...</td>\n",
       "      <td>...</td>\n",
       "      <td>...</td>\n",
       "      <td>...</td>\n",
       "      <td>...</td>\n",
       "      <td>...</td>\n",
       "    </tr>\n",
       "    <tr>\n",
       "      <th>pt_cdlthrusting</th>\n",
       "      <td>10465.0</td>\n",
       "      <td>0.000000</td>\n",
       "      <td>0.000000</td>\n",
       "      <td>0.0</td>\n",
       "      <td>0.0</td>\n",
       "      <td>0.0</td>\n",
       "      <td>0.0</td>\n",
       "      <td>0.0</td>\n",
       "    </tr>\n",
       "    <tr>\n",
       "      <th>pt_cdltristar</th>\n",
       "      <td>10465.0</td>\n",
       "      <td>0.000000</td>\n",
       "      <td>0.000000</td>\n",
       "      <td>0.0</td>\n",
       "      <td>0.0</td>\n",
       "      <td>0.0</td>\n",
       "      <td>0.0</td>\n",
       "      <td>0.0</td>\n",
       "    </tr>\n",
       "    <tr>\n",
       "      <th>pt_cdlunique3river</th>\n",
       "      <td>10465.0</td>\n",
       "      <td>0.000000</td>\n",
       "      <td>0.000000</td>\n",
       "      <td>0.0</td>\n",
       "      <td>0.0</td>\n",
       "      <td>0.0</td>\n",
       "      <td>0.0</td>\n",
       "      <td>0.0</td>\n",
       "    </tr>\n",
       "    <tr>\n",
       "      <th>pt_cdlupsidegap2crows</th>\n",
       "      <td>10465.0</td>\n",
       "      <td>0.000000</td>\n",
       "      <td>0.000000</td>\n",
       "      <td>0.0</td>\n",
       "      <td>0.0</td>\n",
       "      <td>0.0</td>\n",
       "      <td>0.0</td>\n",
       "      <td>0.0</td>\n",
       "    </tr>\n",
       "    <tr>\n",
       "      <th>pt_cdlxsidegap3methods</th>\n",
       "      <td>10465.0</td>\n",
       "      <td>0.066890</td>\n",
       "      <td>8.465804</td>\n",
       "      <td>-100.0</td>\n",
       "      <td>0.0</td>\n",
       "      <td>0.0</td>\n",
       "      <td>0.0</td>\n",
       "      <td>100.0</td>\n",
       "    </tr>\n",
       "  </tbody>\n",
       "</table>\n",
       "<p>61 rows × 8 columns</p>\n",
       "</div>"
      ],
      "text/plain": [
       "                          count      mean        std    min  25%  50%  75%  \\\n",
       "pt_cdl2crows            10465.0  0.000000   0.000000    0.0  0.0  0.0  0.0   \n",
       "pt_cdl3blackcrows       10465.0 -0.009556   0.977531 -100.0  0.0  0.0  0.0   \n",
       "pt_cdl3inside           10465.0  0.086001   8.236764 -100.0  0.0  0.0  0.0   \n",
       "pt_cdl3linestrike       10465.0  0.038223   6.182624 -100.0  0.0  0.0  0.0   \n",
       "pt_cdl3outside          10465.0  0.028667  18.676567 -100.0  0.0  0.0  0.0   \n",
       "...                         ...       ...        ...    ...  ...  ...  ...   \n",
       "pt_cdlthrusting         10465.0  0.000000   0.000000    0.0  0.0  0.0  0.0   \n",
       "pt_cdltristar           10465.0  0.000000   0.000000    0.0  0.0  0.0  0.0   \n",
       "pt_cdlunique3river      10465.0  0.000000   0.000000    0.0  0.0  0.0  0.0   \n",
       "pt_cdlupsidegap2crows   10465.0  0.000000   0.000000    0.0  0.0  0.0  0.0   \n",
       "pt_cdlxsidegap3methods  10465.0  0.066890   8.465804 -100.0  0.0  0.0  0.0   \n",
       "\n",
       "                          max  \n",
       "pt_cdl2crows              0.0  \n",
       "pt_cdl3blackcrows         0.0  \n",
       "pt_cdl3inside           100.0  \n",
       "pt_cdl3linestrike       100.0  \n",
       "pt_cdl3outside          100.0  \n",
       "...                       ...  \n",
       "pt_cdlthrusting           0.0  \n",
       "pt_cdltristar             0.0  \n",
       "pt_cdlunique3river        0.0  \n",
       "pt_cdlupsidegap2crows     0.0  \n",
       "pt_cdlxsidegap3methods  100.0  \n",
       "\n",
       "[61 rows x 8 columns]"
      ]
     },
     "execution_count": 228,
     "metadata": {},
     "output_type": "execute_result"
    }
   ],
   "source": [
    "# df[[x for x in df.columns if x.startswith('pt_')]].describe().T['mean'].plot(kind='barh',figsize=(10,15))\n",
    "df[[x for x in df.columns if x.startswith('pt_')]].describe().T"
   ]
  },
  {
   "cell_type": "code",
   "execution_count": 229,
   "id": "3c699e93",
   "metadata": {},
   "outputs": [
    {
     "data": {
      "text/plain": [
       "Index(['closetime', 'volume', 'fx_close_diff_002', 'fx_close_lag_048',\n",
       "       'fx_volume_diff_002', 'fx_volume_lag_048', 'fx_close_min_168',\n",
       "       'fx_volume_std_024', 'fx_sma_slow', 'fx_rsi', 'pt_cdl3blackcrows',\n",
       "       'pt_cdl3whitesoldiers', 'pt_cdlclosingmarubozu', 'pt_cdldojistar',\n",
       "       'pt_cdlgapsidesidewhite', 'pt_cdlharamicross', 'pt_cdlidentical3crows',\n",
       "       'pt_cdlladderbottom', 'pt_cdlmathold', 'pt_cdlrickshawman',\n",
       "       'pt_cdlspinningtop', 'pt_cdlthrusting'],\n",
       "      dtype='object')"
      ]
     },
     "execution_count": 229,
     "metadata": {},
     "output_type": "execute_result"
    }
   ],
   "source": [
    "df.columns[1::5]"
   ]
  },
  {
   "cell_type": "code",
   "execution_count": 230,
   "id": "cc83e9f9",
   "metadata": {},
   "outputs": [
    {
     "data": {
      "text/plain": [
       "(10465, 111)"
      ]
     },
     "execution_count": 230,
     "metadata": {},
     "output_type": "execute_result"
    }
   ],
   "source": [
    "df.shape"
   ]
  },
  {
   "cell_type": "markdown",
   "id": "d4f1f4d8",
   "metadata": {},
   "source": [
    "### Enable Pivot Levels"
   ]
  },
  {
   "cell_type": "code",
   "execution_count": 231,
   "id": "86b20b09",
   "metadata": {},
   "outputs": [],
   "source": [
    "def PPS(high,low,close):\n",
    "    if all([isinstance(item,(list,pd.core.series.Series,np.ndarray)) for item in (high,low,close)]):\n",
    "        high = np.array(high,dtype='float32')\n",
    "        low = np.array(low,dtype='float32')\n",
    "        close = np.array(close,dtype='float32')\n",
    "    else:\n",
    "        raise Exception('Wrong type input data type')\n",
    "    pp = (high + low + close)/3\n",
    "    r1 = (2 * pp - low)\n",
    "    s1 = (2 * pp - high)\n",
    "    r2 = pp + high - low\n",
    "    s2 = pp - high + low\n",
    "    r3 = high + 2 * (pp - low)\n",
    "    s3 = low - 2 * (high - pp)\n",
    "    return {'pp':pp,'r1':r1,'s1':s1,'r2':r2,'s2':s2,'r3':r3,'s3':s3}"
   ]
  },
  {
   "cell_type": "code",
   "execution_count": 232,
   "id": "340e7f42",
   "metadata": {},
   "outputs": [
    {
     "data": {
      "text/html": [
       "<div>\n",
       "<style scoped>\n",
       "    .dataframe tbody tr th:only-of-type {\n",
       "        vertical-align: middle;\n",
       "    }\n",
       "\n",
       "    .dataframe tbody tr th {\n",
       "        vertical-align: top;\n",
       "    }\n",
       "\n",
       "    .dataframe thead th {\n",
       "        text-align: right;\n",
       "    }\n",
       "</style>\n",
       "<table border=\"1\" class=\"dataframe\">\n",
       "  <thead>\n",
       "    <tr style=\"text-align: right;\">\n",
       "      <th></th>\n",
       "      <th>opentime</th>\n",
       "      <th>closetime</th>\n",
       "      <th>open</th>\n",
       "      <th>high</th>\n",
       "      <th>low</th>\n",
       "      <th>close</th>\n",
       "      <th>volume</th>\n",
       "      <th>...</th>\n",
       "      <th>pp</th>\n",
       "      <th>r1</th>\n",
       "      <th>s1</th>\n",
       "      <th>r2</th>\n",
       "      <th>s2</th>\n",
       "      <th>r3</th>\n",
       "      <th>s3</th>\n",
       "    </tr>\n",
       "  </thead>\n",
       "  <tbody>\n",
       "    <tr>\n",
       "      <th>20079</th>\n",
       "      <td>2022-03-12 23:00:00</td>\n",
       "      <td>2022-03-12 23:59:00</td>\n",
       "      <td>2585.840088</td>\n",
       "      <td>2590.199951</td>\n",
       "      <td>2560.000000</td>\n",
       "      <td>2567.639893</td>\n",
       "      <td>35792.011719</td>\n",
       "      <td>...</td>\n",
       "      <td>2572.613281</td>\n",
       "      <td>2585.226562</td>\n",
       "      <td>2555.026611</td>\n",
       "      <td>2602.813477</td>\n",
       "      <td>2542.413330</td>\n",
       "      <td>2615.426514</td>\n",
       "      <td>2524.826660</td>\n",
       "    </tr>\n",
       "    <tr>\n",
       "      <th>20080</th>\n",
       "      <td>2022-03-13 00:00:00</td>\n",
       "      <td>2022-03-13 00:59:00</td>\n",
       "      <td>2567.629883</td>\n",
       "      <td>2573.780029</td>\n",
       "      <td>2555.810059</td>\n",
       "      <td>2565.979980</td>\n",
       "      <td>41614.472656</td>\n",
       "      <td>...</td>\n",
       "      <td>2565.189941</td>\n",
       "      <td>2574.569824</td>\n",
       "      <td>2556.599854</td>\n",
       "      <td>2583.159668</td>\n",
       "      <td>2547.219971</td>\n",
       "      <td>2592.539795</td>\n",
       "      <td>2538.629883</td>\n",
       "    </tr>\n",
       "  </tbody>\n",
       "</table>\n",
       "<p>2 rows × 118 columns</p>\n",
       "</div>"
      ],
      "text/plain": [
       "                 opentime           closetime         open         high  \\\n",
       "20079 2022-03-12 23:00:00 2022-03-12 23:59:00  2585.840088  2590.199951   \n",
       "20080 2022-03-13 00:00:00 2022-03-13 00:59:00  2567.629883  2573.780029   \n",
       "\n",
       "               low        close        volume  ...           pp           r1  \\\n",
       "20079  2560.000000  2567.639893  35792.011719  ...  2572.613281  2585.226562   \n",
       "20080  2555.810059  2565.979980  41614.472656  ...  2565.189941  2574.569824   \n",
       "\n",
       "                s1           r2           s2           r3           s3  \n",
       "20079  2555.026611  2602.813477  2542.413330  2615.426514  2524.826660  \n",
       "20080  2556.599854  2583.159668  2547.219971  2592.539795  2538.629883  \n",
       "\n",
       "[2 rows x 118 columns]"
      ]
     },
     "execution_count": 232,
     "metadata": {},
     "output_type": "execute_result"
    }
   ],
   "source": [
    "df = df.assign(**PPS(df.high,df.low,df.close))\n",
    "df.tail(2)"
   ]
  },
  {
   "cell_type": "code",
   "execution_count": 233,
   "id": "5a052e9f",
   "metadata": {},
   "outputs": [
    {
     "data": {
      "text/plain": [
       "Index(['closetime', 'volume', 'fx_close_diff_002', 'fx_close_lag_048',\n",
       "       'fx_volume_diff_002', 'fx_volume_lag_048', 'fx_close_min_168',\n",
       "       'fx_volume_std_024', 'fx_sma_slow', 'fx_rsi', 'pt_cdl3blackcrows',\n",
       "       'pt_cdl3whitesoldiers', 'pt_cdlclosingmarubozu', 'pt_cdldojistar',\n",
       "       'pt_cdlgapsidesidewhite', 'pt_cdlharamicross', 'pt_cdlidentical3crows',\n",
       "       'pt_cdlladderbottom', 'pt_cdlmathold', 'pt_cdlrickshawman',\n",
       "       'pt_cdlspinningtop', 'pt_cdlthrusting', 'pp', 'r3'],\n",
       "      dtype='object')"
      ]
     },
     "execution_count": 233,
     "metadata": {},
     "output_type": "execute_result"
    }
   ],
   "source": [
    "df.columns[1::5]"
   ]
  },
  {
   "cell_type": "code",
   "execution_count": 234,
   "id": "c8aee834",
   "metadata": {},
   "outputs": [
    {
     "data": {
      "text/plain": [
       "(10465, 118)"
      ]
     },
     "execution_count": 234,
     "metadata": {},
     "output_type": "execute_result"
    }
   ],
   "source": [
    "df.shape"
   ]
  },
  {
   "cell_type": "markdown",
   "id": "b03722d4",
   "metadata": {},
   "source": [
    "### Examine Alternative Target Options"
   ]
  },
  {
   "cell_type": "code",
   "execution_count": 316,
   "id": "0c79dce8",
   "metadata": {},
   "outputs": [],
   "source": [
    "chkp = df.copy()\n",
    "# df = chkp.copy()"
   ]
  },
  {
   "cell_type": "code",
   "execution_count": 317,
   "id": "b48dbea0",
   "metadata": {},
   "outputs": [
    {
     "data": {
      "text/html": [
       "<div>\n",
       "<style scoped>\n",
       "    .dataframe tbody tr th:only-of-type {\n",
       "        vertical-align: middle;\n",
       "    }\n",
       "\n",
       "    .dataframe tbody tr th {\n",
       "        vertical-align: top;\n",
       "    }\n",
       "\n",
       "    .dataframe thead th {\n",
       "        text-align: right;\n",
       "    }\n",
       "</style>\n",
       "<table border=\"1\" class=\"dataframe\">\n",
       "  <thead>\n",
       "    <tr style=\"text-align: right;\">\n",
       "      <th></th>\n",
       "      <th>opentime</th>\n",
       "      <th>closetime</th>\n",
       "      <th>open</th>\n",
       "      <th>high</th>\n",
       "      <th>low</th>\n",
       "      <th>close</th>\n",
       "      <th>volume</th>\n",
       "      <th>...</th>\n",
       "      <th>trg_delta_08hrs_ahead</th>\n",
       "      <th>trg_delta_12hrs_ahead</th>\n",
       "      <th>trg_delta_16hrs_ahead</th>\n",
       "      <th>trg_delta_20hrs_ahead</th>\n",
       "      <th>trg_delta_24hrs_ahead</th>\n",
       "      <th>trg_delta_48hrs_ahead</th>\n",
       "      <th>trg_delta_96hrs_ahead</th>\n",
       "    </tr>\n",
       "  </thead>\n",
       "  <tbody>\n",
       "    <tr>\n",
       "      <th>19981</th>\n",
       "      <td>2022-03-08 21:00:00</td>\n",
       "      <td>2022-03-08 21:59:00</td>\n",
       "      <td>2552.040039</td>\n",
       "      <td>2562.750000</td>\n",
       "      <td>2546.719971</td>\n",
       "      <td>2557.320068</td>\n",
       "      <td>38991.250000</td>\n",
       "      <td>...</td>\n",
       "      <td>0.061373</td>\n",
       "      <td>0.076518</td>\n",
       "      <td>0.066312</td>\n",
       "      <td>0.072627</td>\n",
       "      <td>0.058409</td>\n",
       "      <td>0.017542</td>\n",
       "      <td>0.011078</td>\n",
       "    </tr>\n",
       "    <tr>\n",
       "      <th>19982</th>\n",
       "      <td>2022-03-08 22:00:00</td>\n",
       "      <td>2022-03-08 22:59:00</td>\n",
       "      <td>2557.320068</td>\n",
       "      <td>2574.030029</td>\n",
       "      <td>2554.780029</td>\n",
       "      <td>2567.229980</td>\n",
       "      <td>29236.652344</td>\n",
       "      <td>...</td>\n",
       "      <td>0.059367</td>\n",
       "      <td>0.073601</td>\n",
       "      <td>0.066223</td>\n",
       "      <td>0.055651</td>\n",
       "      <td>0.058055</td>\n",
       "      <td>0.017034</td>\n",
       "      <td>0.007245</td>\n",
       "    </tr>\n",
       "  </tbody>\n",
       "</table>\n",
       "<p>2 rows × 134 columns</p>\n",
       "</div>"
      ],
      "text/plain": [
       "                 opentime           closetime         open         high  \\\n",
       "19981 2022-03-08 21:00:00 2022-03-08 21:59:00  2552.040039  2562.750000   \n",
       "19982 2022-03-08 22:00:00 2022-03-08 22:59:00  2557.320068  2574.030029   \n",
       "\n",
       "               low        close        volume  ...  trg_delta_08hrs_ahead  \\\n",
       "19981  2546.719971  2557.320068  38991.250000  ...               0.061373   \n",
       "19982  2554.780029  2567.229980  29236.652344  ...               0.059367   \n",
       "\n",
       "       trg_delta_12hrs_ahead  trg_delta_16hrs_ahead  trg_delta_20hrs_ahead  \\\n",
       "19981               0.076518               0.066312               0.072627   \n",
       "19982               0.073601               0.066223               0.055651   \n",
       "\n",
       "       trg_delta_24hrs_ahead  trg_delta_48hrs_ahead  trg_delta_96hrs_ahead  \n",
       "19981               0.058409               0.017542               0.011078  \n",
       "19982               0.058055               0.017034               0.007245  \n",
       "\n",
       "[2 rows x 134 columns]"
      ]
     },
     "execution_count": 317,
     "metadata": {},
     "output_type": "execute_result"
    }
   ],
   "source": [
    "df = \\\n",
    "    df.assign(\n",
    "        #change_pct = lambda x : x.close.pct_change(),\n",
    "        #change_chr = lambda x : x.close.pct_change().apply(np.sign),\n",
    "    \n",
    "        trg_close_04hrs_ahead = lambda x : x.close.shift(-4),\n",
    "        trg_close_08hrs_ahead = lambda x : x.close.shift(-8),\n",
    "        trg_close_12hrs_ahead = lambda x : x.close.shift(-12),\n",
    "        trg_close_16hrs_ahead = lambda x : x.close.shift(-16),\n",
    "        trg_close_20hrs_ahead = lambda x : x.close.shift(-20),\n",
    "        trg_close_24hrs_ahead = lambda x : x.close.shift(-24),\n",
    "        trg_close_48hrs_ahead = lambda x : x.close.shift(-48),\n",
    "        trg_close_96hrs_ahead = lambda x : x.close.shift(-96),\n",
    "    \n",
    "        trg_delta_04hrs_ahead = lambda x : (x.close.shift(-4)/x.close)-1,\n",
    "        trg_delta_08hrs_ahead = lambda x : (x.close.shift(-8)/x.close)-1,\n",
    "        trg_delta_12hrs_ahead = lambda x : (x.close.shift(-12)/x.close)-1,\n",
    "        trg_delta_16hrs_ahead = lambda x : (x.close.shift(-16)/x.close)-1,\n",
    "        trg_delta_20hrs_ahead = lambda x : (x.close.shift(-20)/x.close)-1,\n",
    "        trg_delta_24hrs_ahead = lambda x : (x.close.shift(-24)/x.close)-1,\n",
    "        trg_delta_48hrs_ahead = lambda x : (x.close.shift(-48)/x.close)-1,\n",
    "        trg_delta_96hrs_ahead = lambda x : (x.close.shift(-96)/x.close)-1,\n",
    "    )\n",
    "df.tail(100).head(2)"
   ]
  },
  {
   "cell_type": "code",
   "execution_count": 318,
   "id": "0001c36b",
   "metadata": {},
   "outputs": [
    {
     "name": "stdout",
     "output_type": "stream",
     "text": [
      "trg_delta_04hrs_ahead\n",
      "====================================================================================================\n",
      "(0.0, 0.025]     80.351850\n",
      "(0.025, 0.05]    15.364758\n",
      "(0.05, 0.1]       3.986997\n",
      "(0.1, 0.25]       0.296395\n",
      "(0.25, 0.5]       0.000000\n",
      "(0.5, 1.0]        0.000000\n",
      "Name: trg_delta_04hrs_ahead, dtype: float64\n",
      "----------------------------------------------------------------------------------------------------\n",
      " 1.0    52.365931\n",
      "-1.0    47.614951\n",
      " 0.0     0.019119\n",
      "Name: trg_delta_04hrs_ahead, dtype: float64\n",
      "====================================================================================================\n",
      "\n",
      "trg_delta_08hrs_ahead\n",
      "====================================================================================================\n",
      "(0.0, 0.025]     67.132198\n",
      "(0.025, 0.05]    22.383777\n",
      "(0.05, 0.1]       9.517888\n",
      "(0.1, 0.25]       0.966137\n",
      "(0.25, 0.5]       0.000000\n",
      "(0.5, 1.0]        0.000000\n",
      "Name: trg_delta_08hrs_ahead, dtype: float64\n",
      "----------------------------------------------------------------------------------------------------\n",
      " 1.0    52.778043\n",
      "-1.0    47.193268\n",
      " 0.0     0.028689\n",
      "Name: trg_delta_08hrs_ahead, dtype: float64\n",
      "====================================================================================================\n",
      "\n",
      "trg_delta_12hrs_ahead\n",
      "====================================================================================================\n",
      "(0.0, 0.025]     57.481822\n",
      "(0.025, 0.05]    26.846537\n",
      "(0.05, 0.1]      13.624187\n",
      "(0.1, 0.25]       2.028320\n",
      "(0.25, 0.5]       0.019135\n",
      "(0.5, 1.0]        0.000000\n",
      "Name: trg_delta_12hrs_ahead, dtype: float64\n",
      "----------------------------------------------------------------------------------------------------\n",
      " 1.0    52.817373\n",
      "-1.0    47.173060\n",
      " 0.0     0.009567\n",
      "Name: trg_delta_12hrs_ahead, dtype: float64\n",
      "====================================================================================================\n",
      "\n",
      "trg_delta_16hrs_ahead\n",
      "====================================================================================================\n",
      "(0.0, 0.025]     50.516845\n",
      "(0.025, 0.05]    27.794793\n",
      "(0.05, 0.1]      18.328867\n",
      "(0.1, 0.25]       3.330781\n",
      "(0.25, 0.5]       0.028714\n",
      "(0.5, 1.0]        0.000000\n",
      "Name: trg_delta_16hrs_ahead, dtype: float64\n",
      "----------------------------------------------------------------------------------------------------\n",
      " 1.0    53.373529\n",
      "-1.0    46.616901\n",
      " 0.0     0.009570\n",
      "Name: trg_delta_16hrs_ahead, dtype: float64\n",
      "====================================================================================================\n",
      "\n",
      "trg_delta_20hrs_ahead\n",
      "====================================================================================================\n",
      "(0.0, 0.025]     45.753949\n",
      "(0.025, 0.05]    28.539971\n",
      "(0.05, 0.1]      20.928674\n",
      "(0.1, 0.25]       4.633796\n",
      "(0.25, 0.5]       0.143609\n",
      "(0.5, 1.0]        0.000000\n",
      "Name: trg_delta_20hrs_ahead, dtype: float64\n",
      "----------------------------------------------------------------------------------------------------\n",
      " 1.0    53.719483\n",
      "-1.0    46.280517\n",
      "Name: trg_delta_20hrs_ahead, dtype: float64\n",
      "====================================================================================================\n",
      "\n",
      "trg_delta_24hrs_ahead\n",
      "====================================================================================================\n",
      "(0.0, 0.025]     41.455939\n",
      "(0.025, 0.05]    28.304598\n",
      "(0.05, 0.1]      23.955939\n",
      "(0.1, 0.25]       6.005747\n",
      "(0.25, 0.5]       0.277778\n",
      "(0.5, 1.0]        0.000000\n",
      "Name: trg_delta_24hrs_ahead, dtype: float64\n",
      "----------------------------------------------------------------------------------------------------\n",
      " 1.0    53.740063\n",
      "-1.0    46.250359\n",
      " 0.0     0.009578\n",
      "Name: trg_delta_24hrs_ahead, dtype: float64\n",
      "====================================================================================================\n",
      "\n",
      "trg_delta_48hrs_ahead\n",
      "====================================================================================================\n",
      "(0.0, 0.025]     30.315830\n",
      "(0.05, 0.1]      29.826246\n",
      "(0.025, 0.05]    23.519247\n",
      "(0.1, 0.25]      15.532303\n",
      "(0.25, 0.5]       0.796775\n",
      "(0.5, 1.0]        0.009600\n",
      "Name: trg_delta_48hrs_ahead, dtype: float64\n",
      "----------------------------------------------------------------------------------------------------\n",
      " 1.0    54.420659\n",
      "-1.0    45.579341\n",
      "Name: trg_delta_48hrs_ahead, dtype: float64\n",
      "====================================================================================================\n",
      "\n",
      "trg_delta_96hrs_ahead\n",
      "====================================================================================================\n",
      "(0.05, 0.1]      29.414601\n",
      "(0.1, 0.25]      28.556274\n",
      "(0.0, 0.025]     20.792748\n",
      "(0.025, 0.05]    18.979651\n",
      "(0.25, 0.5]       2.005979\n",
      "(0.5, 1.0]        0.250747\n",
      "Name: trg_delta_96hrs_ahead, dtype: float64\n",
      "----------------------------------------------------------------------------------------------------\n",
      " 1.0    57.575465\n",
      "-1.0    42.424535\n",
      "Name: trg_delta_96hrs_ahead, dtype: float64\n",
      "====================================================================================================\n",
      "\n"
     ]
    }
   ],
   "source": [
    "# Review distributions of absolute returns for 4-8-16 etc. hours ahead\n",
    "# \n",
    "for wnd in ['trg_delta_04hrs_ahead','trg_delta_08hrs_ahead',\n",
    "            'trg_delta_12hrs_ahead','trg_delta_16hrs_ahead',\n",
    "            'trg_delta_20hrs_ahead','trg_delta_24hrs_ahead',\n",
    "            'trg_delta_48hrs_ahead','trg_delta_96hrs_ahead']:\n",
    "    print(wnd)\n",
    "    print(100*'=')\n",
    "    print((pd.cut(\n",
    "        x = df[wnd].abs(), \n",
    "        bins = [0, 0.025, 0.05, 0.1, 0.25, 0.5, 1.], \n",
    "        ).value_counts(normalize=True))*100)\n",
    "    print(100*'-')\n",
    "    print(df[wnd].apply(np.sign).value_counts(normalize=True)*100)\n",
    "    print(100*'=')\n",
    "    print()"
   ]
  },
  {
   "cell_type": "markdown",
   "id": "eeffda4a",
   "metadata": {},
   "source": [
    "### Select Target"
   ]
  },
  {
   "cell_type": "code",
   "execution_count": 351,
   "id": "d31d3aa9",
   "metadata": {},
   "outputs": [],
   "source": [
    "chkp2 = df.copy()\n",
    "# df = chkp2.copy()"
   ]
  },
  {
   "cell_type": "code",
   "execution_count": 352,
   "id": "9fa18045",
   "metadata": {},
   "outputs": [],
   "source": [
    "my_target = 'trg_delta_20hrs_ahead'\n",
    "df['target_rgr'] = df[my_target]\n",
    "df = df[[x for x in df.columns if not x.startswith('trg_')]]"
   ]
  },
  {
   "cell_type": "code",
   "execution_count": 355,
   "id": "f00af60e",
   "metadata": {},
   "outputs": [],
   "source": [
    "my_bins = [0, 0.03, 0.05, 0.1, 0.25, 0.5, 1.]\n",
    "my_labels = [f'delta_{x:.0%}_{y:.0%}' for x,y in zip(my_bins[:-1],my_bins[1:])]"
   ]
  },
  {
   "cell_type": "code",
   "execution_count": 356,
   "id": "03f60d94",
   "metadata": {},
   "outputs": [
    {
     "data": {
      "text/plain": [
       "delta_0%_3%       52.312111\n",
       "delta_3%_5%       21.981809\n",
       "delta_5%_10%      20.928674\n",
       "delta_10%_25%      4.633796\n",
       "delta_25%_50%      0.143609\n",
       "delta_50%_100%     0.000000\n",
       "Name: target_rgr, dtype: float64"
      ]
     },
     "execution_count": 356,
     "metadata": {},
     "output_type": "execute_result"
    }
   ],
   "source": [
    "(pd.cut(x = df.target_rgr.abs(), bins = my_bins, labels = my_labels).value_counts(normalize=True)*100)"
   ]
  },
  {
   "cell_type": "code",
   "execution_count": 357,
   "id": "48e645ae",
   "metadata": {},
   "outputs": [],
   "source": [
    "df['target_clf'] = pd.cut(x = df.target_rgr.abs(), bins = my_bins, labels = my_labels)\n",
    "df['target_sign'] = df.target_rgr.apply(np.sign)"
   ]
  },
  {
   "cell_type": "markdown",
   "id": "80eee2f8",
   "metadata": {},
   "source": [
    "### Profile Targets"
   ]
  },
  {
   "cell_type": "code",
   "execution_count": 358,
   "id": "8cf3ba77",
   "metadata": {},
   "outputs": [
    {
     "data": {
      "text/html": [
       "<div>\n",
       "<style scoped>\n",
       "    .dataframe tbody tr th:only-of-type {\n",
       "        vertical-align: middle;\n",
       "    }\n",
       "\n",
       "    .dataframe tbody tr th {\n",
       "        vertical-align: top;\n",
       "    }\n",
       "\n",
       "    .dataframe thead th {\n",
       "        text-align: right;\n",
       "    }\n",
       "</style>\n",
       "<table border=\"1\" class=\"dataframe\">\n",
       "  <thead>\n",
       "    <tr style=\"text-align: right;\">\n",
       "      <th></th>\n",
       "      <th>target_rgr</th>\n",
       "      <th>target_clf</th>\n",
       "      <th>target_sign</th>\n",
       "    </tr>\n",
       "  </thead>\n",
       "  <tbody>\n",
       "    <tr>\n",
       "      <th>count</th>\n",
       "      <td>10445.000000</td>\n",
       "      <td>10445</td>\n",
       "      <td>10445.000000</td>\n",
       "    </tr>\n",
       "    <tr>\n",
       "      <th>unique</th>\n",
       "      <td>NaN</td>\n",
       "      <td>5</td>\n",
       "      <td>NaN</td>\n",
       "    </tr>\n",
       "    <tr>\n",
       "      <th>top</th>\n",
       "      <td>NaN</td>\n",
       "      <td>delta_0%_3%</td>\n",
       "      <td>NaN</td>\n",
       "    </tr>\n",
       "    <tr>\n",
       "      <th>freq</th>\n",
       "      <td>NaN</td>\n",
       "      <td>5464</td>\n",
       "      <td>NaN</td>\n",
       "    </tr>\n",
       "    <tr>\n",
       "      <th>mean</th>\n",
       "      <td>0.003644</td>\n",
       "      <td>NaN</td>\n",
       "      <td>0.074390</td>\n",
       "    </tr>\n",
       "    <tr>\n",
       "      <th>std</th>\n",
       "      <td>0.049734</td>\n",
       "      <td>NaN</td>\n",
       "      <td>0.997276</td>\n",
       "    </tr>\n",
       "    <tr>\n",
       "      <th>min</th>\n",
       "      <td>-0.318712</td>\n",
       "      <td>NaN</td>\n",
       "      <td>-1.000000</td>\n",
       "    </tr>\n",
       "    <tr>\n",
       "      <th>25%</th>\n",
       "      <td>-0.023765</td>\n",
       "      <td>NaN</td>\n",
       "      <td>-1.000000</td>\n",
       "    </tr>\n",
       "    <tr>\n",
       "      <th>50%</th>\n",
       "      <td>0.003882</td>\n",
       "      <td>NaN</td>\n",
       "      <td>1.000000</td>\n",
       "    </tr>\n",
       "    <tr>\n",
       "      <th>75%</th>\n",
       "      <td>0.032470</td>\n",
       "      <td>NaN</td>\n",
       "      <td>1.000000</td>\n",
       "    </tr>\n",
       "    <tr>\n",
       "      <th>max</th>\n",
       "      <td>0.347784</td>\n",
       "      <td>NaN</td>\n",
       "      <td>1.000000</td>\n",
       "    </tr>\n",
       "  </tbody>\n",
       "</table>\n",
       "</div>"
      ],
      "text/plain": [
       "          target_rgr   target_clf   target_sign\n",
       "count   10445.000000        10445  10445.000000\n",
       "unique           NaN            5           NaN\n",
       "top              NaN  delta_0%_3%           NaN\n",
       "freq             NaN         5464           NaN\n",
       "mean        0.003644          NaN      0.074390\n",
       "std         0.049734          NaN      0.997276\n",
       "min        -0.318712          NaN     -1.000000\n",
       "25%        -0.023765          NaN     -1.000000\n",
       "50%         0.003882          NaN      1.000000\n",
       "75%         0.032470          NaN      1.000000\n",
       "max         0.347784          NaN      1.000000"
      ]
     },
     "execution_count": 358,
     "metadata": {},
     "output_type": "execute_result"
    }
   ],
   "source": [
    "df[[x for x in df.columns if x.startswith('target')]].describe(include='all')"
   ]
  },
  {
   "cell_type": "code",
   "execution_count": 359,
   "id": "1b365cc9",
   "metadata": {},
   "outputs": [
    {
     "data": {
      "text/plain": [
       "<matplotlib.axes._subplots.AxesSubplot at 0x7fa5f207d940>"
      ]
     },
     "execution_count": 359,
     "metadata": {},
     "output_type": "execute_result"
    },
    {
     "data": {
      "image/png": "[encoded data removed]",
      "text/plain": [
       "<Figure size 432x288 with 1 Axes>"
      ]
     },
     "metadata": {
      "needs_background": "light"
     },
     "output_type": "display_data"
    }
   ],
   "source": [
    "df.target_rgr.hist(bins=100)"
   ]
  },
  {
   "cell_type": "code",
   "execution_count": 361,
   "id": "305e76d1",
   "metadata": {},
   "outputs": [
    {
     "name": "stdout",
     "output_type": "stream",
     "text": [
      "delta_0%_3%       52.312111\n",
      "delta_3%_5%       21.981809\n",
      "delta_5%_10%      20.928674\n",
      "delta_10%_25%      4.633796\n",
      "delta_25%_50%      0.143609\n",
      "delta_50%_100%     0.000000\n",
      "Name: target_clf, dtype: float64\n"
     ]
    },
    {
     "data": {
      "image/png": "[encoded data removed]",
      "text/plain": [
       "<Figure size 432x288 with 1 Axes>"
      ]
     },
     "metadata": {
      "needs_background": "light"
     },
     "output_type": "display_data"
    }
   ],
   "source": [
    "df.target_clf.value_counts(normalize=True).plot(kind='barh')\n",
    "print(df.target_clf.value_counts(normalize=True)*100)"
   ]
  },
  {
   "cell_type": "code",
   "execution_count": 362,
   "id": "960bbb79",
   "metadata": {},
   "outputs": [
    {
     "data": {
      "text/plain": [
       " 1.0    0.537195\n",
       "-1.0    0.462805\n",
       "Name: target_sign, dtype: float64"
      ]
     },
     "execution_count": 362,
     "metadata": {},
     "output_type": "execute_result"
    }
   ],
   "source": [
    "df.target_sign.value_counts(normalize=True)"
   ]
  },
  {
   "cell_type": "code",
   "execution_count": 363,
   "id": "366532c0",
   "metadata": {},
   "outputs": [
    {
     "data": {
      "text/html": [
       "<div>\n",
       "<style scoped>\n",
       "    .dataframe tbody tr th:only-of-type {\n",
       "        vertical-align: middle;\n",
       "    }\n",
       "\n",
       "    .dataframe tbody tr th {\n",
       "        vertical-align: top;\n",
       "    }\n",
       "\n",
       "    .dataframe thead th {\n",
       "        text-align: right;\n",
       "    }\n",
       "</style>\n",
       "<table border=\"1\" class=\"dataframe\">\n",
       "  <thead>\n",
       "    <tr style=\"text-align: right;\">\n",
       "      <th>target_sign</th>\n",
       "      <th>-1.0</th>\n",
       "      <th>1.0</th>\n",
       "      <th>All</th>\n",
       "    </tr>\n",
       "    <tr>\n",
       "      <th>target_clf</th>\n",
       "      <th></th>\n",
       "      <th></th>\n",
       "      <th></th>\n",
       "    </tr>\n",
       "  </thead>\n",
       "  <tbody>\n",
       "    <tr>\n",
       "      <th>delta_0%_3%</th>\n",
       "      <td>0.253040</td>\n",
       "      <td>0.270081</td>\n",
       "      <td>0.523121</td>\n",
       "    </tr>\n",
       "    <tr>\n",
       "      <th>delta_3%_5%</th>\n",
       "      <td>0.101963</td>\n",
       "      <td>0.117855</td>\n",
       "      <td>0.219818</td>\n",
       "    </tr>\n",
       "    <tr>\n",
       "      <th>delta_5%_10%</th>\n",
       "      <td>0.082528</td>\n",
       "      <td>0.126759</td>\n",
       "      <td>0.209287</td>\n",
       "    </tr>\n",
       "    <tr>\n",
       "      <th>delta_10%_25%</th>\n",
       "      <td>0.025084</td>\n",
       "      <td>0.021254</td>\n",
       "      <td>0.046338</td>\n",
       "    </tr>\n",
       "    <tr>\n",
       "      <th>delta_25%_50%</th>\n",
       "      <td>0.000191</td>\n",
       "      <td>0.001245</td>\n",
       "      <td>0.001436</td>\n",
       "    </tr>\n",
       "    <tr>\n",
       "      <th>All</th>\n",
       "      <td>0.462805</td>\n",
       "      <td>0.537195</td>\n",
       "      <td>1.000000</td>\n",
       "    </tr>\n",
       "  </tbody>\n",
       "</table>\n",
       "</div>"
      ],
      "text/plain": [
       "target_sign        -1.0       1.0       All\n",
       "target_clf                                 \n",
       "delta_0%_3%    0.253040  0.270081  0.523121\n",
       "delta_3%_5%    0.101963  0.117855  0.219818\n",
       "delta_5%_10%   0.082528  0.126759  0.209287\n",
       "delta_10%_25%  0.025084  0.021254  0.046338\n",
       "delta_25%_50%  0.000191  0.001245  0.001436\n",
       "All            0.462805  0.537195  1.000000"
      ]
     },
     "execution_count": 363,
     "metadata": {},
     "output_type": "execute_result"
    }
   ],
   "source": [
    "pd.crosstab(df.target_clf,df.target_sign,margins=True,normalize=True)"
   ]
  }
 ],
 "metadata": {
  "kernelspec": {
   "display_name": "Python 3",
   "language": "python",
   "name": "python3"
  },
  "language_info": {
   "codemirror_mode": {
    "name": "ipython",
    "version": 3
   },
   "file_extension": ".py",
   "mimetype": "text/x-python",
   "name": "python",
   "nbconvert_exporter": "python",
   "pygments_lexer": "ipython3",
   "version": "3.8.8"
  }
 },
 "nbformat": 4,
 "nbformat_minor": 5
}
