{
 "cells": [
  {
   "cell_type": "code",
   "execution_count": 1,
   "id": "3cd5afb5",
   "metadata": {},
   "outputs": [],
   "source": [
    "import os\n",
    "import numpy as np\n",
    "import pandas as pd\n",
    "pd.set_option('display.max_rows', 50)\n",
    "pd.set_option('display.max_columns', 15)\n",
    "import matplotlib.pyplot as plt\n",
    "import seaborn as sns\n",
    "from pathlib import Path\n",
    "from datetime import datetime\n",
    "%matplotlib inline"
   ]
  },
  {
   "cell_type": "code",
   "execution_count": 2,
   "id": "c8ae0b59",
   "metadata": {},
   "outputs": [],
   "source": [
    "import talib\n",
    "from ta import add_all_ta_features"
   ]
  },
  {
   "cell_type": "markdown",
   "id": "4d57e33f",
   "metadata": {},
   "source": [
    "### Read full database"
   ]
  },
  {
   "cell_type": "code",
   "execution_count": 5,
   "id": "d573c93d",
   "metadata": {},
   "outputs": [],
   "source": [
    "DATA_PATH = r'../data/'\n",
    "FILE_NAME = '20220313_034756_111.pkl'\n",
    "FULL_PATH = Path(DATA_PATH,FILE_NAME)"
   ]
  },
  {
   "cell_type": "code",
   "execution_count": 35,
   "id": "dc5fb08c",
   "metadata": {},
   "outputs": [
    {
     "name": "stdout",
     "output_type": "stream",
     "text": [
      "CPU times: user 4 µs, sys: 1e+03 ns, total: 5 µs\n",
      "Wall time: 8.82 µs\n"
     ]
    },
    {
     "data": {
      "text/plain": [
       "(5675397, 14)"
      ]
     },
     "execution_count": 35,
     "metadata": {},
     "output_type": "execute_result"
    }
   ],
   "source": [
    "%time\n",
    "raw = pd.read_pickle(FULL_PATH)\n",
    "raw.shape"
   ]
  },
  {
   "cell_type": "code",
   "execution_count": 37,
   "id": "26dc566a",
   "metadata": {},
   "outputs": [
    {
     "data": {
      "text/plain": [
       "symbol                              object\n",
       "openTimets                           int64\n",
       "closeTimets                          int64\n",
       "openTime                    datetime64[ns]\n",
       "closeTime                   datetime64[ns]\n",
       "open                                object\n",
       "high                                object\n",
       "low                                 object\n",
       "close                               object\n",
       "volume                              object\n",
       "numTrades                            int64\n",
       "quoteAssetVolume                    object\n",
       "takerBuyBaseAssetVolume             object\n",
       "takerBuyQuoteAssetVolume            object\n",
       "dtype: object"
      ]
     },
     "execution_count": 37,
     "metadata": {},
     "output_type": "execute_result"
    }
   ],
   "source": [
    "raw.dtypes"
   ]
  },
  {
   "cell_type": "code",
   "execution_count": 38,
   "id": "7481b477",
   "metadata": {},
   "outputs": [
    {
     "data": {
      "text/plain": [
       "BTCUSDT     87964\n",
       "ETHUSDT     80325\n",
       "BCHUSDT     78208\n",
       "XRPUSDT     76486\n",
       "EOSUSDT     76292\n",
       "            ...  \n",
       "BAKEUSDT    28582\n",
       "BTTUSDT     28339\n",
       "GTCUSDT     26390\n",
       "TLMUSDT     23032\n",
       "KEEPUSDT    22843\n",
       "Name: symbol, Length: 111, dtype: int64"
      ]
     },
     "execution_count": 38,
     "metadata": {},
     "output_type": "execute_result"
    }
   ],
   "source": [
    "raw.symbol.value_counts()"
   ]
  },
  {
   "cell_type": "markdown",
   "id": "1d24e106",
   "metadata": {},
   "source": [
    "### Prepare and subset dataset"
   ]
  },
  {
   "cell_type": "code",
   "execution_count": 265,
   "id": "3be8899f",
   "metadata": {},
   "outputs": [
    {
     "data": {
      "text/plain": [
       "(80325, 14)"
      ]
     },
     "execution_count": 265,
     "metadata": {},
     "output_type": "execute_result"
    }
   ],
   "source": [
    "df = raw.query('symbol==\"ETHUSDT\"')\n",
    "assert df.isnull().sum().sum() == 0\n",
    "df.shape"
   ]
  },
  {
   "cell_type": "code",
   "execution_count": 266,
   "id": "0a924c77",
   "metadata": {},
   "outputs": [
    {
     "data": {
      "text/plain": [
       "symbol                              object\n",
       "openTimets                           int64\n",
       "closeTimets                          int64\n",
       "openTime                    datetime64[ns]\n",
       "closeTime                   datetime64[ns]\n",
       "open                               float32\n",
       "high                               float32\n",
       "low                                float32\n",
       "close                              float32\n",
       "volume                             float32\n",
       "numTrades                            int32\n",
       "quoteAssetVolume                   float32\n",
       "takerBuyBaseAssetVolume            float32\n",
       "takerBuyQuoteAssetVolume           float32\n",
       "dtype: object"
      ]
     },
     "execution_count": 266,
     "metadata": {},
     "output_type": "execute_result"
    }
   ],
   "source": [
    "# create datatypes dictionary\n",
    "datatypes = {k:'float32' if k!='numTrades' else 'int32' for k in df.loc[:,'open':].columns}\n",
    "# assign datatypes\n",
    "df = df.astype(datatypes)\n",
    "assert df.isnull().sum().sum() == 0\n",
    "df.dtypes"
   ]
  },
  {
   "cell_type": "code",
   "execution_count": 268,
   "id": "8d7744af",
   "metadata": {},
   "outputs": [],
   "source": [
    "df.to_pickle('../data/eth.pkl')"
   ]
  },
  {
   "cell_type": "markdown",
   "id": "ea9de246",
   "metadata": {},
   "source": [
    "### Read dataset from disk"
   ]
  },
  {
   "cell_type": "code",
   "execution_count": 3,
   "id": "d25a3937",
   "metadata": {},
   "outputs": [],
   "source": [
    "raw = pd.read_pickle('../data/eth.pkl')"
   ]
  },
  {
   "cell_type": "markdown",
   "id": "51c25797",
   "metadata": {},
   "source": [
    "### Group on desired frequency"
   ]
  },
  {
   "cell_type": "code",
   "execution_count": 4,
   "id": "fd81a01e",
   "metadata": {},
   "outputs": [
    {
     "data": {
      "text/html": [
       "<div>\n",
       "<style scoped>\n",
       "    .dataframe tbody tr th:only-of-type {\n",
       "        vertical-align: middle;\n",
       "    }\n",
       "\n",
       "    .dataframe tbody tr th {\n",
       "        vertical-align: top;\n",
       "    }\n",
       "\n",
       "    .dataframe thead th {\n",
       "        text-align: right;\n",
       "    }\n",
       "</style>\n",
       "<table border=\"1\" class=\"dataframe\">\n",
       "  <thead>\n",
       "    <tr style=\"text-align: right;\">\n",
       "      <th></th>\n",
       "      <th>opentime</th>\n",
       "      <th>closetime</th>\n",
       "      <th>open</th>\n",
       "      <th>high</th>\n",
       "      <th>low</th>\n",
       "      <th>close</th>\n",
       "      <th>volume</th>\n",
       "      <th>numtrade</th>\n",
       "    </tr>\n",
       "  </thead>\n",
       "  <tbody>\n",
       "    <tr>\n",
       "      <th>20076</th>\n",
       "      <td>2022-03-12 20:00:00</td>\n",
       "      <td>2022-03-12 20:59:00</td>\n",
       "      <td>2576.760010</td>\n",
       "      <td>2591.659912</td>\n",
       "      <td>2573.870117</td>\n",
       "      <td>2586.800049</td>\n",
       "      <td>25150.187500</td>\n",
       "      <td>35923</td>\n",
       "    </tr>\n",
       "    <tr>\n",
       "      <th>20077</th>\n",
       "      <td>2022-03-12 21:00:00</td>\n",
       "      <td>2022-03-12 21:59:00</td>\n",
       "      <td>2586.800049</td>\n",
       "      <td>2591.719971</td>\n",
       "      <td>2583.060059</td>\n",
       "      <td>2585.649902</td>\n",
       "      <td>13017.638672</td>\n",
       "      <td>24267</td>\n",
       "    </tr>\n",
       "    <tr>\n",
       "      <th>20078</th>\n",
       "      <td>2022-03-12 22:00:00</td>\n",
       "      <td>2022-03-12 22:59:00</td>\n",
       "      <td>2585.649902</td>\n",
       "      <td>2591.379883</td>\n",
       "      <td>2583.260010</td>\n",
       "      <td>2585.830078</td>\n",
       "      <td>10603.583008</td>\n",
       "      <td>26367</td>\n",
       "    </tr>\n",
       "    <tr>\n",
       "      <th>20079</th>\n",
       "      <td>2022-03-12 23:00:00</td>\n",
       "      <td>2022-03-12 23:59:00</td>\n",
       "      <td>2585.840088</td>\n",
       "      <td>2590.199951</td>\n",
       "      <td>2560.000000</td>\n",
       "      <td>2567.639893</td>\n",
       "      <td>35792.011719</td>\n",
       "      <td>49081</td>\n",
       "    </tr>\n",
       "    <tr>\n",
       "      <th>20080</th>\n",
       "      <td>2022-03-13 00:00:00</td>\n",
       "      <td>2022-03-13 00:59:00</td>\n",
       "      <td>2567.629883</td>\n",
       "      <td>2573.780029</td>\n",
       "      <td>2555.810059</td>\n",
       "      <td>2565.979980</td>\n",
       "      <td>41614.472656</td>\n",
       "      <td>50466</td>\n",
       "    </tr>\n",
       "  </tbody>\n",
       "</table>\n",
       "</div>"
      ],
      "text/plain": [
       "                 opentime           closetime         open         high  \\\n",
       "20076 2022-03-12 20:00:00 2022-03-12 20:59:00  2576.760010  2591.659912   \n",
       "20077 2022-03-12 21:00:00 2022-03-12 21:59:00  2586.800049  2591.719971   \n",
       "20078 2022-03-12 22:00:00 2022-03-12 22:59:00  2585.649902  2591.379883   \n",
       "20079 2022-03-12 23:00:00 2022-03-12 23:59:00  2585.840088  2590.199951   \n",
       "20080 2022-03-13 00:00:00 2022-03-13 00:59:00  2567.629883  2573.780029   \n",
       "\n",
       "               low        close        volume  numtrade  \n",
       "20076  2573.870117  2586.800049  25150.187500     35923  \n",
       "20077  2583.060059  2585.649902  13017.638672     24267  \n",
       "20078  2583.260010  2585.830078  10603.583008     26367  \n",
       "20079  2560.000000  2567.639893  35792.011719     49081  \n",
       "20080  2555.810059  2565.979980  41614.472656     50466  "
      ]
     },
     "execution_count": 4,
     "metadata": {},
     "output_type": "execute_result"
    }
   ],
   "source": [
    "df = \\\n",
    "    raw.groupby(pd.Grouper(key=\"openTime\", freq=\"1H\"))\\\n",
    "    .agg(\n",
    "        cnt=pd.NamedAgg(column=\"symbol\", aggfunc=\"size\"),\n",
    "        opentime=pd.NamedAgg(column=\"openTime\", aggfunc=\"min\"),\n",
    "        closetime=pd.NamedAgg(column=\"openTime\", aggfunc=\"min\"),\n",
    "        open=pd.NamedAgg(column=\"open\", aggfunc=\"first\"),\n",
    "        high=pd.NamedAgg(column=\"high\", aggfunc=\"max\"),\n",
    "        low=pd.NamedAgg(column=\"low\", aggfunc=\"min\"),\n",
    "        close=pd.NamedAgg(column=\"close\", aggfunc=\"last\"),\n",
    "        volume=pd.NamedAgg(column=\"volume\", aggfunc=\"sum\"),\n",
    "        numtrade=pd.NamedAgg(column=\"numTrades\", aggfunc=\"sum\"),\n",
    "    )\\\n",
    "    .query('cnt >= 4')\\\n",
    "    .drop('cnt',axis=1)\\\n",
    "    .assign(closetime = lambda x : x.closetime + pd.Timedelta(minutes=59))\\\n",
    "    .reset_index(drop=True)\n",
    "\n",
    "# alternative way to resample and regroup data\n",
    "# df = raw.resample('30min',on='opentime').agg({'close':'last','high':'max'}).tail(10)\n",
    "df.tail()"
   ]
  },
  {
   "cell_type": "markdown",
   "id": "3ac8014c",
   "metadata": {},
   "source": [
    "### Inspect Time Series"
   ]
  },
  {
   "cell_type": "code",
   "execution_count": 5,
   "id": "a8e4732e",
   "metadata": {},
   "outputs": [
    {
     "name": "stdout",
     "output_type": "stream",
     "text": [
      "count                  20081\n",
      "mean     2021-01-18 16:00:00\n",
      "min      2019-11-27 08:00:00\n",
      "25%      2020-06-23 12:00:00\n",
      "50%      2021-01-18 16:00:00\n",
      "75%      2021-08-15 20:00:00\n",
      "max      2022-03-13 00:00:00\n",
      "Name: opentime, dtype: object\n",
      "AxesSubplot(0.125,0.125;0.775x0.755)\n"
     ]
    },
    {
     "data": {
      "image/png": "[encoded data removed]",
      "text/plain": [
       "<Figure size 432x288 with 1 Axes>"
      ]
     },
     "metadata": {
      "needs_background": "light"
     },
     "output_type": "display_data"
    }
   ],
   "source": [
    "print(df.opentime.describe(datetime_is_numeric=True))\n",
    "# print(df.close.plot())\n",
    "print(df.query('opentime >= 2021').close.plot())"
   ]
  },
  {
   "cell_type": "code",
   "execution_count": 6,
   "id": "941bf31b",
   "metadata": {},
   "outputs": [
    {
     "data": {
      "text/plain": [
       "(10465, 8)"
      ]
     },
     "execution_count": 6,
     "metadata": {},
     "output_type": "execute_result"
    }
   ],
   "source": [
    "df = df.query('opentime >= 2021').copy()\n",
    "df.shape"
   ]
  },
  {
   "cell_type": "markdown",
   "id": "1733cfce",
   "metadata": {},
   "source": [
    "### Decompose Time Series"
   ]
  },
  {
   "cell_type": "code",
   "execution_count": 7,
   "id": "cd64eca5",
   "metadata": {},
   "outputs": [],
   "source": [
    "# from statsmodels.graphics.tsaplots import plot_acf, plot_pacf, acf, pacf\n",
    "# from statsmodels.tsa.seasonal import seasonal_decompose\n",
    "# # from statsmodels.tsa.seasonal import MSTL\n",
    "# print(plot_acf(df.close))\n",
    "# print(plot_pacf(df.close))\n",
    "# # stl_kwargs = {\"seasonal_deg\": 0} \n",
    "# # model = MSTL(df.close, periods=(24, 24 * 7), stl_kwargs=stl_kwargs)\n",
    "# # res = model.fit()\n",
    "# # res.plot()"
   ]
  },
  {
   "cell_type": "markdown",
   "id": "b0994fab",
   "metadata": {},
   "source": [
    "### Create Features to Avoid Leakage\n",
    "> __close -> fx_close = close.shift(1)__"
   ]
  },
  {
   "cell_type": "code",
   "execution_count": 8,
   "id": "5acc37ff",
   "metadata": {},
   "outputs": [],
   "source": [
    "options_antileakage_feats = ['open','high','low','close','volume']\n",
    "for ff in options_antileakage_feats:\n",
    "    df[f'fx_{ff}'] = df[ff].shift(1)"
   ]
  },
  {
   "cell_type": "code",
   "execution_count": 9,
   "id": "34ba0eef",
   "metadata": {},
   "outputs": [
    {
     "data": {
      "text/plain": [
       "Index(['opentime', 'closetime', 'open', 'high', 'low', 'close', 'volume',\n",
       "       'numtrade', 'fx_open', 'fx_high', 'fx_low', 'fx_close', 'fx_volume'],\n",
       "      dtype='object')"
      ]
     },
     "execution_count": 9,
     "metadata": {},
     "output_type": "execute_result"
    }
   ],
   "source": [
    "df.columns"
   ]
  },
  {
   "cell_type": "markdown",
   "id": "98f008f7",
   "metadata": {},
   "source": [
    "### Create Lag Features"
   ]
  },
  {
   "cell_type": "code",
   "execution_count": 10,
   "id": "8f8f0af3",
   "metadata": {},
   "outputs": [],
   "source": [
    "options_lags_feats = ['close','volume']\n",
    "options_lags = [1,2,3,24,48]\n",
    "for ff in options_lags_feats:\n",
    "    for ll in options_lags:\n",
    "        df[f'fx_{ff}_lag_{str(ll).zfill(3)}'] = df[ff].shift(ll)"
   ]
  },
  {
   "cell_type": "code",
   "execution_count": 11,
   "id": "a716ca8f",
   "metadata": {},
   "outputs": [
    {
     "data": {
      "text/plain": [
       "Index(['opentime', 'closetime', 'open', 'high', 'low', 'close', 'volume',\n",
       "       'numtrade', 'fx_open', 'fx_high', 'fx_low', 'fx_close', 'fx_volume',\n",
       "       'fx_close_lag_001', 'fx_close_lag_002', 'fx_close_lag_003',\n",
       "       'fx_close_lag_024', 'fx_close_lag_048', 'fx_volume_lag_001',\n",
       "       'fx_volume_lag_002', 'fx_volume_lag_003', 'fx_volume_lag_024',\n",
       "       'fx_volume_lag_048'],\n",
       "      dtype='object')"
      ]
     },
     "execution_count": 11,
     "metadata": {},
     "output_type": "execute_result"
    }
   ],
   "source": [
    "df.columns"
   ]
  },
  {
   "cell_type": "code",
   "execution_count": 12,
   "id": "d8c6d1e1",
   "metadata": {},
   "outputs": [
    {
     "data": {
      "text/plain": [
       "(10465, 23)"
      ]
     },
     "execution_count": 12,
     "metadata": {},
     "output_type": "execute_result"
    }
   ],
   "source": [
    "df.shape"
   ]
  },
  {
   "cell_type": "markdown",
   "id": "1c238ae5",
   "metadata": {},
   "source": [
    "### Create Diff Features"
   ]
  },
  {
   "cell_type": "code",
   "execution_count": 13,
   "id": "de0a7037",
   "metadata": {},
   "outputs": [],
   "source": [
    "options_diffs_feats = ['fx_close','fx_volume']\n",
    "options_diffs = [1,2,3,24,48]\n",
    "for ff in options_diffs_feats:\n",
    "    for ll in options_diffs:\n",
    "        df[f'{ff}_diff_{str(ll).zfill(3)}'] = df[ff].diff(ll)"
   ]
  },
  {
   "cell_type": "code",
   "execution_count": 14,
   "id": "e1dec434",
   "metadata": {},
   "outputs": [
    {
     "data": {
      "text/plain": [
       "Index(['opentime', 'closetime', 'open', 'high', 'low', 'close', 'volume',\n",
       "       'numtrade', 'fx_open', 'fx_high', 'fx_low', 'fx_close', 'fx_volume',\n",
       "       'fx_close_lag_001', 'fx_close_lag_002', 'fx_close_lag_003',\n",
       "       'fx_close_lag_024', 'fx_close_lag_048', 'fx_volume_lag_001',\n",
       "       'fx_volume_lag_002', 'fx_volume_lag_003', 'fx_volume_lag_024',\n",
       "       'fx_volume_lag_048', 'fx_close_diff_001', 'fx_close_diff_002',\n",
       "       'fx_close_diff_003', 'fx_close_diff_024', 'fx_close_diff_048',\n",
       "       'fx_volume_diff_001', 'fx_volume_diff_002', 'fx_volume_diff_003',\n",
       "       'fx_volume_diff_024', 'fx_volume_diff_048'],\n",
       "      dtype='object')"
      ]
     },
     "execution_count": 14,
     "metadata": {},
     "output_type": "execute_result"
    }
   ],
   "source": [
    "df.columns"
   ]
  },
  {
   "cell_type": "code",
   "execution_count": 15,
   "id": "129de7b6",
   "metadata": {},
   "outputs": [
    {
     "data": {
      "text/plain": [
       "(10465, 33)"
      ]
     },
     "execution_count": 15,
     "metadata": {},
     "output_type": "execute_result"
    }
   ],
   "source": [
    "df.shape"
   ]
  },
  {
   "cell_type": "markdown",
   "id": "b3805c05",
   "metadata": {},
   "source": [
    "### Create Rolling Features"
   ]
  },
  {
   "cell_type": "code",
   "execution_count": 16,
   "id": "4352bb03",
   "metadata": {},
   "outputs": [],
   "source": [
    "options_wndf_feats = ['fx_close','fx_volume']\n",
    "options_wndf = [24,24*7]\n",
    "for ff in options_wndf_feats:\n",
    "    for ll in options_wndf:\n",
    "        df[f'{ff}_min_{str(ll).zfill(3)}'] = df[ff].rolling(ll).min()\n",
    "        df[f'{ff}_max_{str(ll).zfill(3)}'] = df[ff].rolling(ll).max()\n",
    "        df[f'{ff}_std_{str(ll).zfill(3)}'] = df[ff].rolling(ll).std()"
   ]
  },
  {
   "cell_type": "code",
   "execution_count": 17,
   "id": "9bc2fac3",
   "metadata": {},
   "outputs": [
    {
     "data": {
      "text/plain": [
       "Index(['opentime', 'closetime', 'open', 'high', 'low', 'close', 'volume',\n",
       "       'numtrade', 'fx_open', 'fx_high', 'fx_low', 'fx_close', 'fx_volume',\n",
       "       'fx_close_lag_001', 'fx_close_lag_002', 'fx_close_lag_003',\n",
       "       'fx_close_lag_024', 'fx_close_lag_048', 'fx_volume_lag_001',\n",
       "       'fx_volume_lag_002', 'fx_volume_lag_003', 'fx_volume_lag_024',\n",
       "       'fx_volume_lag_048', 'fx_close_diff_001', 'fx_close_diff_002',\n",
       "       'fx_close_diff_003', 'fx_close_diff_024', 'fx_close_diff_048',\n",
       "       'fx_volume_diff_001', 'fx_volume_diff_002', 'fx_volume_diff_003',\n",
       "       'fx_volume_diff_024', 'fx_volume_diff_048', 'fx_close_min_024',\n",
       "       'fx_close_max_024', 'fx_close_std_024', 'fx_close_min_168',\n",
       "       'fx_close_max_168', 'fx_close_std_168', 'fx_volume_min_024',\n",
       "       'fx_volume_max_024', 'fx_volume_std_024', 'fx_volume_min_168',\n",
       "       'fx_volume_max_168', 'fx_volume_std_168'],\n",
       "      dtype='object')"
      ]
     },
     "execution_count": 17,
     "metadata": {},
     "output_type": "execute_result"
    }
   ],
   "source": [
    "df.columns"
   ]
  },
  {
   "cell_type": "code",
   "execution_count": 18,
   "id": "9ab2f5ef",
   "metadata": {},
   "outputs": [
    {
     "data": {
      "text/plain": [
       "(10465, 45)"
      ]
     },
     "execution_count": 18,
     "metadata": {},
     "output_type": "execute_result"
    }
   ],
   "source": [
    "df.shape"
   ]
  },
  {
   "cell_type": "markdown",
   "id": "2b3eb6e7",
   "metadata": {},
   "source": [
    "### Create TA Features - Manually"
   ]
  },
  {
   "cell_type": "code",
   "execution_count": 19,
   "id": "fd577034",
   "metadata": {},
   "outputs": [],
   "source": [
    "# df = \\\n",
    "#     df.assign(\n",
    "#         fx_sma_fast = lambda x : talib.SMA(x.close.shift(1),8),\n",
    "#         fx_sma_slow = lambda x : x.close.shift(1).rolling(24).mean(),\n",
    "#         fx_ema_fast = lambda x : talib.EMA(x.close.shift(1),8),\n",
    "#         fx_ema_slow = lambda x : talib.EMA(x.close.shift(1),24),\n",
    "#         fx_atr = lambda x : talib.ATR(x.high.shift(1),x.low.shift(1),x.close.shift(1),12),\n",
    "#         fx_adx = lambda x : talib.ADX(x.high.shift(1),x.low.shift(1),x.close.shift(1),20),\n",
    "#         fx_rsi = lambda x : talib.RSI(x.close.shift(1),12),\n",
    "#         fx_bb_upper = lambda x : talib.BBANDS(x.close.shift(1))[0],\n",
    "#         fx_bb_middle = lambda x : talib.BBANDS(x.close.shift(1))[1],\n",
    "#         fx_bb_lower = lambda x : talib.BBANDS(x.close.shift(1))[2],\n",
    "#     ).assign(\n",
    "#         fx_sma_fast_slow_frc = lambda x : (x.fx_sma_fast/x.fx_sma_slow)\n",
    "#     )\n",
    "#\n",
    "# df.tail(2)\n",
    "# df.columns\n",
    "# df.shape"
   ]
  },
  {
   "cell_type": "markdown",
   "id": "0b4223fb",
   "metadata": {},
   "source": [
    "### Create TA Features - Automatically"
   ]
  },
  {
   "cell_type": "code",
   "execution_count": 20,
   "id": "3b6f686d",
   "metadata": {},
   "outputs": [
    {
     "name": "stderr",
     "output_type": "stream",
     "text": [
      "/Users/takis/opt/anaconda3/lib/python3.8/site-packages/ta/trend.py:768: RuntimeWarning: invalid value encountered in double_scalars\n",
      "  dip[i] = 100 * (self._dip[i] / self._trs[i])\n",
      "/Users/takis/opt/anaconda3/lib/python3.8/site-packages/ta/trend.py:772: RuntimeWarning: invalid value encountered in double_scalars\n",
      "  din[i] = 100 * (self._din[i] / self._trs[i])\n"
     ]
    },
    {
     "data": {
      "text/plain": [
       "Index(['opentime', 'closetime', 'open', 'high', 'low', 'close', 'volume',\n",
       "       'numtrade', 'fx_open', 'fx_high',\n",
       "       ...\n",
       "       'momentum_wr', 'momentum_ao', 'momentum_kama', 'momentum_roc',\n",
       "       'momentum_ppo', 'momentum_ppo_signal', 'momentum_ppo_hist', 'others_dr',\n",
       "       'others_dlr', 'others_cr'],\n",
       "      dtype='object', length=128)"
      ]
     },
     "execution_count": 20,
     "metadata": {},
     "output_type": "execute_result"
    }
   ],
   "source": [
    "df = add_all_ta_features(\n",
    "    df, \n",
    "    open='fx_open', \n",
    "    high='fx_high', \n",
    "    low='fx_low', \n",
    "    close='fx_close', \n",
    "    volume='fx_volume', \n",
    "    fillna=True)\n",
    "df.columns"
   ]
  },
  {
   "cell_type": "code",
   "execution_count": 21,
   "id": "9d160a09",
   "metadata": {},
   "outputs": [],
   "source": [
    "df = \\\n",
    "    df.assign(\n",
    "        sma_fast_slow_frc = lambda x : (x.trend_sma_fast/x.trend_sma_slow),\n",
    "        ema_fast_slow_frc = lambda x : (x.trend_ema_fast/x.trend_ema_slow)\n",
    "    )"
   ]
  },
  {
   "cell_type": "markdown",
   "id": "6d71da9a",
   "metadata": {},
   "source": [
    "### Enable Pattern Recognition Features"
   ]
  },
  {
   "cell_type": "code",
   "execution_count": 22,
   "id": "2d66a9af",
   "metadata": {},
   "outputs": [],
   "source": [
    "talib.get_function_groups().keys()\n",
    "# pattern_recognition_functions = [x for x in dir(talib) if x.startswith('CDL')]\n",
    "pattern_recognition_functions = talib.get_function_groups().get('Pattern Recognition')\n",
    "# pattern_recognition_functions[1::10]\n",
    "# create pattern recognition features\n",
    "pattern_features = {\n",
    "    f'pt_{x.lower()}': getattr(talib,x)(df['fx_open'],df['fx_high'],df['fx_low'],df['fx_close'])\n",
    "                    for x in pattern_recognition_functions\n",
    "    }"
   ]
  },
  {
   "cell_type": "code",
   "execution_count": 23,
   "id": "f5c6772e",
   "metadata": {},
   "outputs": [
    {
     "data": {
      "text/html": [
       "<div>\n",
       "<style scoped>\n",
       "    .dataframe tbody tr th:only-of-type {\n",
       "        vertical-align: middle;\n",
       "    }\n",
       "\n",
       "    .dataframe tbody tr th {\n",
       "        vertical-align: top;\n",
       "    }\n",
       "\n",
       "    .dataframe thead th {\n",
       "        text-align: right;\n",
       "    }\n",
       "</style>\n",
       "<table border=\"1\" class=\"dataframe\">\n",
       "  <thead>\n",
       "    <tr style=\"text-align: right;\">\n",
       "      <th></th>\n",
       "      <th>opentime</th>\n",
       "      <th>closetime</th>\n",
       "      <th>open</th>\n",
       "      <th>high</th>\n",
       "      <th>low</th>\n",
       "      <th>close</th>\n",
       "      <th>volume</th>\n",
       "      <th>...</th>\n",
       "      <th>pt_cdltakuri</th>\n",
       "      <th>pt_cdltasukigap</th>\n",
       "      <th>pt_cdlthrusting</th>\n",
       "      <th>pt_cdltristar</th>\n",
       "      <th>pt_cdlunique3river</th>\n",
       "      <th>pt_cdlupsidegap2crows</th>\n",
       "      <th>pt_cdlxsidegap3methods</th>\n",
       "    </tr>\n",
       "  </thead>\n",
       "  <tbody>\n",
       "    <tr>\n",
       "      <th>9616</th>\n",
       "      <td>2021-01-01 00:00:00</td>\n",
       "      <td>2021-01-01 00:59:00</td>\n",
       "      <td>737.179993</td>\n",
       "      <td>740.000000</td>\n",
       "      <td>730.0</td>\n",
       "      <td>734.599976</td>\n",
       "      <td>98092.523438</td>\n",
       "      <td>...</td>\n",
       "      <td>0</td>\n",
       "      <td>0</td>\n",
       "      <td>0</td>\n",
       "      <td>0</td>\n",
       "      <td>0</td>\n",
       "      <td>0</td>\n",
       "      <td>0</td>\n",
       "    </tr>\n",
       "    <tr>\n",
       "      <th>9617</th>\n",
       "      <td>2021-01-01 01:00:00</td>\n",
       "      <td>2021-01-01 01:59:00</td>\n",
       "      <td>734.609985</td>\n",
       "      <td>750.400024</td>\n",
       "      <td>734.0</td>\n",
       "      <td>749.330017</td>\n",
       "      <td>164084.062500</td>\n",
       "      <td>...</td>\n",
       "      <td>0</td>\n",
       "      <td>0</td>\n",
       "      <td>0</td>\n",
       "      <td>0</td>\n",
       "      <td>0</td>\n",
       "      <td>0</td>\n",
       "      <td>0</td>\n",
       "    </tr>\n",
       "  </tbody>\n",
       "</table>\n",
       "<p>2 rows × 191 columns</p>\n",
       "</div>"
      ],
      "text/plain": [
       "                opentime           closetime        open        high    low  \\\n",
       "9616 2021-01-01 00:00:00 2021-01-01 00:59:00  737.179993  740.000000  730.0   \n",
       "9617 2021-01-01 01:00:00 2021-01-01 01:59:00  734.609985  750.400024  734.0   \n",
       "\n",
       "           close         volume  ...  pt_cdltakuri  pt_cdltasukigap  \\\n",
       "9616  734.599976   98092.523438  ...             0                0   \n",
       "9617  749.330017  164084.062500  ...             0                0   \n",
       "\n",
       "      pt_cdlthrusting  pt_cdltristar  pt_cdlunique3river  \\\n",
       "9616                0              0                   0   \n",
       "9617                0              0                   0   \n",
       "\n",
       "      pt_cdlupsidegap2crows  pt_cdlxsidegap3methods  \n",
       "9616                      0                       0  \n",
       "9617                      0                       0  \n",
       "\n",
       "[2 rows x 191 columns]"
      ]
     },
     "execution_count": 23,
     "metadata": {},
     "output_type": "execute_result"
    }
   ],
   "source": [
    "df = df.assign(**pattern_features)\n",
    "df.head(2)"
   ]
  },
  {
   "cell_type": "code",
   "execution_count": 24,
   "id": "497c56fc",
   "metadata": {},
   "outputs": [],
   "source": [
    "# df[[x for x in df.columns if x.startswith('pt_')]].describe().T['mean'].plot(kind='barh',figsize=(10,15))\n",
    "# df[[x for x in df.columns if x.startswith('pt_')]].describe().T"
   ]
  },
  {
   "cell_type": "code",
   "execution_count": 25,
   "id": "7a1e55d8",
   "metadata": {},
   "outputs": [
    {
     "data": {
      "text/plain": [
       "Index(['opentime', 'closetime', 'open', 'high', 'low', 'close', 'volume',\n",
       "       'numtrade', 'fx_open', 'fx_high',\n",
       "       ...\n",
       "       'pt_cdlspinningtop', 'pt_cdlstalledpattern', 'pt_cdlsticksandwich',\n",
       "       'pt_cdltakuri', 'pt_cdltasukigap', 'pt_cdlthrusting', 'pt_cdltristar',\n",
       "       'pt_cdlunique3river', 'pt_cdlupsidegap2crows',\n",
       "       'pt_cdlxsidegap3methods'],\n",
       "      dtype='object', length=191)"
      ]
     },
     "execution_count": 25,
     "metadata": {},
     "output_type": "execute_result"
    }
   ],
   "source": [
    "df.columns"
   ]
  },
  {
   "cell_type": "code",
   "execution_count": 26,
   "id": "450f2594",
   "metadata": {},
   "outputs": [
    {
     "data": {
      "text/plain": [
       "(10465, 191)"
      ]
     },
     "execution_count": 26,
     "metadata": {},
     "output_type": "execute_result"
    }
   ],
   "source": [
    "df.shape"
   ]
  },
  {
   "cell_type": "markdown",
   "id": "b539d034",
   "metadata": {},
   "source": [
    "### Enable Pivot Levels"
   ]
  },
  {
   "cell_type": "code",
   "execution_count": 27,
   "id": "90e72b02",
   "metadata": {},
   "outputs": [],
   "source": [
    "def PPS(high,low,close):\n",
    "    if all([isinstance(item,(list,pd.core.series.Series,np.ndarray)) for item in (high,low,close)]):\n",
    "        high = np.array(high,dtype='float32')\n",
    "        low = np.array(low,dtype='float32')\n",
    "        close = np.array(close,dtype='float32')\n",
    "    else:\n",
    "        raise Exception('Wrong type input data type')\n",
    "    pp = (high + low + close)/3\n",
    "    r1 = (2 * pp - low)\n",
    "    s1 = (2 * pp - high)\n",
    "    r2 = pp + high - low\n",
    "    s2 = pp - high + low\n",
    "    r3 = high + 2 * (pp - low)\n",
    "    s3 = low - 2 * (high - pp)\n",
    "    result = {'pp':pp,'r1':r1,'s1':s1,'r2':r2,'s2':s2,'r3':r3,'s3':s3}\n",
    "    result = {f'fx_{k}':v for k,v in result.items()} \n",
    "    return result"
   ]
  },
  {
   "cell_type": "code",
   "execution_count": 28,
   "id": "9e385b02",
   "metadata": {},
   "outputs": [
    {
     "data": {
      "text/html": [
       "<div>\n",
       "<style scoped>\n",
       "    .dataframe tbody tr th:only-of-type {\n",
       "        vertical-align: middle;\n",
       "    }\n",
       "\n",
       "    .dataframe tbody tr th {\n",
       "        vertical-align: top;\n",
       "    }\n",
       "\n",
       "    .dataframe thead th {\n",
       "        text-align: right;\n",
       "    }\n",
       "</style>\n",
       "<table border=\"1\" class=\"dataframe\">\n",
       "  <thead>\n",
       "    <tr style=\"text-align: right;\">\n",
       "      <th></th>\n",
       "      <th>opentime</th>\n",
       "      <th>closetime</th>\n",
       "      <th>open</th>\n",
       "      <th>high</th>\n",
       "      <th>low</th>\n",
       "      <th>close</th>\n",
       "      <th>volume</th>\n",
       "      <th>...</th>\n",
       "      <th>fx_pp</th>\n",
       "      <th>fx_r1</th>\n",
       "      <th>fx_s1</th>\n",
       "      <th>fx_r2</th>\n",
       "      <th>fx_s2</th>\n",
       "      <th>fx_r3</th>\n",
       "      <th>fx_s3</th>\n",
       "    </tr>\n",
       "  </thead>\n",
       "  <tbody>\n",
       "    <tr>\n",
       "      <th>20079</th>\n",
       "      <td>2022-03-12 23:00:00</td>\n",
       "      <td>2022-03-12 23:59:00</td>\n",
       "      <td>2585.840088</td>\n",
       "      <td>2590.199951</td>\n",
       "      <td>2560.000000</td>\n",
       "      <td>2567.639893</td>\n",
       "      <td>35792.011719</td>\n",
       "      <td>...</td>\n",
       "      <td>2586.823242</td>\n",
       "      <td>2590.386475</td>\n",
       "      <td>2582.266602</td>\n",
       "      <td>2594.943115</td>\n",
       "      <td>2578.703369</td>\n",
       "      <td>2598.506348</td>\n",
       "      <td>2574.146729</td>\n",
       "    </tr>\n",
       "    <tr>\n",
       "      <th>20080</th>\n",
       "      <td>2022-03-13 00:00:00</td>\n",
       "      <td>2022-03-13 00:59:00</td>\n",
       "      <td>2567.629883</td>\n",
       "      <td>2573.780029</td>\n",
       "      <td>2555.810059</td>\n",
       "      <td>2565.979980</td>\n",
       "      <td>41614.472656</td>\n",
       "      <td>...</td>\n",
       "      <td>2572.613281</td>\n",
       "      <td>2585.226562</td>\n",
       "      <td>2555.026611</td>\n",
       "      <td>2602.813477</td>\n",
       "      <td>2542.413330</td>\n",
       "      <td>2615.426514</td>\n",
       "      <td>2524.826660</td>\n",
       "    </tr>\n",
       "  </tbody>\n",
       "</table>\n",
       "<p>2 rows × 198 columns</p>\n",
       "</div>"
      ],
      "text/plain": [
       "                 opentime           closetime         open         high  \\\n",
       "20079 2022-03-12 23:00:00 2022-03-12 23:59:00  2585.840088  2590.199951   \n",
       "20080 2022-03-13 00:00:00 2022-03-13 00:59:00  2567.629883  2573.780029   \n",
       "\n",
       "               low        close        volume  ...        fx_pp        fx_r1  \\\n",
       "20079  2560.000000  2567.639893  35792.011719  ...  2586.823242  2590.386475   \n",
       "20080  2555.810059  2565.979980  41614.472656  ...  2572.613281  2585.226562   \n",
       "\n",
       "             fx_s1        fx_r2        fx_s2        fx_r3        fx_s3  \n",
       "20079  2582.266602  2594.943115  2578.703369  2598.506348  2574.146729  \n",
       "20080  2555.026611  2602.813477  2542.413330  2615.426514  2524.826660  \n",
       "\n",
       "[2 rows x 198 columns]"
      ]
     },
     "execution_count": 28,
     "metadata": {},
     "output_type": "execute_result"
    }
   ],
   "source": [
    "df = df.assign(**PPS(df.fx_high,df.fx_low,df.fx_close))\n",
    "df.tail(2)"
   ]
  },
  {
   "cell_type": "code",
   "execution_count": 29,
   "id": "0f14315e",
   "metadata": {},
   "outputs": [
    {
     "data": {
      "text/plain": [
       "Index(['opentime', 'close', 'fx_low', 'fx_close_lag_003', 'fx_volume_lag_003',\n",
       "       'fx_close_diff_003', 'fx_volume_diff_003', 'fx_close_std_024',\n",
       "       'fx_volume_max_024', 'volume_adi', 'volume_em', 'volatility_atr',\n",
       "       'volatility_bbp', 'volatility_kcl', 'volatility_dcl', 'volatility_ui',\n",
       "       'trend_sma_slow', 'trend_adx_neg', 'trend_mass_index', 'trend_kst_diff',\n",
       "       'trend_visual_ichimoku_a', 'trend_psar_up', 'momentum_rsi',\n",
       "       'momentum_uo', 'momentum_kama', 'others_dr', 'pt_cdl2crows',\n",
       "       'pt_cdl3starsinsouth', 'pt_cdlbreakaway', 'pt_cdldoji',\n",
       "       'pt_cdleveningstar', 'pt_cdlharami', 'pt_cdlhomingpigeon',\n",
       "       'pt_cdlkickingbylength', 'pt_cdlmatchinglow', 'pt_cdlpiercing',\n",
       "       'pt_cdlshortline', 'pt_cdltasukigap', 'pt_cdlxsidegap3methods',\n",
       "       'fx_s2'],\n",
       "      dtype='object')"
      ]
     },
     "execution_count": 29,
     "metadata": {},
     "output_type": "execute_result"
    }
   ],
   "source": [
    "df.columns[0::5]"
   ]
  },
  {
   "cell_type": "code",
   "execution_count": 30,
   "id": "fd62e72f",
   "metadata": {},
   "outputs": [],
   "source": [
    "# pd.Series(df.columns).to_clipboard()"
   ]
  },
  {
   "cell_type": "code",
   "execution_count": 31,
   "id": "06f13957",
   "metadata": {},
   "outputs": [
    {
     "data": {
      "text/plain": [
       "(10465, 198)"
      ]
     },
     "execution_count": 31,
     "metadata": {},
     "output_type": "execute_result"
    }
   ],
   "source": [
    "df.shape"
   ]
  },
  {
   "cell_type": "markdown",
   "id": "d76f2178",
   "metadata": {},
   "source": [
    "### Examine Alternative Target Options"
   ]
  },
  {
   "cell_type": "code",
   "execution_count": 32,
   "id": "4dc25cae",
   "metadata": {},
   "outputs": [],
   "source": [
    "chkp = df.copy()\n",
    "# df = chkp.copy()"
   ]
  },
  {
   "cell_type": "code",
   "execution_count": 33,
   "id": "b8e2ef8a",
   "metadata": {},
   "outputs": [
    {
     "data": {
      "text/html": [
       "<div>\n",
       "<style scoped>\n",
       "    .dataframe tbody tr th:only-of-type {\n",
       "        vertical-align: middle;\n",
       "    }\n",
       "\n",
       "    .dataframe tbody tr th {\n",
       "        vertical-align: top;\n",
       "    }\n",
       "\n",
       "    .dataframe thead th {\n",
       "        text-align: right;\n",
       "    }\n",
       "</style>\n",
       "<table border=\"1\" class=\"dataframe\">\n",
       "  <thead>\n",
       "    <tr style=\"text-align: right;\">\n",
       "      <th></th>\n",
       "      <th>opentime</th>\n",
       "      <th>closetime</th>\n",
       "      <th>open</th>\n",
       "      <th>high</th>\n",
       "      <th>low</th>\n",
       "      <th>close</th>\n",
       "      <th>volume</th>\n",
       "      <th>...</th>\n",
       "      <th>trg_delta_08hrs_ahead</th>\n",
       "      <th>trg_delta_12hrs_ahead</th>\n",
       "      <th>trg_delta_16hrs_ahead</th>\n",
       "      <th>trg_delta_20hrs_ahead</th>\n",
       "      <th>trg_delta_24hrs_ahead</th>\n",
       "      <th>trg_delta_48hrs_ahead</th>\n",
       "      <th>trg_delta_96hrs_ahead</th>\n",
       "    </tr>\n",
       "  </thead>\n",
       "  <tbody>\n",
       "    <tr>\n",
       "      <th>19981</th>\n",
       "      <td>2022-03-08 21:00:00</td>\n",
       "      <td>2022-03-08 21:59:00</td>\n",
       "      <td>2552.040039</td>\n",
       "      <td>2562.750000</td>\n",
       "      <td>2546.719971</td>\n",
       "      <td>2557.320068</td>\n",
       "      <td>38991.250000</td>\n",
       "      <td>...</td>\n",
       "      <td>0.061373</td>\n",
       "      <td>0.076518</td>\n",
       "      <td>0.066312</td>\n",
       "      <td>0.072627</td>\n",
       "      <td>0.058409</td>\n",
       "      <td>0.017542</td>\n",
       "      <td>0.011078</td>\n",
       "    </tr>\n",
       "    <tr>\n",
       "      <th>19982</th>\n",
       "      <td>2022-03-08 22:00:00</td>\n",
       "      <td>2022-03-08 22:59:00</td>\n",
       "      <td>2557.320068</td>\n",
       "      <td>2574.030029</td>\n",
       "      <td>2554.780029</td>\n",
       "      <td>2567.229980</td>\n",
       "      <td>29236.652344</td>\n",
       "      <td>...</td>\n",
       "      <td>0.059367</td>\n",
       "      <td>0.073601</td>\n",
       "      <td>0.066223</td>\n",
       "      <td>0.055651</td>\n",
       "      <td>0.058055</td>\n",
       "      <td>0.017034</td>\n",
       "      <td>0.007245</td>\n",
       "    </tr>\n",
       "  </tbody>\n",
       "</table>\n",
       "<p>2 rows × 216 columns</p>\n",
       "</div>"
      ],
      "text/plain": [
       "                 opentime           closetime         open         high  \\\n",
       "19981 2022-03-08 21:00:00 2022-03-08 21:59:00  2552.040039  2562.750000   \n",
       "19982 2022-03-08 22:00:00 2022-03-08 22:59:00  2557.320068  2574.030029   \n",
       "\n",
       "               low        close        volume  ...  trg_delta_08hrs_ahead  \\\n",
       "19981  2546.719971  2557.320068  38991.250000  ...               0.061373   \n",
       "19982  2554.780029  2567.229980  29236.652344  ...               0.059367   \n",
       "\n",
       "       trg_delta_12hrs_ahead  trg_delta_16hrs_ahead  trg_delta_20hrs_ahead  \\\n",
       "19981               0.076518               0.066312               0.072627   \n",
       "19982               0.073601               0.066223               0.055651   \n",
       "\n",
       "       trg_delta_24hrs_ahead  trg_delta_48hrs_ahead  trg_delta_96hrs_ahead  \n",
       "19981               0.058409               0.017542               0.011078  \n",
       "19982               0.058055               0.017034               0.007245  \n",
       "\n",
       "[2 rows x 216 columns]"
      ]
     },
     "execution_count": 33,
     "metadata": {},
     "output_type": "execute_result"
    }
   ],
   "source": [
    "df = \\\n",
    "    df.assign(\n",
    "        #change_pct = lambda x : x.close.pct_change(),\n",
    "        #change_chr = lambda x : x.close.pct_change().apply(np.sign),\n",
    "\n",
    "        trg_close_01hrs_ahead = lambda x : x.close.shift(-1),\n",
    "        trg_close_04hrs_ahead = lambda x : x.close.shift(-4),\n",
    "        trg_close_08hrs_ahead = lambda x : x.close.shift(-8),\n",
    "        trg_close_12hrs_ahead = lambda x : x.close.shift(-12),\n",
    "        trg_close_16hrs_ahead = lambda x : x.close.shift(-16),\n",
    "        trg_close_20hrs_ahead = lambda x : x.close.shift(-20),\n",
    "        trg_close_24hrs_ahead = lambda x : x.close.shift(-24),\n",
    "        trg_close_48hrs_ahead = lambda x : x.close.shift(-48),\n",
    "        trg_close_96hrs_ahead = lambda x : x.close.shift(-96),\n",
    "    \n",
    "        trg_delta_01hrs_ahead = lambda x : (x.close.shift(-1)/x.close)-1,\n",
    "        trg_delta_04hrs_ahead = lambda x : (x.close.shift(-4)/x.close)-1,\n",
    "        trg_delta_08hrs_ahead = lambda x : (x.close.shift(-8)/x.close)-1,\n",
    "        trg_delta_12hrs_ahead = lambda x : (x.close.shift(-12)/x.close)-1,\n",
    "        trg_delta_16hrs_ahead = lambda x : (x.close.shift(-16)/x.close)-1,\n",
    "        trg_delta_20hrs_ahead = lambda x : (x.close.shift(-20)/x.close)-1,\n",
    "        trg_delta_24hrs_ahead = lambda x : (x.close.shift(-24)/x.close)-1,\n",
    "        trg_delta_48hrs_ahead = lambda x : (x.close.shift(-48)/x.close)-1,\n",
    "        trg_delta_96hrs_ahead = lambda x : (x.close.shift(-96)/x.close)-1,\n",
    "    )\n",
    "df.tail(100).head(2)"
   ]
  },
  {
   "cell_type": "code",
   "execution_count": 34,
   "id": "6b94b65c",
   "metadata": {},
   "outputs": [
    {
     "name": "stdout",
     "output_type": "stream",
     "text": [
      "trg_delta_01hrs_ahead\n",
      "====================================================================================================\n",
      "(0.0, 0.025]     95.698308\n",
      "(0.025, 0.05]     3.861963\n",
      "(0.05, 0.1]       0.430169\n",
      "(0.1, 0.25]       0.009559\n",
      "(0.25, 0.5]       0.000000\n",
      "(0.5, 1.0]        0.000000\n",
      "Name: trg_delta_01hrs_ahead, dtype: float64\n",
      "----------------------------------------------------------------------------------------------------\n",
      " 1.0    51.548165\n",
      "-1.0    48.423165\n",
      " 0.0     0.028670\n",
      "Name: trg_delta_01hrs_ahead, dtype: float64\n",
      "====================================================================================================\n",
      "\n",
      "trg_delta_04hrs_ahead\n",
      "====================================================================================================\n",
      "(0.0, 0.025]     80.351850\n",
      "(0.025, 0.05]    15.364758\n",
      "(0.05, 0.1]       3.986997\n",
      "(0.1, 0.25]       0.296395\n",
      "(0.25, 0.5]       0.000000\n",
      "(0.5, 1.0]        0.000000\n",
      "Name: trg_delta_04hrs_ahead, dtype: float64\n",
      "----------------------------------------------------------------------------------------------------\n",
      " 1.0    52.365931\n",
      "-1.0    47.614951\n",
      " 0.0     0.019119\n",
      "Name: trg_delta_04hrs_ahead, dtype: float64\n",
      "====================================================================================================\n",
      "\n",
      "trg_delta_08hrs_ahead\n",
      "====================================================================================================\n",
      "(0.0, 0.025]     67.132198\n",
      "(0.025, 0.05]    22.383777\n",
      "(0.05, 0.1]       9.517888\n",
      "(0.1, 0.25]       0.966137\n",
      "(0.25, 0.5]       0.000000\n",
      "(0.5, 1.0]        0.000000\n",
      "Name: trg_delta_08hrs_ahead, dtype: float64\n",
      "----------------------------------------------------------------------------------------------------\n",
      " 1.0    52.778043\n",
      "-1.0    47.193268\n",
      " 0.0     0.028689\n",
      "Name: trg_delta_08hrs_ahead, dtype: float64\n",
      "====================================================================================================\n",
      "\n",
      "trg_delta_12hrs_ahead\n",
      "====================================================================================================\n",
      "(0.0, 0.025]     57.481822\n",
      "(0.025, 0.05]    26.846537\n",
      "(0.05, 0.1]      13.624187\n",
      "(0.1, 0.25]       2.028320\n",
      "(0.25, 0.5]       0.019135\n",
      "(0.5, 1.0]        0.000000\n",
      "Name: trg_delta_12hrs_ahead, dtype: float64\n",
      "----------------------------------------------------------------------------------------------------\n",
      " 1.0    52.817373\n",
      "-1.0    47.173060\n",
      " 0.0     0.009567\n",
      "Name: trg_delta_12hrs_ahead, dtype: float64\n",
      "====================================================================================================\n",
      "\n",
      "trg_delta_16hrs_ahead\n",
      "====================================================================================================\n",
      "(0.0, 0.025]     50.516845\n",
      "(0.025, 0.05]    27.794793\n",
      "(0.05, 0.1]      18.328867\n",
      "(0.1, 0.25]       3.330781\n",
      "(0.25, 0.5]       0.028714\n",
      "(0.5, 1.0]        0.000000\n",
      "Name: trg_delta_16hrs_ahead, dtype: float64\n",
      "----------------------------------------------------------------------------------------------------\n",
      " 1.0    53.373529\n",
      "-1.0    46.616901\n",
      " 0.0     0.009570\n",
      "Name: trg_delta_16hrs_ahead, dtype: float64\n",
      "====================================================================================================\n",
      "\n",
      "trg_delta_20hrs_ahead\n",
      "====================================================================================================\n",
      "(0.0, 0.025]     45.753949\n",
      "(0.025, 0.05]    28.539971\n",
      "(0.05, 0.1]      20.928674\n",
      "(0.1, 0.25]       4.633796\n",
      "(0.25, 0.5]       0.143609\n",
      "(0.5, 1.0]        0.000000\n",
      "Name: trg_delta_20hrs_ahead, dtype: float64\n",
      "----------------------------------------------------------------------------------------------------\n",
      " 1.0    53.719483\n",
      "-1.0    46.280517\n",
      "Name: trg_delta_20hrs_ahead, dtype: float64\n",
      "====================================================================================================\n",
      "\n",
      "trg_delta_24hrs_ahead\n",
      "====================================================================================================\n",
      "(0.0, 0.025]     41.455939\n",
      "(0.025, 0.05]    28.304598\n",
      "(0.05, 0.1]      23.955939\n",
      "(0.1, 0.25]       6.005747\n",
      "(0.25, 0.5]       0.277778\n",
      "(0.5, 1.0]        0.000000\n",
      "Name: trg_delta_24hrs_ahead, dtype: float64\n",
      "----------------------------------------------------------------------------------------------------\n",
      " 1.0    53.740063\n",
      "-1.0    46.250359\n",
      " 0.0     0.009578\n",
      "Name: trg_delta_24hrs_ahead, dtype: float64\n",
      "====================================================================================================\n",
      "\n",
      "trg_delta_48hrs_ahead\n",
      "====================================================================================================\n",
      "(0.0, 0.025]     30.315830\n",
      "(0.05, 0.1]      29.826246\n",
      "(0.025, 0.05]    23.519247\n",
      "(0.1, 0.25]      15.532303\n",
      "(0.25, 0.5]       0.796775\n",
      "(0.5, 1.0]        0.009600\n",
      "Name: trg_delta_48hrs_ahead, dtype: float64\n",
      "----------------------------------------------------------------------------------------------------\n",
      " 1.0    54.420659\n",
      "-1.0    45.579341\n",
      "Name: trg_delta_48hrs_ahead, dtype: float64\n",
      "====================================================================================================\n",
      "\n",
      "trg_delta_96hrs_ahead\n",
      "====================================================================================================\n",
      "(0.05, 0.1]      29.414601\n",
      "(0.1, 0.25]      28.556274\n",
      "(0.0, 0.025]     20.792748\n",
      "(0.025, 0.05]    18.979651\n",
      "(0.25, 0.5]       2.005979\n",
      "(0.5, 1.0]        0.250747\n",
      "Name: trg_delta_96hrs_ahead, dtype: float64\n",
      "----------------------------------------------------------------------------------------------------\n",
      " 1.0    57.575465\n",
      "-1.0    42.424535\n",
      "Name: trg_delta_96hrs_ahead, dtype: float64\n",
      "====================================================================================================\n",
      "\n"
     ]
    }
   ],
   "source": [
    "# Review distributions of absolute returns for 4-8-16 etc. hours ahead\n",
    "trg_windows = [x for x in df.columns if x.startswith('trg_delta')]\n",
    "for wnd in trg_windows:\n",
    "    print(wnd)\n",
    "    print(100*'=')\n",
    "    print((pd.cut(\n",
    "        x = df[wnd].abs(), \n",
    "        bins = [0, 0.025, 0.05, 0.1, 0.25, 0.5, 1.], \n",
    "        ).value_counts(normalize=True))*100)\n",
    "    print(100*'-')\n",
    "    print(df[wnd].apply(np.sign).value_counts(normalize=True)*100)\n",
    "    print(100*'=')\n",
    "    print()"
   ]
  },
  {
   "cell_type": "markdown",
   "id": "49c5e6ae",
   "metadata": {},
   "source": [
    "### Select Timeframe for target"
   ]
  },
  {
   "cell_type": "code",
   "execution_count": 74,
   "id": "858473c2",
   "metadata": {},
   "outputs": [],
   "source": [
    "chkp2 = df.copy()\n",
    "# df = chkp2.copy()"
   ]
  },
  {
   "cell_type": "code",
   "execution_count": 75,
   "id": "45dde391",
   "metadata": {},
   "outputs": [],
   "source": [
    "my_target = 'trg_delta_20hrs_ahead'\n",
    "df['target_rtrns'] = df[my_target]"
   ]
  },
  {
   "cell_type": "code",
   "execution_count": 76,
   "id": "59e59ed6",
   "metadata": {},
   "outputs": [],
   "source": [
    "# drop all other trg columns - i.e. time frame related targets\n",
    "df = df[[x for x in df.columns if not x.startswith('trg_')]]"
   ]
  },
  {
   "cell_type": "code",
   "execution_count": 77,
   "id": "d61bfdbc",
   "metadata": {},
   "outputs": [
    {
     "data": {
      "text/plain": [
       "delta_0%_3%      52.312111\n",
       "delta_3%_100%    47.687889\n",
       "Name: target_rtrns, dtype: float64"
      ]
     },
     "execution_count": 77,
     "metadata": {},
     "output_type": "execute_result"
    }
   ],
   "source": [
    "# chance to revisit/readjust bins\n",
    "my_bins = [0, 0.03, 1.]\n",
    "my_labels = [f'delta_{x:.0%}_{y:.0%}' for x,y in zip(my_bins[:-1],my_bins[1:])]\n",
    "(pd.cut(x = df.target_rtrns.abs(), bins = my_bins, labels = my_labels).value_counts(normalize=True)*100)"
   ]
  },
  {
   "cell_type": "code",
   "execution_count": 84,
   "id": "7dca308e",
   "metadata": {},
   "outputs": [],
   "source": [
    "df['target_sign'] = df.target_rtrns.apply(np.sign)\n",
    "df['target_sign_binary'] = df.target_sign.apply(lambda x : 'up' if x>=0 else 'down') #if na 'down' will be assigned\n",
    "df['target_bins'] = pd.cut(x = df.target_rtrns.abs(), bins = my_bins, labels = my_labels)"
   ]
  },
  {
   "cell_type": "code",
   "execution_count": 85,
   "id": "d9b7762a",
   "metadata": {},
   "outputs": [
    {
     "data": {
      "text/plain": [
       "delta_0%_3%      5464\n",
       "delta_3%_100%    4981\n",
       "NaN                20\n",
       "Name: target_bins, dtype: int64"
      ]
     },
     "execution_count": 85,
     "metadata": {},
     "output_type": "execute_result"
    }
   ],
   "source": [
    "df.target_bins.value_counts(dropna=False)"
   ]
  },
  {
   "cell_type": "code",
   "execution_count": 88,
   "id": "3bc8b64f",
   "metadata": {},
   "outputs": [
    {
     "data": {
      "text/plain": [
       "steady    5464\n",
       "up        2790\n",
       "down      2191\n",
       "NaN         20\n",
       "dtype: int64"
      ]
     },
     "execution_count": 88,
     "metadata": {},
     "output_type": "execute_result"
    }
   ],
   "source": [
    "pd.Series(\n",
    "    np.where(df['target_bins']=='delta_0%_3%','steady',\n",
    "        np.where(df['target_bins']=='delta_3%_100%',df['target_sign_binary'],None))\n",
    "    ).value_counts(dropna=False)"
   ]
  },
  {
   "cell_type": "code",
   "execution_count": 101,
   "id": "56311994",
   "metadata": {},
   "outputs": [
    {
     "data": {
      "text/html": [
       "<div>\n",
       "<style scoped>\n",
       "    .dataframe tbody tr th:only-of-type {\n",
       "        vertical-align: middle;\n",
       "    }\n",
       "\n",
       "    .dataframe tbody tr th {\n",
       "        vertical-align: top;\n",
       "    }\n",
       "\n",
       "    .dataframe thead th {\n",
       "        text-align: right;\n",
       "    }\n",
       "</style>\n",
       "<table border=\"1\" class=\"dataframe\">\n",
       "  <thead>\n",
       "    <tr style=\"text-align: right;\">\n",
       "      <th></th>\n",
       "      <th>counts</th>\n",
       "      <th>normalized_counts(%)</th>\n",
       "    </tr>\n",
       "  </thead>\n",
       "  <tbody>\n",
       "    <tr>\n",
       "      <th>steady</th>\n",
       "      <td>5464</td>\n",
       "      <td>52.21</td>\n",
       "    </tr>\n",
       "    <tr>\n",
       "      <th>up</th>\n",
       "      <td>2790</td>\n",
       "      <td>26.66</td>\n",
       "    </tr>\n",
       "    <tr>\n",
       "      <th>down</th>\n",
       "      <td>2191</td>\n",
       "      <td>20.94</td>\n",
       "    </tr>\n",
       "    <tr>\n",
       "      <th>NaN</th>\n",
       "      <td>20</td>\n",
       "      <td>0.19</td>\n",
       "    </tr>\n",
       "  </tbody>\n",
       "</table>\n",
       "</div>"
      ],
      "text/plain": [
       "        counts  normalized_counts(%)\n",
       "steady    5464                 52.21\n",
       "up        2790                 26.66\n",
       "down      2191                 20.94\n",
       "NaN         20                  0.19"
      ]
     },
     "execution_count": 101,
     "metadata": {},
     "output_type": "execute_result"
    }
   ],
   "source": [
    "bins_sign = np.where(df['target_bins']=='delta_0%_3%','steady',\n",
    "                     np.where(df['target_bins']=='delta_3%_100%',df['target_sign_binary'],None))\n",
    "pd.DataFrame({'counts':pd.Series(bins_sign).value_counts(dropna=False),\n",
    "              'normalized_counts(%)':round(pd.Series(bins_sign).value_counts(normalize=True,dropna=False)*100,2)})"
   ]
  },
  {
   "cell_type": "code",
   "execution_count": 102,
   "id": "0085ab97",
   "metadata": {},
   "outputs": [],
   "source": [
    "df['target_bins_sign'] = bins_sign"
   ]
  },
  {
   "cell_type": "code",
   "execution_count": 103,
   "id": "c6b3bb10",
   "metadata": {},
   "outputs": [
    {
     "data": {
      "text/plain": [
       "target_rtrns          20\n",
       "target_sign           20\n",
       "target_sign_binary     0\n",
       "target_bins           20\n",
       "target_bins_sign      20\n",
       "dtype: int64"
      ]
     },
     "execution_count": 103,
     "metadata": {},
     "output_type": "execute_result"
    }
   ],
   "source": [
    "df[[x for x in df.columns if x.startswith('target')]].isnull().sum()"
   ]
  },
  {
   "cell_type": "code",
   "execution_count": 109,
   "id": "5b645c28",
   "metadata": {},
   "outputs": [
    {
     "data": {
      "text/plain": [
       "target_sign_binary  target_bins    target_bins_sign\n",
       "down                delta_0%_3%    down                   0\n",
       "                                   steady              2643\n",
       "                                   up                     0\n",
       "                    delta_3%_100%  down                2191\n",
       "                                   steady                 0\n",
       "                                   up                     0\n",
       "up                  delta_0%_3%    down                   0\n",
       "                                   steady              2821\n",
       "                                   up                     0\n",
       "                    delta_3%_100%  down                   0\n",
       "                                   steady                 0\n",
       "                                   up                  2790\n",
       "dtype: int64"
      ]
     },
     "execution_count": 109,
     "metadata": {},
     "output_type": "execute_result"
    }
   ],
   "source": [
    "df.groupby(['target_sign_binary','target_bins','target_bins_sign']).size()"
   ]
  },
  {
   "cell_type": "markdown",
   "id": "0fbf56e9",
   "metadata": {},
   "source": [
    "### Profile Targets"
   ]
  },
  {
   "cell_type": "code",
   "execution_count": 110,
   "id": "2d514366",
   "metadata": {},
   "outputs": [
    {
     "data": {
      "text/plain": [
       "['target_rtrns',\n",
       " 'target_sign',\n",
       " 'target_sign_binary',\n",
       " 'target_bins',\n",
       " 'target_bins_sign']"
      ]
     },
     "execution_count": 110,
     "metadata": {},
     "output_type": "execute_result"
    }
   ],
   "source": [
    "[x for x in df.columns if x.startswith('target')]"
   ]
  },
  {
   "cell_type": "code",
   "execution_count": 112,
   "id": "3136b315",
   "metadata": {},
   "outputs": [
    {
     "data": {
      "text/plain": [
       "<AxesSubplot:>"
      ]
     },
     "execution_count": 112,
     "metadata": {},
     "output_type": "execute_result"
    },
    {
     "data": {
      "image/png": "[encoded data removed]",
      "text/plain": [
       "<Figure size 432x288 with 1 Axes>"
      ]
     },
     "metadata": {
      "needs_background": "light"
     },
     "output_type": "display_data"
    }
   ],
   "source": [
    "df.target_rtrns.hist(bins=100)"
   ]
  },
  {
   "cell_type": "code",
   "execution_count": 113,
   "id": "2380f715",
   "metadata": {},
   "outputs": [
    {
     "name": "stdout",
     "output_type": "stream",
     "text": [
      "delta_0%_3%      52.312111\n",
      "delta_3%_100%    47.687889\n",
      "Name: target_bins, dtype: float64\n"
     ]
    },
    {
     "data": {
      "image/png": "[encoded data removed]",
      "text/plain": [
       "<Figure size 432x288 with 1 Axes>"
      ]
     },
     "metadata": {
      "needs_background": "light"
     },
     "output_type": "display_data"
    }
   ],
   "source": [
    "df.target_bins.value_counts(normalize=True).plot(kind='barh')\n",
    "print(df.target_bins.value_counts(normalize=True)*100)"
   ]
  },
  {
   "cell_type": "code",
   "execution_count": 58,
   "id": "2567caac",
   "metadata": {},
   "outputs": [
    {
     "data": {
      "text/plain": [
       " 1.0    0.537195\n",
       "-1.0    0.462805\n",
       "Name: target_sign_binary, dtype: float64"
      ]
     },
     "execution_count": 58,
     "metadata": {},
     "output_type": "execute_result"
    }
   ],
   "source": [
    "df.target_sign_binary.value_counts(normalize=True)"
   ]
  },
  {
   "cell_type": "code",
   "execution_count": 115,
   "id": "26e7fc99",
   "metadata": {},
   "outputs": [
    {
     "data": {
      "text/plain": [
       "steady    0.523121\n",
       "up        0.267113\n",
       "down      0.209765\n",
       "Name: target_bins_sign, dtype: float64"
      ]
     },
     "execution_count": 115,
     "metadata": {},
     "output_type": "execute_result"
    }
   ],
   "source": [
    "df.target_bins_sign.value_counts(normalize=True)"
   ]
  },
  {
   "cell_type": "markdown",
   "id": "888956e1",
   "metadata": {},
   "source": [
    "### Clean dataset from NAs"
   ]
  },
  {
   "cell_type": "code",
   "execution_count": 59,
   "id": "a227d568",
   "metadata": {},
   "outputs": [],
   "source": [
    "# import missingno as msno\n",
    "# msno.matrix(df.set_index('opentime')[df.columns[(df.isnull().sum()!=0)]],freq='H')"
   ]
  },
  {
   "cell_type": "code",
   "execution_count": 116,
   "id": "302c5f5f",
   "metadata": {},
   "outputs": [
    {
     "name": "stdout",
     "output_type": "stream",
     "text": [
      "current rows 10465\n",
      "max missing rows 168\n",
      "opentime from 2021-01-01 00:00 to 2022-03-13 00:00\n"
     ]
    }
   ],
   "source": [
    "print(f'current rows {df.shape[0]}')\n",
    "print(f'max missing rows {df.isnull().sum().max()}')\n",
    "print(f'opentime from {df.opentime.min().strftime(\"%Y-%m-%d %H:%M\")} to {df.opentime.max().strftime(\"%Y-%m-%d %H:%M\")}')"
   ]
  },
  {
   "cell_type": "code",
   "execution_count": 117,
   "id": "f91ddccd",
   "metadata": {},
   "outputs": [
    {
     "data": {
      "text/plain": [
       "(10277, 203)"
      ]
     },
     "execution_count": 117,
     "metadata": {},
     "output_type": "execute_result"
    }
   ],
   "source": [
    "md = df.dropna().reset_index(drop=True).copy()\n",
    "md.shape"
   ]
  },
  {
   "cell_type": "code",
   "execution_count": 118,
   "id": "d6d0bb0e",
   "metadata": {},
   "outputs": [
    {
     "name": "stdout",
     "output_type": "stream",
     "text": [
      "remaining missing observations 0\n",
      "current rows 10277\n",
      "opentime from 2021-01-08 00:00 to 2022-03-12 04:00\n"
     ]
    }
   ],
   "source": [
    "print(f'remaining missing observations {md.isnull().sum().sum()}')\n",
    "print(f'current rows {md.shape[0]}')\n",
    "print(f'opentime from {md.opentime.min().strftime(\"%Y-%m-%d %H:%M\")} to {md.opentime.max().strftime(\"%Y-%m-%d %H:%M\")}')"
   ]
  },
  {
   "cell_type": "code",
   "execution_count": 119,
   "id": "b37b49fb",
   "metadata": {},
   "outputs": [
    {
     "data": {
      "text/plain": [
       "steady    5414\n",
       "up        2682\n",
       "down      2181\n",
       "Name: target_bins_sign, dtype: int64"
      ]
     },
     "execution_count": 119,
     "metadata": {},
     "output_type": "execute_result"
    }
   ],
   "source": [
    "md.target_bins_sign.value_counts()"
   ]
  },
  {
   "cell_type": "code",
   "execution_count": 120,
   "id": "acaca369",
   "metadata": {},
   "outputs": [],
   "source": [
    "X = md[[x for x in md.columns if not (x.startswith('target') | x.endswith('time'))]].reset_index(drop=True)\n",
    "X = X.drop(['open','high','low','close','volume','numtrade'],axis=1)"
   ]
  },
  {
   "cell_type": "code",
   "execution_count": 121,
   "id": "8e37fc9e",
   "metadata": {},
   "outputs": [
    {
     "data": {
      "text/plain": [
       "['target_rtrns',\n",
       " 'target_sign',\n",
       " 'target_sign_binary',\n",
       " 'target_bins',\n",
       " 'target_bins_sign']"
      ]
     },
     "execution_count": 121,
     "metadata": {},
     "output_type": "execute_result"
    }
   ],
   "source": [
    "[x for x in md.columns if x.startswith('target')]"
   ]
  },
  {
   "cell_type": "code",
   "execution_count": 122,
   "id": "c26b2bcf",
   "metadata": {},
   "outputs": [],
   "source": [
    "y = md['target_sign_binary']"
   ]
  },
  {
   "cell_type": "code",
   "execution_count": 96,
   "id": "77101155",
   "metadata": {},
   "outputs": [],
   "source": [
    "# pd.Series(md.columns).to_clipboard()\n",
    "# pd.Series(X.columns).to_clipboard()"
   ]
  },
  {
   "cell_type": "markdown",
   "id": "b56d15fc",
   "metadata": {},
   "source": [
    "### Temporal Train Test Split - dataset to test at the end"
   ]
  },
  {
   "cell_type": "code",
   "execution_count": 123,
   "id": "2737b093",
   "metadata": {},
   "outputs": [],
   "source": [
    "from sktime.forecasting.model_selection import temporal_train_test_split"
   ]
  },
  {
   "cell_type": "code",
   "execution_count": 124,
   "id": "91d14c37",
   "metadata": {},
   "outputs": [],
   "source": [
    "y, y_keep, X, X_keep = temporal_train_test_split(y,X,test_size=24*7*4)"
   ]
  },
  {
   "cell_type": "code",
   "execution_count": 125,
   "id": "059768ec",
   "metadata": {},
   "outputs": [
    {
     "data": {
      "text/plain": [
       "[(9605,), (672,), (9605, 190), (672, 190)]"
      ]
     },
     "execution_count": 125,
     "metadata": {},
     "output_type": "execute_result"
    }
   ],
   "source": [
    "[x.shape for x in [y, y_keep, X, X_keep]]"
   ]
  },
  {
   "cell_type": "code",
   "execution_count": 126,
   "id": "ff58457e",
   "metadata": {},
   "outputs": [
    {
     "data": {
      "text/plain": [
       "down    388\n",
       "up      284\n",
       "Name: target_sign_binary, dtype: int64"
      ]
     },
     "execution_count": 126,
     "metadata": {},
     "output_type": "execute_result"
    }
   ],
   "source": [
    "y_keep.value_counts()"
   ]
  },
  {
   "cell_type": "markdown",
   "id": "55e45b67",
   "metadata": {},
   "source": [
    "### Setup Cross-Validation"
   ]
  },
  {
   "cell_type": "code",
   "execution_count": 127,
   "id": "3eed18cb",
   "metadata": {},
   "outputs": [],
   "source": [
    "from sklearn.model_selection import TimeSeriesSplit\n",
    "from sktime.forecasting.model_selection import SlidingWindowSplitter, ExpandingWindowSplitter"
   ]
  },
  {
   "cell_type": "markdown",
   "id": "14b4f48c",
   "metadata": {},
   "source": [
    "### sklearn TimeSeriesSplit"
   ]
  },
  {
   "cell_type": "code",
   "execution_count": 128,
   "id": "86eb7788",
   "metadata": {},
   "outputs": [],
   "source": [
    "# # tscv = TimeSeriesSplit(gap=0, max_train_size=None, n_splits=20, test_size=200)\n",
    "# tscv = TimeSeriesSplit(n_splits=10)\n",
    "# for i, (train_index, test_index) in enumerate(tscv.split(X),start=1):\n",
    "#     print(f'''({str(i).zfill(2)}) train : {train_index[0]}-{train_index[-1]} [{len(train_index)}] & test {test_index[0]}-{test_index[-1]} [{len(test_index)}]''')\n",
    "#     X_train, X_test = X.loc[train_index], X.loc[test_index]\n",
    "#     y_train, y_test = y[train_index], y.loc[test_index]"
   ]
  },
  {
   "cell_type": "code",
   "execution_count": 129,
   "id": "9d7bafe1",
   "metadata": {},
   "outputs": [],
   "source": [
    "def TimeSeriesCV(X,y,n_splits=20, gap=0, max_train_size=None, test_size=None, verbose=False):\n",
    "    tscv = TimeSeriesSplit(n_splits=n_splits, gap=gap, max_train_size=max_train_size, test_size=test_size)\n",
    "    for i, (train_index, test_index) in enumerate(tscv.split(X),start=1):\n",
    "        X_train, X_test = X.loc[train_index], X.loc[test_index]\n",
    "        y_train, y_test = y[train_index], y.loc[test_index]\n",
    "        \n",
    "        if verbose:\n",
    "            print(f'''({str(i).zfill(2)}) train : {train_index[0]}-{train_index[-1]} [{len(train_index)}] & test {test_index[0]}-{test_index[-1]} [{len(test_index)}]''')\n",
    "            print('\\nEVENT RATIO in TRAIN')\n",
    "            print(y_train.value_counts(normalize=True)*100)\n",
    "            print('\\nEVENT RATIO in TEST')\n",
    "            print(y_test.value_counts(normalize=True)*100)\n",
    "            print('-'*100)\n",
    "            print()\n",
    "            \n",
    "        yield (X_train,y_train,X_test,y_test)"
   ]
  },
  {
   "cell_type": "code",
   "execution_count": 130,
   "id": "76b39139",
   "metadata": {},
   "outputs": [
    {
     "name": "stdout",
     "output_type": "stream",
     "text": [
      "(01) train : 0-874 [875] & test 875-1747 [873]\n",
      "\n",
      "EVENT RATIO in TRAIN\n",
      "up      58.742857\n",
      "down    41.257143\n",
      "Name: target_sign_binary, dtype: float64\n",
      "\n",
      "EVENT RATIO in TEST\n",
      "up      51.775487\n",
      "down    48.224513\n",
      "Name: target_sign_binary, dtype: float64\n",
      "----------------------------------------------------------------------------------------------------\n",
      "\n",
      "(02) train : 0-1747 [1748] & test 1748-2620 [873]\n",
      "\n",
      "EVENT RATIO in TRAIN\n",
      "up      55.263158\n",
      "down    44.736842\n",
      "Name: target_sign_binary, dtype: float64\n",
      "\n",
      "EVENT RATIO in TEST\n",
      "up      63.917526\n",
      "down    36.082474\n",
      "Name: target_sign_binary, dtype: float64\n",
      "----------------------------------------------------------------------------------------------------\n",
      "\n",
      "(03) train : 0-2620 [2621] & test 2621-3493 [873]\n",
      "\n",
      "EVENT RATIO in TRAIN\n",
      "up      58.145746\n",
      "down    41.854254\n",
      "Name: target_sign_binary, dtype: float64\n",
      "\n",
      "EVENT RATIO in TEST\n",
      "up      58.533792\n",
      "down    41.466208\n",
      "Name: target_sign_binary, dtype: float64\n",
      "----------------------------------------------------------------------------------------------------\n",
      "\n",
      "(04) train : 0-3493 [3494] & test 3494-4366 [873]\n",
      "\n",
      "EVENT RATIO in TRAIN\n",
      "up      58.242702\n",
      "down    41.757298\n",
      "Name: target_sign_binary, dtype: float64\n",
      "\n",
      "EVENT RATIO in TEST\n",
      "down    54.41008\n",
      "up      45.58992\n",
      "Name: target_sign_binary, dtype: float64\n",
      "----------------------------------------------------------------------------------------------------\n",
      "\n",
      "(05) train : 0-4366 [4367] & test 4367-5239 [873]\n",
      "\n",
      "EVENT RATIO in TRAIN\n",
      "up      55.713304\n",
      "down    44.286696\n",
      "Name: target_sign_binary, dtype: float64\n",
      "\n",
      "EVENT RATIO in TEST\n",
      "up      61.282932\n",
      "down    38.717068\n",
      "Name: target_sign_binary, dtype: float64\n",
      "----------------------------------------------------------------------------------------------------\n",
      "\n",
      "(06) train : 0-5239 [5240] & test 5240-6112 [873]\n",
      "\n",
      "EVENT RATIO in TRAIN\n",
      "up      56.641221\n",
      "down    43.358779\n",
      "Name: target_sign_binary, dtype: float64\n",
      "\n",
      "EVENT RATIO in TEST\n",
      "up      50.744559\n",
      "down    49.255441\n",
      "Name: target_sign_binary, dtype: float64\n",
      "----------------------------------------------------------------------------------------------------\n",
      "\n",
      "(07) train : 0-6112 [6113] & test 6113-6985 [873]\n",
      "\n",
      "EVENT RATIO in TRAIN\n",
      "up      55.799117\n",
      "down    44.200883\n",
      "Name: target_sign_binary, dtype: float64\n",
      "\n",
      "EVENT RATIO in TEST\n",
      "up      57.044674\n",
      "down    42.955326\n",
      "Name: target_sign_binary, dtype: float64\n",
      "----------------------------------------------------------------------------------------------------\n",
      "\n",
      "(08) train : 0-6985 [6986] & test 6986-7858 [873]\n",
      "\n",
      "EVENT RATIO in TRAIN\n",
      "up      55.954767\n",
      "down    44.045233\n",
      "Name: target_sign_binary, dtype: float64\n",
      "\n",
      "EVENT RATIO in TEST\n",
      "up      54.41008\n",
      "down    45.58992\n",
      "Name: target_sign_binary, dtype: float64\n",
      "----------------------------------------------------------------------------------------------------\n",
      "\n",
      "(09) train : 0-7858 [7859] & test 7859-8731 [873]\n",
      "\n",
      "EVENT RATIO in TRAIN\n",
      "up      55.783179\n",
      "down    44.216821\n",
      "Name: target_sign_binary, dtype: float64\n",
      "\n",
      "EVENT RATIO in TEST\n",
      "down    56.815578\n",
      "up      43.184422\n",
      "Name: target_sign_binary, dtype: float64\n",
      "----------------------------------------------------------------------------------------------------\n",
      "\n",
      "(10) train : 0-8731 [8732] & test 8732-9604 [873]\n",
      "\n",
      "EVENT RATIO in TRAIN\n",
      "up      54.523591\n",
      "down    45.476409\n",
      "Name: target_sign_binary, dtype: float64\n",
      "\n",
      "EVENT RATIO in TEST\n",
      "down    50.515464\n",
      "up      49.484536\n",
      "Name: target_sign_binary, dtype: float64\n",
      "----------------------------------------------------------------------------------------------------\n",
      "\n"
     ]
    }
   ],
   "source": [
    "# tscv = TimeSeriesCV(X,y,n_splits=10,max_train_size=3000,test_size=24*7*4,verbose=True)\n",
    "tscv = TimeSeriesCV(X,y,n_splits=10,verbose=True)\n",
    "for xx in tscv:\n",
    "    X_train,y_train,X_test,y_test = xx"
   ]
  },
  {
   "cell_type": "code",
   "execution_count": 131,
   "id": "3ac0039b",
   "metadata": {},
   "outputs": [],
   "source": [
    "tscv = TimeSeriesCV(X,y,n_splits=10,verbose=True)"
   ]
  },
  {
   "cell_type": "code",
   "execution_count": 132,
   "id": "f68efeab",
   "metadata": {},
   "outputs": [
    {
     "name": "stdout",
     "output_type": "stream",
     "text": [
      "(01) train : 0-874 [875] & test 875-1747 [873]\n",
      "\n",
      "EVENT RATIO in TRAIN\n",
      "up      58.742857\n",
      "down    41.257143\n",
      "Name: target_sign_binary, dtype: float64\n",
      "\n",
      "EVENT RATIO in TEST\n",
      "up      51.775487\n",
      "down    48.224513\n",
      "Name: target_sign_binary, dtype: float64\n",
      "----------------------------------------------------------------------------------------------------\n",
      "\n"
     ]
    },
    {
     "data": {
      "text/html": [
       "<div>\n",
       "<style scoped>\n",
       "    .dataframe tbody tr th:only-of-type {\n",
       "        vertical-align: middle;\n",
       "    }\n",
       "\n",
       "    .dataframe tbody tr th {\n",
       "        vertical-align: top;\n",
       "    }\n",
       "\n",
       "    .dataframe thead th {\n",
       "        text-align: right;\n",
       "    }\n",
       "</style>\n",
       "<table border=\"1\" class=\"dataframe\">\n",
       "  <thead>\n",
       "    <tr style=\"text-align: right;\">\n",
       "      <th></th>\n",
       "      <th>fx_open</th>\n",
       "      <th>fx_high</th>\n",
       "      <th>fx_low</th>\n",
       "      <th>fx_close</th>\n",
       "      <th>fx_volume</th>\n",
       "      <th>fx_close_lag_001</th>\n",
       "      <th>fx_close_lag_002</th>\n",
       "      <th>...</th>\n",
       "      <th>fx_pp</th>\n",
       "      <th>fx_r1</th>\n",
       "      <th>fx_s1</th>\n",
       "      <th>fx_r2</th>\n",
       "      <th>fx_s2</th>\n",
       "      <th>fx_r3</th>\n",
       "      <th>fx_s3</th>\n",
       "    </tr>\n",
       "  </thead>\n",
       "  <tbody>\n",
       "    <tr>\n",
       "      <th>870</th>\n",
       "      <td>1862.229980</td>\n",
       "      <td>1863.000000</td>\n",
       "      <td>1840.510010</td>\n",
       "      <td>1852.489990</td>\n",
       "      <td>80418.773438</td>\n",
       "      <td>1852.489990</td>\n",
       "      <td>1862.229980</td>\n",
       "      <td>...</td>\n",
       "      <td>1852.000000</td>\n",
       "      <td>1863.489990</td>\n",
       "      <td>1841.000000</td>\n",
       "      <td>1874.489990</td>\n",
       "      <td>1829.510010</td>\n",
       "      <td>1885.979980</td>\n",
       "      <td>1818.510010</td>\n",
       "    </tr>\n",
       "    <tr>\n",
       "      <th>871</th>\n",
       "      <td>1852.500000</td>\n",
       "      <td>1854.469971</td>\n",
       "      <td>1825.000000</td>\n",
       "      <td>1844.040039</td>\n",
       "      <td>78890.492188</td>\n",
       "      <td>1844.040039</td>\n",
       "      <td>1852.489990</td>\n",
       "      <td>...</td>\n",
       "      <td>1841.169922</td>\n",
       "      <td>1857.339844</td>\n",
       "      <td>1827.869873</td>\n",
       "      <td>1870.639893</td>\n",
       "      <td>1811.699951</td>\n",
       "      <td>1886.809814</td>\n",
       "      <td>1798.399902</td>\n",
       "    </tr>\n",
       "    <tr>\n",
       "      <th>872</th>\n",
       "      <td>1844.020020</td>\n",
       "      <td>1847.630005</td>\n",
       "      <td>1806.000000</td>\n",
       "      <td>1806.969971</td>\n",
       "      <td>134646.890625</td>\n",
       "      <td>1806.969971</td>\n",
       "      <td>1844.040039</td>\n",
       "      <td>...</td>\n",
       "      <td>1820.199829</td>\n",
       "      <td>1834.399658</td>\n",
       "      <td>1792.769653</td>\n",
       "      <td>1861.829834</td>\n",
       "      <td>1778.569824</td>\n",
       "      <td>1876.029663</td>\n",
       "      <td>1751.139648</td>\n",
       "    </tr>\n",
       "    <tr>\n",
       "      <th>873</th>\n",
       "      <td>1807.160034</td>\n",
       "      <td>1830.800049</td>\n",
       "      <td>1796.000000</td>\n",
       "      <td>1829.209961</td>\n",
       "      <td>165743.125000</td>\n",
       "      <td>1829.209961</td>\n",
       "      <td>1806.969971</td>\n",
       "      <td>...</td>\n",
       "      <td>1818.669922</td>\n",
       "      <td>1841.339844</td>\n",
       "      <td>1806.539795</td>\n",
       "      <td>1853.469971</td>\n",
       "      <td>1783.869873</td>\n",
       "      <td>1876.139893</td>\n",
       "      <td>1771.739746</td>\n",
       "    </tr>\n",
       "    <tr>\n",
       "      <th>874</th>\n",
       "      <td>1829.199951</td>\n",
       "      <td>1840.839966</td>\n",
       "      <td>1822.619995</td>\n",
       "      <td>1830.739990</td>\n",
       "      <td>70356.500000</td>\n",
       "      <td>1830.739990</td>\n",
       "      <td>1829.209961</td>\n",
       "      <td>...</td>\n",
       "      <td>1831.400024</td>\n",
       "      <td>1840.180054</td>\n",
       "      <td>1821.960083</td>\n",
       "      <td>1849.619995</td>\n",
       "      <td>1813.180054</td>\n",
       "      <td>1858.400024</td>\n",
       "      <td>1803.740112</td>\n",
       "    </tr>\n",
       "  </tbody>\n",
       "</table>\n",
       "<p>5 rows × 190 columns</p>\n",
       "</div>"
      ],
      "text/plain": [
       "         fx_open      fx_high       fx_low     fx_close      fx_volume  \\\n",
       "870  1862.229980  1863.000000  1840.510010  1852.489990   80418.773438   \n",
       "871  1852.500000  1854.469971  1825.000000  1844.040039   78890.492188   \n",
       "872  1844.020020  1847.630005  1806.000000  1806.969971  134646.890625   \n",
       "873  1807.160034  1830.800049  1796.000000  1829.209961  165743.125000   \n",
       "874  1829.199951  1840.839966  1822.619995  1830.739990   70356.500000   \n",
       "\n",
       "     fx_close_lag_001  fx_close_lag_002  ...        fx_pp        fx_r1  \\\n",
       "870       1852.489990       1862.229980  ...  1852.000000  1863.489990   \n",
       "871       1844.040039       1852.489990  ...  1841.169922  1857.339844   \n",
       "872       1806.969971       1844.040039  ...  1820.199829  1834.399658   \n",
       "873       1829.209961       1806.969971  ...  1818.669922  1841.339844   \n",
       "874       1830.739990       1829.209961  ...  1831.400024  1840.180054   \n",
       "\n",
       "           fx_s1        fx_r2        fx_s2        fx_r3        fx_s3  \n",
       "870  1841.000000  1874.489990  1829.510010  1885.979980  1818.510010  \n",
       "871  1827.869873  1870.639893  1811.699951  1886.809814  1798.399902  \n",
       "872  1792.769653  1861.829834  1778.569824  1876.029663  1751.139648  \n",
       "873  1806.539795  1853.469971  1783.869873  1876.139893  1771.739746  \n",
       "874  1821.960083  1849.619995  1813.180054  1858.400024  1803.740112  \n",
       "\n",
       "[5 rows x 190 columns]"
      ]
     },
     "execution_count": 132,
     "metadata": {},
     "output_type": "execute_result"
    }
   ],
   "source": [
    "# the tscv object yields n_splits dataset everytime 'next' is used\n",
    "# this will yield as many (n_splits) datasets there are and then it will prompt an error\n",
    "X_train,y_train,X_test,y_test = next(tscv)\n",
    "[len(x) for x in [X_train,y_train,X_test,y_test]]\n",
    "X_train.tail()"
   ]
  },
  {
   "cell_type": "markdown",
   "id": "01250bcc",
   "metadata": {},
   "source": [
    "### sktime SlidingWindowSplitter"
   ]
  },
  {
   "cell_type": "code",
   "execution_count": 133,
   "id": "89c65601",
   "metadata": {},
   "outputs": [
    {
     "name": "stdout",
     "output_type": "stream",
     "text": [
      "Number of Folds = 9\n",
      "(01) train : 0-999 [1000] & test 1000-1167 [168]\n",
      "(02) train : 1000-1999 [1000] & test 2000-2167 [168]\n",
      "(03) train : 2000-2999 [1000] & test 3000-3167 [168]\n",
      "(04) train : 3000-3999 [1000] & test 4000-4167 [168]\n",
      "(05) train : 4000-4999 [1000] & test 5000-5167 [168]\n",
      "(06) train : 5000-5999 [1000] & test 6000-6167 [168]\n",
      "(07) train : 6000-6999 [1000] & test 7000-7167 [168]\n",
      "(08) train : 7000-7999 [1000] & test 8000-8167 [168]\n",
      "(09) train : 8000-8999 [1000] & test 9000-9167 [168]\n"
     ]
    }
   ],
   "source": [
    "tscv = SlidingWindowSplitter(window_length=1000, fh=list(range(1,(24*7+1))), step_length=1000)\n",
    "n_splits = tscv.get_n_splits(y)\n",
    "print(f\"Number of Folds = {n_splits}\")\n",
    "\n",
    "for i, (train_index, test_index) in enumerate(tscv.split(X),start=1):\n",
    "    print(f'''({str(i).zfill(2)}) train : {train_index[0]}-{train_index[-1]} [{len(train_index)}] & test {test_index[0]}-{test_index[-1]} [{len(test_index)}]''')\n",
    "    X_train, X_test = X.loc[train_index], X.loc[test_index]\n",
    "    y_train, y_test = y[train_index], y.loc[test_index]"
   ]
  },
  {
   "cell_type": "markdown",
   "id": "8e7bbf7b",
   "metadata": {},
   "source": [
    "### sktime ExpandingWindowSplitter"
   ]
  },
  {
   "cell_type": "code",
   "execution_count": 134,
   "id": "fd68e590",
   "metadata": {},
   "outputs": [
    {
     "name": "stdout",
     "output_type": "stream",
     "text": [
      "Number of Folds = 10\n",
      "(01) train : 0-9 [10] & test 10-177 [168]\n",
      "(02) train : 0-1009 [1010] & test 1010-1177 [168]\n",
      "(03) train : 0-2009 [2010] & test 2010-2177 [168]\n",
      "(04) train : 0-3009 [3010] & test 3010-3177 [168]\n",
      "(05) train : 0-4009 [4010] & test 4010-4177 [168]\n",
      "(06) train : 0-5009 [5010] & test 5010-5177 [168]\n",
      "(07) train : 0-6009 [6010] & test 6010-6177 [168]\n",
      "(08) train : 0-7009 [7010] & test 7010-7177 [168]\n",
      "(09) train : 0-8009 [8010] & test 8010-8177 [168]\n",
      "(10) train : 0-9009 [9010] & test 9010-9177 [168]\n"
     ]
    }
   ],
   "source": [
    "tscv = ExpandingWindowSplitter(fh=list(range(1,(24*7+1))), step_length=1000)\n",
    "n_splits = tscv.get_n_splits(y)\n",
    "print(f\"Number of Folds = {n_splits}\")\n",
    "\n",
    "for i, (train_index, test_index) in enumerate(tscv.split(X),start=1):\n",
    "    print(f'''({str(i).zfill(2)}) train : {train_index[0]}-{train_index[-1]} [{len(train_index)}] & test {test_index[0]}-{test_index[-1]} [{len(test_index)}]''')\n",
    "    X_train, X_test = X.loc[train_index], X.loc[test_index]\n",
    "    y_train, y_test = y[train_index], y.loc[test_index]"
   ]
  },
  {
   "cell_type": "markdown",
   "id": "de65303a",
   "metadata": {},
   "source": [
    "### Model Training - Single loop"
   ]
  },
  {
   "cell_type": "code",
   "execution_count": 135,
   "id": "74144f46",
   "metadata": {},
   "outputs": [],
   "source": [
    "from sklearn.linear_model import LogisticRegression\n",
    "from sklearn.ensemble import RandomForestClassifier\n",
    "from lightgbm import LGBMClassifier\n",
    "from xgboost import XGBClassifier\n",
    "from sklearn.metrics import classification_report, confusion_matrix, ConfusionMatrixDisplay, accuracy_score, f1_score"
   ]
  },
  {
   "cell_type": "code",
   "execution_count": 137,
   "id": "cb3ad8ee",
   "metadata": {},
   "outputs": [],
   "source": [
    "# clf = RandomForestClassifier(class_weight='balanced')\n",
    "clf = LGBMClassifier(\n",
    "        #class_weight='balanced',\n",
    "        boosting_type='dart',\n",
    "        colsample_bytree=np.sqrt(X.shape[1])/(X.shape[1]),\n",
    "        n_estimators=1000,\n",
    "        objective='binary'\n",
    "        )"
   ]
  },
  {
   "cell_type": "code",
   "execution_count": 138,
   "id": "81b0dac2",
   "metadata": {},
   "outputs": [
    {
     "data": {
      "text/plain": [
       "[(9010, 190), (9010,)]"
      ]
     },
     "execution_count": 138,
     "metadata": {},
     "output_type": "execute_result"
    }
   ],
   "source": [
    "[x.shape for x in (X_train,y_train)]"
   ]
  },
  {
   "cell_type": "code",
   "execution_count": 139,
   "id": "c379779a",
   "metadata": {},
   "outputs": [
    {
     "data": {
      "text/plain": [
       "LGBMClassifier(boosting_type='dart', colsample_bytree=0.07254762501100116,\n",
       "               n_estimators=1000, objective='binary')"
      ]
     },
     "execution_count": 139,
     "metadata": {},
     "output_type": "execute_result"
    }
   ],
   "source": [
    "clf.fit(X_train,y_train)"
   ]
  },
  {
   "cell_type": "code",
   "execution_count": 140,
   "id": "a969b970",
   "metadata": {},
   "outputs": [],
   "source": [
    "y_preds = clf.predict(X_keep)"
   ]
  },
  {
   "cell_type": "code",
   "execution_count": 141,
   "id": "21b9ce2c",
   "metadata": {},
   "outputs": [
    {
     "data": {
      "text/plain": [
       "0.6041666666666666"
      ]
     },
     "execution_count": 141,
     "metadata": {},
     "output_type": "execute_result"
    }
   ],
   "source": [
    "accuracy_score(y_keep,y_preds)"
   ]
  },
  {
   "cell_type": "code",
   "execution_count": 142,
   "id": "295dace1",
   "metadata": {},
   "outputs": [
    {
     "data": {
      "text/plain": [
       "<AxesSubplot:ylabel='features'>"
      ]
     },
     "execution_count": 142,
     "metadata": {},
     "output_type": "execute_result"
    },
    {
     "data": {
      "image/png": "[encoded data removed]",
      "text/plain": [
       "<Figure size 720x360 with 1 Axes>"
      ]
     },
     "metadata": {
      "needs_background": "light"
     },
     "output_type": "display_data"
    }
   ],
   "source": [
    "pd.DataFrame({'features':X_train.columns,'importance':clf.feature_importances_})\\\n",
    "    .set_index('features').sort_values(by=['importance'])\\\n",
    "    .tail(20).plot(kind='barh',figsize = (10,5))"
   ]
  },
  {
   "cell_type": "code",
   "execution_count": 143,
   "id": "4d30ec48",
   "metadata": {},
   "outputs": [
    {
     "data": {
      "image/png": "[encoded data removed]",
      "text/plain": [
       "<Figure size 432x288 with 2 Axes>"
      ]
     },
     "metadata": {
      "needs_background": "light"
     },
     "output_type": "display_data"
    }
   ],
   "source": [
    "cm = confusion_matrix(y_keep,y_preds)\n",
    "disp = ConfusionMatrixDisplay(confusion_matrix=cm,display_labels=clf.classes_)\n",
    "disp.plot()\n",
    "plt.show()"
   ]
  },
  {
   "cell_type": "code",
   "execution_count": 145,
   "id": "aa42a3f1",
   "metadata": {},
   "outputs": [
    {
     "data": {
      "text/html": [
       "<div>\n",
       "<style scoped>\n",
       "    .dataframe tbody tr th:only-of-type {\n",
       "        vertical-align: middle;\n",
       "    }\n",
       "\n",
       "    .dataframe tbody tr th {\n",
       "        vertical-align: top;\n",
       "    }\n",
       "\n",
       "    .dataframe thead th {\n",
       "        text-align: right;\n",
       "    }\n",
       "</style>\n",
       "<table border=\"1\" class=\"dataframe\">\n",
       "  <thead>\n",
       "    <tr style=\"text-align: right;\">\n",
       "      <th>col_0</th>\n",
       "      <th>down</th>\n",
       "      <th>up</th>\n",
       "      <th>All</th>\n",
       "    </tr>\n",
       "    <tr>\n",
       "      <th>target_sign_binary</th>\n",
       "      <th></th>\n",
       "      <th></th>\n",
       "      <th></th>\n",
       "    </tr>\n",
       "  </thead>\n",
       "  <tbody>\n",
       "    <tr>\n",
       "      <th>down</th>\n",
       "      <td>228</td>\n",
       "      <td>160</td>\n",
       "      <td>388</td>\n",
       "    </tr>\n",
       "    <tr>\n",
       "      <th>up</th>\n",
       "      <td>106</td>\n",
       "      <td>178</td>\n",
       "      <td>284</td>\n",
       "    </tr>\n",
       "    <tr>\n",
       "      <th>All</th>\n",
       "      <td>334</td>\n",
       "      <td>338</td>\n",
       "      <td>672</td>\n",
       "    </tr>\n",
       "  </tbody>\n",
       "</table>\n",
       "</div>"
      ],
      "text/plain": [
       "col_0               down   up  All\n",
       "target_sign_binary                \n",
       "down                 228  160  388\n",
       "up                   106  178  284\n",
       "All                  334  338  672"
      ]
     },
     "execution_count": 145,
     "metadata": {},
     "output_type": "execute_result"
    }
   ],
   "source": [
    "pd.crosstab(y_keep,y_preds,margins=True)"
   ]
  },
  {
   "cell_type": "code",
   "execution_count": 146,
   "id": "2899fa52",
   "metadata": {},
   "outputs": [
    {
     "name": "stdout",
     "output_type": "stream",
     "text": [
      "              precision    recall  f1-score   support\n",
      "\n",
      "        down       0.68      0.59      0.63       388\n",
      "          up       0.53      0.63      0.57       284\n",
      "\n",
      "    accuracy                           0.60       672\n",
      "   macro avg       0.60      0.61      0.60       672\n",
      "weighted avg       0.62      0.60      0.61       672\n",
      "\n"
     ]
    }
   ],
   "source": [
    "print(classification_report(y_keep,y_preds))"
   ]
  },
  {
   "cell_type": "markdown",
   "id": "b0689e9a",
   "metadata": {},
   "source": [
    "### Model Training - Across all Folds"
   ]
  },
  {
   "cell_type": "code",
   "execution_count": 147,
   "id": "f64e34d5",
   "metadata": {},
   "outputs": [
    {
     "name": "stdout",
     "output_type": "stream",
     "text": [
      "CPU times: user 4 µs, sys: 1 µs, total: 5 µs\n",
      "Wall time: 11 µs\n",
      "(01) train : 0-2884 [2885] & test 2885-3556 [672]\n",
      "\n",
      "EVENT RATIO in TRAIN\n",
      "up      60.450607\n",
      "down    39.549393\n",
      "Name: target_sign_binary, dtype: float64\n",
      "\n",
      "EVENT RATIO in TEST\n",
      "down    52.827381\n",
      "up      47.172619\n",
      "Name: target_sign_binary, dtype: float64\n",
      "----------------------------------------------------------------------------------------------------\n",
      "\n",
      "Accuracy : 41.67%\n",
      "              precision    recall  f1-score   support\n",
      "\n",
      "        down       0.00      0.00      0.00       388\n",
      "          up       0.42      0.99      0.59       284\n",
      "\n",
      "    accuracy                           0.42       672\n",
      "   macro avg       0.21      0.49      0.29       672\n",
      "weighted avg       0.18      0.42      0.25       672\n",
      "\n"
     ]
    },
    {
     "data": {
      "image/png": "[encoded data removed]",
      "text/plain": [
       "<Figure size 432x288 with 2 Axes>"
      ]
     },
     "metadata": {
      "needs_background": "light"
     },
     "output_type": "display_data"
    },
    {
     "name": "stdout",
     "output_type": "stream",
     "text": [
      "====================================================================================================\n",
      "(02) train : 0-3556 [3557] & test 3557-4228 [672]\n",
      "\n",
      "EVENT RATIO in TRAIN\n",
      "up      57.942086\n",
      "down    42.057914\n",
      "Name: target_sign_binary, dtype: float64\n",
      "\n",
      "EVENT RATIO in TEST\n",
      "down    55.059524\n",
      "up      44.940476\n",
      "Name: target_sign_binary, dtype: float64\n",
      "----------------------------------------------------------------------------------------------------\n",
      "\n",
      "Accuracy : 50.60%\n",
      "              precision    recall  f1-score   support\n",
      "\n",
      "        down       0.56      0.68      0.61       388\n",
      "          up       0.38      0.26      0.31       284\n",
      "\n",
      "    accuracy                           0.51       672\n",
      "   macro avg       0.47      0.47      0.46       672\n",
      "weighted avg       0.48      0.51      0.49       672\n",
      "\n"
     ]
    },
    {
     "data": {
      "image/png": "[encoded data removed]",
      "text/plain": [
       "<Figure size 720x360 with 1 Axes>"
      ]
     },
     "metadata": {
      "needs_background": "light"
     },
     "output_type": "display_data"
    },
    {
     "data": {
      "image/png": "[encoded data removed]",
      "text/plain": [
       "<Figure size 432x288 with 2 Axes>"
      ]
     },
     "metadata": {
      "needs_background": "light"
     },
     "output_type": "display_data"
    },
    {
     "name": "stdout",
     "output_type": "stream",
     "text": [
      "====================================================================================================\n",
      "(03) train : 0-4228 [4229] & test 4229-4900 [672]\n",
      "\n",
      "EVENT RATIO in TRAIN\n",
      "up      55.876094\n",
      "down    44.123906\n",
      "Name: target_sign_binary, dtype: float64\n",
      "\n",
      "EVENT RATIO in TEST\n",
      "up      56.547619\n",
      "down    43.452381\n",
      "Name: target_sign_binary, dtype: float64\n",
      "----------------------------------------------------------------------------------------------------\n",
      "\n",
      "Accuracy : 44.49%\n",
      "              precision    recall  f1-score   support\n",
      "\n",
      "        down       0.52      0.49      0.50       388\n",
      "          up       0.36      0.38      0.37       284\n",
      "\n",
      "    accuracy                           0.44       672\n",
      "   macro avg       0.44      0.44      0.44       672\n",
      "weighted avg       0.45      0.44      0.45       672\n",
      "\n"
     ]
    },
    {
     "data": {
      "image/png": "[encoded data removed]",
      "text/plain": [
       "<Figure size 720x360 with 1 Axes>"
      ]
     },
     "metadata": {
      "needs_background": "light"
     },
     "output_type": "display_data"
    },
    {
     "data": {
      "image/png": "[encoded data removed]",
      "text/plain": [
       "<Figure size 432x288 with 2 Axes>"
      ]
     },
     "metadata": {
      "needs_background": "light"
     },
     "output_type": "display_data"
    },
    {
     "name": "stdout",
     "output_type": "stream",
     "text": [
      "====================================================================================================\n",
      "(04) train : 0-4900 [4901] & test 4901-5572 [672]\n",
      "\n",
      "EVENT RATIO in TRAIN\n",
      "up      55.96817\n",
      "down    44.03183\n",
      "Name: target_sign_binary, dtype: float64\n",
      "\n",
      "EVENT RATIO in TEST\n",
      "up      56.39881\n",
      "down    43.60119\n",
      "Name: target_sign_binary, dtype: float64\n",
      "----------------------------------------------------------------------------------------------------\n",
      "\n",
      "Accuracy : 41.52%\n",
      "              precision    recall  f1-score   support\n",
      "\n",
      "        down       0.49      0.42      0.45       388\n",
      "          up       0.34      0.41      0.37       284\n",
      "\n",
      "    accuracy                           0.42       672\n",
      "   macro avg       0.42      0.41      0.41       672\n",
      "weighted avg       0.43      0.42      0.42       672\n",
      "\n"
     ]
    },
    {
     "data": {
      "image/png": "[encoded data removed]",
      "text/plain": [
       "<Figure size 720x360 with 1 Axes>"
      ]
     },
     "metadata": {
      "needs_background": "light"
     },
     "output_type": "display_data"
    },
    {
     "data": {
      "image/png": "[encoded data removed]",
      "text/plain": [
       "<Figure size 432x288 with 2 Axes>"
      ]
     },
     "metadata": {
      "needs_background": "light"
     },
     "output_type": "display_data"
    },
    {
     "name": "stdout",
     "output_type": "stream",
     "text": [
      "====================================================================================================\n",
      "(05) train : 0-5572 [5573] & test 5573-6244 [672]\n",
      "\n",
      "EVENT RATIO in TRAIN\n",
      "up      56.020097\n",
      "down    43.979903\n",
      "Name: target_sign_binary, dtype: float64\n",
      "\n",
      "EVENT RATIO in TEST\n",
      "up      50.744048\n",
      "down    49.255952\n",
      "Name: target_sign_binary, dtype: float64\n",
      "----------------------------------------------------------------------------------------------------\n",
      "\n",
      "Accuracy : 43.45%\n",
      "              precision    recall  f1-score   support\n",
      "\n",
      "        down       0.51      0.37      0.43       388\n",
      "          up       0.38      0.52      0.44       284\n",
      "\n",
      "    accuracy                           0.43       672\n",
      "   macro avg       0.45      0.45      0.43       672\n",
      "weighted avg       0.46      0.43      0.43       672\n",
      "\n"
     ]
    },
    {
     "data": {
      "image/png": "[encoded data removed]",
      "text/plain": [
       "<Figure size 720x360 with 1 Axes>"
      ]
     },
     "metadata": {
      "needs_background": "light"
     },
     "output_type": "display_data"
    },
    {
     "data": {
      "image/png": "[encoded data removed]",
      "text/plain": [
       "<Figure size 432x288 with 2 Axes>"
      ]
     },
     "metadata": {
      "needs_background": "light"
     },
     "output_type": "display_data"
    },
    {
     "name": "stdout",
     "output_type": "stream",
     "text": [
      "====================================================================================================\n",
      "(06) train : 0-6244 [6245] & test 6245-6916 [672]\n",
      "\n",
      "EVENT RATIO in TRAIN\n",
      "up      55.452362\n",
      "down    44.547638\n",
      "Name: target_sign_binary, dtype: float64\n",
      "\n",
      "EVENT RATIO in TEST\n",
      "up      58.928571\n",
      "down    41.071429\n",
      "Name: target_sign_binary, dtype: float64\n",
      "----------------------------------------------------------------------------------------------------\n",
      "\n",
      "Accuracy : 50.74%\n",
      "              precision    recall  f1-score   support\n",
      "\n",
      "        down       0.60      0.45      0.51       388\n",
      "          up       0.44      0.58      0.50       284\n",
      "\n",
      "    accuracy                           0.51       672\n",
      "   macro avg       0.52      0.52      0.51       672\n",
      "weighted avg       0.53      0.51      0.51       672\n",
      "\n"
     ]
    },
    {
     "data": {
      "image/png": "[encoded data removed]",
      "text/plain": [
       "<Figure size 720x360 with 1 Axes>"
      ]
     },
     "metadata": {
      "needs_background": "light"
     },
     "output_type": "display_data"
    },
    {
     "data": {
      "image/png": "[encoded data removed]",
      "text/plain": [
       "<Figure size 432x288 with 2 Axes>"
      ]
     },
     "metadata": {
      "needs_background": "light"
     },
     "output_type": "display_data"
    },
    {
     "name": "stdout",
     "output_type": "stream",
     "text": [
      "====================================================================================================\n",
      "(07) train : 0-6916 [6917] & test 6917-7588 [672]\n",
      "\n",
      "EVENT RATIO in TRAIN\n",
      "up      55.790082\n",
      "down    44.209918\n",
      "Name: target_sign_binary, dtype: float64\n",
      "\n",
      "EVENT RATIO in TEST\n",
      "up      54.910714\n",
      "down    45.089286\n",
      "Name: target_sign_binary, dtype: float64\n",
      "----------------------------------------------------------------------------------------------------\n",
      "\n",
      "Accuracy : 42.26%\n",
      "              precision    recall  f1-score   support\n",
      "\n",
      "        down       0.50      0.01      0.02       388\n",
      "          up       0.42      0.99      0.59       284\n",
      "\n",
      "    accuracy                           0.42       672\n",
      "   macro avg       0.46      0.50      0.31       672\n",
      "weighted avg       0.47      0.42      0.26       672\n",
      "\n"
     ]
    },
    {
     "data": {
      "image/png": "[encoded data removed]",
      "text/plain": [
       "<Figure size 720x360 with 1 Axes>"
      ]
     },
     "metadata": {
      "needs_background": "light"
     },
     "output_type": "display_data"
    },
    {
     "data": {
      "image/png": "[encoded data removed]",
      "text/plain": [
       "<Figure size 432x288 with 2 Axes>"
      ]
     },
     "metadata": {
      "needs_background": "light"
     },
     "output_type": "display_data"
    },
    {
     "name": "stdout",
     "output_type": "stream",
     "text": [
      "====================================================================================================\n",
      "(08) train : 0-7588 [7589] & test 7589-8260 [672]\n",
      "\n",
      "EVENT RATIO in TRAIN\n",
      "up      55.712215\n",
      "down    44.287785\n",
      "Name: target_sign_binary, dtype: float64\n",
      "\n",
      "EVENT RATIO in TEST\n",
      "down    50.297619\n",
      "up      49.702381\n",
      "Name: target_sign_binary, dtype: float64\n",
      "----------------------------------------------------------------------------------------------------\n",
      "\n",
      "Accuracy : 40.03%\n",
      "              precision    recall  f1-score   support\n",
      "\n",
      "        down       0.47      0.26      0.33       388\n",
      "          up       0.37      0.60      0.46       284\n",
      "\n",
      "    accuracy                           0.40       672\n",
      "   macro avg       0.42      0.43      0.39       672\n",
      "weighted avg       0.42      0.40      0.38       672\n",
      "\n"
     ]
    },
    {
     "data": {
      "image/png": "[encoded data removed]",
      "text/plain": [
       "<Figure size 720x360 with 1 Axes>"
      ]
     },
     "metadata": {
      "needs_background": "light"
     },
     "output_type": "display_data"
    },
    {
     "data": {
      "image/png": "[encoded data removed]",
      "text/plain": [
       "<Figure size 432x288 with 2 Axes>"
      ]
     },
     "metadata": {
      "needs_background": "light"
     },
     "output_type": "display_data"
    },
    {
     "name": "stdout",
     "output_type": "stream",
     "text": [
      "====================================================================================================\n",
      "(09) train : 0-8260 [8261] & test 8261-8932 [672]\n",
      "\n",
      "EVENT RATIO in TRAIN\n",
      "up      55.223339\n",
      "down    44.776661\n",
      "Name: target_sign_binary, dtype: float64\n",
      "\n",
      "EVENT RATIO in TEST\n",
      "down    53.422619\n",
      "up      46.577381\n",
      "Name: target_sign_binary, dtype: float64\n",
      "----------------------------------------------------------------------------------------------------\n",
      "\n",
      "Accuracy : 42.26%\n",
      "              precision    recall  f1-score   support\n",
      "\n",
      "        down       0.50      0.01      0.01       388\n",
      "          up       0.42      0.99      0.59       284\n",
      "\n",
      "    accuracy                           0.42       672\n",
      "   macro avg       0.46      0.50      0.30       672\n",
      "weighted avg       0.47      0.42      0.26       672\n",
      "\n"
     ]
    },
    {
     "data": {
      "image/png": "[encoded data removed]",
      "text/plain": [
       "<Figure size 720x360 with 1 Axes>"
      ]
     },
     "metadata": {
      "needs_background": "light"
     },
     "output_type": "display_data"
    },
    {
     "data": {
      "image/png": "[encoded data removed]",
      "text/plain": [
       "<Figure size 432x288 with 2 Axes>"
      ]
     },
     "metadata": {
      "needs_background": "light"
     },
     "output_type": "display_data"
    },
    {
     "name": "stdout",
     "output_type": "stream",
     "text": [
      "====================================================================================================\n",
      "(10) train : 0-8932 [8933] & test 8933-9604 [672]\n",
      "\n",
      "EVENT RATIO in TRAIN\n",
      "up      54.572932\n",
      "down    45.427068\n",
      "Name: target_sign_binary, dtype: float64\n",
      "\n",
      "EVENT RATIO in TEST\n",
      "down    52.678571\n",
      "up      47.321429\n",
      "Name: target_sign_binary, dtype: float64\n",
      "----------------------------------------------------------------------------------------------------\n",
      "\n",
      "Accuracy : 44.05%\n",
      "              precision    recall  f1-score   support\n",
      "\n",
      "        down       0.63      0.07      0.13       388\n",
      "          up       0.43      0.94      0.59       284\n",
      "\n",
      "    accuracy                           0.44       672\n",
      "   macro avg       0.53      0.51      0.36       672\n",
      "weighted avg       0.54      0.44      0.33       672\n",
      "\n"
     ]
    },
    {
     "data": {
      "image/png": "[encoded data removed]",
      "text/plain": [
       "<Figure size 720x360 with 1 Axes>"
      ]
     },
     "metadata": {
      "needs_background": "light"
     },
     "output_type": "display_data"
    },
    {
     "data": {
      "image/png": "[encoded data removed]",
      "text/plain": [
       "<Figure size 432x288 with 2 Axes>"
      ]
     },
     "metadata": {
      "needs_background": "light"
     },
     "output_type": "display_data"
    },
    {
     "name": "stdout",
     "output_type": "stream",
     "text": [
      "====================================================================================================\n"
     ]
    },
    {
     "data": {
      "image/png": "[encoded data removed]",
      "text/plain": [
       "<Figure size 720x360 with 1 Axes>"
      ]
     },
     "metadata": {
      "needs_background": "light"
     },
     "output_type": "display_data"
    }
   ],
   "source": [
    "%time\n",
    "tscv = TimeSeriesCV(X,y,n_splits=10,test_size=24*7*4,verbose=True)\n",
    "for foo in tscv:\n",
    "    \n",
    "    X_train,y_train,X_test,y_test = foo\n",
    "    \n",
    "    #clf = RandomForestClassifier(n_estimators=1000,class_weight='balanced',)\n",
    "    clf = LGBMClassifier(\n",
    "        #class_weight='balanced',\n",
    "        boosting_type='dart',\n",
    "        colsample_bytree=np.sqrt(X.shape[1])/(X.shape[1]),\n",
    "        n_estimators=500,\n",
    "        objective='binary'\n",
    "        )\n",
    "    \n",
    "    clf.fit(X_train,y_train)\n",
    "    y_preds = clf.predict(X_keep)\n",
    "    \n",
    "    print(f'Accuracy : {accuracy_score(y_keep,y_preds):.2%}')\n",
    "    print(classification_report(y_keep,y_preds))\n",
    "    \n",
    "    cm = confusion_matrix(y_keep,y_preds)\n",
    "    disp = ConfusionMatrixDisplay(confusion_matrix=cm,display_labels=clf.classes_)\n",
    "    disp.plot()\n",
    "    plt.show()\n",
    "    \n",
    "    pd.DataFrame({'features':X_train.columns,'importance':clf.feature_importances_})\\\n",
    "        .set_index('features').sort_values(by=['importance'])\\\n",
    "        .tail(20).plot(kind='barh',figsize = (10,5))\n",
    "\n",
    "    print(100*'=')"
   ]
  }
 ],
 "metadata": {
  "kernelspec": {
   "display_name": "Python 3",
   "language": "python",
   "name": "python3"
  },
  "language_info": {
   "codemirror_mode": {
    "name": "ipython",
    "version": 3
   },
   "file_extension": ".py",
   "mimetype": "text/x-python",
   "name": "python",
   "nbconvert_exporter": "python",
   "pygments_lexer": "ipython3",
   "version": "3.8.8"
  }
 },
 "nbformat": 4,
 "nbformat_minor": 5
}
