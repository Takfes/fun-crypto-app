{
 "cells": [
  {
   "cell_type": "code",
   "execution_count": 1,
   "id": "3cd5afb5",
   "metadata": {},
   "outputs": [],
   "source": [
    "import os\n",
    "import numpy as np\n",
    "import pandas as pd\n",
    "pd.set_option('display.max_rows', 50)\n",
    "pd.set_option('display.max_columns', 15)\n",
    "import matplotlib.pyplot as plt\n",
    "import seaborn as sns\n",
    "from pathlib import Path\n",
    "from datetime import datetime\n",
    "%matplotlib inline"
   ]
  },
  {
   "cell_type": "code",
   "execution_count": 2,
   "id": "c8ae0b59",
   "metadata": {},
   "outputs": [],
   "source": [
    "import talib\n",
    "from ta import add_all_ta_features"
   ]
  },
  {
   "cell_type": "markdown",
   "id": "4d57e33f",
   "metadata": {},
   "source": [
    "### Read full database"
   ]
  },
  {
   "cell_type": "code",
   "execution_count": 5,
   "id": "d573c93d",
   "metadata": {},
   "outputs": [],
   "source": [
    "DATA_PATH = r'../data/'\n",
    "FILE_NAME = '20220313_034756_111.pkl'\n",
    "FULL_PATH = Path(DATA_PATH,FILE_NAME)"
   ]
  },
  {
   "cell_type": "code",
   "execution_count": 35,
   "id": "dc5fb08c",
   "metadata": {},
   "outputs": [
    {
     "name": "stdout",
     "output_type": "stream",
     "text": [
      "CPU times: user 4 µs, sys: 1e+03 ns, total: 5 µs\n",
      "Wall time: 8.82 µs\n"
     ]
    },
    {
     "data": {
      "text/plain": [
       "(5675397, 14)"
      ]
     },
     "execution_count": 35,
     "metadata": {},
     "output_type": "execute_result"
    }
   ],
   "source": [
    "%time\n",
    "raw = pd.read_pickle(FULL_PATH)\n",
    "raw.shape"
   ]
  },
  {
   "cell_type": "code",
   "execution_count": 37,
   "id": "26dc566a",
   "metadata": {},
   "outputs": [
    {
     "data": {
      "text/plain": [
       "symbol                              object\n",
       "openTimets                           int64\n",
       "closeTimets                          int64\n",
       "openTime                    datetime64[ns]\n",
       "closeTime                   datetime64[ns]\n",
       "open                                object\n",
       "high                                object\n",
       "low                                 object\n",
       "close                               object\n",
       "volume                              object\n",
       "numTrades                            int64\n",
       "quoteAssetVolume                    object\n",
       "takerBuyBaseAssetVolume             object\n",
       "takerBuyQuoteAssetVolume            object\n",
       "dtype: object"
      ]
     },
     "execution_count": 37,
     "metadata": {},
     "output_type": "execute_result"
    }
   ],
   "source": [
    "raw.dtypes"
   ]
  },
  {
   "cell_type": "code",
   "execution_count": 38,
   "id": "7481b477",
   "metadata": {},
   "outputs": [
    {
     "data": {
      "text/plain": [
       "BTCUSDT     87964\n",
       "ETHUSDT     80325\n",
       "BCHUSDT     78208\n",
       "XRPUSDT     76486\n",
       "EOSUSDT     76292\n",
       "            ...  \n",
       "BAKEUSDT    28582\n",
       "BTTUSDT     28339\n",
       "GTCUSDT     26390\n",
       "TLMUSDT     23032\n",
       "KEEPUSDT    22843\n",
       "Name: symbol, Length: 111, dtype: int64"
      ]
     },
     "execution_count": 38,
     "metadata": {},
     "output_type": "execute_result"
    }
   ],
   "source": [
    "raw.symbol.value_counts()"
   ]
  },
  {
   "cell_type": "markdown",
   "id": "1d24e106",
   "metadata": {},
   "source": [
    "### Prepare and subset dataset"
   ]
  },
  {
   "cell_type": "code",
   "execution_count": 265,
   "id": "3be8899f",
   "metadata": {},
   "outputs": [
    {
     "data": {
      "text/plain": [
       "(80325, 14)"
      ]
     },
     "execution_count": 265,
     "metadata": {},
     "output_type": "execute_result"
    }
   ],
   "source": [
    "df = raw.query('symbol==\"ETHUSDT\"')\n",
    "assert df.isnull().sum().sum() == 0\n",
    "df.shape"
   ]
  },
  {
   "cell_type": "code",
   "execution_count": 266,
   "id": "0a924c77",
   "metadata": {},
   "outputs": [
    {
     "data": {
      "text/plain": [
       "symbol                              object\n",
       "openTimets                           int64\n",
       "closeTimets                          int64\n",
       "openTime                    datetime64[ns]\n",
       "closeTime                   datetime64[ns]\n",
       "open                               float32\n",
       "high                               float32\n",
       "low                                float32\n",
       "close                              float32\n",
       "volume                             float32\n",
       "numTrades                            int32\n",
       "quoteAssetVolume                   float32\n",
       "takerBuyBaseAssetVolume            float32\n",
       "takerBuyQuoteAssetVolume           float32\n",
       "dtype: object"
      ]
     },
     "execution_count": 266,
     "metadata": {},
     "output_type": "execute_result"
    }
   ],
   "source": [
    "# create datatypes dictionary\n",
    "datatypes = {k:'float32' if k!='numTrades' else 'int32' for k in df.loc[:,'open':].columns}\n",
    "# assign datatypes\n",
    "df = df.astype(datatypes)\n",
    "assert df.isnull().sum().sum() == 0\n",
    "df.dtypes"
   ]
  },
  {
   "cell_type": "code",
   "execution_count": 268,
   "id": "8d7744af",
   "metadata": {},
   "outputs": [],
   "source": [
    "df.to_pickle('../data/eth.pkl')"
   ]
  },
  {
   "cell_type": "markdown",
   "id": "ea9de246",
   "metadata": {},
   "source": [
    "### Read dataset from disk"
   ]
  },
  {
   "cell_type": "code",
   "execution_count": 3,
   "id": "d25a3937",
   "metadata": {},
   "outputs": [],
   "source": [
    "raw = pd.read_pickle('../data/eth.pkl')"
   ]
  },
  {
   "cell_type": "markdown",
   "id": "51c25797",
   "metadata": {},
   "source": [
    "### Group on desired frequency"
   ]
  },
  {
   "cell_type": "code",
   "execution_count": 4,
   "id": "fd81a01e",
   "metadata": {},
   "outputs": [
    {
     "data": {
      "text/html": [
       "<div>\n",
       "<style scoped>\n",
       "    .dataframe tbody tr th:only-of-type {\n",
       "        vertical-align: middle;\n",
       "    }\n",
       "\n",
       "    .dataframe tbody tr th {\n",
       "        vertical-align: top;\n",
       "    }\n",
       "\n",
       "    .dataframe thead th {\n",
       "        text-align: right;\n",
       "    }\n",
       "</style>\n",
       "<table border=\"1\" class=\"dataframe\">\n",
       "  <thead>\n",
       "    <tr style=\"text-align: right;\">\n",
       "      <th></th>\n",
       "      <th>opentime</th>\n",
       "      <th>closetime</th>\n",
       "      <th>open</th>\n",
       "      <th>high</th>\n",
       "      <th>low</th>\n",
       "      <th>close</th>\n",
       "      <th>volume</th>\n",
       "      <th>numtrade</th>\n",
       "    </tr>\n",
       "  </thead>\n",
       "  <tbody>\n",
       "    <tr>\n",
       "      <th>20076</th>\n",
       "      <td>2022-03-12 20:00:00</td>\n",
       "      <td>2022-03-12 20:59:00</td>\n",
       "      <td>2576.760010</td>\n",
       "      <td>2591.659912</td>\n",
       "      <td>2573.870117</td>\n",
       "      <td>2586.800049</td>\n",
       "      <td>25150.187500</td>\n",
       "      <td>35923</td>\n",
       "    </tr>\n",
       "    <tr>\n",
       "      <th>20077</th>\n",
       "      <td>2022-03-12 21:00:00</td>\n",
       "      <td>2022-03-12 21:59:00</td>\n",
       "      <td>2586.800049</td>\n",
       "      <td>2591.719971</td>\n",
       "      <td>2583.060059</td>\n",
       "      <td>2585.649902</td>\n",
       "      <td>13017.638672</td>\n",
       "      <td>24267</td>\n",
       "    </tr>\n",
       "    <tr>\n",
       "      <th>20078</th>\n",
       "      <td>2022-03-12 22:00:00</td>\n",
       "      <td>2022-03-12 22:59:00</td>\n",
       "      <td>2585.649902</td>\n",
       "      <td>2591.379883</td>\n",
       "      <td>2583.260010</td>\n",
       "      <td>2585.830078</td>\n",
       "      <td>10603.583008</td>\n",
       "      <td>26367</td>\n",
       "    </tr>\n",
       "    <tr>\n",
       "      <th>20079</th>\n",
       "      <td>2022-03-12 23:00:00</td>\n",
       "      <td>2022-03-12 23:59:00</td>\n",
       "      <td>2585.840088</td>\n",
       "      <td>2590.199951</td>\n",
       "      <td>2560.000000</td>\n",
       "      <td>2567.639893</td>\n",
       "      <td>35792.011719</td>\n",
       "      <td>49081</td>\n",
       "    </tr>\n",
       "    <tr>\n",
       "      <th>20080</th>\n",
       "      <td>2022-03-13 00:00:00</td>\n",
       "      <td>2022-03-13 00:59:00</td>\n",
       "      <td>2567.629883</td>\n",
       "      <td>2573.780029</td>\n",
       "      <td>2555.810059</td>\n",
       "      <td>2565.979980</td>\n",
       "      <td>41614.472656</td>\n",
       "      <td>50466</td>\n",
       "    </tr>\n",
       "  </tbody>\n",
       "</table>\n",
       "</div>"
      ],
      "text/plain": [
       "                 opentime           closetime         open         high  \\\n",
       "20076 2022-03-12 20:00:00 2022-03-12 20:59:00  2576.760010  2591.659912   \n",
       "20077 2022-03-12 21:00:00 2022-03-12 21:59:00  2586.800049  2591.719971   \n",
       "20078 2022-03-12 22:00:00 2022-03-12 22:59:00  2585.649902  2591.379883   \n",
       "20079 2022-03-12 23:00:00 2022-03-12 23:59:00  2585.840088  2590.199951   \n",
       "20080 2022-03-13 00:00:00 2022-03-13 00:59:00  2567.629883  2573.780029   \n",
       "\n",
       "               low        close        volume  numtrade  \n",
       "20076  2573.870117  2586.800049  25150.187500     35923  \n",
       "20077  2583.060059  2585.649902  13017.638672     24267  \n",
       "20078  2583.260010  2585.830078  10603.583008     26367  \n",
       "20079  2560.000000  2567.639893  35792.011719     49081  \n",
       "20080  2555.810059  2565.979980  41614.472656     50466  "
      ]
     },
     "execution_count": 4,
     "metadata": {},
     "output_type": "execute_result"
    }
   ],
   "source": [
    "df = \\\n",
    "    raw.groupby(pd.Grouper(key=\"openTime\", freq=\"1H\"))\\\n",
    "    .agg(\n",
    "        cnt=pd.NamedAgg(column=\"symbol\", aggfunc=\"size\"),\n",
    "        opentime=pd.NamedAgg(column=\"openTime\", aggfunc=\"min\"),\n",
    "        closetime=pd.NamedAgg(column=\"openTime\", aggfunc=\"min\"),\n",
    "        open=pd.NamedAgg(column=\"open\", aggfunc=\"first\"),\n",
    "        high=pd.NamedAgg(column=\"high\", aggfunc=\"max\"),\n",
    "        low=pd.NamedAgg(column=\"low\", aggfunc=\"min\"),\n",
    "        close=pd.NamedAgg(column=\"close\", aggfunc=\"last\"),\n",
    "        volume=pd.NamedAgg(column=\"volume\", aggfunc=\"sum\"),\n",
    "        numtrade=pd.NamedAgg(column=\"numTrades\", aggfunc=\"sum\"),\n",
    "    )\\\n",
    "    .query('cnt >= 4')\\\n",
    "    .drop('cnt',axis=1)\\\n",
    "    .assign(closetime = lambda x : x.closetime + pd.Timedelta(minutes=59))\\\n",
    "    .reset_index(drop=True)\n",
    "\n",
    "# alternative way to resample and regroup data\n",
    "# df = raw.resample('30min',on='opentime').agg({'close':'last','high':'max'}).tail(10)\n",
    "df.tail()"
   ]
  },
  {
   "cell_type": "markdown",
   "id": "3ac8014c",
   "metadata": {},
   "source": [
    "### Inspect Time Series"
   ]
  },
  {
   "cell_type": "code",
   "execution_count": 5,
   "id": "a8e4732e",
   "metadata": {},
   "outputs": [
    {
     "name": "stdout",
     "output_type": "stream",
     "text": [
      "count                  20081\n",
      "mean     2021-01-18 16:00:00\n",
      "min      2019-11-27 08:00:00\n",
      "25%      2020-06-23 12:00:00\n",
      "50%      2021-01-18 16:00:00\n",
      "75%      2021-08-15 20:00:00\n",
      "max      2022-03-13 00:00:00\n",
      "Name: opentime, dtype: object\n",
      "AxesSubplot(0.125,0.125;0.775x0.755)\n"
     ]
    },
    {
     "data": {
      "image/png": "[encoded data removed]",
      "text/plain": [
       "<Figure size 432x288 with 1 Axes>"
      ]
     },
     "metadata": {
      "needs_background": "light"
     },
     "output_type": "display_data"
    }
   ],
   "source": [
    "print(df.opentime.describe(datetime_is_numeric=True))\n",
    "# print(df.close.plot())\n",
    "print(df.query('opentime >= 2021').close.plot())"
   ]
  },
  {
   "cell_type": "code",
   "execution_count": 6,
   "id": "941bf31b",
   "metadata": {},
   "outputs": [
    {
     "data": {
      "text/plain": [
       "(10465, 8)"
      ]
     },
     "execution_count": 6,
     "metadata": {},
     "output_type": "execute_result"
    }
   ],
   "source": [
    "df = df.query('opentime >= 2021').copy()\n",
    "df.shape"
   ]
  },
  {
   "cell_type": "markdown",
   "id": "1733cfce",
   "metadata": {},
   "source": [
    "### Decompose Time Series"
   ]
  },
  {
   "cell_type": "code",
   "execution_count": 7,
   "id": "cd64eca5",
   "metadata": {},
   "outputs": [],
   "source": [
    "# from statsmodels.graphics.tsaplots import plot_acf, plot_pacf, acf, pacf\n",
    "# from statsmodels.tsa.seasonal import seasonal_decompose\n",
    "# # from statsmodels.tsa.seasonal import MSTL\n",
    "# print(plot_acf(df.close))\n",
    "# print(plot_pacf(df.close))\n",
    "# # stl_kwargs = {\"seasonal_deg\": 0} \n",
    "# # model = MSTL(df.close, periods=(24, 24 * 7), stl_kwargs=stl_kwargs)\n",
    "# # res = model.fit()\n",
    "# # res.plot()"
   ]
  },
  {
   "cell_type": "markdown",
   "id": "b0994fab",
   "metadata": {},
   "source": [
    "### Create Features to Avoid Leakage\n",
    "> __close -> fx_close = close.shift(1)__"
   ]
  },
  {
   "cell_type": "code",
   "execution_count": 8,
   "id": "5acc37ff",
   "metadata": {},
   "outputs": [],
   "source": [
    "options_antileakage_feats = ['open','high','low','close','volume']\n",
    "for ff in options_antileakage_feats:\n",
    "    df[f'fx_{ff}'] = df[ff].shift(1)"
   ]
  },
  {
   "cell_type": "code",
   "execution_count": 9,
   "id": "34ba0eef",
   "metadata": {},
   "outputs": [
    {
     "data": {
      "text/plain": [
       "Index(['opentime', 'closetime', 'open', 'high', 'low', 'close', 'volume',\n",
       "       'numtrade', 'fx_open', 'fx_high', 'fx_low', 'fx_close', 'fx_volume'],\n",
       "      dtype='object')"
      ]
     },
     "execution_count": 9,
     "metadata": {},
     "output_type": "execute_result"
    }
   ],
   "source": [
    "df.columns"
   ]
  },
  {
   "cell_type": "markdown",
   "id": "98f008f7",
   "metadata": {},
   "source": [
    "### Create Lag Features"
   ]
  },
  {
   "cell_type": "code",
   "execution_count": 10,
   "id": "8f8f0af3",
   "metadata": {},
   "outputs": [],
   "source": [
    "options_lags_feats = ['close','volume']\n",
    "options_lags = [1,2,3,24,48]\n",
    "for ff in options_lags_feats:\n",
    "    for ll in options_lags:\n",
    "        df[f'fx_{ff}_lag_{str(ll).zfill(3)}'] = df[ff].shift(ll)"
   ]
  },
  {
   "cell_type": "code",
   "execution_count": 11,
   "id": "a716ca8f",
   "metadata": {},
   "outputs": [
    {
     "data": {
      "text/plain": [
       "Index(['opentime', 'closetime', 'open', 'high', 'low', 'close', 'volume',\n",
       "       'numtrade', 'fx_open', 'fx_high', 'fx_low', 'fx_close', 'fx_volume',\n",
       "       'fx_close_lag_001', 'fx_close_lag_002', 'fx_close_lag_003',\n",
       "       'fx_close_lag_024', 'fx_close_lag_048', 'fx_volume_lag_001',\n",
       "       'fx_volume_lag_002', 'fx_volume_lag_003', 'fx_volume_lag_024',\n",
       "       'fx_volume_lag_048'],\n",
       "      dtype='object')"
      ]
     },
     "execution_count": 11,
     "metadata": {},
     "output_type": "execute_result"
    }
   ],
   "source": [
    "df.columns"
   ]
  },
  {
   "cell_type": "code",
   "execution_count": 12,
   "id": "d8c6d1e1",
   "metadata": {},
   "outputs": [
    {
     "data": {
      "text/plain": [
       "(10465, 23)"
      ]
     },
     "execution_count": 12,
     "metadata": {},
     "output_type": "execute_result"
    }
   ],
   "source": [
    "df.shape"
   ]
  },
  {
   "cell_type": "markdown",
   "id": "1c238ae5",
   "metadata": {},
   "source": [
    "### Create Diff Features"
   ]
  },
  {
   "cell_type": "code",
   "execution_count": 13,
   "id": "de0a7037",
   "metadata": {},
   "outputs": [],
   "source": [
    "options_diffs_feats = ['fx_close','fx_volume']\n",
    "options_diffs = [1,2,3,24,48]\n",
    "for ff in options_diffs_feats:\n",
    "    for ll in options_diffs:\n",
    "        df[f'{ff}_diff_{str(ll).zfill(3)}'] = df[ff].diff(ll)"
   ]
  },
  {
   "cell_type": "code",
   "execution_count": 14,
   "id": "e1dec434",
   "metadata": {},
   "outputs": [
    {
     "data": {
      "text/plain": [
       "Index(['opentime', 'closetime', 'open', 'high', 'low', 'close', 'volume',\n",
       "       'numtrade', 'fx_open', 'fx_high', 'fx_low', 'fx_close', 'fx_volume',\n",
       "       'fx_close_lag_001', 'fx_close_lag_002', 'fx_close_lag_003',\n",
       "       'fx_close_lag_024', 'fx_close_lag_048', 'fx_volume_lag_001',\n",
       "       'fx_volume_lag_002', 'fx_volume_lag_003', 'fx_volume_lag_024',\n",
       "       'fx_volume_lag_048', 'fx_close_diff_001', 'fx_close_diff_002',\n",
       "       'fx_close_diff_003', 'fx_close_diff_024', 'fx_close_diff_048',\n",
       "       'fx_volume_diff_001', 'fx_volume_diff_002', 'fx_volume_diff_003',\n",
       "       'fx_volume_diff_024', 'fx_volume_diff_048'],\n",
       "      dtype='object')"
      ]
     },
     "execution_count": 14,
     "metadata": {},
     "output_type": "execute_result"
    }
   ],
   "source": [
    "df.columns"
   ]
  },
  {
   "cell_type": "code",
   "execution_count": 15,
   "id": "129de7b6",
   "metadata": {},
   "outputs": [
    {
     "data": {
      "text/plain": [
       "(10465, 33)"
      ]
     },
     "execution_count": 15,
     "metadata": {},
     "output_type": "execute_result"
    }
   ],
   "source": [
    "df.shape"
   ]
  },
  {
   "cell_type": "markdown",
   "id": "b3805c05",
   "metadata": {},
   "source": [
    "### Create Rolling Features"
   ]
  },
  {
   "cell_type": "code",
   "execution_count": 16,
   "id": "4352bb03",
   "metadata": {},
   "outputs": [],
   "source": [
    "options_wndf_feats = ['fx_close','fx_volume']\n",
    "options_wndf = [24,24*7]\n",
    "for ff in options_wndf_feats:\n",
    "    for ll in options_wndf:\n",
    "        df[f'{ff}_min_{str(ll).zfill(3)}'] = df[ff].rolling(ll).min()\n",
    "        df[f'{ff}_max_{str(ll).zfill(3)}'] = df[ff].rolling(ll).max()\n",
    "        df[f'{ff}_std_{str(ll).zfill(3)}'] = df[ff].rolling(ll).std()"
   ]
  },
  {
   "cell_type": "code",
   "execution_count": 17,
   "id": "9bc2fac3",
   "metadata": {},
   "outputs": [
    {
     "data": {
      "text/plain": [
       "Index(['opentime', 'closetime', 'open', 'high', 'low', 'close', 'volume',\n",
       "       'numtrade', 'fx_open', 'fx_high', 'fx_low', 'fx_close', 'fx_volume',\n",
       "       'fx_close_lag_001', 'fx_close_lag_002', 'fx_close_lag_003',\n",
       "       'fx_close_lag_024', 'fx_close_lag_048', 'fx_volume_lag_001',\n",
       "       'fx_volume_lag_002', 'fx_volume_lag_003', 'fx_volume_lag_024',\n",
       "       'fx_volume_lag_048', 'fx_close_diff_001', 'fx_close_diff_002',\n",
       "       'fx_close_diff_003', 'fx_close_diff_024', 'fx_close_diff_048',\n",
       "       'fx_volume_diff_001', 'fx_volume_diff_002', 'fx_volume_diff_003',\n",
       "       'fx_volume_diff_024', 'fx_volume_diff_048', 'fx_close_min_024',\n",
       "       'fx_close_max_024', 'fx_close_std_024', 'fx_close_min_168',\n",
       "       'fx_close_max_168', 'fx_close_std_168', 'fx_volume_min_024',\n",
       "       'fx_volume_max_024', 'fx_volume_std_024', 'fx_volume_min_168',\n",
       "       'fx_volume_max_168', 'fx_volume_std_168'],\n",
       "      dtype='object')"
      ]
     },
     "execution_count": 17,
     "metadata": {},
     "output_type": "execute_result"
    }
   ],
   "source": [
    "df.columns"
   ]
  },
  {
   "cell_type": "code",
   "execution_count": 18,
   "id": "9ab2f5ef",
   "metadata": {},
   "outputs": [
    {
     "data": {
      "text/plain": [
       "(10465, 45)"
      ]
     },
     "execution_count": 18,
     "metadata": {},
     "output_type": "execute_result"
    }
   ],
   "source": [
    "df.shape"
   ]
  },
  {
   "cell_type": "markdown",
   "id": "2b3eb6e7",
   "metadata": {},
   "source": [
    "### Create TA Features - Manually"
   ]
  },
  {
   "cell_type": "code",
   "execution_count": 19,
   "id": "fd577034",
   "metadata": {},
   "outputs": [],
   "source": [
    "# df = \\\n",
    "#     df.assign(\n",
    "#         fx_sma_fast = lambda x : talib.SMA(x.close.shift(1),8),\n",
    "#         fx_sma_slow = lambda x : x.close.shift(1).rolling(24).mean(),\n",
    "#         fx_ema_fast = lambda x : talib.EMA(x.close.shift(1),8),\n",
    "#         fx_ema_slow = lambda x : talib.EMA(x.close.shift(1),24),\n",
    "#         fx_atr = lambda x : talib.ATR(x.high.shift(1),x.low.shift(1),x.close.shift(1),12),\n",
    "#         fx_adx = lambda x : talib.ADX(x.high.shift(1),x.low.shift(1),x.close.shift(1),20),\n",
    "#         fx_rsi = lambda x : talib.RSI(x.close.shift(1),12),\n",
    "#         fx_bb_upper = lambda x : talib.BBANDS(x.close.shift(1))[0],\n",
    "#         fx_bb_middle = lambda x : talib.BBANDS(x.close.shift(1))[1],\n",
    "#         fx_bb_lower = lambda x : talib.BBANDS(x.close.shift(1))[2],\n",
    "#     ).assign(\n",
    "#         fx_sma_fast_slow_frc = lambda x : (x.fx_sma_fast/x.fx_sma_slow)\n",
    "#     )\n",
    "#\n",
    "# df.tail(2)\n",
    "# df.columns\n",
    "# df.shape"
   ]
  },
  {
   "cell_type": "markdown",
   "id": "0b4223fb",
   "metadata": {},
   "source": [
    "### Create TA Features - Automatically"
   ]
  },
  {
   "cell_type": "code",
   "execution_count": 20,
   "id": "3b6f686d",
   "metadata": {},
   "outputs": [
    {
     "name": "stderr",
     "output_type": "stream",
     "text": [
      "/Users/takis/opt/anaconda3/lib/python3.8/site-packages/ta/trend.py:768: RuntimeWarning: invalid value encountered in double_scalars\n",
      "  dip[i] = 100 * (self._dip[i] / self._trs[i])\n",
      "/Users/takis/opt/anaconda3/lib/python3.8/site-packages/ta/trend.py:772: RuntimeWarning: invalid value encountered in double_scalars\n",
      "  din[i] = 100 * (self._din[i] / self._trs[i])\n"
     ]
    },
    {
     "data": {
      "text/plain": [
       "Index(['opentime', 'closetime', 'open', 'high', 'low', 'close', 'volume',\n",
       "       'numtrade', 'fx_open', 'fx_high',\n",
       "       ...\n",
       "       'momentum_wr', 'momentum_ao', 'momentum_kama', 'momentum_roc',\n",
       "       'momentum_ppo', 'momentum_ppo_signal', 'momentum_ppo_hist', 'others_dr',\n",
       "       'others_dlr', 'others_cr'],\n",
       "      dtype='object', length=128)"
      ]
     },
     "execution_count": 20,
     "metadata": {},
     "output_type": "execute_result"
    }
   ],
   "source": [
    "df = add_all_ta_features(\n",
    "    df, \n",
    "    open='fx_open', \n",
    "    high='fx_high', \n",
    "    low='fx_low', \n",
    "    close='fx_close', \n",
    "    volume='fx_volume', \n",
    "    fillna=True)\n",
    "df.columns"
   ]
  },
  {
   "cell_type": "code",
   "execution_count": 21,
   "id": "9d160a09",
   "metadata": {},
   "outputs": [],
   "source": [
    "df = \\\n",
    "    df.assign(\n",
    "        sma_fast_slow_frc = lambda x : (x.trend_sma_fast/x.trend_sma_slow),\n",
    "        ema_fast_slow_frc = lambda x : (x.trend_ema_fast/x.trend_ema_slow)\n",
    "    )"
   ]
  },
  {
   "cell_type": "markdown",
   "id": "6d71da9a",
   "metadata": {},
   "source": [
    "### Enable Pattern Recognition Features"
   ]
  },
  {
   "cell_type": "code",
   "execution_count": 22,
   "id": "2d66a9af",
   "metadata": {},
   "outputs": [],
   "source": [
    "talib.get_function_groups().keys()\n",
    "# pattern_recognition_functions = [x for x in dir(talib) if x.startswith('CDL')]\n",
    "pattern_recognition_functions = talib.get_function_groups().get('Pattern Recognition')\n",
    "# pattern_recognition_functions[1::10]\n",
    "# create pattern recognition features\n",
    "pattern_features = {\n",
    "    f'pt_{x.lower()}': getattr(talib,x)(df['fx_open'],df['fx_high'],df['fx_low'],df['fx_close'])\n",
    "                    for x in pattern_recognition_functions\n",
    "    }"
   ]
  },
  {
   "cell_type": "code",
   "execution_count": 23,
   "id": "f5c6772e",
   "metadata": {},
   "outputs": [
    {
     "data": {
      "text/html": [
       "<div>\n",
       "<style scoped>\n",
       "    .dataframe tbody tr th:only-of-type {\n",
       "        vertical-align: middle;\n",
       "    }\n",
       "\n",
       "    .dataframe tbody tr th {\n",
       "        vertical-align: top;\n",
       "    }\n",
       "\n",
       "    .dataframe thead th {\n",
       "        text-align: right;\n",
       "    }\n",
       "</style>\n",
       "<table border=\"1\" class=\"dataframe\">\n",
       "  <thead>\n",
       "    <tr style=\"text-align: right;\">\n",
       "      <th></th>\n",
       "      <th>opentime</th>\n",
       "      <th>closetime</th>\n",
       "      <th>open</th>\n",
       "      <th>high</th>\n",
       "      <th>low</th>\n",
       "      <th>close</th>\n",
       "      <th>volume</th>\n",
       "      <th>...</th>\n",
       "      <th>pt_cdltakuri</th>\n",
       "      <th>pt_cdltasukigap</th>\n",
       "      <th>pt_cdlthrusting</th>\n",
       "      <th>pt_cdltristar</th>\n",
       "      <th>pt_cdlunique3river</th>\n",
       "      <th>pt_cdlupsidegap2crows</th>\n",
       "      <th>pt_cdlxsidegap3methods</th>\n",
       "    </tr>\n",
       "  </thead>\n",
       "  <tbody>\n",
       "    <tr>\n",
       "      <th>9616</th>\n",
       "      <td>2021-01-01 00:00:00</td>\n",
       "      <td>2021-01-01 00:59:00</td>\n",
       "      <td>737.179993</td>\n",
       "      <td>740.000000</td>\n",
       "      <td>730.0</td>\n",
       "      <td>734.599976</td>\n",
       "      <td>98092.523438</td>\n",
       "      <td>...</td>\n",
       "      <td>0</td>\n",
       "      <td>0</td>\n",
       "      <td>0</td>\n",
       "      <td>0</td>\n",
       "      <td>0</td>\n",
       "      <td>0</td>\n",
       "      <td>0</td>\n",
       "    </tr>\n",
       "    <tr>\n",
       "      <th>9617</th>\n",
       "      <td>2021-01-01 01:00:00</td>\n",
       "      <td>2021-01-01 01:59:00</td>\n",
       "      <td>734.609985</td>\n",
       "      <td>750.400024</td>\n",
       "      <td>734.0</td>\n",
       "      <td>749.330017</td>\n",
       "      <td>164084.062500</td>\n",
       "      <td>...</td>\n",
       "      <td>0</td>\n",
       "      <td>0</td>\n",
       "      <td>0</td>\n",
       "      <td>0</td>\n",
       "      <td>0</td>\n",
       "      <td>0</td>\n",
       "      <td>0</td>\n",
       "    </tr>\n",
       "  </tbody>\n",
       "</table>\n",
       "<p>2 rows × 191 columns</p>\n",
       "</div>"
      ],
      "text/plain": [
       "                opentime           closetime        open        high    low  \\\n",
       "9616 2021-01-01 00:00:00 2021-01-01 00:59:00  737.179993  740.000000  730.0   \n",
       "9617 2021-01-01 01:00:00 2021-01-01 01:59:00  734.609985  750.400024  734.0   \n",
       "\n",
       "           close         volume  ...  pt_cdltakuri  pt_cdltasukigap  \\\n",
       "9616  734.599976   98092.523438  ...             0                0   \n",
       "9617  749.330017  164084.062500  ...             0                0   \n",
       "\n",
       "      pt_cdlthrusting  pt_cdltristar  pt_cdlunique3river  \\\n",
       "9616                0              0                   0   \n",
       "9617                0              0                   0   \n",
       "\n",
       "      pt_cdlupsidegap2crows  pt_cdlxsidegap3methods  \n",
       "9616                      0                       0  \n",
       "9617                      0                       0  \n",
       "\n",
       "[2 rows x 191 columns]"
      ]
     },
     "execution_count": 23,
     "metadata": {},
     "output_type": "execute_result"
    }
   ],
   "source": [
    "df = df.assign(**pattern_features)\n",
    "df.head(2)"
   ]
  },
  {
   "cell_type": "code",
   "execution_count": 24,
   "id": "497c56fc",
   "metadata": {},
   "outputs": [],
   "source": [
    "# df[[x for x in df.columns if x.startswith('pt_')]].describe().T['mean'].plot(kind='barh',figsize=(10,15))\n",
    "# df[[x for x in df.columns if x.startswith('pt_')]].describe().T"
   ]
  },
  {
   "cell_type": "code",
   "execution_count": 25,
   "id": "7a1e55d8",
   "metadata": {},
   "outputs": [
    {
     "data": {
      "text/plain": [
       "Index(['opentime', 'closetime', 'open', 'high', 'low', 'close', 'volume',\n",
       "       'numtrade', 'fx_open', 'fx_high',\n",
       "       ...\n",
       "       'pt_cdlspinningtop', 'pt_cdlstalledpattern', 'pt_cdlsticksandwich',\n",
       "       'pt_cdltakuri', 'pt_cdltasukigap', 'pt_cdlthrusting', 'pt_cdltristar',\n",
       "       'pt_cdlunique3river', 'pt_cdlupsidegap2crows',\n",
       "       'pt_cdlxsidegap3methods'],\n",
       "      dtype='object', length=191)"
      ]
     },
     "execution_count": 25,
     "metadata": {},
     "output_type": "execute_result"
    }
   ],
   "source": [
    "df.columns"
   ]
  },
  {
   "cell_type": "code",
   "execution_count": 26,
   "id": "450f2594",
   "metadata": {},
   "outputs": [
    {
     "data": {
      "text/plain": [
       "(10465, 191)"
      ]
     },
     "execution_count": 26,
     "metadata": {},
     "output_type": "execute_result"
    }
   ],
   "source": [
    "df.shape"
   ]
  },
  {
   "cell_type": "markdown",
   "id": "b539d034",
   "metadata": {},
   "source": [
    "### Enable Pivot Levels"
   ]
  },
  {
   "cell_type": "code",
   "execution_count": 27,
   "id": "90e72b02",
   "metadata": {},
   "outputs": [],
   "source": [
    "def PPS(high,low,close):\n",
    "    if all([isinstance(item,(list,pd.core.series.Series,np.ndarray)) for item in (high,low,close)]):\n",
    "        high = np.array(high,dtype='float32')\n",
    "        low = np.array(low,dtype='float32')\n",
    "        close = np.array(close,dtype='float32')\n",
    "    else:\n",
    "        raise Exception('Wrong type input data type')\n",
    "    pp = (high + low + close)/3\n",
    "    r1 = (2 * pp - low)\n",
    "    s1 = (2 * pp - high)\n",
    "    r2 = pp + high - low\n",
    "    s2 = pp - high + low\n",
    "    r3 = high + 2 * (pp - low)\n",
    "    s3 = low - 2 * (high - pp)\n",
    "    result = {'pp':pp,'r1':r1,'s1':s1,'r2':r2,'s2':s2,'r3':r3,'s3':s3}\n",
    "    result = {f'fx_{k}':v for k,v in result.items()} \n",
    "    return result"
   ]
  },
  {
   "cell_type": "code",
   "execution_count": 28,
   "id": "9e385b02",
   "metadata": {},
   "outputs": [
    {
     "data": {
      "text/html": [
       "<div>\n",
       "<style scoped>\n",
       "    .dataframe tbody tr th:only-of-type {\n",
       "        vertical-align: middle;\n",
       "    }\n",
       "\n",
       "    .dataframe tbody tr th {\n",
       "        vertical-align: top;\n",
       "    }\n",
       "\n",
       "    .dataframe thead th {\n",
       "        text-align: right;\n",
       "    }\n",
       "</style>\n",
       "<table border=\"1\" class=\"dataframe\">\n",
       "  <thead>\n",
       "    <tr style=\"text-align: right;\">\n",
       "      <th></th>\n",
       "      <th>opentime</th>\n",
       "      <th>closetime</th>\n",
       "      <th>open</th>\n",
       "      <th>high</th>\n",
       "      <th>low</th>\n",
       "      <th>close</th>\n",
       "      <th>volume</th>\n",
       "      <th>...</th>\n",
       "      <th>fx_pp</th>\n",
       "      <th>fx_r1</th>\n",
       "      <th>fx_s1</th>\n",
       "      <th>fx_r2</th>\n",
       "      <th>fx_s2</th>\n",
       "      <th>fx_r3</th>\n",
       "      <th>fx_s3</th>\n",
       "    </tr>\n",
       "  </thead>\n",
       "  <tbody>\n",
       "    <tr>\n",
       "      <th>20079</th>\n",
       "      <td>2022-03-12 23:00:00</td>\n",
       "      <td>2022-03-12 23:59:00</td>\n",
       "      <td>2585.840088</td>\n",
       "      <td>2590.199951</td>\n",
       "      <td>2560.000000</td>\n",
       "      <td>2567.639893</td>\n",
       "      <td>35792.011719</td>\n",
       "      <td>...</td>\n",
       "      <td>2586.823242</td>\n",
       "      <td>2590.386475</td>\n",
       "      <td>2582.266602</td>\n",
       "      <td>2594.943115</td>\n",
       "      <td>2578.703369</td>\n",
       "      <td>2598.506348</td>\n",
       "      <td>2574.146729</td>\n",
       "    </tr>\n",
       "    <tr>\n",
       "      <th>20080</th>\n",
       "      <td>2022-03-13 00:00:00</td>\n",
       "      <td>2022-03-13 00:59:00</td>\n",
       "      <td>2567.629883</td>\n",
       "      <td>2573.780029</td>\n",
       "      <td>2555.810059</td>\n",
       "      <td>2565.979980</td>\n",
       "      <td>41614.472656</td>\n",
       "      <td>...</td>\n",
       "      <td>2572.613281</td>\n",
       "      <td>2585.226562</td>\n",
       "      <td>2555.026611</td>\n",
       "      <td>2602.813477</td>\n",
       "      <td>2542.413330</td>\n",
       "      <td>2615.426514</td>\n",
       "      <td>2524.826660</td>\n",
       "    </tr>\n",
       "  </tbody>\n",
       "</table>\n",
       "<p>2 rows × 198 columns</p>\n",
       "</div>"
      ],
      "text/plain": [
       "                 opentime           closetime         open         high  \\\n",
       "20079 2022-03-12 23:00:00 2022-03-12 23:59:00  2585.840088  2590.199951   \n",
       "20080 2022-03-13 00:00:00 2022-03-13 00:59:00  2567.629883  2573.780029   \n",
       "\n",
       "               low        close        volume  ...        fx_pp        fx_r1  \\\n",
       "20079  2560.000000  2567.639893  35792.011719  ...  2586.823242  2590.386475   \n",
       "20080  2555.810059  2565.979980  41614.472656  ...  2572.613281  2585.226562   \n",
       "\n",
       "             fx_s1        fx_r2        fx_s2        fx_r3        fx_s3  \n",
       "20079  2582.266602  2594.943115  2578.703369  2598.506348  2574.146729  \n",
       "20080  2555.026611  2602.813477  2542.413330  2615.426514  2524.826660  \n",
       "\n",
       "[2 rows x 198 columns]"
      ]
     },
     "execution_count": 28,
     "metadata": {},
     "output_type": "execute_result"
    }
   ],
   "source": [
    "df = df.assign(**PPS(df.fx_high,df.fx_low,df.fx_close))\n",
    "df.tail(2)"
   ]
  },
  {
   "cell_type": "code",
   "execution_count": 29,
   "id": "0f14315e",
   "metadata": {},
   "outputs": [
    {
     "data": {
      "text/plain": [
       "Index(['opentime', 'close', 'fx_low', 'fx_close_lag_003', 'fx_volume_lag_003',\n",
       "       'fx_close_diff_003', 'fx_volume_diff_003', 'fx_close_std_024',\n",
       "       'fx_volume_max_024', 'volume_adi', 'volume_em', 'volatility_atr',\n",
       "       'volatility_bbp', 'volatility_kcl', 'volatility_dcl', 'volatility_ui',\n",
       "       'trend_sma_slow', 'trend_adx_neg', 'trend_mass_index', 'trend_kst_diff',\n",
       "       'trend_visual_ichimoku_a', 'trend_psar_up', 'momentum_rsi',\n",
       "       'momentum_uo', 'momentum_kama', 'others_dr', 'pt_cdl2crows',\n",
       "       'pt_cdl3starsinsouth', 'pt_cdlbreakaway', 'pt_cdldoji',\n",
       "       'pt_cdleveningstar', 'pt_cdlharami', 'pt_cdlhomingpigeon',\n",
       "       'pt_cdlkickingbylength', 'pt_cdlmatchinglow', 'pt_cdlpiercing',\n",
       "       'pt_cdlshortline', 'pt_cdltasukigap', 'pt_cdlxsidegap3methods',\n",
       "       'fx_s2'],\n",
       "      dtype='object')"
      ]
     },
     "execution_count": 29,
     "metadata": {},
     "output_type": "execute_result"
    }
   ],
   "source": [
    "df.columns[0::5]"
   ]
  },
  {
   "cell_type": "code",
   "execution_count": 30,
   "id": "fd62e72f",
   "metadata": {},
   "outputs": [],
   "source": [
    "# pd.Series(df.columns).to_clipboard()"
   ]
  },
  {
   "cell_type": "code",
   "execution_count": 31,
   "id": "06f13957",
   "metadata": {},
   "outputs": [
    {
     "data": {
      "text/plain": [
       "(10465, 198)"
      ]
     },
     "execution_count": 31,
     "metadata": {},
     "output_type": "execute_result"
    }
   ],
   "source": [
    "df.shape"
   ]
  },
  {
   "cell_type": "markdown",
   "id": "d76f2178",
   "metadata": {},
   "source": [
    "### Examine Alternative Target Options"
   ]
  },
  {
   "cell_type": "code",
   "execution_count": 32,
   "id": "4dc25cae",
   "metadata": {},
   "outputs": [],
   "source": [
    "chkp = df.copy()\n",
    "# df = chkp.copy()"
   ]
  },
  {
   "cell_type": "code",
   "execution_count": 33,
   "id": "b8e2ef8a",
   "metadata": {},
   "outputs": [
    {
     "data": {
      "text/html": [
       "<div>\n",
       "<style scoped>\n",
       "    .dataframe tbody tr th:only-of-type {\n",
       "        vertical-align: middle;\n",
       "    }\n",
       "\n",
       "    .dataframe tbody tr th {\n",
       "        vertical-align: top;\n",
       "    }\n",
       "\n",
       "    .dataframe thead th {\n",
       "        text-align: right;\n",
       "    }\n",
       "</style>\n",
       "<table border=\"1\" class=\"dataframe\">\n",
       "  <thead>\n",
       "    <tr style=\"text-align: right;\">\n",
       "      <th></th>\n",
       "      <th>opentime</th>\n",
       "      <th>closetime</th>\n",
       "      <th>open</th>\n",
       "      <th>high</th>\n",
       "      <th>low</th>\n",
       "      <th>close</th>\n",
       "      <th>volume</th>\n",
       "      <th>...</th>\n",
       "      <th>trg_delta_08hrs_ahead</th>\n",
       "      <th>trg_delta_12hrs_ahead</th>\n",
       "      <th>trg_delta_16hrs_ahead</th>\n",
       "      <th>trg_delta_20hrs_ahead</th>\n",
       "      <th>trg_delta_24hrs_ahead</th>\n",
       "      <th>trg_delta_48hrs_ahead</th>\n",
       "      <th>trg_delta_96hrs_ahead</th>\n",
       "    </tr>\n",
       "  </thead>\n",
       "  <tbody>\n",
       "    <tr>\n",
       "      <th>19981</th>\n",
       "      <td>2022-03-08 21:00:00</td>\n",
       "      <td>2022-03-08 21:59:00</td>\n",
       "      <td>2552.040039</td>\n",
       "      <td>2562.750000</td>\n",
       "      <td>2546.719971</td>\n",
       "      <td>2557.320068</td>\n",
       "      <td>38991.250000</td>\n",
       "      <td>...</td>\n",
       "      <td>0.061373</td>\n",
       "      <td>0.076518</td>\n",
       "      <td>0.066312</td>\n",
       "      <td>0.072627</td>\n",
       "      <td>0.058409</td>\n",
       "      <td>0.017542</td>\n",
       "      <td>0.011078</td>\n",
       "    </tr>\n",
       "    <tr>\n",
       "      <th>19982</th>\n",
       "      <td>2022-03-08 22:00:00</td>\n",
       "      <td>2022-03-08 22:59:00</td>\n",
       "      <td>2557.320068</td>\n",
       "      <td>2574.030029</td>\n",
       "      <td>2554.780029</td>\n",
       "      <td>2567.229980</td>\n",
       "      <td>29236.652344</td>\n",
       "      <td>...</td>\n",
       "      <td>0.059367</td>\n",
       "      <td>0.073601</td>\n",
       "      <td>0.066223</td>\n",
       "      <td>0.055651</td>\n",
       "      <td>0.058055</td>\n",
       "      <td>0.017034</td>\n",
       "      <td>0.007245</td>\n",
       "    </tr>\n",
       "  </tbody>\n",
       "</table>\n",
       "<p>2 rows × 216 columns</p>\n",
       "</div>"
      ],
      "text/plain": [
       "                 opentime           closetime         open         high  \\\n",
       "19981 2022-03-08 21:00:00 2022-03-08 21:59:00  2552.040039  2562.750000   \n",
       "19982 2022-03-08 22:00:00 2022-03-08 22:59:00  2557.320068  2574.030029   \n",
       "\n",
       "               low        close        volume  ...  trg_delta_08hrs_ahead  \\\n",
       "19981  2546.719971  2557.320068  38991.250000  ...               0.061373   \n",
       "19982  2554.780029  2567.229980  29236.652344  ...               0.059367   \n",
       "\n",
       "       trg_delta_12hrs_ahead  trg_delta_16hrs_ahead  trg_delta_20hrs_ahead  \\\n",
       "19981               0.076518               0.066312               0.072627   \n",
       "19982               0.073601               0.066223               0.055651   \n",
       "\n",
       "       trg_delta_24hrs_ahead  trg_delta_48hrs_ahead  trg_delta_96hrs_ahead  \n",
       "19981               0.058409               0.017542               0.011078  \n",
       "19982               0.058055               0.017034               0.007245  \n",
       "\n",
       "[2 rows x 216 columns]"
      ]
     },
     "execution_count": 33,
     "metadata": {},
     "output_type": "execute_result"
    }
   ],
   "source": [
    "df = \\\n",
    "    df.assign(\n",
    "        #change_pct = lambda x : x.close.pct_change(),\n",
    "        #change_chr = lambda x : x.close.pct_change().apply(np.sign),\n",
    "\n",
    "        trg_close_01hrs_ahead = lambda x : x.close.shift(-1),\n",
    "        trg_close_04hrs_ahead = lambda x : x.close.shift(-4),\n",
    "        trg_close_08hrs_ahead = lambda x : x.close.shift(-8),\n",
    "        trg_close_12hrs_ahead = lambda x : x.close.shift(-12),\n",
    "        trg_close_16hrs_ahead = lambda x : x.close.shift(-16),\n",
    "        trg_close_20hrs_ahead = lambda x : x.close.shift(-20),\n",
    "        trg_close_24hrs_ahead = lambda x : x.close.shift(-24),\n",
    "        trg_close_48hrs_ahead = lambda x : x.close.shift(-48),\n",
    "        trg_close_96hrs_ahead = lambda x : x.close.shift(-96),\n",
    "    \n",
    "        trg_delta_01hrs_ahead = lambda x : (x.close.shift(-1)/x.close)-1,\n",
    "        trg_delta_04hrs_ahead = lambda x : (x.close.shift(-4)/x.close)-1,\n",
    "        trg_delta_08hrs_ahead = lambda x : (x.close.shift(-8)/x.close)-1,\n",
    "        trg_delta_12hrs_ahead = lambda x : (x.close.shift(-12)/x.close)-1,\n",
    "        trg_delta_16hrs_ahead = lambda x : (x.close.shift(-16)/x.close)-1,\n",
    "        trg_delta_20hrs_ahead = lambda x : (x.close.shift(-20)/x.close)-1,\n",
    "        trg_delta_24hrs_ahead = lambda x : (x.close.shift(-24)/x.close)-1,\n",
    "        trg_delta_48hrs_ahead = lambda x : (x.close.shift(-48)/x.close)-1,\n",
    "        trg_delta_96hrs_ahead = lambda x : (x.close.shift(-96)/x.close)-1,\n",
    "    )\n",
    "df.tail(100).head(2)"
   ]
  },
  {
   "cell_type": "code",
   "execution_count": 34,
   "id": "6b94b65c",
   "metadata": {},
   "outputs": [
    {
     "name": "stdout",
     "output_type": "stream",
     "text": [
      "trg_delta_01hrs_ahead\n",
      "====================================================================================================\n",
      "(0.0, 0.025]     95.698308\n",
      "(0.025, 0.05]     3.861963\n",
      "(0.05, 0.1]       0.430169\n",
      "(0.1, 0.25]       0.009559\n",
      "(0.25, 0.5]       0.000000\n",
      "(0.5, 1.0]        0.000000\n",
      "Name: trg_delta_01hrs_ahead, dtype: float64\n",
      "----------------------------------------------------------------------------------------------------\n",
      " 1.0    51.548165\n",
      "-1.0    48.423165\n",
      " 0.0     0.028670\n",
      "Name: trg_delta_01hrs_ahead, dtype: float64\n",
      "====================================================================================================\n",
      "\n",
      "trg_delta_04hrs_ahead\n",
      "====================================================================================================\n",
      "(0.0, 0.025]     80.351850\n",
      "(0.025, 0.05]    15.364758\n",
      "(0.05, 0.1]       3.986997\n",
      "(0.1, 0.25]       0.296395\n",
      "(0.25, 0.5]       0.000000\n",
      "(0.5, 1.0]        0.000000\n",
      "Name: trg_delta_04hrs_ahead, dtype: float64\n",
      "----------------------------------------------------------------------------------------------------\n",
      " 1.0    52.365931\n",
      "-1.0    47.614951\n",
      " 0.0     0.019119\n",
      "Name: trg_delta_04hrs_ahead, dtype: float64\n",
      "====================================================================================================\n",
      "\n",
      "trg_delta_08hrs_ahead\n",
      "====================================================================================================\n",
      "(0.0, 0.025]     67.132198\n",
      "(0.025, 0.05]    22.383777\n",
      "(0.05, 0.1]       9.517888\n",
      "(0.1, 0.25]       0.966137\n",
      "(0.25, 0.5]       0.000000\n",
      "(0.5, 1.0]        0.000000\n",
      "Name: trg_delta_08hrs_ahead, dtype: float64\n",
      "----------------------------------------------------------------------------------------------------\n",
      " 1.0    52.778043\n",
      "-1.0    47.193268\n",
      " 0.0     0.028689\n",
      "Name: trg_delta_08hrs_ahead, dtype: float64\n",
      "====================================================================================================\n",
      "\n",
      "trg_delta_12hrs_ahead\n",
      "====================================================================================================\n",
      "(0.0, 0.025]     57.481822\n",
      "(0.025, 0.05]    26.846537\n",
      "(0.05, 0.1]      13.624187\n",
      "(0.1, 0.25]       2.028320\n",
      "(0.25, 0.5]       0.019135\n",
      "(0.5, 1.0]        0.000000\n",
      "Name: trg_delta_12hrs_ahead, dtype: float64\n",
      "----------------------------------------------------------------------------------------------------\n",
      " 1.0    52.817373\n",
      "-1.0    47.173060\n",
      " 0.0     0.009567\n",
      "Name: trg_delta_12hrs_ahead, dtype: float64\n",
      "====================================================================================================\n",
      "\n",
      "trg_delta_16hrs_ahead\n",
      "====================================================================================================\n",
      "(0.0, 0.025]     50.516845\n",
      "(0.025, 0.05]    27.794793\n",
      "(0.05, 0.1]      18.328867\n",
      "(0.1, 0.25]       3.330781\n",
      "(0.25, 0.5]       0.028714\n",
      "(0.5, 1.0]        0.000000\n",
      "Name: trg_delta_16hrs_ahead, dtype: float64\n",
      "----------------------------------------------------------------------------------------------------\n",
      " 1.0    53.373529\n",
      "-1.0    46.616901\n",
      " 0.0     0.009570\n",
      "Name: trg_delta_16hrs_ahead, dtype: float64\n",
      "====================================================================================================\n",
      "\n",
      "trg_delta_20hrs_ahead\n",
      "====================================================================================================\n",
      "(0.0, 0.025]     45.753949\n",
      "(0.025, 0.05]    28.539971\n",
      "(0.05, 0.1]      20.928674\n",
      "(0.1, 0.25]       4.633796\n",
      "(0.25, 0.5]       0.143609\n",
      "(0.5, 1.0]        0.000000\n",
      "Name: trg_delta_20hrs_ahead, dtype: float64\n",
      "----------------------------------------------------------------------------------------------------\n",
      " 1.0    53.719483\n",
      "-1.0    46.280517\n",
      "Name: trg_delta_20hrs_ahead, dtype: float64\n",
      "====================================================================================================\n",
      "\n",
      "trg_delta_24hrs_ahead\n",
      "====================================================================================================\n",
      "(0.0, 0.025]     41.455939\n",
      "(0.025, 0.05]    28.304598\n",
      "(0.05, 0.1]      23.955939\n",
      "(0.1, 0.25]       6.005747\n",
      "(0.25, 0.5]       0.277778\n",
      "(0.5, 1.0]        0.000000\n",
      "Name: trg_delta_24hrs_ahead, dtype: float64\n",
      "----------------------------------------------------------------------------------------------------\n",
      " 1.0    53.740063\n",
      "-1.0    46.250359\n",
      " 0.0     0.009578\n",
      "Name: trg_delta_24hrs_ahead, dtype: float64\n",
      "====================================================================================================\n",
      "\n",
      "trg_delta_48hrs_ahead\n",
      "====================================================================================================\n",
      "(0.0, 0.025]     30.315830\n",
      "(0.05, 0.1]      29.826246\n",
      "(0.025, 0.05]    23.519247\n",
      "(0.1, 0.25]      15.532303\n",
      "(0.25, 0.5]       0.796775\n",
      "(0.5, 1.0]        0.009600\n",
      "Name: trg_delta_48hrs_ahead, dtype: float64\n",
      "----------------------------------------------------------------------------------------------------\n",
      " 1.0    54.420659\n",
      "-1.0    45.579341\n",
      "Name: trg_delta_48hrs_ahead, dtype: float64\n",
      "====================================================================================================\n",
      "\n",
      "trg_delta_96hrs_ahead\n",
      "====================================================================================================\n",
      "(0.05, 0.1]      29.414601\n",
      "(0.1, 0.25]      28.556274\n",
      "(0.0, 0.025]     20.792748\n",
      "(0.025, 0.05]    18.979651\n",
      "(0.25, 0.5]       2.005979\n",
      "(0.5, 1.0]        0.250747\n",
      "Name: trg_delta_96hrs_ahead, dtype: float64\n",
      "----------------------------------------------------------------------------------------------------\n",
      " 1.0    57.575465\n",
      "-1.0    42.424535\n",
      "Name: trg_delta_96hrs_ahead, dtype: float64\n",
      "====================================================================================================\n",
      "\n"
     ]
    }
   ],
   "source": [
    "# Review distributions of absolute returns for 4-8-16 etc. hours ahead\n",
    "trg_windows = [x for x in df.columns if x.startswith('trg_delta')]\n",
    "for wnd in trg_windows:\n",
    "    print(wnd)\n",
    "    print(100*'=')\n",
    "    print((pd.cut(\n",
    "        x = df[wnd].abs(), \n",
    "        bins = [0, 0.025, 0.05, 0.1, 0.25, 0.5, 1.], \n",
    "        ).value_counts(normalize=True))*100)\n",
    "    print(100*'-')\n",
    "    print(df[wnd].apply(np.sign).value_counts(normalize=True)*100)\n",
    "    print(100*'=')\n",
    "    print()"
   ]
  },
  {
   "cell_type": "markdown",
   "id": "49c5e6ae",
   "metadata": {},
   "source": [
    "### Select Timeframe for target"
   ]
  },
  {
   "cell_type": "code",
   "execution_count": 184,
   "id": "858473c2",
   "metadata": {},
   "outputs": [],
   "source": [
    "chkp2 = df.copy()\n",
    "# df = chkp2.copy()"
   ]
  },
  {
   "cell_type": "code",
   "execution_count": 185,
   "id": "45dde391",
   "metadata": {},
   "outputs": [],
   "source": [
    "my_target = 'trg_delta_20hrs_ahead'\n",
    "df['target_rtrns'] = df[my_target]"
   ]
  },
  {
   "cell_type": "code",
   "execution_count": 186,
   "id": "dc855cb1",
   "metadata": {},
   "outputs": [],
   "source": [
    "# drop all other trg columns - i.e. time frame related targets\n",
    "df = df[[x for x in df.columns if not x.startswith('trg_')]]"
   ]
  },
  {
   "cell_type": "code",
   "execution_count": 187,
   "id": "d61bfdbc",
   "metadata": {},
   "outputs": [
    {
     "data": {
      "text/plain": [
       "delta_0%_3%      52.312111\n",
       "delta_3%_100%    47.687889\n",
       "Name: target_rtrns, dtype: float64"
      ]
     },
     "execution_count": 187,
     "metadata": {},
     "output_type": "execute_result"
    }
   ],
   "source": [
    "# chance to revisit/readjust bins\n",
    "my_bins = [0, 0.03, 1.]\n",
    "my_labels = [f'delta_{x:.0%}_{y:.0%}' for x,y in zip(my_bins[:-1],my_bins[1:])]\n",
    "(pd.cut(x = df.target_rtrns.abs(), bins = my_bins, labels = my_labels).value_counts(normalize=True)*100)"
   ]
  },
  {
   "cell_type": "code",
   "execution_count": 188,
   "id": "003e5e29",
   "metadata": {},
   "outputs": [],
   "source": [
    "df['target_sign'] = df.target_rtrns.apply(np.sign)\n",
    "df['target_sign_binary'] = df.target_sign.apply(lambda x : 1 if x>=0 else 0) #if na 'down' will be assigned\n",
    "df['target_bins'] = pd.cut(x = df.target_rtrns.abs(), bins = my_bins, labels = my_labels)"
   ]
  },
  {
   "cell_type": "code",
   "execution_count": 189,
   "id": "ddc5eccb",
   "metadata": {},
   "outputs": [
    {
     "data": {
      "text/plain": [
       "delta_0%_3%      5464\n",
       "delta_3%_100%    4981\n",
       "NaN                20\n",
       "Name: target_bins, dtype: int64"
      ]
     },
     "execution_count": 189,
     "metadata": {},
     "output_type": "execute_result"
    }
   ],
   "source": [
    "df.target_bins.value_counts(dropna=False)"
   ]
  },
  {
   "cell_type": "code",
   "execution_count": 190,
   "id": "5ba56360",
   "metadata": {},
   "outputs": [
    {
     "data": {
      "text/plain": [
       "steady    5464\n",
       "1         2790\n",
       "0         2191\n",
       "NaN         20\n",
       "dtype: int64"
      ]
     },
     "execution_count": 190,
     "metadata": {},
     "output_type": "execute_result"
    }
   ],
   "source": [
    "pd.Series(\n",
    "    np.where(df['target_bins']=='delta_0%_3%','steady',\n",
    "        np.where(df['target_bins']=='delta_3%_100%',df['target_sign_binary'],None))\n",
    "    ).value_counts(dropna=False)"
   ]
  },
  {
   "cell_type": "code",
   "execution_count": 191,
   "id": "773bfe88",
   "metadata": {},
   "outputs": [
    {
     "data": {
      "text/html": [
       "<div>\n",
       "<style scoped>\n",
       "    .dataframe tbody tr th:only-of-type {\n",
       "        vertical-align: middle;\n",
       "    }\n",
       "\n",
       "    .dataframe tbody tr th {\n",
       "        vertical-align: top;\n",
       "    }\n",
       "\n",
       "    .dataframe thead th {\n",
       "        text-align: right;\n",
       "    }\n",
       "</style>\n",
       "<table border=\"1\" class=\"dataframe\">\n",
       "  <thead>\n",
       "    <tr style=\"text-align: right;\">\n",
       "      <th></th>\n",
       "      <th>counts</th>\n",
       "      <th>normalized_counts(%)</th>\n",
       "    </tr>\n",
       "  </thead>\n",
       "  <tbody>\n",
       "    <tr>\n",
       "      <th>steady</th>\n",
       "      <td>5464</td>\n",
       "      <td>52.21</td>\n",
       "    </tr>\n",
       "    <tr>\n",
       "      <th>1</th>\n",
       "      <td>2790</td>\n",
       "      <td>26.66</td>\n",
       "    </tr>\n",
       "    <tr>\n",
       "      <th>0</th>\n",
       "      <td>2191</td>\n",
       "      <td>20.94</td>\n",
       "    </tr>\n",
       "    <tr>\n",
       "      <th>NaN</th>\n",
       "      <td>20</td>\n",
       "      <td>0.19</td>\n",
       "    </tr>\n",
       "  </tbody>\n",
       "</table>\n",
       "</div>"
      ],
      "text/plain": [
       "        counts  normalized_counts(%)\n",
       "steady    5464                 52.21\n",
       "1         2790                 26.66\n",
       "0         2191                 20.94\n",
       "NaN         20                  0.19"
      ]
     },
     "execution_count": 191,
     "metadata": {},
     "output_type": "execute_result"
    }
   ],
   "source": [
    "bins_sign = np.where(df['target_bins']=='delta_0%_3%','steady',\n",
    "                     np.where(df['target_bins']=='delta_3%_100%',df['target_sign_binary'],None))\n",
    "pd.DataFrame({'counts':pd.Series(bins_sign).value_counts(dropna=False),\n",
    "              'normalized_counts(%)':round(pd.Series(bins_sign).value_counts(normalize=True,dropna=False)*100,2)})"
   ]
  },
  {
   "cell_type": "code",
   "execution_count": 192,
   "id": "3e935ae9",
   "metadata": {},
   "outputs": [],
   "source": [
    "df['target_bins_sign'] = bins_sign"
   ]
  },
  {
   "cell_type": "code",
   "execution_count": 193,
   "id": "14eb992e",
   "metadata": {},
   "outputs": [
    {
     "data": {
      "text/plain": [
       "target_rtrns          20\n",
       "target_sign           20\n",
       "target_sign_binary     0\n",
       "target_bins           20\n",
       "target_bins_sign      20\n",
       "dtype: int64"
      ]
     },
     "execution_count": 193,
     "metadata": {},
     "output_type": "execute_result"
    }
   ],
   "source": [
    "df[[x for x in df.columns if x.startswith('target')]].isnull().sum()"
   ]
  },
  {
   "cell_type": "code",
   "execution_count": 194,
   "id": "e66ca076",
   "metadata": {},
   "outputs": [
    {
     "data": {
      "text/plain": [
       "target_sign_binary  target_bins    target_bins_sign\n",
       "0                   delta_0%_3%    0                      0\n",
       "                                   1                      0\n",
       "                                   steady              2643\n",
       "                    delta_3%_100%  0                   2191\n",
       "                                   1                      0\n",
       "                                   steady                 0\n",
       "1                   delta_0%_3%    0                      0\n",
       "                                   1                      0\n",
       "                                   steady              2821\n",
       "                    delta_3%_100%  0                      0\n",
       "                                   1                   2790\n",
       "                                   steady                 0\n",
       "dtype: int64"
      ]
     },
     "execution_count": 194,
     "metadata": {},
     "output_type": "execute_result"
    }
   ],
   "source": [
    "df.groupby(['target_sign_binary','target_bins','target_bins_sign']).size()"
   ]
  },
  {
   "cell_type": "markdown",
   "id": "0fbf56e9",
   "metadata": {},
   "source": [
    "### Profile Targets"
   ]
  },
  {
   "cell_type": "code",
   "execution_count": 195,
   "id": "2d514366",
   "metadata": {},
   "outputs": [
    {
     "data": {
      "text/plain": [
       "['target_rtrns',\n",
       " 'target_sign',\n",
       " 'target_sign_binary',\n",
       " 'target_bins',\n",
       " 'target_bins_sign']"
      ]
     },
     "execution_count": 195,
     "metadata": {},
     "output_type": "execute_result"
    }
   ],
   "source": [
    "[x for x in df.columns if x.startswith('target')]"
   ]
  },
  {
   "cell_type": "code",
   "execution_count": 196,
   "id": "3136b315",
   "metadata": {},
   "outputs": [
    {
     "data": {
      "text/plain": [
       "<AxesSubplot:>"
      ]
     },
     "execution_count": 196,
     "metadata": {},
     "output_type": "execute_result"
    },
    {
     "data": {
      "image/png": "[encoded data removed]",
      "text/plain": [
       "<Figure size 432x288 with 1 Axes>"
      ]
     },
     "metadata": {
      "needs_background": "light"
     },
     "output_type": "display_data"
    }
   ],
   "source": [
    "df.target_rtrns.hist(bins=100)"
   ]
  },
  {
   "cell_type": "code",
   "execution_count": 197,
   "id": "2380f715",
   "metadata": {},
   "outputs": [
    {
     "name": "stdout",
     "output_type": "stream",
     "text": [
      "delta_0%_3%      52.312111\n",
      "delta_3%_100%    47.687889\n",
      "Name: target_bins, dtype: float64\n"
     ]
    },
    {
     "data": {
      "image/png": "[encoded data removed]",
      "text/plain": [
       "<Figure size 432x288 with 1 Axes>"
      ]
     },
     "metadata": {
      "needs_background": "light"
     },
     "output_type": "display_data"
    }
   ],
   "source": [
    "df.target_bins.value_counts(normalize=True).plot(kind='barh')\n",
    "print(df.target_bins.value_counts(normalize=True)*100)"
   ]
  },
  {
   "cell_type": "code",
   "execution_count": 198,
   "id": "2567caac",
   "metadata": {},
   "outputs": [
    {
     "data": {
      "text/plain": [
       "1    0.536168\n",
       "0    0.463832\n",
       "Name: target_sign_binary, dtype: float64"
      ]
     },
     "execution_count": 198,
     "metadata": {},
     "output_type": "execute_result"
    }
   ],
   "source": [
    "df.target_sign_binary.value_counts(normalize=True)"
   ]
  },
  {
   "cell_type": "code",
   "execution_count": 199,
   "id": "ab94f971",
   "metadata": {},
   "outputs": [
    {
     "data": {
      "text/plain": [
       "steady    0.523121\n",
       "1         0.267113\n",
       "0         0.209765\n",
       "Name: target_bins_sign, dtype: float64"
      ]
     },
     "execution_count": 199,
     "metadata": {},
     "output_type": "execute_result"
    }
   ],
   "source": [
    "df.target_bins_sign.value_counts(normalize=True)"
   ]
  },
  {
   "cell_type": "markdown",
   "id": "888956e1",
   "metadata": {},
   "source": [
    "### Clean dataset from NAs"
   ]
  },
  {
   "cell_type": "code",
   "execution_count": 200,
   "id": "a227d568",
   "metadata": {},
   "outputs": [],
   "source": [
    "# import missingno as msno\n",
    "# msno.matrix(df.set_index('opentime')[df.columns[(df.isnull().sum()!=0)]],freq='H')\n",
    "from sklearn.preprocessing import LabelEncoder"
   ]
  },
  {
   "cell_type": "code",
   "execution_count": 201,
   "id": "302c5f5f",
   "metadata": {},
   "outputs": [
    {
     "name": "stdout",
     "output_type": "stream",
     "text": [
      "current rows 10465\n",
      "max missing rows 168\n",
      "opentime from 2021-01-01 00:00 to 2022-03-13 00:00\n"
     ]
    }
   ],
   "source": [
    "print(f'current rows {df.shape[0]}')\n",
    "print(f'max missing rows {df.isnull().sum().max()}')\n",
    "print(f'opentime from {df.opentime.min().strftime(\"%Y-%m-%d %H:%M\")} to {df.opentime.max().strftime(\"%Y-%m-%d %H:%M\")}')"
   ]
  },
  {
   "cell_type": "code",
   "execution_count": 202,
   "id": "f91ddccd",
   "metadata": {},
   "outputs": [
    {
     "data": {
      "text/plain": [
       "(10277, 203)"
      ]
     },
     "execution_count": 202,
     "metadata": {},
     "output_type": "execute_result"
    }
   ],
   "source": [
    "md = df.dropna().reset_index(drop=True).copy()\n",
    "md.shape"
   ]
  },
  {
   "cell_type": "code",
   "execution_count": 203,
   "id": "d6d0bb0e",
   "metadata": {},
   "outputs": [
    {
     "name": "stdout",
     "output_type": "stream",
     "text": [
      "remaining missing observations 0\n",
      "current rows 10277\n",
      "opentime from 2021-01-08 00:00 to 2022-03-12 04:00\n"
     ]
    }
   ],
   "source": [
    "print(f'remaining missing observations {md.isnull().sum().sum()}')\n",
    "print(f'current rows {md.shape[0]}')\n",
    "print(f'opentime from {md.opentime.min().strftime(\"%Y-%m-%d %H:%M\")} to {md.opentime.max().strftime(\"%Y-%m-%d %H:%M\")}')"
   ]
  },
  {
   "cell_type": "code",
   "execution_count": 204,
   "id": "b37b49fb",
   "metadata": {},
   "outputs": [
    {
     "data": {
      "text/plain": [
       "steady    5414\n",
       "1         2682\n",
       "0         2181\n",
       "Name: target_bins_sign, dtype: int64"
      ]
     },
     "execution_count": 204,
     "metadata": {},
     "output_type": "execute_result"
    }
   ],
   "source": [
    "md.target_bins_sign.value_counts()"
   ]
  },
  {
   "cell_type": "code",
   "execution_count": 205,
   "id": "acaca369",
   "metadata": {},
   "outputs": [],
   "source": [
    "X = md[[x for x in md.columns if not (x.startswith('target') | x.endswith('time'))]].reset_index(drop=True)\n",
    "X = X.drop(['open','high','low','close','volume','numtrade'],axis=1)"
   ]
  },
  {
   "cell_type": "code",
   "execution_count": 206,
   "id": "fe4614dc",
   "metadata": {},
   "outputs": [
    {
     "data": {
      "text/plain": [
       "['target_rtrns',\n",
       " 'target_sign',\n",
       " 'target_sign_binary',\n",
       " 'target_bins',\n",
       " 'target_bins_sign']"
      ]
     },
     "execution_count": 206,
     "metadata": {},
     "output_type": "execute_result"
    }
   ],
   "source": [
    "[x for x in md.columns if x.startswith('target')]"
   ]
  },
  {
   "cell_type": "code",
   "execution_count": 207,
   "id": "fdc5e889",
   "metadata": {},
   "outputs": [],
   "source": [
    "y = md['target_sign_binary']"
   ]
  },
  {
   "cell_type": "code",
   "execution_count": 208,
   "id": "77101155",
   "metadata": {},
   "outputs": [],
   "source": [
    "# pd.Series(md.columns).to_clipboard()\n",
    "# pd.Series(X.columns).to_clipboard()"
   ]
  },
  {
   "cell_type": "markdown",
   "id": "b56d15fc",
   "metadata": {},
   "source": [
    "### Temporal Train Test Split - dataset to test at the end"
   ]
  },
  {
   "cell_type": "code",
   "execution_count": 232,
   "id": "2737b093",
   "metadata": {},
   "outputs": [],
   "source": [
    "from sktime.forecasting.model_selection import temporal_train_test_split"
   ]
  },
  {
   "cell_type": "code",
   "execution_count": 233,
   "id": "91d14c37",
   "metadata": {},
   "outputs": [],
   "source": [
    "y, y_keep, X, X_keep = temporal_train_test_split(y,X,test_size=24*7*4)"
   ]
  },
  {
   "cell_type": "code",
   "execution_count": 234,
   "id": "059768ec",
   "metadata": {},
   "outputs": [
    {
     "data": {
      "text/plain": [
       "[(8933,), (672,), (8933, 190), (672, 190)]"
      ]
     },
     "execution_count": 234,
     "metadata": {},
     "output_type": "execute_result"
    }
   ],
   "source": [
    "[x.shape for x in [y, y_keep, X, X_keep]]"
   ]
  },
  {
   "cell_type": "code",
   "execution_count": 235,
   "id": "ff58457e",
   "metadata": {},
   "outputs": [
    {
     "data": {
      "text/plain": [
       "0    354\n",
       "1    318\n",
       "Name: target_sign_binary, dtype: int64"
      ]
     },
     "execution_count": 235,
     "metadata": {},
     "output_type": "execute_result"
    }
   ],
   "source": [
    "y_keep.value_counts()"
   ]
  },
  {
   "cell_type": "markdown",
   "id": "55e45b67",
   "metadata": {},
   "source": [
    "### Setup Cross-Validation"
   ]
  },
  {
   "cell_type": "code",
   "execution_count": 236,
   "id": "3eed18cb",
   "metadata": {},
   "outputs": [],
   "source": [
    "from sklearn.model_selection import TimeSeriesSplit\n",
    "from sktime.forecasting.model_selection import SlidingWindowSplitter, ExpandingWindowSplitter"
   ]
  },
  {
   "cell_type": "markdown",
   "id": "14b4f48c",
   "metadata": {},
   "source": [
    "### sklearn TimeSeriesSplit"
   ]
  },
  {
   "cell_type": "code",
   "execution_count": 237,
   "id": "86eb7788",
   "metadata": {},
   "outputs": [],
   "source": [
    "# # tscv = TimeSeriesSplit(gap=0, max_train_size=None, n_splits=20, test_size=200)\n",
    "# tscv = TimeSeriesSplit(n_splits=10)\n",
    "# for i, (train_index, test_index) in enumerate(tscv.split(X),start=1):\n",
    "#     print(f'''({str(i).zfill(2)}) train : {train_index[0]}-{train_index[-1]} [{len(train_index)}] & test {test_index[0]}-{test_index[-1]} [{len(test_index)}]''')\n",
    "#     X_train, X_test = X.loc[train_index], X.loc[test_index]\n",
    "#     y_train, y_test = y[train_index], y.loc[test_index]"
   ]
  },
  {
   "cell_type": "code",
   "execution_count": 238,
   "id": "9d7bafe1",
   "metadata": {},
   "outputs": [],
   "source": [
    "def TimeSeriesCV(X,y,n_splits=20, gap=0, max_train_size=None, test_size=None, verbose=False):\n",
    "    tscv = TimeSeriesSplit(n_splits=n_splits, gap=gap, max_train_size=max_train_size, test_size=test_size)\n",
    "    for i, (train_index, test_index) in enumerate(tscv.split(X),start=1):\n",
    "        X_train, X_test = X.loc[train_index], X.loc[test_index]\n",
    "        y_train, y_test = y[train_index], y.loc[test_index]\n",
    "        \n",
    "        if verbose:\n",
    "            print(f'''({str(i).zfill(2)}) train : {train_index[0]}-{train_index[-1]} [{len(train_index)}] & test {test_index[0]}-{test_index[-1]} [{len(test_index)}]''')\n",
    "            #print('\\nEVENT RATIO in TRAIN')\n",
    "            #print(y_train.value_counts(normalize=True)*100)\n",
    "            #print('\\nEVENT RATIO in TEST')\n",
    "            #print(y_test.value_counts(normalize=True)*100)\n",
    "            #print('-'*100)\n",
    "            #print()\n",
    "            \n",
    "        yield (X_train,y_train,X_test,y_test)"
   ]
  },
  {
   "cell_type": "code",
   "execution_count": 239,
   "id": "76b39139",
   "metadata": {},
   "outputs": [
    {
     "name": "stdout",
     "output_type": "stream",
     "text": [
      "(01) train : 0-812 [813] & test 813-1624 [812]\n",
      "(02) train : 0-1624 [1625] & test 1625-2436 [812]\n",
      "(03) train : 0-2436 [2437] & test 2437-3248 [812]\n",
      "(04) train : 0-3248 [3249] & test 3249-4060 [812]\n",
      "(05) train : 0-4060 [4061] & test 4061-4872 [812]\n",
      "(06) train : 0-4872 [4873] & test 4873-5684 [812]\n",
      "(07) train : 0-5684 [5685] & test 5685-6496 [812]\n",
      "(08) train : 0-6496 [6497] & test 6497-7308 [812]\n",
      "(09) train : 0-7308 [7309] & test 7309-8120 [812]\n",
      "(10) train : 0-8120 [8121] & test 8121-8932 [812]\n"
     ]
    }
   ],
   "source": [
    "tscv = TimeSeriesCV(X,y,n_splits=10,verbose=True)\n",
    "for xx in tscv:\n",
    "    X_train,y_train,X_test,y_test = xx"
   ]
  },
  {
   "cell_type": "code",
   "execution_count": 240,
   "id": "3ac0039b",
   "metadata": {},
   "outputs": [],
   "source": [
    "tscv = TimeSeriesCV(X,y,n_splits=10,verbose=True)"
   ]
  },
  {
   "cell_type": "code",
   "execution_count": 241,
   "id": "f68efeab",
   "metadata": {},
   "outputs": [
    {
     "name": "stdout",
     "output_type": "stream",
     "text": [
      "(01) train : 0-812 [813] & test 813-1624 [812]\n"
     ]
    },
    {
     "data": {
      "text/html": [
       "<div>\n",
       "<style scoped>\n",
       "    .dataframe tbody tr th:only-of-type {\n",
       "        vertical-align: middle;\n",
       "    }\n",
       "\n",
       "    .dataframe tbody tr th {\n",
       "        vertical-align: top;\n",
       "    }\n",
       "\n",
       "    .dataframe thead th {\n",
       "        text-align: right;\n",
       "    }\n",
       "</style>\n",
       "<table border=\"1\" class=\"dataframe\">\n",
       "  <thead>\n",
       "    <tr style=\"text-align: right;\">\n",
       "      <th></th>\n",
       "      <th>fx_open</th>\n",
       "      <th>fx_high</th>\n",
       "      <th>fx_low</th>\n",
       "      <th>fx_close</th>\n",
       "      <th>fx_volume</th>\n",
       "      <th>fx_close_lag_001</th>\n",
       "      <th>fx_close_lag_002</th>\n",
       "      <th>...</th>\n",
       "      <th>fx_pp</th>\n",
       "      <th>fx_r1</th>\n",
       "      <th>fx_s1</th>\n",
       "      <th>fx_r2</th>\n",
       "      <th>fx_s2</th>\n",
       "      <th>fx_r3</th>\n",
       "      <th>fx_s3</th>\n",
       "    </tr>\n",
       "  </thead>\n",
       "  <tbody>\n",
       "    <tr>\n",
       "      <th>808</th>\n",
       "      <td>1724.520020</td>\n",
       "      <td>1731.310059</td>\n",
       "      <td>1680.000000</td>\n",
       "      <td>1715.469971</td>\n",
       "      <td>304722.968750</td>\n",
       "      <td>1715.469971</td>\n",
       "      <td>1724.520020</td>\n",
       "      <td>...</td>\n",
       "      <td>1708.926758</td>\n",
       "      <td>1737.853516</td>\n",
       "      <td>1686.543457</td>\n",
       "      <td>1760.236816</td>\n",
       "      <td>1657.616699</td>\n",
       "      <td>1789.163574</td>\n",
       "      <td>1635.233398</td>\n",
       "    </tr>\n",
       "    <tr>\n",
       "      <th>809</th>\n",
       "      <td>1715.489990</td>\n",
       "      <td>1739.199951</td>\n",
       "      <td>1692.130005</td>\n",
       "      <td>1729.109985</td>\n",
       "      <td>212477.921875</td>\n",
       "      <td>1729.109985</td>\n",
       "      <td>1715.469971</td>\n",
       "      <td>...</td>\n",
       "      <td>1720.146606</td>\n",
       "      <td>1748.163208</td>\n",
       "      <td>1701.093262</td>\n",
       "      <td>1767.216675</td>\n",
       "      <td>1673.076660</td>\n",
       "      <td>1795.233154</td>\n",
       "      <td>1654.023315</td>\n",
       "    </tr>\n",
       "    <tr>\n",
       "      <th>810</th>\n",
       "      <td>1729.109985</td>\n",
       "      <td>1751.640015</td>\n",
       "      <td>1716.359985</td>\n",
       "      <td>1738.579956</td>\n",
       "      <td>109718.671875</td>\n",
       "      <td>1738.579956</td>\n",
       "      <td>1729.109985</td>\n",
       "      <td>...</td>\n",
       "      <td>1735.526733</td>\n",
       "      <td>1754.693481</td>\n",
       "      <td>1719.413452</td>\n",
       "      <td>1770.806763</td>\n",
       "      <td>1700.246704</td>\n",
       "      <td>1789.973511</td>\n",
       "      <td>1684.133423</td>\n",
       "    </tr>\n",
       "    <tr>\n",
       "      <th>811</th>\n",
       "      <td>1738.520020</td>\n",
       "      <td>1748.000000</td>\n",
       "      <td>1729.069946</td>\n",
       "      <td>1743.739990</td>\n",
       "      <td>71583.257812</td>\n",
       "      <td>1743.739990</td>\n",
       "      <td>1738.579956</td>\n",
       "      <td>...</td>\n",
       "      <td>1740.269897</td>\n",
       "      <td>1751.469849</td>\n",
       "      <td>1732.539795</td>\n",
       "      <td>1759.200073</td>\n",
       "      <td>1721.339844</td>\n",
       "      <td>1770.399902</td>\n",
       "      <td>1713.609741</td>\n",
       "    </tr>\n",
       "    <tr>\n",
       "      <th>812</th>\n",
       "      <td>1743.739990</td>\n",
       "      <td>1749.500000</td>\n",
       "      <td>1721.209961</td>\n",
       "      <td>1744.459961</td>\n",
       "      <td>98746.953125</td>\n",
       "      <td>1744.459961</td>\n",
       "      <td>1743.739990</td>\n",
       "      <td>...</td>\n",
       "      <td>1738.390015</td>\n",
       "      <td>1755.570068</td>\n",
       "      <td>1727.280029</td>\n",
       "      <td>1766.680176</td>\n",
       "      <td>1710.099976</td>\n",
       "      <td>1783.860107</td>\n",
       "      <td>1698.989990</td>\n",
       "    </tr>\n",
       "  </tbody>\n",
       "</table>\n",
       "<p>5 rows × 190 columns</p>\n",
       "</div>"
      ],
      "text/plain": [
       "         fx_open      fx_high       fx_low     fx_close      fx_volume  \\\n",
       "808  1724.520020  1731.310059  1680.000000  1715.469971  304722.968750   \n",
       "809  1715.489990  1739.199951  1692.130005  1729.109985  212477.921875   \n",
       "810  1729.109985  1751.640015  1716.359985  1738.579956  109718.671875   \n",
       "811  1738.520020  1748.000000  1729.069946  1743.739990   71583.257812   \n",
       "812  1743.739990  1749.500000  1721.209961  1744.459961   98746.953125   \n",
       "\n",
       "     fx_close_lag_001  fx_close_lag_002  ...        fx_pp        fx_r1  \\\n",
       "808       1715.469971       1724.520020  ...  1708.926758  1737.853516   \n",
       "809       1729.109985       1715.469971  ...  1720.146606  1748.163208   \n",
       "810       1738.579956       1729.109985  ...  1735.526733  1754.693481   \n",
       "811       1743.739990       1738.579956  ...  1740.269897  1751.469849   \n",
       "812       1744.459961       1743.739990  ...  1738.390015  1755.570068   \n",
       "\n",
       "           fx_s1        fx_r2        fx_s2        fx_r3        fx_s3  \n",
       "808  1686.543457  1760.236816  1657.616699  1789.163574  1635.233398  \n",
       "809  1701.093262  1767.216675  1673.076660  1795.233154  1654.023315  \n",
       "810  1719.413452  1770.806763  1700.246704  1789.973511  1684.133423  \n",
       "811  1732.539795  1759.200073  1721.339844  1770.399902  1713.609741  \n",
       "812  1727.280029  1766.680176  1710.099976  1783.860107  1698.989990  \n",
       "\n",
       "[5 rows x 190 columns]"
      ]
     },
     "execution_count": 241,
     "metadata": {},
     "output_type": "execute_result"
    }
   ],
   "source": [
    "# the tscv object yields n_splits dataset everytime 'next' is used\n",
    "# this will yield as many (n_splits) datasets there are and then it will prompt an error\n",
    "X_train,y_train,X_test,y_test = next(tscv)\n",
    "[len(x) for x in [X_train,y_train,X_test,y_test]]\n",
    "X_train.tail()"
   ]
  },
  {
   "cell_type": "markdown",
   "id": "01250bcc",
   "metadata": {},
   "source": [
    "### sktime SlidingWindowSplitter"
   ]
  },
  {
   "cell_type": "code",
   "execution_count": 246,
   "id": "89c65601",
   "metadata": {},
   "outputs": [
    {
     "name": "stdout",
     "output_type": "stream",
     "text": [
      "Number of Folds = 6\n",
      "(01) train : 0-3499 [3500] & test 3500-3699 [200]\n",
      "(02) train : 1000-4499 [3500] & test 4500-4699 [200]\n",
      "(03) train : 2000-5499 [3500] & test 5500-5699 [200]\n",
      "(04) train : 3000-6499 [3500] & test 6500-6699 [200]\n",
      "(05) train : 4000-7499 [3500] & test 7500-7699 [200]\n",
      "(06) train : 5000-8499 [3500] & test 8500-8699 [200]\n"
     ]
    }
   ],
   "source": [
    "tscv = SlidingWindowSplitter(window_length=3500, fh=list(range(1,(200+1))), step_length=1000)\n",
    "n_splits = tscv.get_n_splits(y)\n",
    "print(f\"Number of Folds = {n_splits}\")\n",
    "\n",
    "for i, (train_index, test_index) in enumerate(tscv.split(X),start=1):\n",
    "    print(f'''({str(i).zfill(2)}) train : {train_index[0]}-{train_index[-1]} [{len(train_index)}] & test {test_index[0]}-{test_index[-1]} [{len(test_index)}]''')\n",
    "    X_train, X_test = X.loc[train_index], X.loc[test_index]\n",
    "    y_train, y_test = y[train_index], y.loc[test_index]"
   ]
  },
  {
   "cell_type": "code",
   "execution_count": 247,
   "id": "dad4ad3f",
   "metadata": {},
   "outputs": [],
   "source": [
    "def SlidingCV(X,y,window_length=1000, fh=list(range(1,(200+1))), step_length=1000, verbose=False):\n",
    "    tscv = SlidingWindowSplitter(window_length=window_length, fh=fh, step_length=step_length)\n",
    "    for i, (train_index, test_index) in enumerate(tscv.split(X),start=1):\n",
    "        X_train, X_test = X.loc[train_index], X.loc[test_index]\n",
    "        y_train, y_test = y[train_index], y.loc[test_index]\n",
    "        \n",
    "        if verbose:\n",
    "            print(f'''({str(i).zfill(2)}) train : {train_index[0]}-{train_index[-1]} [{len(train_index)}] & test {test_index[0]}-{test_index[-1]} [{len(test_index)}]''')\n",
    "            #print('\\nEVENT RATIO in TRAIN')\n",
    "            #print(y_train.value_counts(normalize=True)*100)\n",
    "            #print('\\nEVENT RATIO in TEST')\n",
    "            #print(y_test.value_counts(normalize=True)*100)\n",
    "            #print('-'*100)\n",
    "            #print()\n",
    "            \n",
    "        yield (X_train,y_train,X_test,y_test)"
   ]
  },
  {
   "cell_type": "code",
   "execution_count": 288,
   "id": "6ef6edd4",
   "metadata": {},
   "outputs": [
    {
     "name": "stdout",
     "output_type": "stream",
     "text": [
      "(01) train : 0-3499 [3500] & test 3500-3699 [200]\n",
      "(02) train : 500-3999 [3500] & test 4000-4199 [200]\n",
      "(03) train : 1000-4499 [3500] & test 4500-4699 [200]\n",
      "(04) train : 1500-4999 [3500] & test 5000-5199 [200]\n",
      "(05) train : 2000-5499 [3500] & test 5500-5699 [200]\n",
      "(06) train : 2500-5999 [3500] & test 6000-6199 [200]\n",
      "(07) train : 3000-6499 [3500] & test 6500-6699 [200]\n",
      "(08) train : 3500-6999 [3500] & test 7000-7199 [200]\n",
      "(09) train : 4000-7499 [3500] & test 7500-7699 [200]\n",
      "(10) train : 4500-7999 [3500] & test 8000-8199 [200]\n",
      "(11) train : 5000-8499 [3500] & test 8500-8699 [200]\n"
     ]
    }
   ],
   "source": [
    "tscv = SlidingCV(X,y,window_length=3500, fh=list(range(1,(200+1))), step_length=500, verbose=True)\n",
    "for xx in tscv:\n",
    "    X_train,y_train,X_test,y_test = xx"
   ]
  },
  {
   "cell_type": "markdown",
   "id": "8e7bbf7b",
   "metadata": {},
   "source": [
    "### sktime ExpandingWindowSplitter"
   ]
  },
  {
   "cell_type": "code",
   "execution_count": 249,
   "id": "fd68e590",
   "metadata": {},
   "outputs": [
    {
     "name": "stdout",
     "output_type": "stream",
     "text": [
      "Number of Folds = 9\n",
      "(01) train : 0-9 [10] & test 10-209 [200]\n",
      "(02) train : 0-1009 [1010] & test 1010-1209 [200]\n",
      "(03) train : 0-2009 [2010] & test 2010-2209 [200]\n",
      "(04) train : 0-3009 [3010] & test 3010-3209 [200]\n",
      "(05) train : 0-4009 [4010] & test 4010-4209 [200]\n",
      "(06) train : 0-5009 [5010] & test 5010-5209 [200]\n",
      "(07) train : 0-6009 [6010] & test 6010-6209 [200]\n",
      "(08) train : 0-7009 [7010] & test 7010-7209 [200]\n",
      "(09) train : 0-8009 [8010] & test 8010-8209 [200]\n"
     ]
    }
   ],
   "source": [
    "tscv = ExpandingWindowSplitter(fh=list(range(1,(200+1))), step_length=1000)\n",
    "n_splits = tscv.get_n_splits(y)\n",
    "print(f\"Number of Folds = {n_splits}\")\n",
    "\n",
    "for i, (train_index, test_index) in enumerate(tscv.split(X),start=1):\n",
    "    print(f'''({str(i).zfill(2)}) train : {train_index[0]}-{train_index[-1]} [{len(train_index)}] & test {test_index[0]}-{test_index[-1]} [{len(test_index)}]''')\n",
    "    X_train, X_test = X.loc[train_index], X.loc[test_index]\n",
    "    y_train, y_test = y[train_index], y.loc[test_index]"
   ]
  },
  {
   "cell_type": "code",
   "execution_count": 250,
   "id": "10b07384",
   "metadata": {},
   "outputs": [],
   "source": [
    "def ExpandingCV(X,y,fh=list(range(1,(200+1))), step_length=1000, verbose=False):\n",
    "    tscv = ExpandingWindowSplitter(fh=fh, step_length=step_length)\n",
    "    for i, (train_index, test_index) in enumerate(tscv.split(X),start=1):\n",
    "        X_train, X_test = X.loc[train_index], X.loc[test_index]\n",
    "        y_train, y_test = y[train_index], y.loc[test_index]\n",
    "        \n",
    "        if verbose:\n",
    "            print(f'''({str(i).zfill(2)}) train : {train_index[0]}-{train_index[-1]} [{len(train_index)}] & test {test_index[0]}-{test_index[-1]} [{len(test_index)}]''')\n",
    "            #print('\\nEVENT RATIO in TRAIN')\n",
    "            #print(y_train.value_counts(normalize=True)*100)\n",
    "            #print('\\nEVENT RATIO in TEST')\n",
    "            #print(y_test.value_counts(normalize=True)*100)\n",
    "            #print('-'*100)\n",
    "            #print()\n",
    "            \n",
    "        yield (X_train,y_train,X_test,y_test)"
   ]
  },
  {
   "cell_type": "code",
   "execution_count": 251,
   "id": "755a545d",
   "metadata": {},
   "outputs": [
    {
     "name": "stdout",
     "output_type": "stream",
     "text": [
      "(01) train : 0-9 [10] & test 10-209 [200]\n",
      "(02) train : 0-1009 [1010] & test 1010-1209 [200]\n",
      "(03) train : 0-2009 [2010] & test 2010-2209 [200]\n",
      "(04) train : 0-3009 [3010] & test 3010-3209 [200]\n",
      "(05) train : 0-4009 [4010] & test 4010-4209 [200]\n",
      "(06) train : 0-5009 [5010] & test 5010-5209 [200]\n",
      "(07) train : 0-6009 [6010] & test 6010-6209 [200]\n",
      "(08) train : 0-7009 [7010] & test 7010-7209 [200]\n",
      "(09) train : 0-8009 [8010] & test 8010-8209 [200]\n"
     ]
    }
   ],
   "source": [
    "tscv = ExpandingCV(X,y,verbose=True)\n",
    "for xx in tscv:\n",
    "    X_train,y_train,X_test,y_test = xx"
   ]
  },
  {
   "cell_type": "markdown",
   "id": "de65303a",
   "metadata": {},
   "source": [
    "### Model Training - Single dataset - Resembles Single-Split"
   ]
  },
  {
   "cell_type": "code",
   "execution_count": 252,
   "id": "74144f46",
   "metadata": {},
   "outputs": [],
   "source": [
    "from sklearn.linear_model import LogisticRegression\n",
    "from sklearn.ensemble import RandomForestClassifier\n",
    "from lightgbm import LGBMClassifier\n",
    "from xgboost import XGBClassifier\n",
    "from sklearn.metrics import roc_auc_score, classification_report, confusion_matrix, ConfusionMatrixDisplay, accuracy_score, f1_score"
   ]
  },
  {
   "cell_type": "code",
   "execution_count": 274,
   "id": "cb3ad8ee",
   "metadata": {},
   "outputs": [],
   "source": [
    "# clf = RandomForestClassifier(class_weight='balanced')\n",
    "clf = LGBMClassifier(\n",
    "        class_weight='balanced',\n",
    "        boosting_type='dart',\n",
    "        #colsample_bytree=np.sqrt(X.shape[1])/(X.shape[1]),\n",
    "        n_estimators=1000,\n",
    "        objective='binary'\n",
    "        )"
   ]
  },
  {
   "cell_type": "code",
   "execution_count": 275,
   "id": "81b0dac2",
   "metadata": {},
   "outputs": [
    {
     "data": {
      "text/plain": [
       "[(8010, 190), (8010,)]"
      ]
     },
     "execution_count": 275,
     "metadata": {},
     "output_type": "execute_result"
    }
   ],
   "source": [
    "[x.shape for x in (X_train,y_train)]"
   ]
  },
  {
   "cell_type": "code",
   "execution_count": 276,
   "id": "c379779a",
   "metadata": {},
   "outputs": [
    {
     "data": {
      "text/plain": [
       "LGBMClassifier(boosting_type='dart', class_weight='balanced', n_estimators=1000,\n",
       "               objective='binary')"
      ]
     },
     "execution_count": 276,
     "metadata": {},
     "output_type": "execute_result"
    }
   ],
   "source": [
    "clf.fit(X_train,y_train)"
   ]
  },
  {
   "cell_type": "code",
   "execution_count": 277,
   "id": "a969b970",
   "metadata": {},
   "outputs": [],
   "source": [
    "y_preds = clf.predict(X_keep)\n",
    "y_proba = clf.predict_proba(X_keep)"
   ]
  },
  {
   "cell_type": "code",
   "execution_count": 278,
   "id": "87983f3c",
   "metadata": {},
   "outputs": [
    {
     "data": {
      "text/plain": [
       "0.482811000959386"
      ]
     },
     "execution_count": 278,
     "metadata": {},
     "output_type": "execute_result"
    }
   ],
   "source": [
    "roc_auc_score(y_keep,y_preds)"
   ]
  },
  {
   "cell_type": "code",
   "execution_count": 279,
   "id": "21b9ce2c",
   "metadata": {},
   "outputs": [
    {
     "data": {
      "text/plain": [
       "0.45982142857142855"
      ]
     },
     "execution_count": 279,
     "metadata": {},
     "output_type": "execute_result"
    }
   ],
   "source": [
    "accuracy_score(y_keep,y_preds)"
   ]
  },
  {
   "cell_type": "code",
   "execution_count": 280,
   "id": "295dace1",
   "metadata": {},
   "outputs": [
    {
     "data": {
      "text/plain": [
       "<AxesSubplot:ylabel='features'>"
      ]
     },
     "execution_count": 280,
     "metadata": {},
     "output_type": "execute_result"
    },
    {
     "data": {
      "image/png": "[encoded data removed]",
      "text/plain": [
       "<Figure size 720x360 with 1 Axes>"
      ]
     },
     "metadata": {
      "needs_background": "light"
     },
     "output_type": "display_data"
    }
   ],
   "source": [
    "pd.DataFrame({'features':X_train.columns,'importance':clf.feature_importances_})\\\n",
    "    .set_index('features').sort_values(by=['importance'])\\\n",
    "    .tail(20).plot(kind='barh',figsize = (10,5))"
   ]
  },
  {
   "cell_type": "code",
   "execution_count": 281,
   "id": "4d30ec48",
   "metadata": {},
   "outputs": [
    {
     "data": {
      "image/png": "[encoded data removed]",
      "text/plain": [
       "<Figure size 432x288 with 2 Axes>"
      ]
     },
     "metadata": {
      "needs_background": "light"
     },
     "output_type": "display_data"
    }
   ],
   "source": [
    "cm = confusion_matrix(y_keep,y_preds)\n",
    "disp = ConfusionMatrixDisplay(confusion_matrix=cm,display_labels=clf.classes_)\n",
    "disp.plot()\n",
    "plt.show()"
   ]
  },
  {
   "cell_type": "code",
   "execution_count": 282,
   "id": "aa42a3f1",
   "metadata": {},
   "outputs": [
    {
     "data": {
      "text/html": [
       "<div>\n",
       "<style scoped>\n",
       "    .dataframe tbody tr th:only-of-type {\n",
       "        vertical-align: middle;\n",
       "    }\n",
       "\n",
       "    .dataframe tbody tr th {\n",
       "        vertical-align: top;\n",
       "    }\n",
       "\n",
       "    .dataframe thead th {\n",
       "        text-align: right;\n",
       "    }\n",
       "</style>\n",
       "<table border=\"1\" class=\"dataframe\">\n",
       "  <thead>\n",
       "    <tr style=\"text-align: right;\">\n",
       "      <th>col_0</th>\n",
       "      <th>0</th>\n",
       "      <th>1</th>\n",
       "      <th>All</th>\n",
       "    </tr>\n",
       "    <tr>\n",
       "      <th>target_sign_binary</th>\n",
       "      <th></th>\n",
       "      <th></th>\n",
       "      <th></th>\n",
       "    </tr>\n",
       "  </thead>\n",
       "  <tbody>\n",
       "    <tr>\n",
       "      <th>0</th>\n",
       "      <td>19</td>\n",
       "      <td>335</td>\n",
       "      <td>354</td>\n",
       "    </tr>\n",
       "    <tr>\n",
       "      <th>1</th>\n",
       "      <td>28</td>\n",
       "      <td>290</td>\n",
       "      <td>318</td>\n",
       "    </tr>\n",
       "    <tr>\n",
       "      <th>All</th>\n",
       "      <td>47</td>\n",
       "      <td>625</td>\n",
       "      <td>672</td>\n",
       "    </tr>\n",
       "  </tbody>\n",
       "</table>\n",
       "</div>"
      ],
      "text/plain": [
       "col_0                0    1  All\n",
       "target_sign_binary              \n",
       "0                   19  335  354\n",
       "1                   28  290  318\n",
       "All                 47  625  672"
      ]
     },
     "execution_count": 282,
     "metadata": {},
     "output_type": "execute_result"
    }
   ],
   "source": [
    "pd.crosstab(y_keep,y_preds,margins=True)"
   ]
  },
  {
   "cell_type": "code",
   "execution_count": 283,
   "id": "2899fa52",
   "metadata": {},
   "outputs": [
    {
     "name": "stdout",
     "output_type": "stream",
     "text": [
      "              precision    recall  f1-score   support\n",
      "\n",
      "           0       0.40      0.05      0.09       354\n",
      "           1       0.46      0.91      0.62       318\n",
      "\n",
      "    accuracy                           0.46       672\n",
      "   macro avg       0.43      0.48      0.35       672\n",
      "weighted avg       0.43      0.46      0.34       672\n",
      "\n"
     ]
    }
   ],
   "source": [
    "print(classification_report(y_keep,y_preds))"
   ]
  },
  {
   "cell_type": "markdown",
   "id": "b0689e9a",
   "metadata": {},
   "source": [
    "### Model Training - Across all Folds"
   ]
  },
  {
   "cell_type": "code",
   "execution_count": 289,
   "id": "f64e34d5",
   "metadata": {},
   "outputs": [
    {
     "name": "stdout",
     "output_type": "stream",
     "text": [
      "CPU times: user 4 µs, sys: 1e+03 ns, total: 5 µs\n",
      "Wall time: 12.9 µs\n",
      "(01) train : 0-3499 [3500] & test 3500-3699 [200]\n",
      "Accuracy : 50.30%\n",
      "ROC : 52.73%\n"
     ]
    },
    {
     "data": {
      "image/png": "[encoded data removed]",
      "text/plain": [
       "<Figure size 432x288 with 2 Axes>"
      ]
     },
     "metadata": {
      "needs_background": "light"
     },
     "output_type": "display_data"
    },
    {
     "name": "stdout",
     "output_type": "stream",
     "text": [
      "====================================================================================================\n",
      "(02) train : 500-3999 [3500] & test 4000-4199 [200]\n",
      "Accuracy : 52.98%\n",
      "ROC : 51.83%\n"
     ]
    },
    {
     "data": {
      "image/png": "[encoded data removed]",
      "text/plain": [
       "<Figure size 720x360 with 1 Axes>"
      ]
     },
     "metadata": {
      "needs_background": "light"
     },
     "output_type": "display_data"
    },
    {
     "data": {
      "image/png": "[encoded data removed]",
      "text/plain": [
       "<Figure size 432x288 with 2 Axes>"
      ]
     },
     "metadata": {
      "needs_background": "light"
     },
     "output_type": "display_data"
    },
    {
     "name": "stdout",
     "output_type": "stream",
     "text": [
      "====================================================================================================\n",
      "(03) train : 1000-4499 [3500] & test 4500-4699 [200]\n",
      "Accuracy : 53.42%\n",
      "ROC : 52.50%\n"
     ]
    },
    {
     "data": {
      "image/png": "[encoded data removed]",
      "text/plain": [
       "<Figure size 720x360 with 1 Axes>"
      ]
     },
     "metadata": {
      "needs_background": "light"
     },
     "output_type": "display_data"
    },
    {
     "data": {
      "image/png": "[encoded data removed]",
      "text/plain": [
       "<Figure size 432x288 with 2 Axes>"
      ]
     },
     "metadata": {
      "needs_background": "light"
     },
     "output_type": "display_data"
    },
    {
     "name": "stdout",
     "output_type": "stream",
     "text": [
      "====================================================================================================\n",
      "(04) train : 1500-4999 [3500] & test 5000-5199 [200]\n",
      "Accuracy : 50.45%\n",
      "ROC : 49.37%\n"
     ]
    },
    {
     "data": {
      "image/png": "[encoded data removed]",
      "text/plain": [
       "<Figure size 720x360 with 1 Axes>"
      ]
     },
     "metadata": {
      "needs_background": "light"
     },
     "output_type": "display_data"
    },
    {
     "data": {
      "image/png": "[encoded data removed]",
      "text/plain": [
       "<Figure size 432x288 with 2 Axes>"
      ]
     },
     "metadata": {
      "needs_background": "light"
     },
     "output_type": "display_data"
    },
    {
     "name": "stdout",
     "output_type": "stream",
     "text": [
      "====================================================================================================\n",
      "(05) train : 2000-5499 [3500] & test 5500-5699 [200]\n",
      "Accuracy : 50.00%\n",
      "ROC : 51.58%\n"
     ]
    },
    {
     "data": {
      "image/png": "[encoded data removed]",
      "text/plain": [
       "<Figure size 720x360 with 1 Axes>"
      ]
     },
     "metadata": {
      "needs_background": "light"
     },
     "output_type": "display_data"
    },
    {
     "data": {
      "image/png": "[encoded data removed]",
      "text/plain": [
       "<Figure size 432x288 with 2 Axes>"
      ]
     },
     "metadata": {
      "needs_background": "light"
     },
     "output_type": "display_data"
    },
    {
     "name": "stdout",
     "output_type": "stream",
     "text": [
      "====================================================================================================\n",
      "(06) train : 2500-5999 [3500] & test 6000-6199 [200]\n",
      "Accuracy : 46.43%\n",
      "ROC : 48.96%\n"
     ]
    },
    {
     "data": {
      "image/png": "[encoded data removed]",
      "text/plain": [
       "<Figure size 720x360 with 1 Axes>"
      ]
     },
     "metadata": {
      "needs_background": "light"
     },
     "output_type": "display_data"
    },
    {
     "data": {
      "image/png": "[encoded data removed]",
      "text/plain": [
       "<Figure size 432x288 with 2 Axes>"
      ]
     },
     "metadata": {
      "needs_background": "light"
     },
     "output_type": "display_data"
    },
    {
     "name": "stdout",
     "output_type": "stream",
     "text": [
      "====================================================================================================\n",
      "(07) train : 3000-6499 [3500] & test 6500-6699 [200]\n",
      "Accuracy : 43.30%\n",
      "ROC : 44.97%\n"
     ]
    },
    {
     "data": {
      "image/png": "[encoded data removed]",
      "text/plain": [
       "<Figure size 720x360 with 1 Axes>"
      ]
     },
     "metadata": {
      "needs_background": "light"
     },
     "output_type": "display_data"
    },
    {
     "data": {
      "image/png": "[encoded data removed]",
      "text/plain": [
       "<Figure size 432x288 with 2 Axes>"
      ]
     },
     "metadata": {
      "needs_background": "light"
     },
     "output_type": "display_data"
    },
    {
     "name": "stdout",
     "output_type": "stream",
     "text": [
      "====================================================================================================\n",
      "(08) train : 3500-6999 [3500] & test 7000-7199 [200]\n",
      "Accuracy : 46.88%\n",
      "ROC : 49.32%\n"
     ]
    },
    {
     "data": {
      "image/png": "[encoded data removed]",
      "text/plain": [
       "<Figure size 720x360 with 1 Axes>"
      ]
     },
     "metadata": {
      "needs_background": "light"
     },
     "output_type": "display_data"
    },
    {
     "data": {
      "image/png": "[encoded data removed]",
      "text/plain": [
       "<Figure size 432x288 with 2 Axes>"
      ]
     },
     "metadata": {
      "needs_background": "light"
     },
     "output_type": "display_data"
    },
    {
     "name": "stdout",
     "output_type": "stream",
     "text": [
      "====================================================================================================\n",
      "(09) train : 4000-7499 [3500] & test 7500-7699 [200]\n",
      "Accuracy : 48.96%\n",
      "ROC : 51.17%\n"
     ]
    },
    {
     "data": {
      "image/png": "[encoded data removed]",
      "text/plain": [
       "<Figure size 720x360 with 1 Axes>"
      ]
     },
     "metadata": {
      "needs_background": "light"
     },
     "output_type": "display_data"
    },
    {
     "data": {
      "image/png": "[encoded data removed]",
      "text/plain": [
       "<Figure size 432x288 with 2 Axes>"
      ]
     },
     "metadata": {
      "needs_background": "light"
     },
     "output_type": "display_data"
    },
    {
     "name": "stdout",
     "output_type": "stream",
     "text": [
      "====================================================================================================\n",
      "(10) train : 4500-7999 [3500] & test 8000-8199 [200]\n",
      "Accuracy : 47.32%\n",
      "ROC : 49.95%\n"
     ]
    },
    {
     "data": {
      "image/png": "[encoded data removed]",
      "text/plain": [
       "<Figure size 720x360 with 1 Axes>"
      ]
     },
     "metadata": {
      "needs_background": "light"
     },
     "output_type": "display_data"
    },
    {
     "data": {
      "image/png": "[encoded data removed]",
      "text/plain": [
       "<Figure size 432x288 with 2 Axes>"
      ]
     },
     "metadata": {
      "needs_background": "light"
     },
     "output_type": "display_data"
    },
    {
     "name": "stdout",
     "output_type": "stream",
     "text": [
      "====================================================================================================\n",
      "(11) train : 5000-8499 [3500] & test 8500-8699 [200]\n",
      "Accuracy : 50.60%\n",
      "ROC : 53.08%\n"
     ]
    },
    {
     "data": {
      "image/png": "[encoded data removed]",
      "text/plain": [
       "<Figure size 720x360 with 1 Axes>"
      ]
     },
     "metadata": {
      "needs_background": "light"
     },
     "output_type": "display_data"
    },
    {
     "data": {
      "image/png": "[encoded data removed]",
      "text/plain": [
       "<Figure size 432x288 with 2 Axes>"
      ]
     },
     "metadata": {
      "needs_background": "light"
     },
     "output_type": "display_data"
    },
    {
     "name": "stdout",
     "output_type": "stream",
     "text": [
      "====================================================================================================\n"
     ]
    },
    {
     "data": {
      "image/png": "[encoded data removed]",
      "text/plain": [
       "<Figure size 720x360 with 1 Axes>"
      ]
     },
     "metadata": {
      "needs_background": "light"
     },
     "output_type": "display_data"
    }
   ],
   "source": [
    "%time\n",
    "# tscv = TimeSeriesCV(X,y,n_splits=10,test_size=24*7*4,verbose=True)\n",
    "tscv = SlidingCV(X,y,window_length=3500, fh=list(range(1,(200+1))), step_length=500, verbose=True)\n",
    "\n",
    "for foo in tscv:\n",
    "    \n",
    "    X_train,y_train,X_test,y_test = foo\n",
    "    \n",
    "    #clf = RandomForestClassifier(n_estimators=1000,class_weight='balanced',)\n",
    "    clf = LGBMClassifier(\n",
    "        #class_weight='balanced',\n",
    "        boosting_type='dart',\n",
    "        colsample_bytree=np.sqrt(X.shape[1])/(X.shape[1]),\n",
    "        n_estimators=500,\n",
    "        objective='binary'\n",
    "        )\n",
    "    \n",
    "    clf.fit(X_train,y_train)\n",
    "    y_preds = clf.predict(X_keep)\n",
    "    \n",
    "    print(f'Accuracy : {accuracy_score(y_keep,y_preds):.2%}')\n",
    "    print(f'ROC : {roc_auc_score(y_keep,y_preds):.2%}')\n",
    "    #print(classification_report(y_keep,y_preds))\n",
    "    \n",
    "    cm = confusion_matrix(y_keep,y_preds)\n",
    "    disp = ConfusionMatrixDisplay(confusion_matrix=cm,display_labels=clf.classes_)\n",
    "    disp.plot()\n",
    "    plt.show()\n",
    "    \n",
    "    pd.DataFrame({'features':X_train.columns,'importance':clf.feature_importances_})\\\n",
    "        .set_index('features').sort_values(by=['importance'])\\\n",
    "        .tail(20).plot(kind='barh',figsize = (10,5))\n",
    "\n",
    "    print(100*'=')"
   ]
  }
 ],
 "metadata": {
  "kernelspec": {
   "display_name": "Python 3",
   "language": "python",
   "name": "python3"
  },
  "language_info": {
   "codemirror_mode": {
    "name": "ipython",
    "version": 3
   },
   "file_extension": ".py",
   "mimetype": "text/x-python",
   "name": "python",
   "nbconvert_exporter": "python",
   "pygments_lexer": "ipython3",
   "version": "3.8.8"
  }
 },
 "nbformat": 4,
 "nbformat_minor": 5
}
