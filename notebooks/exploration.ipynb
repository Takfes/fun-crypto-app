{
 "cells": [
  {
   "cell_type": "code",
   "execution_count": 1,
   "metadata": {},
   "outputs": [],
   "source": [
    "import os\n",
    "import numpy as np\n",
    "import pandas as pd\n",
    "pd.set_option('display.max_rows', 50)\n",
    "pd.set_option('display.max_columns', 15)\n",
    "import matplotlib.pyplot as plt\n",
    "import seaborn as sns\n",
    "from pathlib import Path\n",
    "from datetime import datetime\n",
    "%matplotlib inline"
   ]
  },
  {
   "cell_type": "code",
   "execution_count": 2,
   "metadata": {},
   "outputs": [],
   "source": [
    "import talib\n",
    "from ta import add_all_ta_features"
   ]
  },
  {
   "cell_type": "markdown",
   "metadata": {},
   "source": [
    "### Read full database"
   ]
  },
  {
   "cell_type": "code",
   "execution_count": 5,
   "metadata": {},
   "outputs": [],
   "source": [
    "DATA_PATH = r'../data/'\n",
    "FILE_NAME = '20220313_034756_111.pkl'\n",
    "FULL_PATH = Path(DATA_PATH,FILE_NAME)"
   ]
  },
  {
   "cell_type": "code",
   "execution_count": 35,
   "metadata": {},
   "outputs": [
    {
     "name": "stdout",
     "output_type": "stream",
     "text": [
      "CPU times: user 4 µs, sys: 1e+03 ns, total: 5 µs\n",
      "Wall time: 8.82 µs\n"
     ]
    },
    {
     "data": {
      "text/plain": [
       "(5675397, 14)"
      ]
     },
     "execution_count": 35,
     "metadata": {},
     "output_type": "execute_result"
    }
   ],
   "source": [
    "%time\n",
    "raw = pd.read_pickle(FULL_PATH)\n",
    "raw.shape"
   ]
  },
  {
   "cell_type": "code",
   "execution_count": 37,
   "metadata": {},
   "outputs": [
    {
     "data": {
      "text/plain": [
       "symbol                              object\n",
       "openTimets                           int64\n",
       "closeTimets                          int64\n",
       "openTime                    datetime64[ns]\n",
       "closeTime                   datetime64[ns]\n",
       "open                                object\n",
       "high                                object\n",
       "low                                 object\n",
       "close                               object\n",
       "volume                              object\n",
       "numTrades                            int64\n",
       "quoteAssetVolume                    object\n",
       "takerBuyBaseAssetVolume             object\n",
       "takerBuyQuoteAssetVolume            object\n",
       "dtype: object"
      ]
     },
     "execution_count": 37,
     "metadata": {},
     "output_type": "execute_result"
    }
   ],
   "source": [
    "raw.dtypes"
   ]
  },
  {
   "cell_type": "code",
   "execution_count": 38,
   "metadata": {},
   "outputs": [
    {
     "data": {
      "text/plain": [
       "BTCUSDT     87964\n",
       "ETHUSDT     80325\n",
       "BCHUSDT     78208\n",
       "XRPUSDT     76486\n",
       "EOSUSDT     76292\n",
       "            ...  \n",
       "BAKEUSDT    28582\n",
       "BTTUSDT     28339\n",
       "GTCUSDT     26390\n",
       "TLMUSDT     23032\n",
       "KEEPUSDT    22843\n",
       "Name: symbol, Length: 111, dtype: int64"
      ]
     },
     "execution_count": 38,
     "metadata": {},
     "output_type": "execute_result"
    }
   ],
   "source": [
    "raw.symbol.value_counts()"
   ]
  },
  {
   "cell_type": "markdown",
   "metadata": {},
   "source": [
    "### Prepare and subset dataset"
   ]
  },
  {
   "cell_type": "code",
   "execution_count": 265,
   "metadata": {},
   "outputs": [
    {
     "data": {
      "text/plain": [
       "(80325, 14)"
      ]
     },
     "execution_count": 265,
     "metadata": {},
     "output_type": "execute_result"
    }
   ],
   "source": [
    "df = raw.query('symbol==\"ETHUSDT\"')\n",
    "assert df.isnull().sum().sum() == 0\n",
    "df.shape"
   ]
  },
  {
   "cell_type": "code",
   "execution_count": 266,
   "metadata": {},
   "outputs": [
    {
     "data": {
      "text/plain": [
       "symbol                              object\n",
       "openTimets                           int64\n",
       "closeTimets                          int64\n",
       "openTime                    datetime64[ns]\n",
       "closeTime                   datetime64[ns]\n",
       "open                               float32\n",
       "high                               float32\n",
       "low                                float32\n",
       "close                              float32\n",
       "volume                             float32\n",
       "numTrades                            int32\n",
       "quoteAssetVolume                   float32\n",
       "takerBuyBaseAssetVolume            float32\n",
       "takerBuyQuoteAssetVolume           float32\n",
       "dtype: object"
      ]
     },
     "execution_count": 266,
     "metadata": {},
     "output_type": "execute_result"
    }
   ],
   "source": [
    "# create datatypes dictionary\n",
    "datatypes = {k:'float32' if k!='numTrades' else 'int32' for k in df.loc[:,'open':].columns}\n",
    "# assign datatypes\n",
    "df = df.astype(datatypes)\n",
    "assert df.isnull().sum().sum() == 0\n",
    "df.dtypes"
   ]
  },
  {
   "cell_type": "code",
   "execution_count": 268,
   "metadata": {},
   "outputs": [],
   "source": [
    "df.to_pickle('../data/eth.pkl')"
   ]
  },
  {
   "cell_type": "markdown",
   "metadata": {},
   "source": [
    "### Read dataset from disk"
   ]
  },
  {
   "cell_type": "code",
   "execution_count": 3,
   "metadata": {},
   "outputs": [],
   "source": [
    "raw = pd.read_pickle('../data/eth.pkl')"
   ]
  },
  {
   "cell_type": "markdown",
   "metadata": {},
   "source": [
    "### Group on desired frequency"
   ]
  },
  {
   "cell_type": "code",
   "execution_count": 492,
   "metadata": {},
   "outputs": [
    {
     "data": {
      "text/html": [
       "<div>\n",
       "<style scoped>\n",
       "    .dataframe tbody tr th:only-of-type {\n",
       "        vertical-align: middle;\n",
       "    }\n",
       "\n",
       "    .dataframe tbody tr th {\n",
       "        vertical-align: top;\n",
       "    }\n",
       "\n",
       "    .dataframe thead th {\n",
       "        text-align: right;\n",
       "    }\n",
       "</style>\n",
       "<table border=\"1\" class=\"dataframe\">\n",
       "  <thead>\n",
       "    <tr style=\"text-align: right;\">\n",
       "      <th></th>\n",
       "      <th>opentime</th>\n",
       "      <th>closetime</th>\n",
       "      <th>open</th>\n",
       "      <th>high</th>\n",
       "      <th>low</th>\n",
       "      <th>close</th>\n",
       "      <th>volume</th>\n",
       "      <th>numtrade</th>\n",
       "    </tr>\n",
       "  </thead>\n",
       "  <tbody>\n",
       "    <tr>\n",
       "      <th>20076</th>\n",
       "      <td>2022-03-12 20:00:00</td>\n",
       "      <td>2022-03-12 20:59:00</td>\n",
       "      <td>2576.760010</td>\n",
       "      <td>2591.659912</td>\n",
       "      <td>2573.870117</td>\n",
       "      <td>2586.800049</td>\n",
       "      <td>25150.187500</td>\n",
       "      <td>35923</td>\n",
       "    </tr>\n",
       "    <tr>\n",
       "      <th>20077</th>\n",
       "      <td>2022-03-12 21:00:00</td>\n",
       "      <td>2022-03-12 21:59:00</td>\n",
       "      <td>2586.800049</td>\n",
       "      <td>2591.719971</td>\n",
       "      <td>2583.060059</td>\n",
       "      <td>2585.649902</td>\n",
       "      <td>13017.638672</td>\n",
       "      <td>24267</td>\n",
       "    </tr>\n",
       "    <tr>\n",
       "      <th>20078</th>\n",
       "      <td>2022-03-12 22:00:00</td>\n",
       "      <td>2022-03-12 22:59:00</td>\n",
       "      <td>2585.649902</td>\n",
       "      <td>2591.379883</td>\n",
       "      <td>2583.260010</td>\n",
       "      <td>2585.830078</td>\n",
       "      <td>10603.583008</td>\n",
       "      <td>26367</td>\n",
       "    </tr>\n",
       "    <tr>\n",
       "      <th>20079</th>\n",
       "      <td>2022-03-12 23:00:00</td>\n",
       "      <td>2022-03-12 23:59:00</td>\n",
       "      <td>2585.840088</td>\n",
       "      <td>2590.199951</td>\n",
       "      <td>2560.000000</td>\n",
       "      <td>2567.639893</td>\n",
       "      <td>35792.011719</td>\n",
       "      <td>49081</td>\n",
       "    </tr>\n",
       "    <tr>\n",
       "      <th>20080</th>\n",
       "      <td>2022-03-13 00:00:00</td>\n",
       "      <td>2022-03-13 00:59:00</td>\n",
       "      <td>2567.629883</td>\n",
       "      <td>2573.780029</td>\n",
       "      <td>2555.810059</td>\n",
       "      <td>2565.979980</td>\n",
       "      <td>41614.472656</td>\n",
       "      <td>50466</td>\n",
       "    </tr>\n",
       "  </tbody>\n",
       "</table>\n",
       "</div>"
      ],
      "text/plain": [
       "                 opentime           closetime         open         high  \\\n",
       "20076 2022-03-12 20:00:00 2022-03-12 20:59:00  2576.760010  2591.659912   \n",
       "20077 2022-03-12 21:00:00 2022-03-12 21:59:00  2586.800049  2591.719971   \n",
       "20078 2022-03-12 22:00:00 2022-03-12 22:59:00  2585.649902  2591.379883   \n",
       "20079 2022-03-12 23:00:00 2022-03-12 23:59:00  2585.840088  2590.199951   \n",
       "20080 2022-03-13 00:00:00 2022-03-13 00:59:00  2567.629883  2573.780029   \n",
       "\n",
       "               low        close        volume  numtrade  \n",
       "20076  2573.870117  2586.800049  25150.187500     35923  \n",
       "20077  2583.060059  2585.649902  13017.638672     24267  \n",
       "20078  2583.260010  2585.830078  10603.583008     26367  \n",
       "20079  2560.000000  2567.639893  35792.011719     49081  \n",
       "20080  2555.810059  2565.979980  41614.472656     50466  "
      ]
     },
     "execution_count": 492,
     "metadata": {},
     "output_type": "execute_result"
    }
   ],
   "source": [
    "df = \\\n",
    "    raw.groupby(pd.Grouper(key=\"openTime\", freq=\"1H\"))\\\n",
    "    .agg(\n",
    "        cnt=pd.NamedAgg(column=\"symbol\", aggfunc=\"size\"),\n",
    "        opentime=pd.NamedAgg(column=\"openTime\", aggfunc=\"min\"),\n",
    "        closetime=pd.NamedAgg(column=\"openTime\", aggfunc=\"min\"),\n",
    "        open=pd.NamedAgg(column=\"open\", aggfunc=\"first\"),\n",
    "        high=pd.NamedAgg(column=\"high\", aggfunc=\"max\"),\n",
    "        low=pd.NamedAgg(column=\"low\", aggfunc=\"min\"),\n",
    "        close=pd.NamedAgg(column=\"close\", aggfunc=\"last\"),\n",
    "        volume=pd.NamedAgg(column=\"volume\", aggfunc=\"sum\"),\n",
    "        numtrade=pd.NamedAgg(column=\"numTrades\", aggfunc=\"sum\"),\n",
    "    )\\\n",
    "    .query('cnt >= 4')\\\n",
    "    .drop('cnt',axis=1)\\\n",
    "    .assign(closetime = lambda x : x.closetime + pd.Timedelta(minutes=59))\\\n",
    "    .reset_index(drop=True)\n",
    "\n",
    "# alternative way to resample and regroup data\n",
    "# df = raw.resample('30min',on='opentime').agg({'close':'last','high':'max'}).tail(10)\n",
    "df.tail()"
   ]
  },
  {
   "cell_type": "markdown",
   "metadata": {},
   "source": [
    "### Inspect Time Series"
   ]
  },
  {
   "cell_type": "code",
   "execution_count": 493,
   "metadata": {},
   "outputs": [
    {
     "name": "stdout",
     "output_type": "stream",
     "text": [
      "count                  20081\n",
      "mean     2021-01-18 16:00:00\n",
      "min      2019-11-27 08:00:00\n",
      "25%      2020-06-23 12:00:00\n",
      "50%      2021-01-18 16:00:00\n",
      "75%      2021-08-15 20:00:00\n",
      "max      2022-03-13 00:00:00\n",
      "Name: opentime, dtype: object\n",
      "AxesSubplot(0.125,0.125;0.775x0.755)\n"
     ]
    },
    {
     "data": {
      "image/png": "[encoded data removed]",
      "text/plain": [
       "<Figure size 432x288 with 1 Axes>"
      ]
     },
     "metadata": {
      "needs_background": "light"
     },
     "output_type": "display_data"
    }
   ],
   "source": [
    "print(df.opentime.describe(datetime_is_numeric=True))\n",
    "# print(df.close.plot())\n",
    "print(df.query('opentime >= 2021').close.plot())"
   ]
  },
  {
   "cell_type": "code",
   "execution_count": 494,
   "metadata": {},
   "outputs": [
    {
     "data": {
      "text/plain": [
       "(10465, 8)"
      ]
     },
     "execution_count": 494,
     "metadata": {},
     "output_type": "execute_result"
    }
   ],
   "source": [
    "df = df.query('opentime >= 2021').copy()\n",
    "df.shape"
   ]
  },
  {
   "cell_type": "markdown",
   "metadata": {},
   "source": [
    "### Decompose Time Series"
   ]
  },
  {
   "cell_type": "code",
   "execution_count": 495,
   "metadata": {},
   "outputs": [],
   "source": [
    "# from statsmodels.graphics.tsaplots import plot_acf, plot_pacf, acf, pacf\n",
    "# from statsmodels.tsa.seasonal import seasonal_decompose\n",
    "# # from statsmodels.tsa.seasonal import MSTL\n",
    "# print(plot_acf(df.close))\n",
    "# print(plot_pacf(df.close))\n",
    "# # stl_kwargs = {\"seasonal_deg\": 0} \n",
    "# # model = MSTL(df.close, periods=(24, 24 * 7), stl_kwargs=stl_kwargs)\n",
    "# # res = model.fit()\n",
    "# # res.plot()"
   ]
  },
  {
   "cell_type": "markdown",
   "metadata": {},
   "source": [
    "### Create Features to Avoid Leakage\n",
    "> __close -> fx_close = close.shift(1)__"
   ]
  },
  {
   "cell_type": "code",
   "execution_count": 496,
   "metadata": {},
   "outputs": [],
   "source": [
    "options_antileakage_feats = ['open','high','low','close','volume']\n",
    "for ff in options_antileakage_feats:\n",
    "    df[f'fx_{ff}'] = df[ff].shift(ll)"
   ]
  },
  {
   "cell_type": "code",
   "execution_count": 497,
   "metadata": {},
   "outputs": [
    {
     "data": {
      "text/plain": [
       "Index(['opentime', 'closetime', 'open', 'high', 'low', 'close', 'volume',\n",
       "       'numtrade', 'fx_open', 'fx_high', 'fx_low', 'fx_close', 'fx_volume'],\n",
       "      dtype='object')"
      ]
     },
     "execution_count": 497,
     "metadata": {},
     "output_type": "execute_result"
    }
   ],
   "source": [
    "df.columns"
   ]
  },
  {
   "cell_type": "markdown",
   "metadata": {},
   "source": [
    "### Create Lag Features"
   ]
  },
  {
   "cell_type": "code",
   "execution_count": 498,
   "metadata": {},
   "outputs": [],
   "source": [
    "options_lags_feats = ['close','volume']\n",
    "options_lags = [1,2,3,24,48]\n",
    "for ff in options_lags_feats:\n",
    "    for ll in options_lags:\n",
    "        df[f'fx_{ff}_lag_{str(ll).zfill(3)}'] = df[ff].shift(ll)"
   ]
  },
  {
   "cell_type": "code",
   "execution_count": 499,
   "metadata": {},
   "outputs": [
    {
     "data": {
      "text/plain": [
       "Index(['opentime', 'closetime', 'open', 'high', 'low', 'close', 'volume',\n",
       "       'numtrade', 'fx_open', 'fx_high', 'fx_low', 'fx_close', 'fx_volume',\n",
       "       'fx_close_lag_001', 'fx_close_lag_002', 'fx_close_lag_003',\n",
       "       'fx_close_lag_024', 'fx_close_lag_048', 'fx_volume_lag_001',\n",
       "       'fx_volume_lag_002', 'fx_volume_lag_003', 'fx_volume_lag_024',\n",
       "       'fx_volume_lag_048'],\n",
       "      dtype='object')"
      ]
     },
     "execution_count": 499,
     "metadata": {},
     "output_type": "execute_result"
    }
   ],
   "source": [
    "df.columns"
   ]
  },
  {
   "cell_type": "code",
   "execution_count": 500,
   "metadata": {},
   "outputs": [
    {
     "data": {
      "text/plain": [
       "(10465, 23)"
      ]
     },
     "execution_count": 500,
     "metadata": {},
     "output_type": "execute_result"
    }
   ],
   "source": [
    "df.shape"
   ]
  },
  {
   "cell_type": "markdown",
   "metadata": {},
   "source": [
    "### Create Diff Features"
   ]
  },
  {
   "cell_type": "code",
   "execution_count": 501,
   "metadata": {},
   "outputs": [],
   "source": [
    "options_diffs_feats = ['fx_close','fx_volume']\n",
    "options_diffs = [1,2,3,24,48]\n",
    "for ff in options_diffs_feats:\n",
    "    for ll in options_diffs:\n",
    "        df[f'{ff}_diff_{str(ll).zfill(3)}'] = df[ff].diff(ll)"
   ]
  },
  {
   "cell_type": "code",
   "execution_count": 502,
   "metadata": {},
   "outputs": [
    {
     "data": {
      "text/plain": [
       "Index(['opentime', 'closetime', 'open', 'high', 'low', 'close', 'volume',\n",
       "       'numtrade', 'fx_open', 'fx_high', 'fx_low', 'fx_close', 'fx_volume',\n",
       "       'fx_close_lag_001', 'fx_close_lag_002', 'fx_close_lag_003',\n",
       "       'fx_close_lag_024', 'fx_close_lag_048', 'fx_volume_lag_001',\n",
       "       'fx_volume_lag_002', 'fx_volume_lag_003', 'fx_volume_lag_024',\n",
       "       'fx_volume_lag_048', 'fx_close_diff_001', 'fx_close_diff_002',\n",
       "       'fx_close_diff_003', 'fx_close_diff_024', 'fx_close_diff_048',\n",
       "       'fx_volume_diff_001', 'fx_volume_diff_002', 'fx_volume_diff_003',\n",
       "       'fx_volume_diff_024', 'fx_volume_diff_048'],\n",
       "      dtype='object')"
      ]
     },
     "execution_count": 502,
     "metadata": {},
     "output_type": "execute_result"
    }
   ],
   "source": [
    "df.columns"
   ]
  },
  {
   "cell_type": "code",
   "execution_count": 503,
   "metadata": {},
   "outputs": [
    {
     "data": {
      "text/plain": [
       "(10465, 33)"
      ]
     },
     "execution_count": 503,
     "metadata": {},
     "output_type": "execute_result"
    }
   ],
   "source": [
    "df.shape"
   ]
  },
  {
   "cell_type": "markdown",
   "metadata": {},
   "source": [
    "### Create Rolling Features"
   ]
  },
  {
   "cell_type": "code",
   "execution_count": 504,
   "metadata": {},
   "outputs": [],
   "source": [
    "options_wndf_feats = ['fx_close','fx_volume']\n",
    "options_wndf = [24,24*7]\n",
    "for ff in options_wndf_feats:\n",
    "    for ll in options_wndf:\n",
    "        df[f'{ff}_min_{str(ll).zfill(3)}'] = df[ff].rolling(ll).min()\n",
    "        df[f'{ff}_max_{str(ll).zfill(3)}'] = df[ff].rolling(ll).max()\n",
    "        df[f'{ff}_std_{str(ll).zfill(3)}'] = df[ff].rolling(ll).std()"
   ]
  },
  {
   "cell_type": "code",
   "execution_count": 505,
   "metadata": {},
   "outputs": [
    {
     "data": {
      "text/plain": [
       "Index(['opentime', 'closetime', 'open', 'high', 'low', 'close', 'volume',\n",
       "       'numtrade', 'fx_open', 'fx_high', 'fx_low', 'fx_close', 'fx_volume',\n",
       "       'fx_close_lag_001', 'fx_close_lag_002', 'fx_close_lag_003',\n",
       "       'fx_close_lag_024', 'fx_close_lag_048', 'fx_volume_lag_001',\n",
       "       'fx_volume_lag_002', 'fx_volume_lag_003', 'fx_volume_lag_024',\n",
       "       'fx_volume_lag_048', 'fx_close_diff_001', 'fx_close_diff_002',\n",
       "       'fx_close_diff_003', 'fx_close_diff_024', 'fx_close_diff_048',\n",
       "       'fx_volume_diff_001', 'fx_volume_diff_002', 'fx_volume_diff_003',\n",
       "       'fx_volume_diff_024', 'fx_volume_diff_048', 'fx_close_min_024',\n",
       "       'fx_close_max_024', 'fx_close_std_024', 'fx_close_min_168',\n",
       "       'fx_close_max_168', 'fx_close_std_168', 'fx_volume_min_024',\n",
       "       'fx_volume_max_024', 'fx_volume_std_024', 'fx_volume_min_168',\n",
       "       'fx_volume_max_168', 'fx_volume_std_168'],\n",
       "      dtype='object')"
      ]
     },
     "execution_count": 505,
     "metadata": {},
     "output_type": "execute_result"
    }
   ],
   "source": [
    "df.columns"
   ]
  },
  {
   "cell_type": "code",
   "execution_count": 506,
   "metadata": {},
   "outputs": [
    {
     "data": {
      "text/plain": [
       "(10465, 45)"
      ]
     },
     "execution_count": 506,
     "metadata": {},
     "output_type": "execute_result"
    }
   ],
   "source": [
    "df.shape"
   ]
  },
  {
   "cell_type": "markdown",
   "metadata": {},
   "source": [
    "### Create TA Features - Manually"
   ]
  },
  {
   "cell_type": "code",
   "execution_count": 507,
   "metadata": {},
   "outputs": [],
   "source": [
    "# df = \\\n",
    "#     df.assign(\n",
    "#         fx_sma_fast = lambda x : talib.SMA(x.close.shift(1),8),\n",
    "#         fx_sma_slow = lambda x : x.close.shift(1).rolling(24).mean(),\n",
    "#         fx_ema_fast = lambda x : talib.EMA(x.close.shift(1),8),\n",
    "#         fx_ema_slow = lambda x : talib.EMA(x.close.shift(1),24),\n",
    "#         fx_atr = lambda x : talib.ATR(x.high.shift(1),x.low.shift(1),x.close.shift(1),12),\n",
    "#         fx_adx = lambda x : talib.ADX(x.high.shift(1),x.low.shift(1),x.close.shift(1),20),\n",
    "#         fx_rsi = lambda x : talib.RSI(x.close.shift(1),12),\n",
    "#         fx_bb_upper = lambda x : talib.BBANDS(x.close.shift(1))[0],\n",
    "#         fx_bb_middle = lambda x : talib.BBANDS(x.close.shift(1))[1],\n",
    "#         fx_bb_lower = lambda x : talib.BBANDS(x.close.shift(1))[2],\n",
    "#     ).assign(\n",
    "#         fx_sma_fast_slow_frc = lambda x : (x.fx_sma_fast/x.fx_sma_slow)\n",
    "#     )\n",
    "#\n",
    "# df.tail(2)\n",
    "# df.columns\n",
    "# df.shape"
   ]
  },
  {
   "cell_type": "markdown",
   "metadata": {},
   "source": [
    "### Create TA Features - Automatically"
   ]
  },
  {
   "cell_type": "code",
   "execution_count": 508,
   "metadata": {},
   "outputs": [
    {
     "name": "stderr",
     "output_type": "stream",
     "text": [
      "C:\\Users\\Takis\\anaconda3\\lib\\site-packages\\ta\\trend.py:768: RuntimeWarning: invalid value encountered in double_scalars\n",
      "  dip[i] = 100 * (self._dip[i] / self._trs[i])\n",
      "C:\\Users\\Takis\\anaconda3\\lib\\site-packages\\ta\\trend.py:772: RuntimeWarning: invalid value encountered in double_scalars\n",
      "  din[i] = 100 * (self._din[i] / self._trs[i])\n",
      "C:\\Users\\Takis\\anaconda3\\lib\\site-packages\\ta\\wrapper.py:364: PerformanceWarning: DataFrame is highly fragmented.  This is usually the result of calling `frame.insert` many times, which has poor performance.  Consider joining all columns at once using pd.concat(axis=1) instead.  To get a de-fragmented frame, use `newframe = frame.copy()`\n",
      "  df[f\"{colprefix}trend_psar_up\"] = indicator_psar.psar_up()\n",
      "C:\\Users\\Takis\\anaconda3\\lib\\site-packages\\ta\\wrapper.py:365: PerformanceWarning: DataFrame is highly fragmented.  This is usually the result of calling `frame.insert` many times, which has poor performance.  Consider joining all columns at once using pd.concat(axis=1) instead.  To get a de-fragmented frame, use `newframe = frame.copy()`\n",
      "  df[f\"{colprefix}trend_psar_down\"] = indicator_psar.psar_down()\n",
      "C:\\Users\\Takis\\anaconda3\\lib\\site-packages\\ta\\wrapper.py:366: PerformanceWarning: DataFrame is highly fragmented.  This is usually the result of calling `frame.insert` many times, which has poor performance.  Consider joining all columns at once using pd.concat(axis=1) instead.  To get a de-fragmented frame, use `newframe = frame.copy()`\n",
      "  df[f\"{colprefix}trend_psar_up_indicator\"] = indicator_psar.psar_up_indicator()\n",
      "C:\\Users\\Takis\\anaconda3\\lib\\site-packages\\ta\\wrapper.py:367: PerformanceWarning: DataFrame is highly fragmented.  This is usually the result of calling `frame.insert` many times, which has poor performance.  Consider joining all columns at once using pd.concat(axis=1) instead.  To get a de-fragmented frame, use `newframe = frame.copy()`\n",
      "  df[f\"{colprefix}trend_psar_down_indicator\"] = indicator_psar.psar_down_indicator()\n",
      "C:\\Users\\Takis\\anaconda3\\lib\\site-packages\\ta\\wrapper.py:370: PerformanceWarning: DataFrame is highly fragmented.  This is usually the result of calling `frame.insert` many times, which has poor performance.  Consider joining all columns at once using pd.concat(axis=1) instead.  To get a de-fragmented frame, use `newframe = frame.copy()`\n",
      "  df[f\"{colprefix}trend_stc\"] = STCIndicator(\n",
      "C:\\Users\\Takis\\anaconda3\\lib\\site-packages\\ta\\wrapper.py:408: PerformanceWarning: DataFrame is highly fragmented.  This is usually the result of calling `frame.insert` many times, which has poor performance.  Consider joining all columns at once using pd.concat(axis=1) instead.  To get a de-fragmented frame, use `newframe = frame.copy()`\n",
      "  df[f\"{colprefix}momentum_rsi\"] = RSIIndicator(\n",
      "C:\\Users\\Takis\\anaconda3\\lib\\site-packages\\ta\\wrapper.py:416: PerformanceWarning: DataFrame is highly fragmented.  This is usually the result of calling `frame.insert` many times, which has poor performance.  Consider joining all columns at once using pd.concat(axis=1) instead.  To get a de-fragmented frame, use `newframe = frame.copy()`\n",
      "  df[f\"{colprefix}momentum_stoch_rsi\"] = indicator_srsi.stochrsi()\n",
      "C:\\Users\\Takis\\anaconda3\\lib\\site-packages\\ta\\wrapper.py:417: PerformanceWarning: DataFrame is highly fragmented.  This is usually the result of calling `frame.insert` many times, which has poor performance.  Consider joining all columns at once using pd.concat(axis=1) instead.  To get a de-fragmented frame, use `newframe = frame.copy()`\n",
      "  df[f\"{colprefix}momentum_stoch_rsi_k\"] = indicator_srsi.stochrsi_k()\n",
      "C:\\Users\\Takis\\anaconda3\\lib\\site-packages\\ta\\wrapper.py:418: PerformanceWarning: DataFrame is highly fragmented.  This is usually the result of calling `frame.insert` many times, which has poor performance.  Consider joining all columns at once using pd.concat(axis=1) instead.  To get a de-fragmented frame, use `newframe = frame.copy()`\n",
      "  df[f\"{colprefix}momentum_stoch_rsi_d\"] = indicator_srsi.stochrsi_d()\n",
      "C:\\Users\\Takis\\anaconda3\\lib\\site-packages\\ta\\wrapper.py:421: PerformanceWarning: DataFrame is highly fragmented.  This is usually the result of calling `frame.insert` many times, which has poor performance.  Consider joining all columns at once using pd.concat(axis=1) instead.  To get a de-fragmented frame, use `newframe = frame.copy()`\n",
      "  df[f\"{colprefix}momentum_tsi\"] = TSIIndicator(\n",
      "C:\\Users\\Takis\\anaconda3\\lib\\site-packages\\ta\\wrapper.py:426: PerformanceWarning: DataFrame is highly fragmented.  This is usually the result of calling `frame.insert` many times, which has poor performance.  Consider joining all columns at once using pd.concat(axis=1) instead.  To get a de-fragmented frame, use `newframe = frame.copy()`\n",
      "  df[f\"{colprefix}momentum_uo\"] = UltimateOscillator(\n",
      "C:\\Users\\Takis\\anaconda3\\lib\\site-packages\\ta\\wrapper.py:448: PerformanceWarning: DataFrame is highly fragmented.  This is usually the result of calling `frame.insert` many times, which has poor performance.  Consider joining all columns at once using pd.concat(axis=1) instead.  To get a de-fragmented frame, use `newframe = frame.copy()`\n",
      "  df[f\"{colprefix}momentum_stoch\"] = indicator_so.stoch()\n",
      "C:\\Users\\Takis\\anaconda3\\lib\\site-packages\\ta\\wrapper.py:449: PerformanceWarning: DataFrame is highly fragmented.  This is usually the result of calling `frame.insert` many times, which has poor performance.  Consider joining all columns at once using pd.concat(axis=1) instead.  To get a de-fragmented frame, use `newframe = frame.copy()`\n",
      "  df[f\"{colprefix}momentum_stoch_signal\"] = indicator_so.stoch_signal()\n",
      "C:\\Users\\Takis\\anaconda3\\lib\\site-packages\\ta\\wrapper.py:452: PerformanceWarning: DataFrame is highly fragmented.  This is usually the result of calling `frame.insert` many times, which has poor performance.  Consider joining all columns at once using pd.concat(axis=1) instead.  To get a de-fragmented frame, use `newframe = frame.copy()`\n",
      "  df[f\"{colprefix}momentum_wr\"] = WilliamsRIndicator(\n",
      "C:\\Users\\Takis\\anaconda3\\lib\\site-packages\\ta\\wrapper.py:457: PerformanceWarning: DataFrame is highly fragmented.  This is usually the result of calling `frame.insert` many times, which has poor performance.  Consider joining all columns at once using pd.concat(axis=1) instead.  To get a de-fragmented frame, use `newframe = frame.copy()`\n",
      "  df[f\"{colprefix}momentum_ao\"] = AwesomeOscillatorIndicator(\n",
      "C:\\Users\\Takis\\anaconda3\\lib\\site-packages\\ta\\wrapper.py:462: PerformanceWarning: DataFrame is highly fragmented.  This is usually the result of calling `frame.insert` many times, which has poor performance.  Consider joining all columns at once using pd.concat(axis=1) instead.  To get a de-fragmented frame, use `newframe = frame.copy()`\n",
      "  df[f\"{colprefix}momentum_kama\"] = KAMAIndicator(\n",
      "C:\\Users\\Takis\\anaconda3\\lib\\site-packages\\ta\\wrapper.py:467: PerformanceWarning: DataFrame is highly fragmented.  This is usually the result of calling `frame.insert` many times, which has poor performance.  Consider joining all columns at once using pd.concat(axis=1) instead.  To get a de-fragmented frame, use `newframe = frame.copy()`\n",
      "  df[f\"{colprefix}momentum_roc\"] = ROCIndicator(\n",
      "C:\\Users\\Takis\\anaconda3\\lib\\site-packages\\ta\\wrapper.py:475: PerformanceWarning: DataFrame is highly fragmented.  This is usually the result of calling `frame.insert` many times, which has poor performance.  Consider joining all columns at once using pd.concat(axis=1) instead.  To get a de-fragmented frame, use `newframe = frame.copy()`\n",
      "  df[f\"{colprefix}momentum_ppo\"] = indicator_ppo.ppo()\n",
      "C:\\Users\\Takis\\anaconda3\\lib\\site-packages\\ta\\wrapper.py:476: PerformanceWarning: DataFrame is highly fragmented.  This is usually the result of calling `frame.insert` many times, which has poor performance.  Consider joining all columns at once using pd.concat(axis=1) instead.  To get a de-fragmented frame, use `newframe = frame.copy()`\n",
      "  df[f\"{colprefix}momentum_ppo_signal\"] = indicator_ppo.ppo_signal()\n",
      "C:\\Users\\Takis\\anaconda3\\lib\\site-packages\\ta\\wrapper.py:477: PerformanceWarning: DataFrame is highly fragmented.  This is usually the result of calling `frame.insert` many times, which has poor performance.  Consider joining all columns at once using pd.concat(axis=1) instead.  To get a de-fragmented frame, use `newframe = frame.copy()`\n",
      "  df[f\"{colprefix}momentum_ppo_hist\"] = indicator_ppo.ppo_hist()\n",
      "C:\\Users\\Takis\\anaconda3\\lib\\site-packages\\ta\\wrapper.py:505: PerformanceWarning: DataFrame is highly fragmented.  This is usually the result of calling `frame.insert` many times, which has poor performance.  Consider joining all columns at once using pd.concat(axis=1) instead.  To get a de-fragmented frame, use `newframe = frame.copy()`\n",
      "  df[f\"{colprefix}others_dr\"] = DailyReturnIndicator(\n",
      "C:\\Users\\Takis\\anaconda3\\lib\\site-packages\\ta\\wrapper.py:510: PerformanceWarning: DataFrame is highly fragmented.  This is usually the result of calling `frame.insert` many times, which has poor performance.  Consider joining all columns at once using pd.concat(axis=1) instead.  To get a de-fragmented frame, use `newframe = frame.copy()`\n",
      "  df[f\"{colprefix}others_dlr\"] = DailyLogReturnIndicator(\n",
      "C:\\Users\\Takis\\anaconda3\\lib\\site-packages\\ta\\wrapper.py:515: PerformanceWarning: DataFrame is highly fragmented.  This is usually the result of calling `frame.insert` many times, which has poor performance.  Consider joining all columns at once using pd.concat(axis=1) instead.  To get a de-fragmented frame, use `newframe = frame.copy()`\n",
      "  df[f\"{colprefix}others_cr\"] = CumulativeReturnIndicator(\n"
     ]
    },
    {
     "data": {
      "text/plain": [
       "Index(['opentime', 'closetime', 'open', 'high', 'low', 'close', 'volume',\n",
       "       'numtrade', 'fx_open', 'fx_high',\n",
       "       ...\n",
       "       'momentum_wr', 'momentum_ao', 'momentum_kama', 'momentum_roc',\n",
       "       'momentum_ppo', 'momentum_ppo_signal', 'momentum_ppo_hist', 'others_dr',\n",
       "       'others_dlr', 'others_cr'],\n",
       "      dtype='object', length=128)"
      ]
     },
     "execution_count": 508,
     "metadata": {},
     "output_type": "execute_result"
    }
   ],
   "source": [
    "df = add_all_ta_features(\n",
    "    df, \n",
    "    open='fx_open', \n",
    "    high='fx_high', \n",
    "    low='fx_low', \n",
    "    close='fx_close', \n",
    "    volume='fx_volume', \n",
    "    fillna=True)\n",
    "df.columns"
   ]
  },
  {
   "cell_type": "code",
   "execution_count": 513,
   "metadata": {},
   "outputs": [],
   "source": [
    "df = \\\n",
    "    df.assign(\n",
    "        sma_fast_slow_frc = lambda x : (x.trend_sma_fast/x.trend_sma_slow),\n",
    "        ema_fast_slow_frc = lambda x : (x.trend_ema_fast/x.trend_ema_slow)\n",
    "    )"
   ]
  },
  {
   "cell_type": "markdown",
   "metadata": {},
   "source": [
    "### Enable Pattern Recognition Features"
   ]
  },
  {
   "cell_type": "code",
   "execution_count": 514,
   "metadata": {},
   "outputs": [
    {
     "data": {
      "text/plain": [
       "dict_keys(['Cycle Indicators', 'Math Operators', 'Math Transform', 'Momentum Indicators', 'Overlap Studies', 'Pattern Recognition', 'Price Transform', 'Statistic Functions', 'Volatility Indicators', 'Volume Indicators'])"
      ]
     },
     "execution_count": 514,
     "metadata": {},
     "output_type": "execute_result"
    }
   ],
   "source": [
    "talib.get_function_groups().keys()"
   ]
  },
  {
   "cell_type": "code",
   "execution_count": 516,
   "metadata": {},
   "outputs": [
    {
     "data": {
      "text/plain": [
       "['CDL3BLACKCROWS',\n",
       " 'CDLCLOSINGMARUBOZU',\n",
       " 'CDLGAPSIDESIDEWHITE',\n",
       " 'CDLIDENTICAL3CROWS',\n",
       " 'CDLMATHOLD',\n",
       " 'CDLSPINNINGTOP']"
      ]
     },
     "execution_count": 516,
     "metadata": {},
     "output_type": "execute_result"
    }
   ],
   "source": [
    "# pattern_recognition_functions = [x for x in dir(talib) if x.startswith('CDL')]\n",
    "pattern_recognition_functions = talib.get_function_groups().get('Pattern Recognition')\n",
    "pattern_recognition_functions[1::10]"
   ]
  },
  {
   "cell_type": "code",
   "execution_count": 517,
   "metadata": {},
   "outputs": [],
   "source": [
    "# create pattern recognition features\n",
    "pattern_features = {\n",
    "    f'pt_{x.lower()}': getattr(talib,x)(df['fx_open'],df['fx_high'],df['fx_low'],df['fx_close'])\n",
    "                    for x in pattern_recognition_functions\n",
    "    }"
   ]
  },
  {
   "cell_type": "code",
   "execution_count": 518,
   "metadata": {},
   "outputs": [
    {
     "data": {
      "text/html": [
       "<div>\n",
       "<style scoped>\n",
       "    .dataframe tbody tr th:only-of-type {\n",
       "        vertical-align: middle;\n",
       "    }\n",
       "\n",
       "    .dataframe tbody tr th {\n",
       "        vertical-align: top;\n",
       "    }\n",
       "\n",
       "    .dataframe thead th {\n",
       "        text-align: right;\n",
       "    }\n",
       "</style>\n",
       "<table border=\"1\" class=\"dataframe\">\n",
       "  <thead>\n",
       "    <tr style=\"text-align: right;\">\n",
       "      <th></th>\n",
       "      <th>opentime</th>\n",
       "      <th>closetime</th>\n",
       "      <th>open</th>\n",
       "      <th>high</th>\n",
       "      <th>low</th>\n",
       "      <th>close</th>\n",
       "      <th>volume</th>\n",
       "      <th>...</th>\n",
       "      <th>pt_cdltakuri</th>\n",
       "      <th>pt_cdltasukigap</th>\n",
       "      <th>pt_cdlthrusting</th>\n",
       "      <th>pt_cdltristar</th>\n",
       "      <th>pt_cdlunique3river</th>\n",
       "      <th>pt_cdlupsidegap2crows</th>\n",
       "      <th>pt_cdlxsidegap3methods</th>\n",
       "    </tr>\n",
       "  </thead>\n",
       "  <tbody>\n",
       "    <tr>\n",
       "      <th>9616</th>\n",
       "      <td>2021-01-01 00:00:00</td>\n",
       "      <td>2021-01-01 00:59:00</td>\n",
       "      <td>737.179993</td>\n",
       "      <td>740.000000</td>\n",
       "      <td>730.0</td>\n",
       "      <td>734.599976</td>\n",
       "      <td>98092.523438</td>\n",
       "      <td>...</td>\n",
       "      <td>0</td>\n",
       "      <td>0</td>\n",
       "      <td>0</td>\n",
       "      <td>0</td>\n",
       "      <td>0</td>\n",
       "      <td>0</td>\n",
       "      <td>0</td>\n",
       "    </tr>\n",
       "    <tr>\n",
       "      <th>9617</th>\n",
       "      <td>2021-01-01 01:00:00</td>\n",
       "      <td>2021-01-01 01:59:00</td>\n",
       "      <td>734.609985</td>\n",
       "      <td>750.400024</td>\n",
       "      <td>734.0</td>\n",
       "      <td>749.330017</td>\n",
       "      <td>164084.062500</td>\n",
       "      <td>...</td>\n",
       "      <td>0</td>\n",
       "      <td>0</td>\n",
       "      <td>0</td>\n",
       "      <td>0</td>\n",
       "      <td>0</td>\n",
       "      <td>0</td>\n",
       "      <td>0</td>\n",
       "    </tr>\n",
       "  </tbody>\n",
       "</table>\n",
       "<p>2 rows × 191 columns</p>\n",
       "</div>"
      ],
      "text/plain": [
       "                opentime           closetime        open        high    low  \\\n",
       "9616 2021-01-01 00:00:00 2021-01-01 00:59:00  737.179993  740.000000  730.0   \n",
       "9617 2021-01-01 01:00:00 2021-01-01 01:59:00  734.609985  750.400024  734.0   \n",
       "\n",
       "           close         volume  ...  pt_cdltakuri  pt_cdltasukigap  \\\n",
       "9616  734.599976   98092.523438  ...             0                0   \n",
       "9617  749.330017  164084.062500  ...             0                0   \n",
       "\n",
       "      pt_cdlthrusting  pt_cdltristar  pt_cdlunique3river  \\\n",
       "9616                0              0                   0   \n",
       "9617                0              0                   0   \n",
       "\n",
       "      pt_cdlupsidegap2crows  pt_cdlxsidegap3methods  \n",
       "9616                      0                       0  \n",
       "9617                      0                       0  \n",
       "\n",
       "[2 rows x 191 columns]"
      ]
     },
     "execution_count": 518,
     "metadata": {},
     "output_type": "execute_result"
    }
   ],
   "source": [
    "df = df.assign(**pattern_features)\n",
    "df.head(2)"
   ]
  },
  {
   "cell_type": "code",
   "execution_count": 519,
   "metadata": {},
   "outputs": [
    {
     "data": {
      "text/html": [
       "<div>\n",
       "<style scoped>\n",
       "    .dataframe tbody tr th:only-of-type {\n",
       "        vertical-align: middle;\n",
       "    }\n",
       "\n",
       "    .dataframe tbody tr th {\n",
       "        vertical-align: top;\n",
       "    }\n",
       "\n",
       "    .dataframe thead th {\n",
       "        text-align: right;\n",
       "    }\n",
       "</style>\n",
       "<table border=\"1\" class=\"dataframe\">\n",
       "  <thead>\n",
       "    <tr style=\"text-align: right;\">\n",
       "      <th></th>\n",
       "      <th>count</th>\n",
       "      <th>mean</th>\n",
       "      <th>std</th>\n",
       "      <th>min</th>\n",
       "      <th>25%</th>\n",
       "      <th>50%</th>\n",
       "      <th>75%</th>\n",
       "      <th>max</th>\n",
       "    </tr>\n",
       "  </thead>\n",
       "  <tbody>\n",
       "    <tr>\n",
       "      <th>pt_cdl2crows</th>\n",
       "      <td>10465.0</td>\n",
       "      <td>0.000000</td>\n",
       "      <td>0.000000</td>\n",
       "      <td>0.0</td>\n",
       "      <td>0.0</td>\n",
       "      <td>0.0</td>\n",
       "      <td>0.0</td>\n",
       "      <td>0.0</td>\n",
       "    </tr>\n",
       "    <tr>\n",
       "      <th>pt_cdl3blackcrows</th>\n",
       "      <td>10465.0</td>\n",
       "      <td>-0.009556</td>\n",
       "      <td>0.977531</td>\n",
       "      <td>-100.0</td>\n",
       "      <td>0.0</td>\n",
       "      <td>0.0</td>\n",
       "      <td>0.0</td>\n",
       "      <td>0.0</td>\n",
       "    </tr>\n",
       "    <tr>\n",
       "      <th>pt_cdl3inside</th>\n",
       "      <td>10465.0</td>\n",
       "      <td>0.066890</td>\n",
       "      <td>8.120092</td>\n",
       "      <td>-100.0</td>\n",
       "      <td>0.0</td>\n",
       "      <td>0.0</td>\n",
       "      <td>0.0</td>\n",
       "      <td>100.0</td>\n",
       "    </tr>\n",
       "    <tr>\n",
       "      <th>pt_cdl3linestrike</th>\n",
       "      <td>10465.0</td>\n",
       "      <td>0.038223</td>\n",
       "      <td>6.182624</td>\n",
       "      <td>-100.0</td>\n",
       "      <td>0.0</td>\n",
       "      <td>0.0</td>\n",
       "      <td>0.0</td>\n",
       "      <td>100.0</td>\n",
       "    </tr>\n",
       "    <tr>\n",
       "      <th>pt_cdl3outside</th>\n",
       "      <td>10465.0</td>\n",
       "      <td>0.009556</td>\n",
       "      <td>18.573967</td>\n",
       "      <td>-100.0</td>\n",
       "      <td>0.0</td>\n",
       "      <td>0.0</td>\n",
       "      <td>0.0</td>\n",
       "      <td>100.0</td>\n",
       "    </tr>\n",
       "    <tr>\n",
       "      <th>...</th>\n",
       "      <td>...</td>\n",
       "      <td>...</td>\n",
       "      <td>...</td>\n",
       "      <td>...</td>\n",
       "      <td>...</td>\n",
       "      <td>...</td>\n",
       "      <td>...</td>\n",
       "      <td>...</td>\n",
       "    </tr>\n",
       "    <tr>\n",
       "      <th>pt_cdlthrusting</th>\n",
       "      <td>10465.0</td>\n",
       "      <td>0.000000</td>\n",
       "      <td>0.000000</td>\n",
       "      <td>0.0</td>\n",
       "      <td>0.0</td>\n",
       "      <td>0.0</td>\n",
       "      <td>0.0</td>\n",
       "      <td>0.0</td>\n",
       "    </tr>\n",
       "    <tr>\n",
       "      <th>pt_cdltristar</th>\n",
       "      <td>10465.0</td>\n",
       "      <td>0.000000</td>\n",
       "      <td>0.000000</td>\n",
       "      <td>0.0</td>\n",
       "      <td>0.0</td>\n",
       "      <td>0.0</td>\n",
       "      <td>0.0</td>\n",
       "      <td>0.0</td>\n",
       "    </tr>\n",
       "    <tr>\n",
       "      <th>pt_cdlunique3river</th>\n",
       "      <td>10465.0</td>\n",
       "      <td>0.000000</td>\n",
       "      <td>0.000000</td>\n",
       "      <td>0.0</td>\n",
       "      <td>0.0</td>\n",
       "      <td>0.0</td>\n",
       "      <td>0.0</td>\n",
       "      <td>0.0</td>\n",
       "    </tr>\n",
       "    <tr>\n",
       "      <th>pt_cdlupsidegap2crows</th>\n",
       "      <td>10465.0</td>\n",
       "      <td>0.000000</td>\n",
       "      <td>0.000000</td>\n",
       "      <td>0.0</td>\n",
       "      <td>0.0</td>\n",
       "      <td>0.0</td>\n",
       "      <td>0.0</td>\n",
       "      <td>0.0</td>\n",
       "    </tr>\n",
       "    <tr>\n",
       "      <th>pt_cdlxsidegap3methods</th>\n",
       "      <td>10465.0</td>\n",
       "      <td>0.066890</td>\n",
       "      <td>8.465804</td>\n",
       "      <td>-100.0</td>\n",
       "      <td>0.0</td>\n",
       "      <td>0.0</td>\n",
       "      <td>0.0</td>\n",
       "      <td>100.0</td>\n",
       "    </tr>\n",
       "  </tbody>\n",
       "</table>\n",
       "<p>61 rows × 8 columns</p>\n",
       "</div>"
      ],
      "text/plain": [
       "                          count      mean        std    min  25%  50%  75%  \\\n",
       "pt_cdl2crows            10465.0  0.000000   0.000000    0.0  0.0  0.0  0.0   \n",
       "pt_cdl3blackcrows       10465.0 -0.009556   0.977531 -100.0  0.0  0.0  0.0   \n",
       "pt_cdl3inside           10465.0  0.066890   8.120092 -100.0  0.0  0.0  0.0   \n",
       "pt_cdl3linestrike       10465.0  0.038223   6.182624 -100.0  0.0  0.0  0.0   \n",
       "pt_cdl3outside          10465.0  0.009556  18.573967 -100.0  0.0  0.0  0.0   \n",
       "...                         ...       ...        ...    ...  ...  ...  ...   \n",
       "pt_cdlthrusting         10465.0  0.000000   0.000000    0.0  0.0  0.0  0.0   \n",
       "pt_cdltristar           10465.0  0.000000   0.000000    0.0  0.0  0.0  0.0   \n",
       "pt_cdlunique3river      10465.0  0.000000   0.000000    0.0  0.0  0.0  0.0   \n",
       "pt_cdlupsidegap2crows   10465.0  0.000000   0.000000    0.0  0.0  0.0  0.0   \n",
       "pt_cdlxsidegap3methods  10465.0  0.066890   8.465804 -100.0  0.0  0.0  0.0   \n",
       "\n",
       "                          max  \n",
       "pt_cdl2crows              0.0  \n",
       "pt_cdl3blackcrows         0.0  \n",
       "pt_cdl3inside           100.0  \n",
       "pt_cdl3linestrike       100.0  \n",
       "pt_cdl3outside          100.0  \n",
       "...                       ...  \n",
       "pt_cdlthrusting           0.0  \n",
       "pt_cdltristar             0.0  \n",
       "pt_cdlunique3river        0.0  \n",
       "pt_cdlupsidegap2crows     0.0  \n",
       "pt_cdlxsidegap3methods  100.0  \n",
       "\n",
       "[61 rows x 8 columns]"
      ]
     },
     "execution_count": 519,
     "metadata": {},
     "output_type": "execute_result"
    }
   ],
   "source": [
    "# df[[x for x in df.columns if x.startswith('pt_')]].describe().T['mean'].plot(kind='barh',figsize=(10,15))\n",
    "df[[x for x in df.columns if x.startswith('pt_')]].describe().T"
   ]
  },
  {
   "cell_type": "code",
   "execution_count": 520,
   "metadata": {},
   "outputs": [
    {
     "data": {
      "text/plain": [
       "Index(['opentime', 'closetime', 'open', 'high', 'low', 'close', 'volume',\n",
       "       'numtrade', 'fx_open', 'fx_high',\n",
       "       ...\n",
       "       'pt_cdlspinningtop', 'pt_cdlstalledpattern', 'pt_cdlsticksandwich',\n",
       "       'pt_cdltakuri', 'pt_cdltasukigap', 'pt_cdlthrusting', 'pt_cdltristar',\n",
       "       'pt_cdlunique3river', 'pt_cdlupsidegap2crows',\n",
       "       'pt_cdlxsidegap3methods'],\n",
       "      dtype='object', length=191)"
      ]
     },
     "execution_count": 520,
     "metadata": {},
     "output_type": "execute_result"
    }
   ],
   "source": [
    "df.columns"
   ]
  },
  {
   "cell_type": "code",
   "execution_count": 521,
   "metadata": {},
   "outputs": [
    {
     "data": {
      "text/plain": [
       "(10465, 191)"
      ]
     },
     "execution_count": 521,
     "metadata": {},
     "output_type": "execute_result"
    }
   ],
   "source": [
    "df.shape"
   ]
  },
  {
   "cell_type": "markdown",
   "metadata": {},
   "source": [
    "### Enable Pivot Levels"
   ]
  },
  {
   "cell_type": "code",
   "execution_count": 522,
   "metadata": {},
   "outputs": [],
   "source": [
    "def PPS(high,low,close):\n",
    "    if all([isinstance(item,(list,pd.core.series.Series,np.ndarray)) for item in (high,low,close)]):\n",
    "        high = np.array(high,dtype='float32')\n",
    "        low = np.array(low,dtype='float32')\n",
    "        close = np.array(close,dtype='float32')\n",
    "    else:\n",
    "        raise Exception('Wrong type input data type')\n",
    "    pp = (high + low + close)/3\n",
    "    r1 = (2 * pp - low)\n",
    "    s1 = (2 * pp - high)\n",
    "    r2 = pp + high - low\n",
    "    s2 = pp - high + low\n",
    "    r3 = high + 2 * (pp - low)\n",
    "    s3 = low - 2 * (high - pp)\n",
    "    result = {'pp':pp,'r1':r1,'s1':s1,'r2':r2,'s2':s2,'r3':r3,'s3':s3}\n",
    "    result = {f'fx_{k}':v for k,v in result.items()} \n",
    "    return result"
   ]
  },
  {
   "cell_type": "code",
   "execution_count": 523,
   "metadata": {},
   "outputs": [
    {
     "data": {
      "text/html": [
       "<div>\n",
       "<style scoped>\n",
       "    .dataframe tbody tr th:only-of-type {\n",
       "        vertical-align: middle;\n",
       "    }\n",
       "\n",
       "    .dataframe tbody tr th {\n",
       "        vertical-align: top;\n",
       "    }\n",
       "\n",
       "    .dataframe thead th {\n",
       "        text-align: right;\n",
       "    }\n",
       "</style>\n",
       "<table border=\"1\" class=\"dataframe\">\n",
       "  <thead>\n",
       "    <tr style=\"text-align: right;\">\n",
       "      <th></th>\n",
       "      <th>opentime</th>\n",
       "      <th>closetime</th>\n",
       "      <th>open</th>\n",
       "      <th>high</th>\n",
       "      <th>low</th>\n",
       "      <th>close</th>\n",
       "      <th>volume</th>\n",
       "      <th>...</th>\n",
       "      <th>fx_pp</th>\n",
       "      <th>fx_r1</th>\n",
       "      <th>fx_s1</th>\n",
       "      <th>fx_r2</th>\n",
       "      <th>fx_s2</th>\n",
       "      <th>fx_r3</th>\n",
       "      <th>fx_s3</th>\n",
       "    </tr>\n",
       "  </thead>\n",
       "  <tbody>\n",
       "    <tr>\n",
       "      <th>20079</th>\n",
       "      <td>2022-03-12 23:00:00</td>\n",
       "      <td>2022-03-12 23:59:00</td>\n",
       "      <td>2585.840088</td>\n",
       "      <td>2590.199951</td>\n",
       "      <td>2560.000000</td>\n",
       "      <td>2567.639893</td>\n",
       "      <td>35792.011719</td>\n",
       "      <td>...</td>\n",
       "      <td>2662.523438</td>\n",
       "      <td>2669.946777</td>\n",
       "      <td>2656.126953</td>\n",
       "      <td>2676.343262</td>\n",
       "      <td>2648.703613</td>\n",
       "      <td>2683.766602</td>\n",
       "      <td>2642.307129</td>\n",
       "    </tr>\n",
       "    <tr>\n",
       "      <th>20080</th>\n",
       "      <td>2022-03-13 00:00:00</td>\n",
       "      <td>2022-03-13 00:59:00</td>\n",
       "      <td>2567.629883</td>\n",
       "      <td>2573.780029</td>\n",
       "      <td>2555.810059</td>\n",
       "      <td>2565.979980</td>\n",
       "      <td>41614.472656</td>\n",
       "      <td>...</td>\n",
       "      <td>2668.849854</td>\n",
       "      <td>2677.559814</td>\n",
       "      <td>2663.089600</td>\n",
       "      <td>2683.320068</td>\n",
       "      <td>2654.379639</td>\n",
       "      <td>2692.030029</td>\n",
       "      <td>2648.619385</td>\n",
       "    </tr>\n",
       "  </tbody>\n",
       "</table>\n",
       "<p>2 rows × 198 columns</p>\n",
       "</div>"
      ],
      "text/plain": [
       "                 opentime           closetime         open         high  \\\n",
       "20079 2022-03-12 23:00:00 2022-03-12 23:59:00  2585.840088  2590.199951   \n",
       "20080 2022-03-13 00:00:00 2022-03-13 00:59:00  2567.629883  2573.780029   \n",
       "\n",
       "               low        close        volume  ...        fx_pp        fx_r1  \\\n",
       "20079  2560.000000  2567.639893  35792.011719  ...  2662.523438  2669.946777   \n",
       "20080  2555.810059  2565.979980  41614.472656  ...  2668.849854  2677.559814   \n",
       "\n",
       "             fx_s1        fx_r2        fx_s2        fx_r3        fx_s3  \n",
       "20079  2656.126953  2676.343262  2648.703613  2683.766602  2642.307129  \n",
       "20080  2663.089600  2683.320068  2654.379639  2692.030029  2648.619385  \n",
       "\n",
       "[2 rows x 198 columns]"
      ]
     },
     "execution_count": 523,
     "metadata": {},
     "output_type": "execute_result"
    }
   ],
   "source": [
    "df = df.assign(**PPS(df.fx_high,df.fx_low,df.fx_close))\n",
    "df.tail(2)"
   ]
  },
  {
   "cell_type": "code",
   "execution_count": 524,
   "metadata": {},
   "outputs": [
    {
     "data": {
      "text/plain": [
       "Index(['closetime', 'close', 'fx_high', 'fx_close_lag_001', 'fx_close_lag_048',\n",
       "       'fx_volume_lag_024', 'fx_close_diff_003', 'fx_volume_diff_002',\n",
       "       'fx_close_min_024', 'fx_close_max_168', 'fx_volume_std_024',\n",
       "       'volume_adi', 'volume_mfi', 'volume_nvi', 'volatility_bbh',\n",
       "       'volatility_bbhi', 'volatility_kcl', 'volatility_kcli',\n",
       "       'volatility_dcw', 'trend_macd_signal', 'trend_ema_fast',\n",
       "       'trend_adx_neg', 'trend_trix', 'trend_kst', 'trend_ichimoku_base',\n",
       "       'trend_visual_ichimoku_b', 'trend_psar_up', 'trend_stc',\n",
       "       'momentum_stoch_rsi_d', 'momentum_stoch_signal', 'momentum_roc',\n",
       "       'others_dr', 'ema_fast_slow_frc', 'pt_cdl3linestrike',\n",
       "       'pt_cdlabandonedbaby', 'pt_cdlclosingmarubozu', 'pt_cdldoji',\n",
       "       'pt_cdleveningdojistar', 'pt_cdlhammer', 'pt_cdlhighwave',\n",
       "       'pt_cdlidentical3crows', 'pt_cdlkickingbylength', 'pt_cdlmarubozu',\n",
       "       'pt_cdlmorningstar', 'pt_cdlrisefall3methods', 'pt_cdlspinningtop',\n",
       "       'pt_cdltasukigap', 'pt_cdlupsidegap2crows', 'fx_s1', 'fx_s3'],\n",
       "      dtype='object')"
      ]
     },
     "execution_count": 524,
     "metadata": {},
     "output_type": "execute_result"
    }
   ],
   "source": [
    "df.columns[1::4]"
   ]
  },
  {
   "cell_type": "code",
   "execution_count": 525,
   "metadata": {},
   "outputs": [],
   "source": [
    "pd.Series(df.columns).to_clipboard()"
   ]
  },
  {
   "cell_type": "code",
   "execution_count": 526,
   "metadata": {},
   "outputs": [
    {
     "data": {
      "text/plain": [
       "(10465, 198)"
      ]
     },
     "execution_count": 526,
     "metadata": {},
     "output_type": "execute_result"
    }
   ],
   "source": [
    "df.shape"
   ]
  },
  {
   "cell_type": "markdown",
   "metadata": {},
   "source": [
    "### Examine Alternative Target Options"
   ]
  },
  {
   "cell_type": "code",
   "execution_count": 527,
   "metadata": {},
   "outputs": [],
   "source": [
    "chkp = df.copy()\n",
    "# df = chkp.copy()"
   ]
  },
  {
   "cell_type": "code",
   "execution_count": 528,
   "metadata": {},
   "outputs": [
    {
     "data": {
      "text/html": [
       "<div>\n",
       "<style scoped>\n",
       "    .dataframe tbody tr th:only-of-type {\n",
       "        vertical-align: middle;\n",
       "    }\n",
       "\n",
       "    .dataframe tbody tr th {\n",
       "        vertical-align: top;\n",
       "    }\n",
       "\n",
       "    .dataframe thead th {\n",
       "        text-align: right;\n",
       "    }\n",
       "</style>\n",
       "<table border=\"1\" class=\"dataframe\">\n",
       "  <thead>\n",
       "    <tr style=\"text-align: right;\">\n",
       "      <th></th>\n",
       "      <th>opentime</th>\n",
       "      <th>closetime</th>\n",
       "      <th>open</th>\n",
       "      <th>high</th>\n",
       "      <th>low</th>\n",
       "      <th>close</th>\n",
       "      <th>volume</th>\n",
       "      <th>...</th>\n",
       "      <th>trg_delta_08hrs_ahead</th>\n",
       "      <th>trg_delta_12hrs_ahead</th>\n",
       "      <th>trg_delta_16hrs_ahead</th>\n",
       "      <th>trg_delta_20hrs_ahead</th>\n",
       "      <th>trg_delta_24hrs_ahead</th>\n",
       "      <th>trg_delta_48hrs_ahead</th>\n",
       "      <th>trg_delta_96hrs_ahead</th>\n",
       "    </tr>\n",
       "  </thead>\n",
       "  <tbody>\n",
       "    <tr>\n",
       "      <th>19981</th>\n",
       "      <td>2022-03-08 21:00:00</td>\n",
       "      <td>2022-03-08 21:59:00</td>\n",
       "      <td>2552.040039</td>\n",
       "      <td>2562.750000</td>\n",
       "      <td>2546.719971</td>\n",
       "      <td>2557.320068</td>\n",
       "      <td>38991.250000</td>\n",
       "      <td>...</td>\n",
       "      <td>0.061373</td>\n",
       "      <td>0.076518</td>\n",
       "      <td>0.066312</td>\n",
       "      <td>0.072627</td>\n",
       "      <td>0.058409</td>\n",
       "      <td>0.017542</td>\n",
       "      <td>0.011078</td>\n",
       "    </tr>\n",
       "    <tr>\n",
       "      <th>19982</th>\n",
       "      <td>2022-03-08 22:00:00</td>\n",
       "      <td>2022-03-08 22:59:00</td>\n",
       "      <td>2557.320068</td>\n",
       "      <td>2574.030029</td>\n",
       "      <td>2554.780029</td>\n",
       "      <td>2567.229980</td>\n",
       "      <td>29236.652344</td>\n",
       "      <td>...</td>\n",
       "      <td>0.059367</td>\n",
       "      <td>0.073601</td>\n",
       "      <td>0.066223</td>\n",
       "      <td>0.055651</td>\n",
       "      <td>0.058055</td>\n",
       "      <td>0.017034</td>\n",
       "      <td>0.007245</td>\n",
       "    </tr>\n",
       "  </tbody>\n",
       "</table>\n",
       "<p>2 rows × 214 columns</p>\n",
       "</div>"
      ],
      "text/plain": [
       "                 opentime           closetime         open         high  \\\n",
       "19981 2022-03-08 21:00:00 2022-03-08 21:59:00  2552.040039  2562.750000   \n",
       "19982 2022-03-08 22:00:00 2022-03-08 22:59:00  2557.320068  2574.030029   \n",
       "\n",
       "               low        close        volume  ...  trg_delta_08hrs_ahead  \\\n",
       "19981  2546.719971  2557.320068  38991.250000  ...               0.061373   \n",
       "19982  2554.780029  2567.229980  29236.652344  ...               0.059367   \n",
       "\n",
       "       trg_delta_12hrs_ahead  trg_delta_16hrs_ahead  trg_delta_20hrs_ahead  \\\n",
       "19981               0.076518               0.066312               0.072627   \n",
       "19982               0.073601               0.066223               0.055651   \n",
       "\n",
       "       trg_delta_24hrs_ahead  trg_delta_48hrs_ahead  trg_delta_96hrs_ahead  \n",
       "19981               0.058409               0.017542               0.011078  \n",
       "19982               0.058055               0.017034               0.007245  \n",
       "\n",
       "[2 rows x 214 columns]"
      ]
     },
     "execution_count": 528,
     "metadata": {},
     "output_type": "execute_result"
    }
   ],
   "source": [
    "df = \\\n",
    "    df.assign(\n",
    "        #change_pct = lambda x : x.close.pct_change(),\n",
    "        #change_chr = lambda x : x.close.pct_change().apply(np.sign),\n",
    "    \n",
    "        trg_close_04hrs_ahead = lambda x : x.close.shift(-4),\n",
    "        trg_close_08hrs_ahead = lambda x : x.close.shift(-8),\n",
    "        trg_close_12hrs_ahead = lambda x : x.close.shift(-12),\n",
    "        trg_close_16hrs_ahead = lambda x : x.close.shift(-16),\n",
    "        trg_close_20hrs_ahead = lambda x : x.close.shift(-20),\n",
    "        trg_close_24hrs_ahead = lambda x : x.close.shift(-24),\n",
    "        trg_close_48hrs_ahead = lambda x : x.close.shift(-48),\n",
    "        trg_close_96hrs_ahead = lambda x : x.close.shift(-96),\n",
    "    \n",
    "        trg_delta_04hrs_ahead = lambda x : (x.close.shift(-4)/x.close)-1,\n",
    "        trg_delta_08hrs_ahead = lambda x : (x.close.shift(-8)/x.close)-1,\n",
    "        trg_delta_12hrs_ahead = lambda x : (x.close.shift(-12)/x.close)-1,\n",
    "        trg_delta_16hrs_ahead = lambda x : (x.close.shift(-16)/x.close)-1,\n",
    "        trg_delta_20hrs_ahead = lambda x : (x.close.shift(-20)/x.close)-1,\n",
    "        trg_delta_24hrs_ahead = lambda x : (x.close.shift(-24)/x.close)-1,\n",
    "        trg_delta_48hrs_ahead = lambda x : (x.close.shift(-48)/x.close)-1,\n",
    "        trg_delta_96hrs_ahead = lambda x : (x.close.shift(-96)/x.close)-1,\n",
    "    )\n",
    "df.tail(100).head(2)"
   ]
  },
  {
   "cell_type": "code",
   "execution_count": 529,
   "metadata": {},
   "outputs": [
    {
     "name": "stdout",
     "output_type": "stream",
     "text": [
      "trg_delta_04hrs_ahead\n",
      "====================================================================================================\n",
      "(0.0, 0.025]     80.351850\n",
      "(0.025, 0.05]    15.364758\n",
      "(0.05, 0.1]       3.986997\n",
      "(0.1, 0.25]       0.296395\n",
      "(0.25, 0.5]       0.000000\n",
      "(0.5, 1.0]        0.000000\n",
      "Name: trg_delta_04hrs_ahead, dtype: float64\n",
      "----------------------------------------------------------------------------------------------------\n",
      " 1.0    52.365931\n",
      "-1.0    47.614951\n",
      " 0.0     0.019119\n",
      "Name: trg_delta_04hrs_ahead, dtype: float64\n",
      "====================================================================================================\n",
      "\n",
      "trg_delta_08hrs_ahead\n",
      "====================================================================================================\n",
      "(0.0, 0.025]     67.132198\n",
      "(0.025, 0.05]    22.383777\n",
      "(0.05, 0.1]       9.517888\n",
      "(0.1, 0.25]       0.966137\n",
      "(0.25, 0.5]       0.000000\n",
      "(0.5, 1.0]        0.000000\n",
      "Name: trg_delta_08hrs_ahead, dtype: float64\n",
      "----------------------------------------------------------------------------------------------------\n",
      " 1.0    52.778043\n",
      "-1.0    47.193268\n",
      " 0.0     0.028689\n",
      "Name: trg_delta_08hrs_ahead, dtype: float64\n",
      "====================================================================================================\n",
      "\n",
      "trg_delta_12hrs_ahead\n",
      "====================================================================================================\n",
      "(0.0, 0.025]     57.481822\n",
      "(0.025, 0.05]    26.846537\n",
      "(0.05, 0.1]      13.624187\n",
      "(0.1, 0.25]       2.028320\n",
      "(0.25, 0.5]       0.019135\n",
      "(0.5, 1.0]        0.000000\n",
      "Name: trg_delta_12hrs_ahead, dtype: float64\n",
      "----------------------------------------------------------------------------------------------------\n",
      " 1.0    52.817373\n",
      "-1.0    47.173060\n",
      " 0.0     0.009567\n",
      "Name: trg_delta_12hrs_ahead, dtype: float64\n",
      "====================================================================================================\n",
      "\n",
      "trg_delta_16hrs_ahead\n",
      "====================================================================================================\n",
      "(0.0, 0.025]     50.516845\n",
      "(0.025, 0.05]    27.794793\n",
      "(0.05, 0.1]      18.328867\n",
      "(0.1, 0.25]       3.330781\n",
      "(0.25, 0.5]       0.028714\n",
      "(0.5, 1.0]        0.000000\n",
      "Name: trg_delta_16hrs_ahead, dtype: float64\n",
      "----------------------------------------------------------------------------------------------------\n",
      " 1.0    53.373529\n",
      "-1.0    46.616901\n",
      " 0.0     0.009570\n",
      "Name: trg_delta_16hrs_ahead, dtype: float64\n",
      "====================================================================================================\n",
      "\n",
      "trg_delta_20hrs_ahead\n",
      "====================================================================================================\n",
      "(0.0, 0.025]     45.753949\n",
      "(0.025, 0.05]    28.539971\n",
      "(0.05, 0.1]      20.928674\n",
      "(0.1, 0.25]       4.633796\n",
      "(0.25, 0.5]       0.143609\n",
      "(0.5, 1.0]        0.000000\n",
      "Name: trg_delta_20hrs_ahead, dtype: float64\n",
      "----------------------------------------------------------------------------------------------------\n",
      " 1.0    53.719483\n",
      "-1.0    46.280517\n",
      "Name: trg_delta_20hrs_ahead, dtype: float64\n",
      "====================================================================================================\n",
      "\n",
      "trg_delta_24hrs_ahead\n",
      "====================================================================================================\n",
      "(0.0, 0.025]     41.455939\n",
      "(0.025, 0.05]    28.304598\n",
      "(0.05, 0.1]      23.955939\n",
      "(0.1, 0.25]       6.005747\n",
      "(0.25, 0.5]       0.277778\n",
      "(0.5, 1.0]        0.000000\n",
      "Name: trg_delta_24hrs_ahead, dtype: float64\n",
      "----------------------------------------------------------------------------------------------------\n",
      " 1.0    53.740063\n",
      "-1.0    46.250359\n",
      " 0.0     0.009578\n",
      "Name: trg_delta_24hrs_ahead, dtype: float64\n",
      "====================================================================================================\n",
      "\n",
      "trg_delta_48hrs_ahead\n",
      "====================================================================================================\n",
      "(0.0, 0.025]     30.315830\n",
      "(0.05, 0.1]      29.826246\n",
      "(0.025, 0.05]    23.519247\n",
      "(0.1, 0.25]      15.532303\n",
      "(0.25, 0.5]       0.796775\n",
      "(0.5, 1.0]        0.009600\n",
      "Name: trg_delta_48hrs_ahead, dtype: float64\n",
      "----------------------------------------------------------------------------------------------------\n",
      " 1.0    54.420659\n",
      "-1.0    45.579341\n",
      "Name: trg_delta_48hrs_ahead, dtype: float64\n",
      "====================================================================================================\n",
      "\n",
      "trg_delta_96hrs_ahead\n",
      "====================================================================================================\n",
      "(0.05, 0.1]      29.414601\n",
      "(0.1, 0.25]      28.556274\n",
      "(0.0, 0.025]     20.792748\n",
      "(0.025, 0.05]    18.979651\n",
      "(0.25, 0.5]       2.005979\n",
      "(0.5, 1.0]        0.250747\n",
      "Name: trg_delta_96hrs_ahead, dtype: float64\n",
      "----------------------------------------------------------------------------------------------------\n",
      " 1.0    57.575465\n",
      "-1.0    42.424535\n",
      "Name: trg_delta_96hrs_ahead, dtype: float64\n",
      "====================================================================================================\n",
      "\n"
     ]
    }
   ],
   "source": [
    "# Review distributions of absolute returns for 4-8-16 etc. hours ahead\n",
    "# \n",
    "for wnd in ['trg_delta_04hrs_ahead','trg_delta_08hrs_ahead',\n",
    "            'trg_delta_12hrs_ahead','trg_delta_16hrs_ahead',\n",
    "            'trg_delta_20hrs_ahead','trg_delta_24hrs_ahead',\n",
    "            'trg_delta_48hrs_ahead','trg_delta_96hrs_ahead']:\n",
    "    print(wnd)\n",
    "    print(100*'=')\n",
    "    print((pd.cut(\n",
    "        x = df[wnd].abs(), \n",
    "        bins = [0, 0.025, 0.05, 0.1, 0.25, 0.5, 1.], \n",
    "        ).value_counts(normalize=True))*100)\n",
    "    print(100*'-')\n",
    "    print(df[wnd].apply(np.sign).value_counts(normalize=True)*100)\n",
    "    print(100*'=')\n",
    "    print()"
   ]
  },
  {
   "cell_type": "markdown",
   "metadata": {},
   "source": [
    "### Select Target"
   ]
  },
  {
   "cell_type": "code",
   "execution_count": 530,
   "metadata": {},
   "outputs": [],
   "source": [
    "chkp2 = df.copy()\n",
    "# df = chkp2.copy()"
   ]
  },
  {
   "cell_type": "code",
   "execution_count": 531,
   "metadata": {},
   "outputs": [],
   "source": [
    "my_target = 'trg_delta_20hrs_ahead'\n",
    "df['target_rgr'] = df[my_target]\n",
    "df = df[[x for x in df.columns if not x.startswith('trg_')]]"
   ]
  },
  {
   "cell_type": "code",
   "execution_count": 532,
   "metadata": {},
   "outputs": [],
   "source": [
    "my_bins = [0, 0.03, 1.]\n",
    "my_labels = [f'delta_{x:.0%}_{y:.0%}' for x,y in zip(my_bins[:-1],my_bins[1:])]"
   ]
  },
  {
   "cell_type": "code",
   "execution_count": 533,
   "metadata": {},
   "outputs": [
    {
     "data": {
      "text/plain": [
       "delta_0%_3%      52.312111\n",
       "delta_3%_100%    47.687889\n",
       "Name: target_rgr, dtype: float64"
      ]
     },
     "execution_count": 533,
     "metadata": {},
     "output_type": "execute_result"
    }
   ],
   "source": [
    "(pd.cut(x = df.target_rgr.abs(), bins = my_bins, labels = my_labels).value_counts(normalize=True)*100)"
   ]
  },
  {
   "cell_type": "code",
   "execution_count": 534,
   "metadata": {},
   "outputs": [],
   "source": [
    "df['target_clf'] = pd.cut(x = df.target_rgr.abs(), bins = my_bins, labels = my_labels)\n",
    "df['target_sign'] = df.target_rgr.apply(np.sign)"
   ]
  },
  {
   "cell_type": "markdown",
   "metadata": {},
   "source": [
    "### Profile Targets"
   ]
  },
  {
   "cell_type": "code",
   "execution_count": 535,
   "metadata": {},
   "outputs": [
    {
     "data": {
      "text/html": [
       "<div>\n",
       "<style scoped>\n",
       "    .dataframe tbody tr th:only-of-type {\n",
       "        vertical-align: middle;\n",
       "    }\n",
       "\n",
       "    .dataframe tbody tr th {\n",
       "        vertical-align: top;\n",
       "    }\n",
       "\n",
       "    .dataframe thead th {\n",
       "        text-align: right;\n",
       "    }\n",
       "</style>\n",
       "<table border=\"1\" class=\"dataframe\">\n",
       "  <thead>\n",
       "    <tr style=\"text-align: right;\">\n",
       "      <th></th>\n",
       "      <th>target_rgr</th>\n",
       "      <th>target_clf</th>\n",
       "      <th>target_sign</th>\n",
       "    </tr>\n",
       "  </thead>\n",
       "  <tbody>\n",
       "    <tr>\n",
       "      <th>count</th>\n",
       "      <td>10445.000000</td>\n",
       "      <td>10445</td>\n",
       "      <td>10445.000000</td>\n",
       "    </tr>\n",
       "    <tr>\n",
       "      <th>unique</th>\n",
       "      <td>NaN</td>\n",
       "      <td>2</td>\n",
       "      <td>NaN</td>\n",
       "    </tr>\n",
       "    <tr>\n",
       "      <th>top</th>\n",
       "      <td>NaN</td>\n",
       "      <td>delta_0%_3%</td>\n",
       "      <td>NaN</td>\n",
       "    </tr>\n",
       "    <tr>\n",
       "      <th>freq</th>\n",
       "      <td>NaN</td>\n",
       "      <td>5464</td>\n",
       "      <td>NaN</td>\n",
       "    </tr>\n",
       "    <tr>\n",
       "      <th>mean</th>\n",
       "      <td>0.003644</td>\n",
       "      <td>NaN</td>\n",
       "      <td>0.074390</td>\n",
       "    </tr>\n",
       "    <tr>\n",
       "      <th>std</th>\n",
       "      <td>0.049734</td>\n",
       "      <td>NaN</td>\n",
       "      <td>0.997276</td>\n",
       "    </tr>\n",
       "    <tr>\n",
       "      <th>min</th>\n",
       "      <td>-0.318712</td>\n",
       "      <td>NaN</td>\n",
       "      <td>-1.000000</td>\n",
       "    </tr>\n",
       "    <tr>\n",
       "      <th>25%</th>\n",
       "      <td>-0.023765</td>\n",
       "      <td>NaN</td>\n",
       "      <td>-1.000000</td>\n",
       "    </tr>\n",
       "    <tr>\n",
       "      <th>50%</th>\n",
       "      <td>0.003882</td>\n",
       "      <td>NaN</td>\n",
       "      <td>1.000000</td>\n",
       "    </tr>\n",
       "    <tr>\n",
       "      <th>75%</th>\n",
       "      <td>0.032470</td>\n",
       "      <td>NaN</td>\n",
       "      <td>1.000000</td>\n",
       "    </tr>\n",
       "    <tr>\n",
       "      <th>max</th>\n",
       "      <td>0.347784</td>\n",
       "      <td>NaN</td>\n",
       "      <td>1.000000</td>\n",
       "    </tr>\n",
       "  </tbody>\n",
       "</table>\n",
       "</div>"
      ],
      "text/plain": [
       "          target_rgr   target_clf   target_sign\n",
       "count   10445.000000        10445  10445.000000\n",
       "unique           NaN            2           NaN\n",
       "top              NaN  delta_0%_3%           NaN\n",
       "freq             NaN         5464           NaN\n",
       "mean        0.003644          NaN      0.074390\n",
       "std         0.049734          NaN      0.997276\n",
       "min        -0.318712          NaN     -1.000000\n",
       "25%        -0.023765          NaN     -1.000000\n",
       "50%         0.003882          NaN      1.000000\n",
       "75%         0.032470          NaN      1.000000\n",
       "max         0.347784          NaN      1.000000"
      ]
     },
     "execution_count": 535,
     "metadata": {},
     "output_type": "execute_result"
    }
   ],
   "source": [
    "df[[x for x in df.columns if x.startswith('target')]].describe(include='all')"
   ]
  },
  {
   "cell_type": "code",
   "execution_count": 536,
   "metadata": {},
   "outputs": [
    {
     "data": {
      "text/plain": [
       "<AxesSubplot:>"
      ]
     },
     "execution_count": 536,
     "metadata": {},
     "output_type": "execute_result"
    },
    {
     "data": {
      "image/png": "[encoded data removed]",
      "text/plain": [
       "<Figure size 432x288 with 1 Axes>"
      ]
     },
     "metadata": {
      "needs_background": "light"
     },
     "output_type": "display_data"
    }
   ],
   "source": [
    "df.target_rgr.hist(bins=100)"
   ]
  },
  {
   "cell_type": "code",
   "execution_count": 537,
   "metadata": {},
   "outputs": [
    {
     "name": "stdout",
     "output_type": "stream",
     "text": [
      "delta_0%_3%      52.312111\n",
      "delta_3%_100%    47.687889\n",
      "Name: target_clf, dtype: float64\n"
     ]
    },
    {
     "data": {
      "image/png": "[encoded data removed]",
      "text/plain": [
       "<Figure size 432x288 with 1 Axes>"
      ]
     },
     "metadata": {
      "needs_background": "light"
     },
     "output_type": "display_data"
    }
   ],
   "source": [
    "df.target_clf.value_counts(normalize=True).plot(kind='barh')\n",
    "print(df.target_clf.value_counts(normalize=True)*100)"
   ]
  },
  {
   "cell_type": "code",
   "execution_count": 538,
   "metadata": {},
   "outputs": [
    {
     "data": {
      "text/plain": [
       " 1.0    0.537195\n",
       "-1.0    0.462805\n",
       "Name: target_sign, dtype: float64"
      ]
     },
     "execution_count": 538,
     "metadata": {},
     "output_type": "execute_result"
    }
   ],
   "source": [
    "df.target_sign.value_counts(normalize=True)"
   ]
  },
  {
   "cell_type": "code",
   "execution_count": 539,
   "metadata": {},
   "outputs": [
    {
     "data": {
      "text/html": [
       "<div>\n",
       "<style scoped>\n",
       "    .dataframe tbody tr th:only-of-type {\n",
       "        vertical-align: middle;\n",
       "    }\n",
       "\n",
       "    .dataframe tbody tr th {\n",
       "        vertical-align: top;\n",
       "    }\n",
       "\n",
       "    .dataframe thead th {\n",
       "        text-align: right;\n",
       "    }\n",
       "</style>\n",
       "<table border=\"1\" class=\"dataframe\">\n",
       "  <thead>\n",
       "    <tr style=\"text-align: right;\">\n",
       "      <th>target_sign</th>\n",
       "      <th>-1.0</th>\n",
       "      <th>1.0</th>\n",
       "      <th>All</th>\n",
       "    </tr>\n",
       "    <tr>\n",
       "      <th>target_clf</th>\n",
       "      <th></th>\n",
       "      <th></th>\n",
       "      <th></th>\n",
       "    </tr>\n",
       "  </thead>\n",
       "  <tbody>\n",
       "    <tr>\n",
       "      <th>delta_0%_3%</th>\n",
       "      <td>0.253040</td>\n",
       "      <td>0.270081</td>\n",
       "      <td>0.523121</td>\n",
       "    </tr>\n",
       "    <tr>\n",
       "      <th>delta_3%_100%</th>\n",
       "      <td>0.209765</td>\n",
       "      <td>0.267113</td>\n",
       "      <td>0.476879</td>\n",
       "    </tr>\n",
       "    <tr>\n",
       "      <th>All</th>\n",
       "      <td>0.462805</td>\n",
       "      <td>0.537195</td>\n",
       "      <td>1.000000</td>\n",
       "    </tr>\n",
       "  </tbody>\n",
       "</table>\n",
       "</div>"
      ],
      "text/plain": [
       "target_sign        -1.0       1.0       All\n",
       "target_clf                                 \n",
       "delta_0%_3%    0.253040  0.270081  0.523121\n",
       "delta_3%_100%  0.209765  0.267113  0.476879\n",
       "All            0.462805  0.537195  1.000000"
      ]
     },
     "execution_count": 539,
     "metadata": {},
     "output_type": "execute_result"
    }
   ],
   "source": [
    "pd.crosstab(df.target_clf,df.target_sign,margins=True,normalize=True)"
   ]
  },
  {
   "cell_type": "markdown",
   "metadata": {},
   "source": [
    "### Clean dataset from NAs"
   ]
  },
  {
   "cell_type": "code",
   "execution_count": 543,
   "metadata": {},
   "outputs": [],
   "source": [
    "import missingno as msno"
   ]
  },
  {
   "cell_type": "code",
   "execution_count": 541,
   "metadata": {},
   "outputs": [
    {
     "name": "stdout",
     "output_type": "stream",
     "text": [
      "current rows 10465\n",
      "max missing rows 335\n",
      "opentime from 2021-01-01 00:00 to 2022-03-13 00:00\n"
     ]
    }
   ],
   "source": [
    "print(f'current rows {df.shape[0]}')\n",
    "print(f'max missing rows {df.isnull().sum().max()}')\n",
    "print(f'opentime from {df.opentime.min().strftime(\"%Y-%m-%d %H:%M\")} to {df.opentime.max().strftime(\"%Y-%m-%d %H:%M\")}')\n",
    "# msno.matrix(df.set_index('opentime')[df.columns[(df.isnull().sum()!=0)]],freq='H')"
   ]
  },
  {
   "cell_type": "code",
   "execution_count": 542,
   "metadata": {},
   "outputs": [
    {
     "data": {
      "text/plain": [
       "(10110, 202)"
      ]
     },
     "execution_count": 542,
     "metadata": {},
     "output_type": "execute_result"
    }
   ],
   "source": [
    "md = df.dropna().reset_index().copy()\n",
    "md.shape"
   ]
  },
  {
   "cell_type": "code",
   "execution_count": 284,
   "metadata": {},
   "outputs": [
    {
     "name": "stdout",
     "output_type": "stream",
     "text": [
      "remaining missing observations 0\n",
      "current rows 10278\n",
      "opentime from 2021-01-07 23:00 to 2022-03-12 04:00\n"
     ]
    }
   ],
   "source": [
    "print(f'remaining missing observations {md.isnull().sum().sum()}')\n",
    "print(f'current rows {md.shape[0]}')\n",
    "print(f'opentime from {md.opentime.min().strftime(\"%Y-%m-%d %H:%M\")} to {md.opentime.max().strftime(\"%Y-%m-%d %H:%M\")}')"
   ]
  },
  {
   "cell_type": "code",
   "execution_count": 285,
   "metadata": {},
   "outputs": [
    {
     "data": {
      "text/plain": [
       "delta_0%_3%      5414\n",
       "delta_3%_100%    4864\n",
       "Name: target_clf, dtype: int64"
      ]
     },
     "execution_count": 285,
     "metadata": {},
     "output_type": "execute_result"
    }
   ],
   "source": [
    "md.target_clf.value_counts()"
   ]
  },
  {
   "cell_type": "code",
   "execution_count": 544,
   "metadata": {},
   "outputs": [
    {
     "data": {
      "text/plain": [
       "0    5374\n",
       "P    2604\n",
       "N    2132\n",
       "dtype: int64"
      ]
     },
     "execution_count": 544,
     "metadata": {},
     "output_type": "execute_result"
    }
   ],
   "source": [
    "y = pd.Series(\n",
    "    np.where( (md['target_clf']=='delta_3%_100%') & (md['target_sign']== 1) ,'P',\n",
    "         np.where( (md['target_clf']=='delta_3%_100%') & (md['target_sign']== -1) ,'N', '0'))).reset_index(drop=True)\n",
    "y.value_counts()"
   ]
  },
  {
   "cell_type": "code",
   "execution_count": 545,
   "metadata": {},
   "outputs": [],
   "source": [
    "md['target_y'] = y"
   ]
  },
  {
   "cell_type": "code",
   "execution_count": 571,
   "metadata": {},
   "outputs": [],
   "source": [
    "X = md[[x for x in md.columns if not (x.startswith('target') | x.endswith('time'))]].reset_index(drop=True)"
   ]
  },
  {
   "cell_type": "code",
   "execution_count": 548,
   "metadata": {},
   "outputs": [],
   "source": [
    "# pd.Series(md.columns).to_clipboard()\n",
    "# pd.Series(X.columns).to_clipboard()"
   ]
  },
  {
   "cell_type": "markdown",
   "metadata": {},
   "source": [
    "### Temporal Train Test Split - dataset to test at the end"
   ]
  },
  {
   "cell_type": "code",
   "execution_count": 573,
   "metadata": {},
   "outputs": [],
   "source": [
    "from sktime.forecasting.model_selection import temporal_train_test_split"
   ]
  },
  {
   "cell_type": "code",
   "execution_count": 574,
   "metadata": {},
   "outputs": [],
   "source": [
    "y, y_keep, X, X_keep = temporal_train_test_split(y,X,test_size=24*7*4)"
   ]
  },
  {
   "cell_type": "code",
   "execution_count": 575,
   "metadata": {},
   "outputs": [
    {
     "data": {
      "text/plain": [
       "[(8766,), (672,), (8766, 197), (672, 197)]"
      ]
     },
     "execution_count": 575,
     "metadata": {},
     "output_type": "execute_result"
    }
   ],
   "source": [
    "[x.shape for x in [y, y_keep, X, X_keep]]"
   ]
  },
  {
   "cell_type": "code",
   "execution_count": 576,
   "metadata": {},
   "outputs": [
    {
     "data": {
      "text/plain": [
       "0    361\n",
       "N    166\n",
       "P    145\n",
       "dtype: int64"
      ]
     },
     "execution_count": 576,
     "metadata": {},
     "output_type": "execute_result"
    }
   ],
   "source": [
    "y_keep.value_counts()"
   ]
  },
  {
   "cell_type": "markdown",
   "metadata": {},
   "source": [
    "### Setup Cross-Validation"
   ]
  },
  {
   "cell_type": "code",
   "execution_count": 577,
   "metadata": {},
   "outputs": [],
   "source": [
    "from sklearn.model_selection import TimeSeriesSplit\n",
    "from sktime.forecasting.model_selection import SlidingWindowSplitter, ExpandingWindowSplitter"
   ]
  },
  {
   "cell_type": "markdown",
   "metadata": {},
   "source": [
    "### sklearn TimeSeriesSplit"
   ]
  },
  {
   "cell_type": "code",
   "execution_count": 578,
   "metadata": {},
   "outputs": [
    {
     "name": "stdout",
     "output_type": "stream",
     "text": [
      "(01) train : 0-805 [806] & test 806-1601 [796]\n",
      "(02) train : 0-1601 [1602] & test 1602-2397 [796]\n",
      "(03) train : 0-2397 [2398] & test 2398-3193 [796]\n",
      "(04) train : 0-3193 [3194] & test 3194-3989 [796]\n",
      "(05) train : 0-3989 [3990] & test 3990-4785 [796]\n",
      "(06) train : 0-4785 [4786] & test 4786-5581 [796]\n",
      "(07) train : 0-5581 [5582] & test 5582-6377 [796]\n",
      "(08) train : 0-6377 [6378] & test 6378-7173 [796]\n",
      "(09) train : 0-7173 [7174] & test 7174-7969 [796]\n",
      "(10) train : 0-7969 [7970] & test 7970-8765 [796]\n"
     ]
    }
   ],
   "source": [
    "# tscv = TimeSeriesSplit(gap=0, max_train_size=None, n_splits=20, test_size=200)\n",
    "tscv = TimeSeriesSplit(n_splits=10)\n",
    "for i, (train_index, test_index) in enumerate(tscv.split(X),start=1):\n",
    "    print(f'''({str(i).zfill(2)}) train : {train_index[0]}-{train_index[-1]} [{len(train_index)}] & test {test_index[0]}-{test_index[-1]} [{len(test_index)}]''')\n",
    "    X_train, X_test = X.loc[train_index], X.loc[test_index]\n",
    "    y_train, y_test = y[train_index], y.loc[test_index]"
   ]
  },
  {
   "cell_type": "code",
   "execution_count": 579,
   "metadata": {},
   "outputs": [],
   "source": [
    "def TimeSeriesCV(X,y,n_splits=20, gap=0, max_train_size=None, test_size=None, verbose=False):\n",
    "    tscv = TimeSeriesSplit(n_splits=n_splits, gap=gap, max_train_size=max_train_size, test_size=test_size)\n",
    "    for i, (train_index, test_index) in enumerate(tscv.split(X),start=1):\n",
    "        if verbose:\n",
    "            print(f'''({str(i).zfill(2)}) train : {train_index[0]}-{train_index[-1]} [{len(train_index)}] & test {test_index[0]}-{test_index[-1]} [{len(test_index)}]''')\n",
    "        X_train, X_test = X.loc[train_index], X.loc[test_index]\n",
    "        y_train, y_test = y[train_index], y.loc[test_index]\n",
    "        yield (X_train,y_train,X_test,y_test)"
   ]
  },
  {
   "cell_type": "code",
   "execution_count": 580,
   "metadata": {},
   "outputs": [],
   "source": [
    "# tscv = TimeSeriesCV(X,y,n_splits=10,max_train_size=3000,test_size=24*7*4,verbose=True)\n",
    "tscv = TimeSeriesCV(X,y,n_splits=10,verbose=True)"
   ]
  },
  {
   "cell_type": "code",
   "execution_count": 581,
   "metadata": {},
   "outputs": [
    {
     "name": "stdout",
     "output_type": "stream",
     "text": [
      "(01) train : 0-805 [806] & test 806-1601 [796]\n",
      "(02) train : 0-1601 [1602] & test 1602-2397 [796]\n",
      "(03) train : 0-2397 [2398] & test 2398-3193 [796]\n",
      "(04) train : 0-3193 [3194] & test 3194-3989 [796]\n",
      "(05) train : 0-3989 [3990] & test 3990-4785 [796]\n",
      "(06) train : 0-4785 [4786] & test 4786-5581 [796]\n",
      "(07) train : 0-5581 [5582] & test 5582-6377 [796]\n",
      "(08) train : 0-6377 [6378] & test 6378-7173 [796]\n",
      "(09) train : 0-7173 [7174] & test 7174-7969 [796]\n",
      "(10) train : 0-7969 [7970] & test 7970-8765 [796]\n"
     ]
    }
   ],
   "source": [
    "for xx in tscv:\n",
    "    X_train,y_train,X_test,y_test = xx"
   ]
  },
  {
   "cell_type": "code",
   "execution_count": 582,
   "metadata": {},
   "outputs": [],
   "source": [
    "tscv = TimeSeriesCV(X,y,n_splits=10,verbose=True)"
   ]
  },
  {
   "cell_type": "code",
   "execution_count": 583,
   "metadata": {},
   "outputs": [
    {
     "name": "stdout",
     "output_type": "stream",
     "text": [
      "(01) train : 0-805 [806] & test 806-1601 [796]\n"
     ]
    },
    {
     "data": {
      "text/html": [
       "<div>\n",
       "<style scoped>\n",
       "    .dataframe tbody tr th:only-of-type {\n",
       "        vertical-align: middle;\n",
       "    }\n",
       "\n",
       "    .dataframe tbody tr th {\n",
       "        vertical-align: top;\n",
       "    }\n",
       "\n",
       "    .dataframe thead th {\n",
       "        text-align: right;\n",
       "    }\n",
       "</style>\n",
       "<table border=\"1\" class=\"dataframe\">\n",
       "  <thead>\n",
       "    <tr style=\"text-align: right;\">\n",
       "      <th></th>\n",
       "      <th>index</th>\n",
       "      <th>open</th>\n",
       "      <th>high</th>\n",
       "      <th>low</th>\n",
       "      <th>close</th>\n",
       "      <th>volume</th>\n",
       "      <th>numtrade</th>\n",
       "      <th>...</th>\n",
       "      <th>fx_pp</th>\n",
       "      <th>fx_r1</th>\n",
       "      <th>fx_s1</th>\n",
       "      <th>fx_r2</th>\n",
       "      <th>fx_s2</th>\n",
       "      <th>fx_r3</th>\n",
       "      <th>fx_s3</th>\n",
       "    </tr>\n",
       "  </thead>\n",
       "  <tbody>\n",
       "    <tr>\n",
       "      <th>801</th>\n",
       "      <td>10752</td>\n",
       "      <td>1807.500000</td>\n",
       "      <td>1813.040039</td>\n",
       "      <td>1793.140015</td>\n",
       "      <td>1804.260010</td>\n",
       "      <td>111030.968750</td>\n",
       "      <td>91187</td>\n",
       "      <td>...</td>\n",
       "      <td>1817.806641</td>\n",
       "      <td>1840.423340</td>\n",
       "      <td>1787.613281</td>\n",
       "      <td>1870.616699</td>\n",
       "      <td>1764.996582</td>\n",
       "      <td>1893.233398</td>\n",
       "      <td>1734.803223</td>\n",
       "    </tr>\n",
       "    <tr>\n",
       "      <th>802</th>\n",
       "      <td>10753</td>\n",
       "      <td>1804.260010</td>\n",
       "      <td>1825.000000</td>\n",
       "      <td>1802.020020</td>\n",
       "      <td>1816.119995</td>\n",
       "      <td>122213.906250</td>\n",
       "      <td>89345</td>\n",
       "      <td>...</td>\n",
       "      <td>1801.479980</td>\n",
       "      <td>1817.959961</td>\n",
       "      <td>1779.659912</td>\n",
       "      <td>1839.780029</td>\n",
       "      <td>1763.179932</td>\n",
       "      <td>1856.260010</td>\n",
       "      <td>1741.359863</td>\n",
       "    </tr>\n",
       "    <tr>\n",
       "      <th>803</th>\n",
       "      <td>10754</td>\n",
       "      <td>1816.130005</td>\n",
       "      <td>1828.000000</td>\n",
       "      <td>1806.000000</td>\n",
       "      <td>1812.670044</td>\n",
       "      <td>101273.960938</td>\n",
       "      <td>79428</td>\n",
       "      <td>...</td>\n",
       "      <td>1800.156616</td>\n",
       "      <td>1814.003174</td>\n",
       "      <td>1785.103271</td>\n",
       "      <td>1829.056641</td>\n",
       "      <td>1771.256714</td>\n",
       "      <td>1842.903076</td>\n",
       "      <td>1756.203369</td>\n",
       "    </tr>\n",
       "    <tr>\n",
       "      <th>804</th>\n",
       "      <td>10755</td>\n",
       "      <td>1812.680054</td>\n",
       "      <td>1820.000000</td>\n",
       "      <td>1808.739990</td>\n",
       "      <td>1812.020020</td>\n",
       "      <td>62523.871094</td>\n",
       "      <td>59019</td>\n",
       "      <td>...</td>\n",
       "      <td>1790.839966</td>\n",
       "      <td>1806.679932</td>\n",
       "      <td>1780.179932</td>\n",
       "      <td>1817.339844</td>\n",
       "      <td>1764.339966</td>\n",
       "      <td>1833.179932</td>\n",
       "      <td>1753.679932</td>\n",
       "    </tr>\n",
       "    <tr>\n",
       "      <th>805</th>\n",
       "      <td>10756</td>\n",
       "      <td>1812.010010</td>\n",
       "      <td>1852.390015</td>\n",
       "      <td>1811.000000</td>\n",
       "      <td>1832.599976</td>\n",
       "      <td>238306.890625</td>\n",
       "      <td>145220</td>\n",
       "      <td>...</td>\n",
       "      <td>1741.936646</td>\n",
       "      <td>1800.793335</td>\n",
       "      <td>1687.513306</td>\n",
       "      <td>1855.216675</td>\n",
       "      <td>1628.656616</td>\n",
       "      <td>1914.073364</td>\n",
       "      <td>1574.233276</td>\n",
       "    </tr>\n",
       "  </tbody>\n",
       "</table>\n",
       "<p>5 rows × 197 columns</p>\n",
       "</div>"
      ],
      "text/plain": [
       "     index         open         high          low        close         volume  \\\n",
       "801  10752  1807.500000  1813.040039  1793.140015  1804.260010  111030.968750   \n",
       "802  10753  1804.260010  1825.000000  1802.020020  1816.119995  122213.906250   \n",
       "803  10754  1816.130005  1828.000000  1806.000000  1812.670044  101273.960938   \n",
       "804  10755  1812.680054  1820.000000  1808.739990  1812.020020   62523.871094   \n",
       "805  10756  1812.010010  1852.390015  1811.000000  1832.599976  238306.890625   \n",
       "\n",
       "     numtrade  ...        fx_pp        fx_r1        fx_s1        fx_r2  \\\n",
       "801     91187  ...  1817.806641  1840.423340  1787.613281  1870.616699   \n",
       "802     89345  ...  1801.479980  1817.959961  1779.659912  1839.780029   \n",
       "803     79428  ...  1800.156616  1814.003174  1785.103271  1829.056641   \n",
       "804     59019  ...  1790.839966  1806.679932  1780.179932  1817.339844   \n",
       "805    145220  ...  1741.936646  1800.793335  1687.513306  1855.216675   \n",
       "\n",
       "           fx_s2        fx_r3        fx_s3  \n",
       "801  1764.996582  1893.233398  1734.803223  \n",
       "802  1763.179932  1856.260010  1741.359863  \n",
       "803  1771.256714  1842.903076  1756.203369  \n",
       "804  1764.339966  1833.179932  1753.679932  \n",
       "805  1628.656616  1914.073364  1574.233276  \n",
       "\n",
       "[5 rows x 197 columns]"
      ]
     },
     "execution_count": 583,
     "metadata": {},
     "output_type": "execute_result"
    }
   ],
   "source": [
    "X_train,y_train,X_test,y_test = next(tscv)\n",
    "[len(x) for x in [X_train,y_train,X_test,y_test]]\n",
    "X_train.tail()"
   ]
  },
  {
   "cell_type": "markdown",
   "metadata": {},
   "source": [
    "### sktime SlidingWindowSplitter"
   ]
  },
  {
   "cell_type": "code",
   "execution_count": 584,
   "metadata": {},
   "outputs": [
    {
     "name": "stdout",
     "output_type": "stream",
     "text": [
      "Number of Folds = 8\n"
     ]
    }
   ],
   "source": [
    "tscv = SlidingWindowSplitter(window_length=1000, fh=list(range(1,(24*7+1))), step_length=1000)\n",
    "n_splits = tscv.get_n_splits(y)\n",
    "print(f\"Number of Folds = {n_splits}\")"
   ]
  },
  {
   "cell_type": "code",
   "execution_count": 585,
   "metadata": {},
   "outputs": [
    {
     "name": "stdout",
     "output_type": "stream",
     "text": [
      "(01) train : 0-999 [1000] & test 1000-1167 [168]\n",
      "(02) train : 1000-1999 [1000] & test 2000-2167 [168]\n",
      "(03) train : 2000-2999 [1000] & test 3000-3167 [168]\n",
      "(04) train : 3000-3999 [1000] & test 4000-4167 [168]\n",
      "(05) train : 4000-4999 [1000] & test 5000-5167 [168]\n",
      "(06) train : 5000-5999 [1000] & test 6000-6167 [168]\n",
      "(07) train : 6000-6999 [1000] & test 7000-7167 [168]\n",
      "(08) train : 7000-7999 [1000] & test 8000-8167 [168]\n"
     ]
    }
   ],
   "source": [
    "for i, (train_index, test_index) in enumerate(tscv.split(X),start=1):\n",
    "    print(f'''({str(i).zfill(2)}) train : {train_index[0]}-{train_index[-1]} [{len(train_index)}] & test {test_index[0]}-{test_index[-1]} [{len(test_index)}]''')\n",
    "    X_train, X_test = X.loc[train_index], X.loc[test_index]\n",
    "    y_train, y_test = y[train_index], y.loc[test_index]"
   ]
  },
  {
   "cell_type": "markdown",
   "metadata": {},
   "source": [
    "### sktime ExpandingWindowSplitter"
   ]
  },
  {
   "cell_type": "code",
   "execution_count": 586,
   "metadata": {},
   "outputs": [
    {
     "name": "stdout",
     "output_type": "stream",
     "text": [
      "Number of Folds = 9\n"
     ]
    }
   ],
   "source": [
    "tscv = ExpandingWindowSplitter(fh=list(range(1,(24*7+1))), step_length=1000)\n",
    "n_splits = tscv.get_n_splits(y)\n",
    "print(f\"Number of Folds = {n_splits}\")"
   ]
  },
  {
   "cell_type": "code",
   "execution_count": 587,
   "metadata": {},
   "outputs": [
    {
     "name": "stdout",
     "output_type": "stream",
     "text": [
      "(01) train : 0-9 [10] & test 10-177 [168]\n",
      "(02) train : 0-1009 [1010] & test 1010-1177 [168]\n",
      "(03) train : 0-2009 [2010] & test 2010-2177 [168]\n",
      "(04) train : 0-3009 [3010] & test 3010-3177 [168]\n",
      "(05) train : 0-4009 [4010] & test 4010-4177 [168]\n",
      "(06) train : 0-5009 [5010] & test 5010-5177 [168]\n",
      "(07) train : 0-6009 [6010] & test 6010-6177 [168]\n",
      "(08) train : 0-7009 [7010] & test 7010-7177 [168]\n",
      "(09) train : 0-8009 [8010] & test 8010-8177 [168]\n"
     ]
    }
   ],
   "source": [
    "for i, (train_index, test_index) in enumerate(tscv.split(X),start=1):\n",
    "    print(f'''({str(i).zfill(2)}) train : {train_index[0]}-{train_index[-1]} [{len(train_index)}] & test {test_index[0]}-{test_index[-1]} [{len(test_index)}]''')\n",
    "    X_train, X_test = X.loc[train_index], X.loc[test_index]\n",
    "    y_train, y_test = y[train_index], y.loc[test_index]"
   ]
  },
  {
   "cell_type": "markdown",
   "metadata": {},
   "source": [
    "### Model Training - Single loop"
   ]
  },
  {
   "cell_type": "code",
   "execution_count": 588,
   "metadata": {},
   "outputs": [],
   "source": [
    "from sklearn.linear_model import LogisticRegression\n",
    "from sklearn.ensemble import RandomForestClassifier\n",
    "from lightgbm import LGBMClassifier\n",
    "from sklearn.metrics import classification_report, confusion_matrix, ConfusionMatrixDisplay, accuracy_score, f1_score"
   ]
  },
  {
   "cell_type": "code",
   "execution_count": 589,
   "metadata": {},
   "outputs": [],
   "source": [
    "# clf = RandomForestClassifier(class_weight='balanced')\n",
    "clf = LGBMClassifier(class_weight='balanced')"
   ]
  },
  {
   "cell_type": "code",
   "execution_count": 591,
   "metadata": {},
   "outputs": [
    {
     "data": {
      "text/plain": [
       "[(8010, 197), (8010,)]"
      ]
     },
     "execution_count": 591,
     "metadata": {},
     "output_type": "execute_result"
    }
   ],
   "source": [
    "[x.shape for x in (X_train,y_train)]"
   ]
  },
  {
   "cell_type": "code",
   "execution_count": 592,
   "metadata": {},
   "outputs": [
    {
     "data": {
      "text/plain": [
       "LGBMClassifier(class_weight='balanced')"
      ]
     },
     "execution_count": 592,
     "metadata": {},
     "output_type": "execute_result"
    }
   ],
   "source": [
    "clf.fit(X_train,y_train)"
   ]
  },
  {
   "cell_type": "code",
   "execution_count": 593,
   "metadata": {},
   "outputs": [],
   "source": [
    "y_preds = clf.predict(X_keep)"
   ]
  },
  {
   "cell_type": "code",
   "execution_count": 594,
   "metadata": {},
   "outputs": [
    {
     "data": {
      "text/plain": [
       "0.5238095238095238"
      ]
     },
     "execution_count": 594,
     "metadata": {},
     "output_type": "execute_result"
    }
   ],
   "source": [
    "accuracy_score(y_keep,y_preds)"
   ]
  },
  {
   "cell_type": "code",
   "execution_count": 595,
   "metadata": {},
   "outputs": [
    {
     "data": {
      "text/plain": [
       "<AxesSubplot:ylabel='features'>"
      ]
     },
     "execution_count": 595,
     "metadata": {},
     "output_type": "execute_result"
    },
    {
     "data": {
      "image/png": "[encoded data removed]",
      "text/plain": [
       "<Figure size 720x360 with 1 Axes>"
      ]
     },
     "metadata": {
      "needs_background": "light"
     },
     "output_type": "display_data"
    }
   ],
   "source": [
    "pd.DataFrame({'features':X_train.columns,'importance':clf.feature_importances_}).set_index('features').sort_values(by=['importance']).tail(10).plot(kind='barh',figsize = (10,5))"
   ]
  },
  {
   "cell_type": "code",
   "execution_count": 596,
   "metadata": {},
   "outputs": [
    {
     "data": {
      "image/png": "[encoded data removed]",
      "text/plain": [
       "<Figure size 432x288 with 2 Axes>"
      ]
     },
     "metadata": {
      "needs_background": "light"
     },
     "output_type": "display_data"
    }
   ],
   "source": [
    "cm = confusion_matrix(y_keep,y_preds)\n",
    "disp = ConfusionMatrixDisplay(confusion_matrix=cm,display_labels=rf.classes_)\n",
    "disp.plot()\n",
    "plt.show()"
   ]
  },
  {
   "cell_type": "code",
   "execution_count": 597,
   "metadata": {},
   "outputs": [
    {
     "data": {
      "text/html": [
       "<div>\n",
       "<style scoped>\n",
       "    .dataframe tbody tr th:only-of-type {\n",
       "        vertical-align: middle;\n",
       "    }\n",
       "\n",
       "    .dataframe tbody tr th {\n",
       "        vertical-align: top;\n",
       "    }\n",
       "\n",
       "    .dataframe thead th {\n",
       "        text-align: right;\n",
       "    }\n",
       "</style>\n",
       "<table border=\"1\" class=\"dataframe\">\n",
       "  <thead>\n",
       "    <tr style=\"text-align: right;\">\n",
       "      <th>col_0</th>\n",
       "      <th>0</th>\n",
       "      <th>N</th>\n",
       "      <th>P</th>\n",
       "      <th>All</th>\n",
       "    </tr>\n",
       "    <tr>\n",
       "      <th>row_0</th>\n",
       "      <th></th>\n",
       "      <th></th>\n",
       "      <th></th>\n",
       "      <th></th>\n",
       "    </tr>\n",
       "  </thead>\n",
       "  <tbody>\n",
       "    <tr>\n",
       "      <th>0</th>\n",
       "      <td>340</td>\n",
       "      <td>10</td>\n",
       "      <td>11</td>\n",
       "      <td>361</td>\n",
       "    </tr>\n",
       "    <tr>\n",
       "      <th>N</th>\n",
       "      <td>160</td>\n",
       "      <td>6</td>\n",
       "      <td>0</td>\n",
       "      <td>166</td>\n",
       "    </tr>\n",
       "    <tr>\n",
       "      <th>P</th>\n",
       "      <td>132</td>\n",
       "      <td>7</td>\n",
       "      <td>6</td>\n",
       "      <td>145</td>\n",
       "    </tr>\n",
       "    <tr>\n",
       "      <th>All</th>\n",
       "      <td>632</td>\n",
       "      <td>23</td>\n",
       "      <td>17</td>\n",
       "      <td>672</td>\n",
       "    </tr>\n",
       "  </tbody>\n",
       "</table>\n",
       "</div>"
      ],
      "text/plain": [
       "col_0    0   N   P  All\n",
       "row_0                  \n",
       "0      340  10  11  361\n",
       "N      160   6   0  166\n",
       "P      132   7   6  145\n",
       "All    632  23  17  672"
      ]
     },
     "execution_count": 597,
     "metadata": {},
     "output_type": "execute_result"
    }
   ],
   "source": [
    "pd.crosstab(y_keep,y_preds,margins=True)"
   ]
  },
  {
   "cell_type": "code",
   "execution_count": 598,
   "metadata": {},
   "outputs": [
    {
     "name": "stdout",
     "output_type": "stream",
     "text": [
      "              precision    recall  f1-score   support\n",
      "\n",
      "           0       0.54      0.94      0.68       361\n",
      "           N       0.26      0.04      0.06       166\n",
      "           P       0.35      0.04      0.07       145\n",
      "\n",
      "    accuracy                           0.52       672\n",
      "   macro avg       0.38      0.34      0.27       672\n",
      "weighted avg       0.43      0.52      0.40       672\n",
      "\n"
     ]
    }
   ],
   "source": [
    "print(classification_report(y_keep,y_preds))"
   ]
  },
  {
   "cell_type": "markdown",
   "metadata": {},
   "source": [
    "### Model Training - Across all Folds"
   ]
  },
  {
   "cell_type": "code",
   "execution_count": 361,
   "metadata": {},
   "outputs": [
    {
     "name": "stdout",
     "output_type": "stream",
     "text": [
      "Wall time: 0 ns\n",
      "(01) train : 0-2885 [2886] & test 2886-3557 [672]\n",
      "Accuracy : 29.91%\n",
      "              precision    recall  f1-score   support\n",
      "\n",
      "           0       0.51      0.41      0.46       349\n",
      "           N       0.00      0.00      0.00       183\n",
      "           P       0.15      0.41      0.22       140\n",
      "\n",
      "    accuracy                           0.30       672\n",
      "   macro avg       0.22      0.27      0.23       672\n",
      "weighted avg       0.30      0.30      0.28       672\n",
      "\n"
     ]
    },
    {
     "data": {
      "image/png": "[encoded data removed]",
      "text/plain": [
       "<Figure size 432x288 with 2 Axes>"
      ]
     },
     "metadata": {
      "needs_background": "light"
     },
     "output_type": "display_data"
    },
    {
     "name": "stdout",
     "output_type": "stream",
     "text": [
      "====================================================================================================\n",
      "(02) train : 0-3557 [3558] & test 3558-4229 [672]\n",
      "Accuracy : 28.57%\n",
      "              precision    recall  f1-score   support\n",
      "\n",
      "           0       0.51      0.32      0.39       349\n",
      "           N       0.25      0.08      0.12       183\n",
      "           P       0.17      0.49      0.25       140\n",
      "\n",
      "    accuracy                           0.29       672\n",
      "   macro avg       0.31      0.29      0.25       672\n",
      "weighted avg       0.37      0.29      0.29       672\n",
      "\n"
     ]
    },
    {
     "data": {
      "image/png": "[encoded data removed]",
      "text/plain": [
       "<Figure size 720x360 with 1 Axes>"
      ]
     },
     "metadata": {
      "needs_background": "light"
     },
     "output_type": "display_data"
    },
    {
     "data": {
      "image/png": "[encoded data removed]",
      "text/plain": [
       "<Figure size 432x288 with 2 Axes>"
      ]
     },
     "metadata": {
      "needs_background": "light"
     },
     "output_type": "display_data"
    },
    {
     "name": "stdout",
     "output_type": "stream",
     "text": [
      "====================================================================================================\n",
      "(03) train : 0-4229 [4230] & test 4230-4901 [672]\n",
      "Accuracy : 28.87%\n",
      "              precision    recall  f1-score   support\n",
      "\n",
      "           0       0.50      0.35      0.41       349\n",
      "           N       0.22      0.09      0.12       183\n",
      "           P       0.16      0.40      0.23       140\n",
      "\n",
      "    accuracy                           0.29       672\n",
      "   macro avg       0.29      0.28      0.25       672\n",
      "weighted avg       0.35      0.29      0.30       672\n",
      "\n"
     ]
    },
    {
     "data": {
      "image/png": "[encoded data removed]",
      "text/plain": [
       "<Figure size 720x360 with 1 Axes>"
      ]
     },
     "metadata": {
      "needs_background": "light"
     },
     "output_type": "display_data"
    },
    {
     "data": {
      "image/png": "[encoded data removed]",
      "text/plain": [
       "<Figure size 432x288 with 2 Axes>"
      ]
     },
     "metadata": {
      "needs_background": "light"
     },
     "output_type": "display_data"
    },
    {
     "name": "stdout",
     "output_type": "stream",
     "text": [
      "====================================================================================================\n",
      "(04) train : 0-4901 [4902] & test 4902-5573 [672]\n",
      "Accuracy : 30.80%\n",
      "              precision    recall  f1-score   support\n",
      "\n",
      "           0       0.52      0.40      0.46       349\n",
      "           N       0.19      0.06      0.09       183\n",
      "           P       0.16      0.39      0.23       140\n",
      "\n",
      "    accuracy                           0.31       672\n",
      "   macro avg       0.29      0.29      0.26       672\n",
      "weighted avg       0.36      0.31      0.31       672\n",
      "\n"
     ]
    },
    {
     "data": {
      "image/png": "[encoded data removed]",
      "text/plain": [
       "<Figure size 720x360 with 1 Axes>"
      ]
     },
     "metadata": {
      "needs_background": "light"
     },
     "output_type": "display_data"
    },
    {
     "data": {
      "image/png": "[encoded data removed]",
      "text/plain": [
       "<Figure size 432x288 with 2 Axes>"
      ]
     },
     "metadata": {
      "needs_background": "light"
     },
     "output_type": "display_data"
    },
    {
     "name": "stdout",
     "output_type": "stream",
     "text": [
      "====================================================================================================\n",
      "(05) train : 0-5573 [5574] & test 5574-6245 [672]\n",
      "Accuracy : 29.32%\n",
      "              precision    recall  f1-score   support\n",
      "\n",
      "           0       0.54      0.32      0.40       349\n",
      "           N       0.19      0.05      0.08       183\n",
      "           P       0.18      0.54      0.27       140\n",
      "\n",
      "    accuracy                           0.29       672\n",
      "   macro avg       0.30      0.30      0.25       672\n",
      "weighted avg       0.37      0.29      0.29       672\n",
      "\n"
     ]
    },
    {
     "data": {
      "image/png": "[encoded data removed]",
      "text/plain": [
       "<Figure size 720x360 with 1 Axes>"
      ]
     },
     "metadata": {
      "needs_background": "light"
     },
     "output_type": "display_data"
    },
    {
     "data": {
      "image/png": "[encoded data removed]",
      "text/plain": [
       "<Figure size 432x288 with 2 Axes>"
      ]
     },
     "metadata": {
      "needs_background": "light"
     },
     "output_type": "display_data"
    },
    {
     "name": "stdout",
     "output_type": "stream",
     "text": [
      "====================================================================================================\n",
      "(06) train : 0-6245 [6246] & test 6246-6917 [672]\n",
      "Accuracy : 31.10%\n",
      "              precision    recall  f1-score   support\n",
      "\n",
      "           0       0.52      0.34      0.41       349\n",
      "           N       0.35      0.15      0.21       183\n",
      "           P       0.17      0.44      0.25       140\n",
      "\n",
      "    accuracy                           0.31       672\n",
      "   macro avg       0.34      0.31      0.29       672\n",
      "weighted avg       0.40      0.31      0.32       672\n",
      "\n"
     ]
    },
    {
     "data": {
      "image/png": "[encoded data removed]",
      "text/plain": [
       "<Figure size 720x360 with 1 Axes>"
      ]
     },
     "metadata": {
      "needs_background": "light"
     },
     "output_type": "display_data"
    },
    {
     "data": {
      "image/png": "[encoded data removed]",
      "text/plain": [
       "<Figure size 432x288 with 2 Axes>"
      ]
     },
     "metadata": {
      "needs_background": "light"
     },
     "output_type": "display_data"
    },
    {
     "name": "stdout",
     "output_type": "stream",
     "text": [
      "====================================================================================================\n",
      "(07) train : 0-6917 [6918] & test 6918-7589 [672]\n",
      "Accuracy : 33.48%\n",
      "              precision    recall  f1-score   support\n",
      "\n",
      "           0       0.50      0.46      0.48       349\n",
      "           N       0.30      0.11      0.17       183\n",
      "           P       0.15      0.31      0.21       140\n",
      "\n",
      "    accuracy                           0.33       672\n",
      "   macro avg       0.32      0.29      0.28       672\n",
      "weighted avg       0.37      0.33      0.34       672\n",
      "\n"
     ]
    },
    {
     "data": {
      "image/png": "[encoded data removed]",
      "text/plain": [
       "<Figure size 720x360 with 1 Axes>"
      ]
     },
     "metadata": {
      "needs_background": "light"
     },
     "output_type": "display_data"
    },
    {
     "data": {
      "image/png": "[encoded data removed]",
      "text/plain": [
       "<Figure size 432x288 with 2 Axes>"
      ]
     },
     "metadata": {
      "needs_background": "light"
     },
     "output_type": "display_data"
    },
    {
     "name": "stdout",
     "output_type": "stream",
     "text": [
      "====================================================================================================\n",
      "(08) train : 0-7589 [7590] & test 7590-8261 [672]\n",
      "Accuracy : 34.08%\n",
      "              precision    recall  f1-score   support\n",
      "\n",
      "           0       0.49      0.40      0.44       349\n",
      "           N       0.41      0.15      0.22       183\n",
      "           P       0.20      0.45      0.27       140\n",
      "\n",
      "    accuracy                           0.34       672\n",
      "   macro avg       0.36      0.33      0.31       672\n",
      "weighted avg       0.41      0.34      0.34       672\n",
      "\n"
     ]
    },
    {
     "data": {
      "image/png": "[encoded data removed]",
      "text/plain": [
       "<Figure size 720x360 with 1 Axes>"
      ]
     },
     "metadata": {
      "needs_background": "light"
     },
     "output_type": "display_data"
    },
    {
     "data": {
      "image/png": "[encoded data removed]",
      "text/plain": [
       "<Figure size 432x288 with 2 Axes>"
      ]
     },
     "metadata": {
      "needs_background": "light"
     },
     "output_type": "display_data"
    },
    {
     "name": "stdout",
     "output_type": "stream",
     "text": [
      "====================================================================================================\n",
      "(09) train : 0-8261 [8262] & test 8262-8933 [672]\n",
      "Accuracy : 34.52%\n",
      "              precision    recall  f1-score   support\n",
      "\n",
      "           0       0.45      0.45      0.45       349\n",
      "           N       0.38      0.15      0.21       183\n",
      "           P       0.19      0.35      0.25       140\n",
      "\n",
      "    accuracy                           0.35       672\n",
      "   macro avg       0.34      0.31      0.30       672\n",
      "weighted avg       0.38      0.35      0.34       672\n",
      "\n"
     ]
    },
    {
     "data": {
      "image/png": "[encoded data removed]",
      "text/plain": [
       "<Figure size 720x360 with 1 Axes>"
      ]
     },
     "metadata": {
      "needs_background": "light"
     },
     "output_type": "display_data"
    },
    {
     "data": {
      "image/png": "[encoded data removed]",
      "text/plain": [
       "<Figure size 432x288 with 2 Axes>"
      ]
     },
     "metadata": {
      "needs_background": "light"
     },
     "output_type": "display_data"
    },
    {
     "name": "stdout",
     "output_type": "stream",
     "text": [
      "====================================================================================================\n",
      "(10) train : 0-8933 [8934] & test 8934-9605 [672]\n",
      "Accuracy : 35.12%\n",
      "              precision    recall  f1-score   support\n",
      "\n",
      "           0       0.51      0.46      0.48       349\n",
      "           N       0.30      0.07      0.11       183\n",
      "           P       0.20      0.46      0.28       140\n",
      "\n",
      "    accuracy                           0.35       672\n",
      "   macro avg       0.34      0.33      0.29       672\n",
      "weighted avg       0.39      0.35      0.34       672\n",
      "\n"
     ]
    },
    {
     "data": {
      "image/png": "[encoded data removed]",
      "text/plain": [
       "<Figure size 720x360 with 1 Axes>"
      ]
     },
     "metadata": {
      "needs_background": "light"
     },
     "output_type": "display_data"
    },
    {
     "data": {
      "image/png": "[encoded data removed]",
      "text/plain": [
       "<Figure size 432x288 with 2 Axes>"
      ]
     },
     "metadata": {
      "needs_background": "light"
     },
     "output_type": "display_data"
    },
    {
     "name": "stdout",
     "output_type": "stream",
     "text": [
      "====================================================================================================\n"
     ]
    },
    {
     "data": {
      "image/png": "[encoded data removed]",
      "text/plain": [
       "<Figure size 720x360 with 1 Axes>"
      ]
     },
     "metadata": {
      "needs_background": "light"
     },
     "output_type": "display_data"
    }
   ],
   "source": [
    "%time\n",
    "tscv = TimeSeriesCV(X,y,n_splits=10,test_size=24*7*4,verbose=True)\n",
    "for foo in tscv:\n",
    "    \n",
    "    X_train,y_train,X_test,y_test = foo\n",
    "    #clf = RandomForestClassifier(n_estimators=1000,class_weight='balanced',)\n",
    "    clf = LGBMClassifier(class_weight='balanced')\n",
    "    clf.fit(X_train,y_train)\n",
    "    y_preds = clf.predict(X_keep)\n",
    "    \n",
    "    print(f'Accuracy : {accuracy_score(y_keep,y_preds):.2%}')\n",
    "    print(classification_report(y_keep,y_preds))\n",
    "    \n",
    "    cm = confusion_matrix(y_keep,y_preds)\n",
    "    disp = ConfusionMatrixDisplay(confusion_matrix=cm,display_labels=rf.classes_)\n",
    "    disp.plot()\n",
    "    plt.show()\n",
    "    \n",
    "    pd.DataFrame({'features':X_train.columns,'importance':clf.feature_importances_}).set_index('features').sort_values(by=['importance']).tail(10).plot(kind='barh',figsize = (10,5))\n",
    "    print(100*'=')"
   ]
  }
 ],
 "metadata": {
  "kernelspec": {
   "display_name": "Python 3",
   "language": "python",
   "name": "python3"
  },
  "language_info": {
   "codemirror_mode": {
    "name": "ipython",
    "version": 3
   },
   "file_extension": ".py",
   "mimetype": "text/x-python",
   "name": "python",
   "nbconvert_exporter": "python",
   "pygments_lexer": "ipython3",
   "version": "3.8.5"
  }
 },
 "nbformat": 4,
 "nbformat_minor": 5
}
